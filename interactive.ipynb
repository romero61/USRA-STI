{
  "cells": [
    {
      "cell_type": "code",
      "execution_count": null,
      "metadata": {
        "colab": {
          "base_uri": "https://localhost:8080/"
        },
        "id": "6Jhe-IVhSAdv",
        "outputId": "1ad66066-4dbe-472c-a964-83172ca4ef38"
      },
      "outputs": [],
      "source": [
        "# For Google Colab\n",
        "\n",
        "#!pip install --quiet altair earthengine-api geemap geopandas shapely pysolar rasterio  rioxarray cartopy geojson ipywidgets ipyleaflet\n"
      ]
    },
    {
      "cell_type": "code",
      "execution_count": null,
      "metadata": {
        "id": "2-c90wxd4zbV"
      },
      "outputs": [],
      "source": [
        "# For Google Colab\n",
        "\n",
        "\n",
        "# Imports\n",
        "'''%run '/content/drive/MyDrive/Colab Notebooks/installs.py'\n",
        "# Date and Region Picker\n",
        "%run '/content/drive/MyDrive/Colab Notebooks/merra_date_ui.py'\n",
        "%run '/content/drive/MyDrive/Colab Notebooks/map-ui.py'\n",
        "# Earth Engine & Model Processing\n",
        "%run '/content/drive/MyDrive/Colab Notebooks/run-model.py'\n",
        "%run '/content/drive/MyDrive/Colab Notebooks/ee_cnn.py'\n",
        "# Data Visualizations\n",
        "%run '/content/drive/MyDrive/Colab Notebooks/dataviz-ui.py'\n",
        "# View & Export Data\n",
        "%run '/content/drive/MyDrive/Colab Notebooks/export-ui.py'\n",
        "'''\n",
        "\n"
      ]
    },
    {
      "cell_type": "code",
      "execution_count": null,
      "metadata": {},
      "outputs": [],
      "source": [
        "# If on Colab you can delete or comment out as it the same as installs.py\n",
        "\n",
        "# This chunk is where you can also easily switch to using authenticate instead of a service account for Earth Engine\n",
        "\n",
        "import ee\n",
        "import geemap\n",
        "import pandas as pd\n",
        "import numpy as np\n",
        "import gc\n",
        "import math\n",
        "import time\n",
        "import datetime as dt\n",
        "import keras\n",
        "import keras as k\n",
        "import keras.backend as kr\n",
        "import multiprocessing as mp\n",
        "from pysolar.solar import get_altitude_fast\n",
        "import tensorflow as tf\n",
        "import warnings\n",
        "import xarray as xr\n",
        "import rasterio\n",
        "from rasterio.io import MemoryFile\n",
        "from rasterio.transform import from_origin\n",
        "import rioxarray\n",
        "import geopandas as gpd\n",
        "import geojson\n",
        "from shapely.geometry import Point\n",
        "from scipy.spatial import KDTree\n",
        "import geemap.cartoee as cartoee\n",
        "import datetime\n",
        "import ipywidgets as widgets\n",
        "from ipyleaflet import Map, DrawControl, GeoData, WidgetControl\n",
        "\n",
        "from IPython.display import display, clear_output\n",
        "import matplotlib.pyplot as plt\n",
        "import cartopy.crs as ccrs\n",
        "import cartopy.feature as cfeature\n",
        "service_account = 'yourusername@yourprojectname.iam.gserviceaccount.com'\n",
        "credentials = ee.ServiceAccountCredentials(service_account, 'your_.json_file_from_earth_engine_service_account')\n",
        "# alternative run ee.authenticate() for a seven day token\n",
        "ee.Initialize(credentials) "
      ]
    },
    {
      "cell_type": "code",
      "execution_count": null,
      "metadata": {},
      "outputs": [],
      "source": [
        "from merra_date_ui import MerraDateUI\n",
        "from map_ui import MapUI\n",
        "from run_model import EarthEngineUI\n",
        "from ee_cnn import EarthEngineCNN\n",
        "from dataviz_ui import EarthEngineDataVizUI\n",
        "from export_ui import ExportUI\n"
      ]
    },
    {
      "cell_type": "markdown",
      "metadata": {
        "id": "kgdGYGM_pGHh"
      },
      "source": [
        "# HOW TO USE - RUN NEXT CELL THEN...\n",
        "\n",
        "\n",
        "1. MUST SELECT A START AND END DATE\n",
        "*   For each date 24 hours will be processed\n",
        "\n",
        "2. SELECT A REGION\n",
        "\n",
        " For World Region:\n",
        "  *   For the entire World, Continue to next cell and run model.\n",
        "  CAUTION A sigle day takes a little over ~70 min to process.\n",
        "\n",
        "  Drop a point, Draw a rectangle or Draw a Custom Region:\n",
        "\n",
        "  *   Use draw tools on left side of map to - drop a point, draw a rectangle, or draw a custom region - then run model\n",
        "  *   Last drawn shape will override previous shape or marker\n",
        "  *  CLEAR SHAPES button will clear any drawn shapes\n",
        "  \n",
        "  Select A Country: - Not a good choice currently, it works but the values are being distorted.\n",
        "  *   Use the select Country dropdown, then Continue to run model.\n",
        "  *   Selecting a new country will automatically update input to Model\n",
        "  *   A Country selection overrides any drawn features, if Country was selected but drawn preferred, rerun the cell\n",
        "\n",
        "FOR A COMPLETE RESET RE-RUN CELL\n",
        "\n",
        "\n",
        "\n"
      ]
    },
    {
      "cell_type": "code",
      "execution_count": null,
      "metadata": {
        "colab": {
          "base_uri": "https://localhost:8080/",
          "height": 926,
          "referenced_widgets": [
            "14ac613ca3a04085a33adf5ec7fde41c",
            "26710b9c6e274113a3a8e25f00cab107",
            "eb6cf18c87214a55804322ed0d929f20",
            "34f42de643084b95aac77afed78c0389",
            "89b04ca9ecdf490fbfc6b18e03267b86",
            "65a1e86dbeff479ea3bb9bb26c1c7d9a",
            "812af4328ab54f1d8873205f65eb32c5",
            "942eb11195934380bfebc39b2634b197",
            "2870b03988ff434b88c10e5fc4f21bd1",
            "c899e19c859e4381a94ff6fe7e7987d1",
            "fa3abd5e7de54577a53668720a1e6843",
            "2cdf3647368246159823e5f020161126",
            "23bbc0a287e24eca9774db1ae799e921",
            "af520257143f4673bf07e0bd412d492e",
            "43ff1c039e1341cb81243c0cf6beca0e",
            "57c1a4851e65444ba1aac60d7e64c1ad",
            "ae3be7ee378f415fbf18fca8918627f1",
            "34d53323558644de9f404a2b2810c738",
            "28d9827800cd45b79d3a075e1e9cd528",
            "f8041787fcc24337851de559b8c66d28",
            "a132a605eb344b60b2f706fad61c4869",
            "784807144f9042a7b1f2ad33ea6eaf9c",
            "3a211200c68c458d9dc80369191affde",
            "4e6a0e21ccf0496da903ac6e7de16bd6",
            "f186a22e37de4c0988d78f6db50af759",
            "b25a67e19e254d49827c2c7086011dca",
            "a169ba3909134367b0584f24245f2658",
            "a9a8fd2ef57a49fcaf53e566ee4c1618",
            "1b7caef1737d45be9b91fee9b934272a",
            "acb608bef8a844dca90fcbf85b7bbda4",
            "37fb35eb5f4947ecac2d62fdae67ed24",
            "515a4f0ad15a44a3b419a8c8d83323fe",
            "df17d76468dd41ddad90943f3b888eb6",
            "278c355951da42cc88af7e24eea93355",
            "e326ad8a2da84f7492c8fea5dcbd2896",
            "a04260cb2f2d4e038c10b610bccb8534",
            "909e0ae459d3405b98250dcf7831d634",
            "8b7504a0c7194684ad34680881b36921",
            "422bbd750fc04f43af68e88f4d3990a8",
            "dcd1f1625dd44246b9fc9ab8a81559ce",
            "e3782a7006be4f97a1eb556d6035816a",
            "76b0f2eb8914493581235d0f6d35a499",
            "ef1f4f4a67dc47e68e2a3d9d0645fc77",
            "023a428ad908497e8a9ca2befd9f6b0d",
            "8617a3cb11f3418bb8c7ca7eccf5175f",
            "bb0e887a624a4cd79099d1e8fe3e33e7",
            "ca49b4d13cc64f8f99c65a7cd42862ee",
            "d4b42c3ae5fe416bb26e05f6fb3e60da",
            "6640bfc5689c49d689557e7d55fd4b8e",
            "cb4a246a47f94d938bf88159bfaeddcf",
            "22dca23490ed4be3b5e9b582935e07fe",
            "697baa7a12d74fff88f4dd5fc73c7d78",
            "b4b339de33e84c47b8db7a7609571e3e"
          ]
        },
        "id": "cEkC3J03lMMZ",
        "outputId": "502173d8-236d-4c96-f1d1-70282790af6f"
      },
      "outputs": [],
      "source": [
        "ui  = MapUI()\n",
        "merra_ui = MerraDateUI()\n",
        "\n",
        "\n",
        "display(merra_ui.display_ui(), ui .display_map())\n"
      ]
    },
    {
      "cell_type": "markdown",
      "metadata": {
        "id": "hscnL90XZcbz"
      },
      "source": [
        "# RUN MODEL - RUN NEXT CELL THEN PRESS RUN MODEL\n",
        "\n",
        "CHECK MARK WILL SHOW COMPLETE BUT PRINT OUT WILL NOTIFY WHEN MODEL IS DONE. TO INTERRUPT  GO TO NAVIGATION BAR 'RUNTIME' AND 'INTERRUPT EXECUTION'\n"
      ]
    },
    {
      "cell_type": "code",
      "execution_count": null,
      "metadata": {
        "colab": {
          "base_uri": "https://localhost:8080/",
          "height": 1000,
          "referenced_widgets": [
            "3f6ffe6751e145f8a70ffdae6274a1cd",
            "dd55f6bc4ed843dbb54b3bb4b3f48dab",
            "72e471bba2f649faaeccca15659f1c52",
            "2632c3a55ca34284a7a83c708d51e2b1",
            "a20f7dd7a3dd475bad4503fde2c45d2a"
          ]
        },
        "id": "Ko4o7RtChIsf",
        "outputId": "48bf914a-a0da-4a31-d6f8-e48307ba439d"
      },
      "outputs": [],
      "source": [
        "model_ui = EarthEngineUI(available_dates=merra_ui.available_dates,\n",
        "                   selected_coordinates= ui.selected_coordinates,\n",
        "                   selected_country_feature= ui.selected_country_feature)\n",
        "model_ui.display()"
      ]
    },
    {
      "cell_type": "markdown",
      "metadata": {
        "id": "QbRX4E4sO9xY"
      },
      "source": [
        "# DATA VISUALIZATION"
      ]
    },
    {
      "cell_type": "code",
      "execution_count": null,
      "metadata": {
        "colab": {
          "base_uri": "https://localhost:8080/",
          "height": 687,
          "referenced_widgets": [
            "d3e23027af6e4c9f80f4cf8df9d22ef1",
            "4ccad665aefd4aec9717bd530c2d6149",
            "3cbe7af4d9814d08ab722151fade479a",
            "723e4e0b277e464faed9a7a62c557bff",
            "bd1e7a10f198488d8bc3fe9206e928d0",
            "28b39675ee024e58b050256462cfadaf",
            "51f82aebb278421688df03118c9dd22f",
            "ef9d470a2cd4400db90200475c706976",
            "cb76f2e06bb4414eb3605617a31992f6",
            "efac0874499d421f98191169fb522b5a",
            "f23de94389274b72a7c6746872aba740",
            "7d89c0c96c7b4ebca4271cddfeced1ba",
            "ded75c42267949e9bce18026042acd15",
            "07445c9f17584b35a8e01496665cfad8",
            "029007f6605d4c2ab454a9f182f85d00",
            "abcaf0da4a634927bf8a2b9da778a928",
            "5131dbfb83e040c393a40e54dbc91af7",
            "defe4a89e52a4266909f5daba479541a",
            "96a287af623a476b9cd40ba878b1516e",
            "91d9234f57474d139e8b6fd0c84a5653",
            "60f793d171d94fe6af3a709b32d055be",
            "87781b2a9642447382538de3e51602c3",
            "85be33b429bb4555b6d770a72466a1b9"
          ]
        },
        "id": "7qPao7dezHrc",
        "outputId": "1bfdc9ad-7e47-4885-a857-e3dfffff392f"
      },
      "outputs": [],
      "source": [
        "viz_ui = EarthEngineDataVizUI(dataframe=model_ui.final_df,  coordinates=ui.selected_coordinates, country=ui.selected_country_feature)\n",
        "viz_ui.display()\n"
      ]
    },
    {
      "cell_type": "markdown",
      "metadata": {
        "id": "dfeuGujhcQRb"
      },
      "source": [
        "# PREVIEW DATA & EXPORT"
      ]
    },
    {
      "cell_type": "code",
      "execution_count": null,
      "metadata": {
        "colab": {
          "base_uri": "https://localhost:8080/",
          "height": 487,
          "referenced_widgets": [
            "0a81ed5a6d8e4a83b501a0b7537e1a53",
            "6c5b397c45f340119351e7019b79b052",
            "4840a18b4df148b2aa42453fcfcdd53a",
            "8c0f243044784119b138a672703a67e3",
            "e01fe68cd2ce45aba8deecbc9250b1e0",
            "c0cb7b70f29142d180a47c339ff7380f",
            "a3703291ee9e4a74b1c59665630e45b7",
            "17f0ca8c5a58452fb865edb973873318",
            "757f82cc1edb4e559bcd6648d6a161e4",
            "27c94bab4af3426db5f8d174d8ace410",
            "4f8bc909fd884e5d9c34297a56a4954f",
            "e6da2677b6b141a293495ecc53dbe5e1",
            "2ad8ad95ed194f68bd206d5cb53a9d10",
            "ff47e9c50dc349bf9d819377aa29ac51",
            "1c4934f7080f4edcb45b4ae68e3b38ce",
            "cc0b392ddf4341869aefad4a5221ed2a"
          ]
        },
        "id": "6HHOWm7ePPDj",
        "outputId": "b2bbd01c-6931-40ba-8c4f-bd446dd41fe5"
      },
      "outputs": [],
      "source": [
        "ex_ui =ExportUI(model_ui.final_df)\n",
        "ex_ui.display()\n",
        "model_ui.final_df"
      ]
    }
  ],
  "metadata": {
    "colab": {
      "provenance": []
    },
    "kernelspec": {
      "display_name": "Python 3",
      "name": "python3"
    },
    "language_info": {
      "name": "python",
      "version": "3.11.6"
    },
    "widgets": {
      "application/vnd.jupyter.widget-state+json": {
        "023a428ad908497e8a9ca2befd9f6b0d": {
          "model_module": "@jupyter-widgets/controls",
          "model_module_version": "1.5.0",
          "model_name": "DescriptionStyleModel",
          "state": {
            "_model_module": "@jupyter-widgets/controls",
            "_model_module_version": "1.5.0",
            "_model_name": "DescriptionStyleModel",
            "_view_count": null,
            "_view_module": "@jupyter-widgets/base",
            "_view_module_version": "1.2.0",
            "_view_name": "StyleView",
            "description_width": ""
          }
        },
        "029007f6605d4c2ab454a9f182f85d00": {
          "model_module": "@jupyter-widgets/controls",
          "model_module_version": "1.5.0",
          "model_name": "DescriptionStyleModel",
          "state": {
            "_model_module": "@jupyter-widgets/controls",
            "_model_module_version": "1.5.0",
            "_model_name": "DescriptionStyleModel",
            "_view_count": null,
            "_view_module": "@jupyter-widgets/base",
            "_view_module_version": "1.2.0",
            "_view_name": "StyleView",
            "description_width": ""
          }
        },
        "07445c9f17584b35a8e01496665cfad8": {
          "model_module": "@jupyter-widgets/base",
          "model_module_version": "1.2.0",
          "model_name": "LayoutModel",
          "state": {
            "_model_module": "@jupyter-widgets/base",
            "_model_module_version": "1.2.0",
            "_model_name": "LayoutModel",
            "_view_count": null,
            "_view_module": "@jupyter-widgets/base",
            "_view_module_version": "1.2.0",
            "_view_name": "LayoutView",
            "align_content": null,
            "align_items": null,
            "align_self": null,
            "border": null,
            "bottom": null,
            "display": null,
            "flex": null,
            "flex_flow": null,
            "grid_area": null,
            "grid_auto_columns": null,
            "grid_auto_flow": null,
            "grid_auto_rows": null,
            "grid_column": null,
            "grid_gap": null,
            "grid_row": null,
            "grid_template_areas": null,
            "grid_template_columns": null,
            "grid_template_rows": null,
            "height": null,
            "justify_content": null,
            "justify_items": null,
            "left": null,
            "margin": null,
            "max_height": null,
            "max_width": null,
            "min_height": null,
            "min_width": null,
            "object_fit": null,
            "object_position": null,
            "order": null,
            "overflow": null,
            "overflow_x": null,
            "overflow_y": null,
            "padding": null,
            "right": null,
            "top": null,
            "visibility": null,
            "width": null
          }
        },
        "0a81ed5a6d8e4a83b501a0b7537e1a53": {
          "model_module": "@jupyter-widgets/controls",
          "model_module_version": "1.5.0",
          "model_name": "HBoxModel",
          "state": {
            "_dom_classes": [],
            "_model_module": "@jupyter-widgets/controls",
            "_model_module_version": "1.5.0",
            "_model_name": "HBoxModel",
            "_view_count": null,
            "_view_module": "@jupyter-widgets/controls",
            "_view_module_version": "1.5.0",
            "_view_name": "HBoxView",
            "box_style": "",
            "children": [
              "IPY_MODEL_6c5b397c45f340119351e7019b79b052",
              "IPY_MODEL_4840a18b4df148b2aa42453fcfcdd53a",
              "IPY_MODEL_8c0f243044784119b138a672703a67e3",
              "IPY_MODEL_e01fe68cd2ce45aba8deecbc9250b1e0",
              "IPY_MODEL_c0cb7b70f29142d180a47c339ff7380f"
            ],
            "layout": "IPY_MODEL_a3703291ee9e4a74b1c59665630e45b7"
          }
        },
        "14ac613ca3a04085a33adf5ec7fde41c": {
          "model_module": "@jupyter-widgets/controls",
          "model_module_version": "1.5.0",
          "model_name": "VBoxModel",
          "state": {
            "_dom_classes": [],
            "_model_module": "@jupyter-widgets/controls",
            "_model_module_version": "1.5.0",
            "_model_name": "VBoxModel",
            "_view_count": null,
            "_view_module": "@jupyter-widgets/controls",
            "_view_module_version": "1.5.0",
            "_view_name": "VBoxView",
            "box_style": "",
            "children": [
              "IPY_MODEL_26710b9c6e274113a3a8e25f00cab107",
              "IPY_MODEL_eb6cf18c87214a55804322ed0d929f20",
              "IPY_MODEL_34f42de643084b95aac77afed78c0389",
              "IPY_MODEL_89b04ca9ecdf490fbfc6b18e03267b86"
            ],
            "layout": "IPY_MODEL_65a1e86dbeff479ea3bb9bb26c1c7d9a"
          }
        },
        "17f0ca8c5a58452fb865edb973873318": {
          "model_module": "@jupyter-widgets/base",
          "model_module_version": "1.2.0",
          "model_name": "LayoutModel",
          "state": {
            "_model_module": "@jupyter-widgets/base",
            "_model_module_version": "1.2.0",
            "_model_name": "LayoutModel",
            "_view_count": null,
            "_view_module": "@jupyter-widgets/base",
            "_view_module_version": "1.2.0",
            "_view_name": "LayoutView",
            "align_content": null,
            "align_items": null,
            "align_self": null,
            "border": null,
            "bottom": null,
            "display": null,
            "flex": null,
            "flex_flow": null,
            "grid_area": null,
            "grid_auto_columns": null,
            "grid_auto_flow": null,
            "grid_auto_rows": null,
            "grid_column": null,
            "grid_gap": null,
            "grid_row": null,
            "grid_template_areas": null,
            "grid_template_columns": null,
            "grid_template_rows": null,
            "height": null,
            "justify_content": null,
            "justify_items": null,
            "left": null,
            "margin": null,
            "max_height": null,
            "max_width": null,
            "min_height": null,
            "min_width": null,
            "object_fit": null,
            "object_position": null,
            "order": null,
            "overflow": null,
            "overflow_x": null,
            "overflow_y": null,
            "padding": null,
            "right": null,
            "top": null,
            "visibility": null,
            "width": null
          }
        },
        "1b7caef1737d45be9b91fee9b934272a": {
          "model_module": "jupyter-leaflet",
          "model_module_version": "^0.17",
          "model_name": "LeafletTileLayerModel",
          "state": {
            "_model_module": "jupyter-leaflet",
            "_model_module_version": "^0.17",
            "_model_name": "LeafletTileLayerModel",
            "_view_count": null,
            "_view_module": "jupyter-leaflet",
            "_view_module_version": "^0.17",
            "_view_name": "LeafletTileLayerView",
            "attribution": "Google Earth Engine",
            "base": false,
            "bottom": true,
            "bounds": null,
            "detect_retina": false,
            "loading": false,
            "max_native_zoom": null,
            "max_zoom": 24,
            "min_native_zoom": null,
            "min_zoom": 0,
            "name": "Countries",
            "no_wrap": false,
            "opacity": 1,
            "options": [
              "attribution",
              "bounds",
              "detect_retina",
              "max_native_zoom",
              "max_zoom",
              "min_native_zoom",
              "min_zoom",
              "no_wrap",
              "tile_size",
              "tms",
              "zoom_offset"
            ],
            "pane": "",
            "popup": null,
            "popup_max_height": null,
            "popup_max_width": 300,
            "popup_min_width": 50,
            "show_loading": false,
            "subitems": [],
            "tile_size": 256,
            "tms": false,
            "url": "https://earthengine.googleapis.com/v1/projects/earthengine-legacy/maps/b2552caa88b1f3333f9909e62b9ae364-c48c1c16646721e520e77e163537f187/tiles/{z}/{x}/{y}",
            "visible": true,
            "zoom_offset": 0
          }
        },
        "1c4934f7080f4edcb45b4ae68e3b38ce": {
          "model_module": "@jupyter-widgets/controls",
          "model_module_version": "1.5.0",
          "model_name": "ButtonStyleModel",
          "state": {
            "_model_module": "@jupyter-widgets/controls",
            "_model_module_version": "1.5.0",
            "_model_name": "ButtonStyleModel",
            "_view_count": null,
            "_view_module": "@jupyter-widgets/base",
            "_view_module_version": "1.2.0",
            "_view_name": "StyleView",
            "button_color": null,
            "font_weight": ""
          }
        },
        "22dca23490ed4be3b5e9b582935e07fe": {
          "model_module": "@jupyter-widgets/base",
          "model_module_version": "1.2.0",
          "model_name": "LayoutModel",
          "state": {
            "_model_module": "@jupyter-widgets/base",
            "_model_module_version": "1.2.0",
            "_model_name": "LayoutModel",
            "_view_count": null,
            "_view_module": "@jupyter-widgets/base",
            "_view_module_version": "1.2.0",
            "_view_name": "LayoutView",
            "align_content": null,
            "align_items": null,
            "align_self": null,
            "border": null,
            "bottom": null,
            "display": null,
            "flex": null,
            "flex_flow": null,
            "grid_area": null,
            "grid_auto_columns": null,
            "grid_auto_flow": null,
            "grid_auto_rows": null,
            "grid_column": null,
            "grid_gap": null,
            "grid_row": null,
            "grid_template_areas": null,
            "grid_template_columns": null,
            "grid_template_rows": null,
            "height": null,
            "justify_content": null,
            "justify_items": null,
            "left": null,
            "margin": null,
            "max_height": null,
            "max_width": null,
            "min_height": null,
            "min_width": null,
            "object_fit": null,
            "object_position": null,
            "order": null,
            "overflow": null,
            "overflow_x": null,
            "overflow_y": null,
            "padding": null,
            "right": null,
            "top": null,
            "visibility": null,
            "width": null
          }
        },
        "23bbc0a287e24eca9774db1ae799e921": {
          "model_module": "@jupyter-widgets/base",
          "model_module_version": "1.2.0",
          "model_name": "LayoutModel",
          "state": {
            "_model_module": "@jupyter-widgets/base",
            "_model_module_version": "1.2.0",
            "_model_name": "LayoutModel",
            "_view_count": null,
            "_view_module": "@jupyter-widgets/base",
            "_view_module_version": "1.2.0",
            "_view_name": "LayoutView",
            "align_content": null,
            "align_items": null,
            "align_self": null,
            "border": null,
            "bottom": null,
            "display": null,
            "flex": null,
            "flex_flow": null,
            "grid_area": null,
            "grid_auto_columns": null,
            "grid_auto_flow": null,
            "grid_auto_rows": null,
            "grid_column": null,
            "grid_gap": null,
            "grid_row": null,
            "grid_template_areas": null,
            "grid_template_columns": null,
            "grid_template_rows": null,
            "height": "150px",
            "justify_content": null,
            "justify_items": null,
            "left": null,
            "margin": null,
            "max_height": null,
            "max_width": null,
            "min_height": null,
            "min_width": null,
            "object_fit": null,
            "object_position": null,
            "order": null,
            "overflow": null,
            "overflow_x": null,
            "overflow_y": null,
            "padding": null,
            "right": null,
            "top": null,
            "visibility": null,
            "width": null
          }
        },
        "2632c3a55ca34284a7a83c708d51e2b1": {
          "model_module": "@jupyter-widgets/output",
          "model_module_version": "1.0.0",
          "model_name": "OutputModel",
          "state": {
            "_dom_classes": [],
            "_model_module": "@jupyter-widgets/output",
            "_model_module_version": "1.0.0",
            "_model_name": "OutputModel",
            "_view_count": null,
            "_view_module": "@jupyter-widgets/output",
            "_view_module_version": "1.0.0",
            "_view_name": "OutputView",
            "layout": "IPY_MODEL_a20f7dd7a3dd475bad4503fde2c45d2a",
            "msg_id": "",
            "outputs": [
              {
                "name": "stdout",
                "output_type": "stream",
                "text": [
                  "Checking Custom Type\n",
                  "Custom Region\n",
                  "Fetching data from 2023-09-28 to 2023-09-30\n",
                  "Processing data for 2023-09-28\n",
                  "Data available for time: 0:30 UTC\n"
                ]
              },
              {
                "name": "stdout",
                "output_type": "stream",
                "text": [
                  "                 PS      QV10M      Q500        T10M        T500        T850  \\\n",
                  "0     101010.148438  18.960941  1.451974  301.909546  269.053680  294.746887   \n",
                  "1     100882.148438  17.457951  1.575951  299.706421  268.952118  294.778137   \n",
                  "2     100722.148438  16.702641  1.837735  299.065796  269.092743  294.731262   \n",
                  "3     100578.148438  16.733158  2.045636  298.831421  269.069305  294.903137   \n",
                  "4     100506.148438  17.244328  2.032284  298.862671  268.991180  295.239075   \n",
                  "...             ...        ...       ...         ...         ...         ...   \n",
                  "6746   52706.148438   1.969326  1.793389  262.733765  262.663055  262.733765   \n",
                  "6747   52050.148438   1.636017  1.557831  262.613647  263.198212  262.613647   \n",
                  "6748   53698.148438   1.790512  1.163964  265.415405  263.956024  265.415405   \n",
                  "6749   54626.148438   2.110470  1.036172  267.472046  264.268524  267.472046   \n",
                  "6750   53138.148438   2.057064  1.260762  265.620483  264.147430  265.620483   \n",
                  "\n",
                  "          WIND   BCSMASS  DUSMASS25   OCSMASS  SO2SMASS  SO4SMASS  SSSMASS25  \\\n",
                  "0     1.841485  0.364370  24.367182  2.357449  1.978151  0.828335   7.807103   \n",
                  "1     1.551586  0.359368  17.724234  3.809003  1.164608  0.516378   2.774868   \n",
                  "2     1.571271  0.207767  15.432306  3.425196  0.618229  0.442027   0.947693   \n",
                  "3     1.965619  0.154391  14.329999  2.948621  0.435534  0.430886   0.538648   \n",
                  "4     2.181677  0.134552  17.469574  2.790369  0.295699  0.440890   1.183707   \n",
                  "...        ...       ...        ...       ...       ...       ...        ...   \n",
                  "6746  2.002092  0.088282   2.398338  0.378275  0.196223  0.420540   0.064347   \n",
                  "6747  2.747470  0.078448   1.792614  0.340190  0.175362  0.335503   0.046526   \n",
                  "6748  2.380043  0.074952   1.553417  0.309949  0.519094  0.288891   0.034575   \n",
                  "6749  1.878740  0.054844   2.140950  0.219114  1.755325  0.316176   0.029075   \n",
                  "6750  2.062766  0.050623   2.787601  0.195467  2.323759  0.363470   0.030241   \n",
                  "\n",
                  "      TOTEXTTAU       SED         SZA        time    lat      lon     MERRA2  \n",
                  "0      0.192990  1.001993  162.125019  2023-09-28  13.75 -17.0625  36.035065  \n",
                  "1      0.181394  1.001993  162.614719  2023-09-28  13.75 -16.4375  25.377492  \n",
                  "2      0.184140  1.001993  163.096070  2023-09-28  13.75 -15.8125  20.620750  \n",
                  "3      0.193662  1.001993  163.568339  2023-09-28  13.75 -15.1875  18.564126  \n",
                  "4      0.205441  1.001993  164.030718  2023-09-28  13.75 -14.5625  22.184427  \n",
                  "...         ...       ...         ...         ...    ...      ...        ...  \n",
                  "6746   0.023801  1.001993   99.501249  2023-09-28  34.75  77.9375   3.507484  \n",
                  "6747   0.021436  1.001993   98.988311  2023-09-28  34.75  78.5625   2.719094  \n",
                  "6748   0.021756  1.001993   98.475230  2023-09-28  34.75  79.1875   2.370118  \n",
                  "6749   0.022901  1.001993   97.962023  2023-09-28  34.75  79.8125   2.878725  \n",
                  "6750   0.022748  1.001993   97.448714  2023-09-28  34.75  80.4375   3.563702  \n",
                  "\n",
                  "[6751 rows x 20 columns]\n"
                ]
              },
              {
                "name": "stdout",
                "output_type": "stream",
                "text": [
                  "0.18044120868047078\n"
                ]
              },
              {
                "name": "stdout",
                "output_type": "stream",
                "text": [
                  "14/14 - 1s - 578ms/epoch - 41ms/step\n"
                ]
              },
              {
                "name": "stdout",
                "output_type": "stream",
                "text": [
                  "V1 Done\n",
                  "V2 DUSMASS25\n"
                ]
              },
              {
                "name": "stdout",
                "output_type": "stream",
                "text": [
                  "V2 OCSMASS\n"
                ]
              },
              {
                "name": "stdout",
                "output_type": "stream",
                "text": [
                  "V2 SO2SMASS\n"
                ]
              },
              {
                "name": "stdout",
                "output_type": "stream",
                "text": [
                  "V2 SO4SMASS\n"
                ]
              },
              {
                "name": "stdout",
                "output_type": "stream",
                "text": [
                  "V2 SSSMASS25\n"
                ]
              },
              {
                "name": "stderr",
                "output_type": "stream",
                "text": [
                  "WARNING:tensorflow:5 out of the last 16 calls to <function Model.make_predict_function.<locals>.predict_function at 0x7b23a5725240> triggered tf.function retracing. Tracing is expensive and the excessive number of tracings could be due to (1) creating @tf.function repeatedly in a loop, (2) passing tensors with different shapes, (3) passing Python objects instead of tensors. For (1), please define your @tf.function outside of the loop. For (2), @tf.function has reduce_retracing=True option that can avoid unnecessary retracing. For (3), please refer to https://www.tensorflow.org/guide/function#controlling_retracing and https://www.tensorflow.org/api_docs/python/tf/function for  more details.\n"
                ]
              },
              {
                "name": "stdout",
                "output_type": "stream",
                "text": [
                  "V2 Done\n"
                ]
              },
              {
                "name": "stdout",
                "output_type": "stream",
                "text": [
                  "V3 DUSMASS25\n"
                ]
              },
              {
                "name": "stderr",
                "output_type": "stream",
                "text": [
                  "WARNING:tensorflow:6 out of the last 18 calls to <function Model.make_predict_function.<locals>.predict_function at 0x7b23a57245e0> triggered tf.function retracing. Tracing is expensive and the excessive number of tracings could be due to (1) creating @tf.function repeatedly in a loop, (2) passing tensors with different shapes, (3) passing Python objects instead of tensors. For (1), please define your @tf.function outside of the loop. For (2), @tf.function has reduce_retracing=True option that can avoid unnecessary retracing. For (3), please refer to https://www.tensorflow.org/guide/function#controlling_retracing and https://www.tensorflow.org/api_docs/python/tf/function for  more details.\n"
                ]
              },
              {
                "name": "stdout",
                "output_type": "stream",
                "text": [
                  "V3 OCSMASS\n",
                  "Skipping OCSMASS because the subset is empty.\n",
                  "V3 SO2SMASS\n"
                ]
              },
              {
                "name": "stdout",
                "output_type": "stream",
                "text": [
                  "V3 SO4SMASS\n",
                  "Skipping SO4SMASS because the subset is empty.\n",
                  "V3 SSSMASS25\n"
                ]
              },
              {
                "name": "stdout",
                "output_type": "stream",
                "text": [
                  "V3 Done\n"
                ]
              },
              {
                "name": "stdout",
                "output_type": "stream",
                "text": [
                  "V4 DUSMASS25\n"
                ]
              },
              {
                "name": "stdout",
                "output_type": "stream",
                "text": [
                  "V4 OCSMASS\n",
                  "Skipping OCSMASS because the subset is empty.\n",
                  "V4 SO2SMASS\n"
                ]
              },
              {
                "name": "stdout",
                "output_type": "stream",
                "text": [
                  "V4 SSSMASS25\n"
                ]
              },
              {
                "name": "stdout",
                "output_type": "stream",
                "text": [
                  "V4 wSO4\n"
                ]
              },
              {
                "name": "stdout",
                "output_type": "stream",
                "text": [
                  "V4 Done\n"
                ]
              },
              {
                "name": "stdout",
                "output_type": "stream",
                "text": [
                  "V5 CARBON\n",
                  "Skipping CARBON because the subset is empty.\n",
                  "V5 DUSMASS25\n"
                ]
              },
              {
                "name": "stdout",
                "output_type": "stream",
                "text": [
                  "V5 SSSMASS25\n"
                ]
              },
              {
                "name": "stdout",
                "output_type": "stream",
                "text": [
                  "V5 Sulfate\n"
                ]
              },
              {
                "name": "stdout",
                "output_type": "stream",
                "text": [
                  "V5 Done\n",
                  "[15.0, 19.0, 23.0]\n",
                  "Empty DataFrame\n",
                  "Columns: [PS, QV10M, Q500, T10M, T500, T850, WIND, BCSMASS, DUSMASS25, OCSMASS, SO2SMASS, SO4SMASS, SSSMASS25, TOTEXTTAU, SED, SZA, time, lat, lon, MERRA2, V1, V2_DS, V2, lat_lon, closest_lat_lon, lat_cats, lon_cats, V3_DS, lat_lon_cats, V3, lat_cats, lon_cats, V4_DS, lat_lon_cats, V4, lat_cats, lon_cats, V5_DS, lat_lon_cats, V5, Region]\n",
                  "Index: []\n",
                  "\n",
                  "[0 rows x 41 columns]\n"
                ]
              },
              {
                "name": "stdout",
                "output_type": "stream",
                "text": [
                  "V6 Done\n"
                ]
              },
              {
                "name": "stdout",
                "output_type": "stream",
                "text": [
                  "V7 Done\n"
                ]
              },
              {
                "name": "stdout",
                "output_type": "stream",
                "text": [
                  "V8 Done\n"
                ]
              },
              {
                "name": "stdout",
                "output_type": "stream",
                "text": [
                  "Data available for time: 1:30 UTC\n"
                ]
              },
              {
                "name": "stdout",
                "output_type": "stream",
                "text": [
                  "                PS      QV10M      Q500        T10M        T500        T850  \\\n",
                  "0     100924.40625  19.174822  1.185425  301.618866  269.072327  294.837982   \n",
                  "1     100796.40625  17.397173  1.391895  299.290741  268.947327  294.939545   \n",
                  "2     100620.40625  16.641863  1.713284  298.712616  269.127014  295.017670   \n",
                  "3     100484.40625  16.733416  1.832970  298.415741  269.220764  295.337982   \n",
                  "4     100412.40625  17.175920  1.766212  298.431366  269.197327  295.611420   \n",
                  "...            ...        ...       ...         ...         ...         ...   \n",
                  "6746   52732.40625   2.134569  1.738556  263.058319  262.502014  263.058319   \n",
                  "6747   52076.40625   1.748808  1.594074  263.343475  262.900452  263.343475   \n",
                  "6748   53724.40625   1.699217  1.223095  266.351288  263.666077  266.351288   \n",
                  "6749   54652.40625   1.955278  1.037605  268.810272  264.130920  268.810272   \n",
                  "6750   53164.40625   2.020128  1.266010  266.628632  264.052795  266.628632   \n",
                  "\n",
                  "          WIND   BCSMASS  DUSMASS25   OCSMASS  SO2SMASS  SO4SMASS  SSSMASS25  \\\n",
                  "0     2.232836  0.382339  25.029295  2.468531  1.965418  0.816991   7.836206   \n",
                  "1     1.573322  0.382339  17.818821  4.076518  1.193712  0.508445   2.664819   \n",
                  "2     1.687298  0.213286  15.344995  3.549920  0.628688  0.445008   0.904038   \n",
                  "3     2.098866  0.159456  14.220860  3.052427  0.430873  0.432616   0.494310   \n",
                  "4     2.276610  0.137969  17.018465  2.880532  0.267164  0.434321   1.092758   \n",
                  "...        ...       ...        ...       ...       ...       ...        ...   \n",
                  "6746  2.047462  0.087975   2.389243  0.378057  0.212367  0.415563   0.064006   \n",
                  "6747  2.944887  0.076777   1.776243  0.331105  0.193324  0.339052   0.045588   \n",
                  "6748  3.029765  0.072741   1.423359  0.300978  0.391537  0.281640   0.032486   \n",
                  "6749  2.704191  0.052988   1.857188  0.214462  1.201897  0.303240   0.027534   \n",
                  "6750  2.662273  0.048980   2.692104  0.191838  1.918124  0.359515   0.029701   \n",
                  "\n",
                  "      TOTEXTTAU       SED         SZA        time    lat      lon     MERRA2  \n",
                  "0      0.201136  1.001993  162.125019  2023-09-28  13.75 -17.0625  36.839733  \n",
                  "1      0.183070  1.001993  162.614719  2023-09-28  13.75 -16.4375  25.641608  \n",
                  "2      0.182642  1.001993  163.096070  2023-09-28  13.75 -15.8125  20.624125  \n",
                  "3      0.192225  1.001993  163.568339  2023-09-28  13.75 -15.1875  18.521899  \n",
                  "4      0.207789  1.001993  164.030718  2023-09-28  13.75 -14.5625  21.726916  \n",
                  "...         ...       ...         ...         ...    ...      ...        ...  \n",
                  "6746   0.023264  1.001993   99.501249  2023-09-28  34.75  77.9375   3.490680  \n",
                  "6747   0.020934  1.001993   98.988311  2023-09-28  34.75  78.5625   2.695909  \n",
                  "6748   0.021044  1.001993   98.475230  2023-09-28  34.75  79.1875   2.216819  \n",
                  "6749   0.021777  1.001993   97.962023  2023-09-28  34.75  79.8125   2.569127  \n",
                  "6750   0.021853  1.001993   97.448714  2023-09-28  34.75  80.4375   3.456958  \n",
                  "\n",
                  "[6751 rows x 20 columns]\n",
                  "0.7938954313596089\n"
                ]
              },
              {
                "name": "stdout",
                "output_type": "stream",
                "text": [
                  "14/14 - 0s - 232ms/epoch - 17ms/step\n"
                ]
              },
              {
                "name": "stdout",
                "output_type": "stream",
                "text": [
                  "V1 Done\n",
                  "V2 DUSMASS25\n"
                ]
              },
              {
                "name": "stdout",
                "output_type": "stream",
                "text": [
                  "V2 OCSMASS\n"
                ]
              },
              {
                "name": "stdout",
                "output_type": "stream",
                "text": [
                  "V2 SO2SMASS\n"
                ]
              },
              {
                "name": "stdout",
                "output_type": "stream",
                "text": [
                  "V2 SO4SMASS\n"
                ]
              },
              {
                "name": "stdout",
                "output_type": "stream",
                "text": [
                  "V2 SSSMASS25\n"
                ]
              },
              {
                "name": "stdout",
                "output_type": "stream",
                "text": [
                  "V2 Done\n"
                ]
              },
              {
                "name": "stdout",
                "output_type": "stream",
                "text": [
                  "V3 DUSMASS25\n"
                ]
              },
              {
                "name": "stdout",
                "output_type": "stream",
                "text": [
                  "V3 OCSMASS\n",
                  "Skipping OCSMASS because the subset is empty.\n",
                  "V3 SO2SMASS\n"
                ]
              },
              {
                "name": "stdout",
                "output_type": "stream",
                "text": [
                  "V3 SO4SMASS\n",
                  "Skipping SO4SMASS because the subset is empty.\n",
                  "V3 SSSMASS25\n"
                ]
              },
              {
                "name": "stdout",
                "output_type": "stream",
                "text": [
                  "V3 Done\n"
                ]
              },
              {
                "name": "stdout",
                "output_type": "stream",
                "text": [
                  "V4 DUSMASS25\n"
                ]
              },
              {
                "name": "stdout",
                "output_type": "stream",
                "text": [
                  "V4 OCSMASS\n",
                  "Skipping OCSMASS because the subset is empty.\n",
                  "V4 SO2SMASS\n"
                ]
              },
              {
                "name": "stdout",
                "output_type": "stream",
                "text": [
                  "V4 SSSMASS25\n"
                ]
              },
              {
                "name": "stdout",
                "output_type": "stream",
                "text": [
                  "V4 wSO4\n"
                ]
              },
              {
                "name": "stdout",
                "output_type": "stream",
                "text": [
                  "V4 Done\n"
                ]
              },
              {
                "name": "stdout",
                "output_type": "stream",
                "text": [
                  "V5 CARBON\n",
                  "Skipping CARBON because the subset is empty.\n",
                  "V5 DUSMASS25\n"
                ]
              },
              {
                "name": "stdout",
                "output_type": "stream",
                "text": [
                  "V5 SSSMASS25\n"
                ]
              },
              {
                "name": "stdout",
                "output_type": "stream",
                "text": [
                  "V5 Sulfate\n"
                ]
              },
              {
                "name": "stdout",
                "output_type": "stream",
                "text": [
                  "V5 Done\n",
                  "[15.0, 19.0, 23.0]\n",
                  "Empty DataFrame\n",
                  "Columns: [PS, QV10M, Q500, T10M, T500, T850, WIND, BCSMASS, DUSMASS25, OCSMASS, SO2SMASS, SO4SMASS, SSSMASS25, TOTEXTTAU, SED, SZA, time, lat, lon, MERRA2, V1, V2_DS, V2, lat_lon, closest_lat_lon, lat_cats, lon_cats, V3_DS, lat_lon_cats, V3, lat_cats, lon_cats, V4_DS, lat_lon_cats, V4, lat_cats, lon_cats, V5_DS, lat_lon_cats, V5, Region]\n",
                  "Index: []\n",
                  "\n",
                  "[0 rows x 41 columns]\n"
                ]
              },
              {
                "name": "stdout",
                "output_type": "stream",
                "text": [
                  "V6 Done\n"
                ]
              },
              {
                "name": "stdout",
                "output_type": "stream",
                "text": [
                  "V7 Done\n"
                ]
              },
              {
                "name": "stdout",
                "output_type": "stream",
                "text": [
                  "V8 Done\n"
                ]
              },
              {
                "name": "stdout",
                "output_type": "stream",
                "text": [
                  "Data available for time: 2:30 UTC\n"
                ]
              },
              {
                "name": "stdout",
                "output_type": "stream",
                "text": [
                  "                PS      QV10M      Q500        T10M        T500        T850  \\\n",
                  "0     100850.28125  19.396376  0.929607  301.371765  269.121887  294.958435   \n",
                  "1     100722.28125  17.366957  1.252187  298.949890  268.926575  295.114685   \n",
                  "2     100554.28125  16.565870  1.657499  298.434265  269.106262  295.372498   \n",
                  "3     100418.28125  16.710829  1.698984  298.184265  269.285950  295.716248   \n",
                  "4     100346.28125  17.115187  1.605524  298.137390  269.309387  295.817810   \n",
                  "...            ...        ...       ...         ...         ...         ...   \n",
                  "6746   52770.28125   2.149175  1.800550  265.268250  262.242981  265.268250   \n",
                  "6747   52114.28125   1.755308  1.549257  265.850281  262.844543  265.850281   \n",
                  "6748   53762.28125   1.498293  1.235975  269.039734  263.547668  269.039734   \n",
                  "6749   54682.28125   1.434873  1.096262  271.317078  264.094543  271.317078   \n",
                  "6750   53194.28125   1.558851  1.259817  269.149109  264.129700  269.149109   \n",
                  "\n",
                  "          WIND   BCSMASS  DUSMASS25   OCSMASS  SO2SMASS  SO4SMASS  SSSMASS25  \\\n",
                  "0     2.614095  0.395538  25.989721  2.538577  1.999069  0.808606   8.032658   \n",
                  "1     1.612252  0.406566  17.964340  4.305726  1.241915  0.507336   2.671186   \n",
                  "2     1.732074  0.223417  15.294063  3.704549  0.653699  0.447878   0.892669   \n",
                  "3     2.099233  0.164811  14.104444  3.156124  0.440991  0.434349   0.445652   \n",
                  "4     2.268737  0.141676  16.450941  2.957854  0.256932  0.428892   0.979526   \n",
                  "...        ...       ...        ...       ...       ...       ...        ...   \n",
                  "6746  3.453993  0.065477   1.980880  0.275527  0.181615  0.396378   0.050079   \n",
                  "6747  4.709548  0.055885   1.552963  0.233122  0.157286  0.330894   0.037900   \n",
                  "6748  4.838951  0.052503   1.270564  0.214648  0.193324  0.282463   0.028621   \n",
                  "6749  4.337321  0.042285   1.331046  0.169059  0.393129  0.267116   0.021544   \n",
                  "6750  4.387730  0.041759   1.746685  0.167183  0.704404  0.298948   0.025040   \n",
                  "\n",
                  "      TOTEXTTAU       SED         SZA        time    lat      lon     MERRA2  \n",
                  "0      0.209932  1.001993  162.125019  2023-09-28  13.75 -17.0625  38.068327  \n",
                  "1      0.184908  1.001993  162.614719  2023-09-28  13.75 -16.4375  26.045404  \n",
                  "2      0.183077  1.001993  163.096070  2023-09-28  13.75 -15.8125  20.730530  \n",
                  "3      0.195894  1.001993  163.568339  2023-09-28  13.75 -15.1875  18.468261  \n",
                  "4      0.213289  1.001993  164.030718  2023-09-28  13.75 -14.5625  21.119723  \n",
                  "...         ...       ...         ...         ...    ...      ...        ...  \n",
                  "6746   0.022509  1.001993   99.501249  2023-09-28  34.75  77.9375   2.916982  \n",
                  "6747   0.020338  1.001993   98.988311  2023-09-28  34.75  78.5625   2.334849  \n",
                  "6748   0.020430  1.001993   98.475230  2023-09-28  34.75  79.1875   1.954723  \n",
                  "6749   0.020857  1.001993   97.962023  2023-09-28  34.75  79.8125   1.931218  \n",
                  "6750   0.020990  1.001993   97.448714  2023-09-28  34.75  80.4375   2.391721  \n",
                  "\n",
                  "[6751 rows x 20 columns]\n",
                  "1.1535692930221557\n"
                ]
              },
              {
                "name": "stdout",
                "output_type": "stream",
                "text": [
                  "14/14 - 0s - 240ms/epoch - 17ms/step\n"
                ]
              },
              {
                "name": "stdout",
                "output_type": "stream",
                "text": [
                  "V1 Done\n",
                  "V2 DUSMASS25\n"
                ]
              },
              {
                "name": "stdout",
                "output_type": "stream",
                "text": [
                  "V2 OCSMASS\n"
                ]
              },
              {
                "name": "stdout",
                "output_type": "stream",
                "text": [
                  "V2 SO2SMASS\n"
                ]
              },
              {
                "name": "stdout",
                "output_type": "stream",
                "text": [
                  "V2 SO4SMASS\n"
                ]
              },
              {
                "name": "stdout",
                "output_type": "stream",
                "text": [
                  "V2 SSSMASS25\n"
                ]
              },
              {
                "name": "stdout",
                "output_type": "stream",
                "text": [
                  "V2 Done\n"
                ]
              },
              {
                "name": "stdout",
                "output_type": "stream",
                "text": [
                  "V3 DUSMASS25\n"
                ]
              },
              {
                "name": "stdout",
                "output_type": "stream",
                "text": [
                  "V3 OCSMASS\n",
                  "Skipping OCSMASS because the subset is empty.\n",
                  "V3 SO2SMASS\n"
                ]
              },
              {
                "name": "stdout",
                "output_type": "stream",
                "text": [
                  "V3 SO4SMASS\n",
                  "Skipping SO4SMASS because the subset is empty.\n",
                  "V3 SSSMASS25\n"
                ]
              },
              {
                "name": "stdout",
                "output_type": "stream",
                "text": [
                  "V3 Done\n"
                ]
              },
              {
                "name": "stdout",
                "output_type": "stream",
                "text": [
                  "V4 DUSMASS25\n"
                ]
              },
              {
                "name": "stdout",
                "output_type": "stream",
                "text": [
                  "V4 OCSMASS\n",
                  "Skipping OCSMASS because the subset is empty.\n",
                  "V4 SO2SMASS\n"
                ]
              },
              {
                "name": "stdout",
                "output_type": "stream",
                "text": [
                  "V4 SSSMASS25\n"
                ]
              },
              {
                "name": "stdout",
                "output_type": "stream",
                "text": [
                  "V4 wSO4\n"
                ]
              },
              {
                "name": "stdout",
                "output_type": "stream",
                "text": [
                  "V4 Done\n"
                ]
              },
              {
                "name": "stdout",
                "output_type": "stream",
                "text": [
                  "V5 CARBON\n",
                  "Skipping CARBON because the subset is empty.\n",
                  "V5 DUSMASS25\n"
                ]
              },
              {
                "name": "stdout",
                "output_type": "stream",
                "text": [
                  "V5 SSSMASS25\n"
                ]
              },
              {
                "name": "stdout",
                "output_type": "stream",
                "text": [
                  "V5 Sulfate\n"
                ]
              },
              {
                "name": "stdout",
                "output_type": "stream",
                "text": [
                  "V5 Done\n",
                  "[15.0, 19.0, 23.0]\n",
                  "Empty DataFrame\n",
                  "Columns: [PS, QV10M, Q500, T10M, T500, T850, WIND, BCSMASS, DUSMASS25, OCSMASS, SO2SMASS, SO4SMASS, SSSMASS25, TOTEXTTAU, SED, SZA, time, lat, lon, MERRA2, V1, V2_DS, V2, lat_lon, closest_lat_lon, lat_cats, lon_cats, V3_DS, lat_lon_cats, V3, lat_cats, lon_cats, V4_DS, lat_lon_cats, V4, lat_cats, lon_cats, V5_DS, lat_lon_cats, V5, Region]\n",
                  "Index: []\n",
                  "\n",
                  "[0 rows x 41 columns]\n"
                ]
              },
              {
                "name": "stdout",
                "output_type": "stream",
                "text": [
                  "V6 Done\n"
                ]
              },
              {
                "name": "stdout",
                "output_type": "stream",
                "text": [
                  "V7 Done\n"
                ]
              },
              {
                "name": "stdout",
                "output_type": "stream",
                "text": [
                  "V8 Done\n"
                ]
              },
              {
                "name": "stdout",
                "output_type": "stream",
                "text": [
                  "Data available for time: 3:30 UTC\n"
                ]
              },
              {
                "name": "stdout",
                "output_type": "stream",
                "text": [
                  "                 PS      QV10M      Q500        T10M        T500        T850  \\\n",
                  "0     100818.554688  19.564558  0.882389  301.180237  269.020752  294.984741   \n",
                  "1     100690.554688  17.420698  1.361372  298.711487  268.762939  295.195679   \n",
                  "2     100522.554688  16.581465  1.762869  298.227112  268.966064  295.617554   \n",
                  "3     100378.554688  16.711164  1.631739  298.039612  269.270752  295.890991   \n",
                  "4     100314.554688  17.100264  1.492979  297.961487  269.341064  295.890991   \n",
                  "...             ...        ...       ...         ...         ...         ...   \n",
                  "6746   52786.554688   1.917292  1.613142  267.047424  262.614502  267.047424   \n",
                  "6747   52122.554688   1.484800  1.241209  267.779846  263.848877  267.779846   \n",
                  "6748   53770.554688   1.307894  1.067640  270.801331  264.286377  270.801331   \n",
                  "6749   54690.554688   1.200129  0.960352  272.738831  264.774658  272.738831   \n",
                  "6750   53210.554688   1.244475  1.069548  270.676331  264.923096  270.676331   \n",
                  "\n",
                  "          WIND   BCSMASS  DUSMASS25   OCSMASS  SO2SMASS  SO4SMASS  SSSMASS25  \\\n",
                  "0     2.741473  0.404384  27.204805  2.574780  2.068191  0.804236   8.338247   \n",
                  "1     1.607213  0.431669  18.175343  4.503818  1.298758  0.511379   2.766683   \n",
                  "2     1.697909  0.238970  15.264959  3.914466  0.693035  0.450784   0.909267   \n",
                  "3     2.024220  0.170758  13.991667  3.286005  0.465548  0.436459   0.405294   \n",
                  "4     2.175427  0.145804  15.883415  3.046808  0.261025  0.425772   0.862201   \n",
                  "...        ...       ...        ...       ...       ...       ...        ...   \n",
                  "6746  4.858705  0.050747   1.608896  0.200714  0.126704  0.363813   0.037176   \n",
                  "6747  6.224871  0.043500   1.299213  0.166040  0.110447  0.313564   0.029402   \n",
                  "6748  6.015983  0.041141   1.111403  0.157400  0.125453  0.284573   0.024208   \n",
                  "6749  5.282953  0.036081   1.058197  0.135060  0.216858  0.264337   0.018424   \n",
                  "6750  5.461382  0.034689   1.187800  0.130456  0.385853  0.269680   0.018076   \n",
                  "\n",
                  "      TOTEXTTAU       SED         SZA        time    lat      lon     MERRA2  \n",
                  "0      0.219773  1.001993  162.125019  2023-09-28  13.75 -17.0625  39.628041  \n",
                  "1      0.188523  1.001993  162.614719  2023-09-28  13.75 -16.4375  26.580658  \n",
                  "2      0.186936  1.001993  163.096070  2023-09-28  13.75 -15.8125  20.947489  \n",
                  "3      0.202134  1.001993  163.568339  2023-09-28  13.75 -15.1875  18.453854  \n",
                  "4      0.218491  1.001993  164.030718  2023-09-28  13.75 -14.5625  20.523665  \n",
                  "...         ...       ...         ...         ...    ...      ...        ...  \n",
                  "6746   0.021691  1.001993   99.501249  2023-09-28  34.75  77.9375   2.397776  \n",
                  "6747   0.019730  1.001993   98.988311  2023-09-28  34.75  78.5625   1.969305  \n",
                  "6748   0.019902  1.001993   98.475230  2023-09-28  34.75  79.1875   1.725439  \n",
                  "6749   0.020066  1.001993   97.962023  2023-09-28  34.75  79.8125   1.611227  \n",
                  "6750   0.019917  1.001993   97.448714  2023-09-28  34.75  80.4375   1.741832  \n",
                  "\n",
                  "[6751 rows x 20 columns]\n",
                  "1.4921574354171754\n"
                ]
              },
              {
                "name": "stdout",
                "output_type": "stream",
                "text": [
                  "14/14 - 0s - 254ms/epoch - 18ms/step\n"
                ]
              },
              {
                "name": "stdout",
                "output_type": "stream",
                "text": [
                  "V1 Done\n",
                  "V2 DUSMASS25\n"
                ]
              },
              {
                "name": "stdout",
                "output_type": "stream",
                "text": [
                  "V2 OCSMASS\n"
                ]
              },
              {
                "name": "stdout",
                "output_type": "stream",
                "text": [
                  "V2 SO2SMASS\n"
                ]
              },
              {
                "name": "stdout",
                "output_type": "stream",
                "text": [
                  "V2 SO4SMASS\n"
                ]
              },
              {
                "name": "stdout",
                "output_type": "stream",
                "text": [
                  "V2 SSSMASS25\n"
                ]
              },
              {
                "name": "stdout",
                "output_type": "stream",
                "text": [
                  "V2 Done\n"
                ]
              },
              {
                "name": "stdout",
                "output_type": "stream",
                "text": [
                  "V3 DUSMASS25\n"
                ]
              },
              {
                "name": "stdout",
                "output_type": "stream",
                "text": [
                  "V3 OCSMASS\n",
                  "Skipping OCSMASS because the subset is empty.\n",
                  "V3 SO2SMASS\n"
                ]
              },
              {
                "name": "stdout",
                "output_type": "stream",
                "text": [
                  "V3 SO4SMASS\n",
                  "Skipping SO4SMASS because the subset is empty.\n",
                  "V3 SSSMASS25\n"
                ]
              },
              {
                "name": "stdout",
                "output_type": "stream",
                "text": [
                  "V3 Done\n"
                ]
              },
              {
                "name": "stdout",
                "output_type": "stream",
                "text": [
                  "V4 DUSMASS25\n"
                ]
              },
              {
                "name": "stdout",
                "output_type": "stream",
                "text": [
                  "V4 OCSMASS\n",
                  "Skipping OCSMASS because the subset is empty.\n",
                  "V4 SO2SMASS\n"
                ]
              },
              {
                "name": "stdout",
                "output_type": "stream",
                "text": [
                  "V4 SSSMASS25\n"
                ]
              },
              {
                "name": "stdout",
                "output_type": "stream",
                "text": [
                  "V4 wSO4\n"
                ]
              },
              {
                "name": "stdout",
                "output_type": "stream",
                "text": [
                  "V4 Done\n"
                ]
              },
              {
                "name": "stdout",
                "output_type": "stream",
                "text": [
                  "V5 CARBON\n",
                  "Skipping CARBON because the subset is empty.\n",
                  "V5 DUSMASS25\n"
                ]
              },
              {
                "name": "stdout",
                "output_type": "stream",
                "text": [
                  "V5 SSSMASS25\n"
                ]
              },
              {
                "name": "stdout",
                "output_type": "stream",
                "text": [
                  "V5 Sulfate\n"
                ]
              },
              {
                "name": "stdout",
                "output_type": "stream",
                "text": [
                  "V5 Done\n",
                  "[15.0, 19.0, 23.0]\n",
                  "Empty DataFrame\n",
                  "Columns: [PS, QV10M, Q500, T10M, T500, T850, WIND, BCSMASS, DUSMASS25, OCSMASS, SO2SMASS, SO4SMASS, SSSMASS25, TOTEXTTAU, SED, SZA, time, lat, lon, MERRA2, V1, V2_DS, V2, lat_lon, closest_lat_lon, lat_cats, lon_cats, V3_DS, lat_lon_cats, V3, lat_cats, lon_cats, V4_DS, lat_lon_cats, V4, lat_cats, lon_cats, V5_DS, lat_lon_cats, V5, Region]\n",
                  "Index: []\n",
                  "\n",
                  "[0 rows x 41 columns]\n"
                ]
              },
              {
                "name": "stdout",
                "output_type": "stream",
                "text": [
                  "V6 Done\n"
                ]
              },
              {
                "name": "stdout",
                "output_type": "stream",
                "text": [
                  "V7 Done\n"
                ]
              },
              {
                "name": "stdout",
                "output_type": "stream",
                "text": [
                  "V8 Done\n"
                ]
              },
              {
                "name": "stdout",
                "output_type": "stream",
                "text": [
                  "Data available for time: 4:30 UTC\n"
                ]
              },
              {
                "name": "stdout",
                "output_type": "stream",
                "text": [
                  "                 PS      QV10M      Q500        T10M        T500        T850  \\\n",
                  "0     100823.390625  19.686977  0.898608  301.019043  268.947052  294.929596   \n",
                  "1     100695.390625  17.504971  1.447209  298.456543  268.689240  295.226471   \n",
                  "2     100519.390625  16.589443  1.788148  297.987793  268.876740  295.710846   \n",
                  "3     100375.390625  16.680996  1.526841  297.894043  269.298615  295.882721   \n",
                  "4     100303.390625  17.077724  1.403340  297.815918  269.423615  295.874908   \n",
                  "...             ...        ...       ...         ...         ...         ...   \n",
                  "6746   52783.390625   1.789848  1.476296  268.106934  263.294708  268.106934   \n",
                  "6747   52111.390625   1.298229  1.061925  269.390137  265.052521  269.390137   \n",
                  "6748   53759.390625   1.151363  0.938662  272.401855  265.470490  272.401855   \n",
                  "6749   54679.390625   1.066486  0.865706  274.124512  265.782990  274.124512   \n",
                  "6750   53199.390625   1.088421  0.926503  272.116699  266.013458  272.116699   \n",
                  "\n",
                  "          WIND   BCSMASS  DUSMASS25   OCSMASS  SO2SMASS  SO4SMASS  SSSMASS25  \\\n",
                  "0     2.850936  0.407910  28.667273  2.578424  2.180059  0.805393   8.694769   \n",
                  "1     1.687466  0.456000  18.539141  4.669352  1.375156  0.520494   2.939487   \n",
                  "2     1.718064  0.260799  15.250407  4.183682  0.743285  0.453874   0.953605   \n",
                  "3     1.973868  0.178320  13.871614  3.472457  0.499085  0.438981   0.379600   \n",
                  "4     2.077914  0.150864  15.337719  3.185057  0.273872  0.424201   0.752379   \n",
                  "...        ...       ...        ...       ...       ...       ...        ...   \n",
                  "6746  5.820183  0.046613   1.406988  0.176733  0.099504  0.326431   0.030269   \n",
                  "6747  7.513877  0.037931   1.102762  0.137283  0.084981  0.294826   0.023611   \n",
                  "6748  7.010753  0.035699   0.960426  0.129155  0.101750  0.277545   0.020194   \n",
                  "6749  6.103967  0.032104   0.888349  0.114290  0.156319  0.263903   0.016222   \n",
                  "6750  6.325184  0.030129   0.895170  0.107611  0.279215  0.257877   0.014079   \n",
                  "\n",
                  "      TOTEXTTAU       SED         SZA        time    lat      lon     MERRA2  \n",
                  "0      0.226602  1.001993  162.125019  2023-09-28  13.75 -17.0625  41.455792  \n",
                  "1      0.193216  1.001993  162.614719  2023-09-28  13.75 -16.4375  27.319658  \n",
                  "2      0.192545  1.001993  163.096070  2023-09-28  13.75 -15.8125  21.272570  \n",
                  "3      0.206827  1.001993  163.568339  2023-09-28  13.75 -15.1875  18.505589  \n",
                  "4      0.220194  1.001993  164.030718  2023-09-28  13.75 -14.5625  20.009296  \n",
                  "...         ...       ...         ...         ...    ...      ...        ...  \n",
                  "6746   0.021295  1.001993   99.501249  2023-09-28  34.75  77.9375   2.109445  \n",
                  "6747   0.019342  1.001993   98.988311  2023-09-28  34.75  78.5625   1.706973  \n",
                  "6748   0.019502  1.001993   98.475230  2023-09-28  34.75  79.1875   1.527099  \n",
                  "6749   0.019472  1.001993   97.962023  2023-09-28  34.75  79.8125   1.413831  \n",
                  "6750   0.018987  1.001993   97.448714  2023-09-28  34.75  80.4375   1.401571  \n",
                  "\n",
                  "[6751 rows x 20 columns]\n",
                  "1.849500592549642\n"
                ]
              },
              {
                "name": "stdout",
                "output_type": "stream",
                "text": [
                  "14/14 - 0s - 248ms/epoch - 18ms/step\n"
                ]
              },
              {
                "name": "stdout",
                "output_type": "stream",
                "text": [
                  "V1 Done\n",
                  "V2 DUSMASS25\n"
                ]
              },
              {
                "name": "stdout",
                "output_type": "stream",
                "text": [
                  "V2 OCSMASS\n"
                ]
              },
              {
                "name": "stdout",
                "output_type": "stream",
                "text": [
                  "V2 SO2SMASS\n"
                ]
              },
              {
                "name": "stdout",
                "output_type": "stream",
                "text": [
                  "V2 SO4SMASS\n"
                ]
              },
              {
                "name": "stdout",
                "output_type": "stream",
                "text": [
                  "V2 SSSMASS25\n"
                ]
              },
              {
                "name": "stdout",
                "output_type": "stream",
                "text": [
                  "V2 Done\n"
                ]
              },
              {
                "name": "stdout",
                "output_type": "stream",
                "text": [
                  "V3 DUSMASS25\n"
                ]
              },
              {
                "name": "stdout",
                "output_type": "stream",
                "text": [
                  "V3 OCSMASS\n",
                  "Skipping OCSMASS because the subset is empty.\n",
                  "V3 SO2SMASS\n"
                ]
              },
              {
                "name": "stdout",
                "output_type": "stream",
                "text": [
                  "V3 SO4SMASS\n",
                  "Skipping SO4SMASS because the subset is empty.\n",
                  "V3 SSSMASS25\n"
                ]
              },
              {
                "name": "stdout",
                "output_type": "stream",
                "text": [
                  "V3 Done\n"
                ]
              },
              {
                "name": "stdout",
                "output_type": "stream",
                "text": [
                  "V4 DUSMASS25\n"
                ]
              },
              {
                "name": "stdout",
                "output_type": "stream",
                "text": [
                  "V4 OCSMASS\n",
                  "Skipping OCSMASS because the subset is empty.\n",
                  "V4 SO2SMASS\n"
                ]
              },
              {
                "name": "stdout",
                "output_type": "stream",
                "text": [
                  "V4 SSSMASS25\n"
                ]
              },
              {
                "name": "stdout",
                "output_type": "stream",
                "text": [
                  "V4 wSO4\n"
                ]
              },
              {
                "name": "stdout",
                "output_type": "stream",
                "text": [
                  "V4 Done\n"
                ]
              },
              {
                "name": "stdout",
                "output_type": "stream",
                "text": [
                  "V5 CARBON\n",
                  "Skipping CARBON because the subset is empty.\n",
                  "V5 DUSMASS25\n"
                ]
              },
              {
                "name": "stdout",
                "output_type": "stream",
                "text": [
                  "V5 SSSMASS25\n"
                ]
              },
              {
                "name": "stdout",
                "output_type": "stream",
                "text": [
                  "V5 Sulfate\n"
                ]
              },
              {
                "name": "stdout",
                "output_type": "stream",
                "text": [
                  "V5 Done\n",
                  "[15.0, 19.0, 23.0]\n",
                  "Empty DataFrame\n",
                  "Columns: [PS, QV10M, Q500, T10M, T500, T850, WIND, BCSMASS, DUSMASS25, OCSMASS, SO2SMASS, SO4SMASS, SSSMASS25, TOTEXTTAU, SED, SZA, time, lat, lon, MERRA2, V1, V2_DS, V2, lat_lon, closest_lat_lon, lat_cats, lon_cats, V3_DS, lat_lon_cats, V3, lat_cats, lon_cats, V4_DS, lat_lon_cats, V4, lat_cats, lon_cats, V5_DS, lat_lon_cats, V5, Region]\n",
                  "Index: []\n",
                  "\n",
                  "[0 rows x 41 columns]\n"
                ]
              },
              {
                "name": "stdout",
                "output_type": "stream",
                "text": [
                  "V6 Done\n"
                ]
              },
              {
                "name": "stdout",
                "output_type": "stream",
                "text": [
                  "V7 Done\n"
                ]
              },
              {
                "name": "stdout",
                "output_type": "stream",
                "text": [
                  "V8 Done\n"
                ]
              },
              {
                "name": "stdout",
                "output_type": "stream",
                "text": [
                  "Data available for time: 5:30 UTC\n"
                ]
              },
              {
                "name": "stdout",
                "output_type": "stream",
                "text": [
                  "                 PS      QV10M      Q500        T10M        T500        T850  \\\n",
                  "0     100853.695312  19.725521  1.036181  300.934753  268.801270  294.861145   \n",
                  "1     100733.695312  17.612179  1.584067  298.325378  268.582520  295.220520   \n",
                  "2     100557.695312  16.498287  1.782431  297.809753  268.777832  295.650208   \n",
                  "3     100413.695312  16.673763  1.468196  297.841003  269.277832  295.751770   \n",
                  "4     100349.695312  17.055233  1.416697  297.716003  269.426270  295.736145   \n",
                  "...             ...        ...       ...         ...         ...         ...   \n",
                  "6746   52773.695312   1.798352  1.443400  269.198425  264.066895  269.198425   \n",
                  "6747   52093.695312   1.285276  1.039042  270.731628  266.125488  270.731628   \n",
                  "6748   53717.695312   1.087865  0.868096  273.946472  266.801270  273.946472   \n",
                  "6749   54637.695312   1.023015  0.812545  275.559753  267.012207  275.559753   \n",
                  "6750   53165.695312   1.010617  0.842824  273.555847  267.246582  273.555847   \n",
                  "\n",
                  "          WIND   BCSMASS  DUSMASS25   OCSMASS  SO2SMASS  SO4SMASS  SSSMASS25  \\\n",
                  "0     2.827860  0.401203  30.384399  2.515673  2.354682  0.815423   9.094947   \n",
                  "1     1.668195  0.480897  19.077560  4.800324  1.480657  0.534843   3.199602   \n",
                  "2     1.647312  0.290358  15.294063  4.529294  0.807177  0.457423   1.034550   \n",
                  "3     1.805468  0.189461  13.766111  3.748948  0.539103  0.441848   0.368459   \n",
                  "4     1.859976  0.158027  14.821126  3.410616  0.293085  0.423544   0.653472   \n",
                  "...        ...       ...        ...       ...       ...       ...        ...   \n",
                  "6746  6.672915  0.045363   1.260560  0.168438  0.088704  0.302809   0.025622   \n",
                  "6747  8.669649  0.035416   0.966338  0.127454  0.072674  0.278821   0.019419   \n",
                  "6748  7.959385  0.032360   0.824912  0.115886  0.089898  0.264837   0.016712   \n",
                  "6749  6.929465  0.029291   0.760110  0.103409  0.129546  0.256993   0.014044   \n",
                  "6750  7.155467  0.027038   0.723503  0.095650  0.209184  0.247557   0.011671   \n",
                  "\n",
                  "      TOTEXTTAU       SED         SZA        time    lat      lon     MERRA2  \n",
                  "0      0.231593  1.001993  162.125019  2023-09-28  13.75 -17.0625  43.517428  \n",
                  "1      0.202479  1.001993  162.614719  2023-09-28  13.75 -16.4375  28.293794  \n",
                  "2      0.200526  1.001993  163.096070  2023-09-28  13.75 -15.8125  21.777222  \n",
                  "3      0.213831  1.001993  163.568339  2023-09-28  13.75 -15.1875  18.680521  \n",
                  "4      0.224390  1.001993  164.030718  2023-09-28  13.75 -14.5625  19.625614  \n",
                  "...         ...       ...         ...         ...    ...      ...        ...  \n",
                  "6746   0.021201  1.001993   99.501249  2023-09-28  34.75  77.9375   1.916345  \n",
                  "6747   0.019205  1.001993   98.988311  2023-09-28  34.75  78.5625   1.532005  \n",
                  "6748   0.019217  1.001993   98.475230  2023-09-28  34.75  79.1875   1.354021  \n",
                  "6749   0.019179  1.001993   97.962023  2023-09-28  34.75  79.8125   1.260219  \n",
                  "6750   0.018492  1.001993   97.448714  2023-09-28  34.75  80.4375   1.198253  \n",
                  "\n",
                  "[6751 rows x 20 columns]\n",
                  "2.191592264175415\n"
                ]
              },
              {
                "name": "stdout",
                "output_type": "stream",
                "text": [
                  "14/14 - 0s - 246ms/epoch - 18ms/step\n"
                ]
              },
              {
                "name": "stdout",
                "output_type": "stream",
                "text": [
                  "V1 Done\n",
                  "V2 DUSMASS25\n"
                ]
              },
              {
                "name": "stdout",
                "output_type": "stream",
                "text": [
                  "V2 OCSMASS\n"
                ]
              },
              {
                "name": "stdout",
                "output_type": "stream",
                "text": [
                  "V2 SO2SMASS\n"
                ]
              },
              {
                "name": "stdout",
                "output_type": "stream",
                "text": [
                  "V2 SO4SMASS\n"
                ]
              },
              {
                "name": "stdout",
                "output_type": "stream",
                "text": [
                  "V2 SSSMASS25\n"
                ]
              },
              {
                "name": "stdout",
                "output_type": "stream",
                "text": [
                  "V2 Done\n"
                ]
              },
              {
                "name": "stdout",
                "output_type": "stream",
                "text": [
                  "V3 DUSMASS25\n"
                ]
              },
              {
                "name": "stdout",
                "output_type": "stream",
                "text": [
                  "V3 OCSMASS\n",
                  "Skipping OCSMASS because the subset is empty.\n",
                  "V3 SO2SMASS\n"
                ]
              },
              {
                "name": "stdout",
                "output_type": "stream",
                "text": [
                  "V3 SO4SMASS\n",
                  "Skipping SO4SMASS because the subset is empty.\n",
                  "V3 SSSMASS25\n"
                ]
              },
              {
                "name": "stdout",
                "output_type": "stream",
                "text": [
                  "V3 Done\n"
                ]
              },
              {
                "name": "stdout",
                "output_type": "stream",
                "text": [
                  "V4 DUSMASS25\n"
                ]
              },
              {
                "name": "stdout",
                "output_type": "stream",
                "text": [
                  "V4 OCSMASS\n",
                  "Skipping OCSMASS because the subset is empty.\n",
                  "V4 SO2SMASS\n"
                ]
              },
              {
                "name": "stdout",
                "output_type": "stream",
                "text": [
                  "V4 SSSMASS25\n"
                ]
              },
              {
                "name": "stdout",
                "output_type": "stream",
                "text": [
                  "V4 wSO4\n"
                ]
              },
              {
                "name": "stdout",
                "output_type": "stream",
                "text": [
                  "V4 Done\n"
                ]
              },
              {
                "name": "stdout",
                "output_type": "stream",
                "text": [
                  "V5 CARBON\n",
                  "Skipping CARBON because the subset is empty.\n",
                  "V5 DUSMASS25\n"
                ]
              },
              {
                "name": "stdout",
                "output_type": "stream",
                "text": [
                  "V5 SSSMASS25\n"
                ]
              },
              {
                "name": "stdout",
                "output_type": "stream",
                "text": [
                  "V5 Sulfate\n"
                ]
              },
              {
                "name": "stdout",
                "output_type": "stream",
                "text": [
                  "V5 Done\n",
                  "[15.0, 19.0, 23.0]\n",
                  "Empty DataFrame\n",
                  "Columns: [PS, QV10M, Q500, T10M, T500, T850, WIND, BCSMASS, DUSMASS25, OCSMASS, SO2SMASS, SO4SMASS, SSSMASS25, TOTEXTTAU, SED, SZA, time, lat, lon, MERRA2, V1, V2_DS, V2, lat_lon, closest_lat_lon, lat_cats, lon_cats, V3_DS, lat_lon_cats, V3, lat_cats, lon_cats, V4_DS, lat_lon_cats, V4, lat_cats, lon_cats, V5_DS, lat_lon_cats, V5, Region]\n",
                  "Index: []\n",
                  "\n",
                  "[0 rows x 41 columns]\n"
                ]
              },
              {
                "name": "stdout",
                "output_type": "stream",
                "text": [
                  "V6 Done\n"
                ]
              },
              {
                "name": "stdout",
                "output_type": "stream",
                "text": [
                  "V7 Done\n"
                ]
              },
              {
                "name": "stdout",
                "output_type": "stream",
                "text": [
                  "V8 Done\n"
                ]
              },
              {
                "name": "stdout",
                "output_type": "stream",
                "text": [
                  "Data available for time: 6:30 UTC\n"
                ]
              },
              {
                "name": "stdout",
                "output_type": "stream",
                "text": [
                  "                 PS      QV10M      Q500        T10M        T500        T850  \\\n",
                  "0     100919.640625  19.649324  1.326088  300.974731  268.590149  294.780884   \n",
                  "1     100799.640625  17.726717  1.622204  298.255981  268.551086  295.163696   \n",
                  "2     100623.640625  16.551790  1.687054  297.646606  268.785461  295.499634   \n",
                  "3     100479.640625  16.673861  1.408104  297.755981  269.285461  295.538696   \n",
                  "4     100423.640625  17.001925  1.480107  297.677856  269.394836  295.484009   \n",
                  "...             ...        ...       ...         ...         ...         ...   \n",
                  "6746   52759.640625   1.798925  1.428608  270.130981  264.777649  270.130981   \n",
                  "6747   52071.640625   1.340208  1.087193  271.591919  266.879211  271.591919   \n",
                  "6748   53679.640625   1.079855  0.850682  275.158325  267.926086  275.158325   \n",
                  "6749   54583.640625   1.000700  0.776534  276.861450  268.238586  276.861450   \n",
                  "6750   53119.640625   0.979719  0.801091  274.806763  268.449524  274.806763   \n",
                  "\n",
                  "          WIND   BCSMASS  DUSMASS25   OCSMASS  SO2SMASS  SO4SMASS  SSSMASS25  \\\n",
                  "0     2.631382  0.387104  32.057869  2.407471  2.547495  0.831059   9.466021   \n",
                  "1     1.611924  0.504542  19.797880  4.882206  1.607077  0.552981   3.523382   \n",
                  "2     1.574363  0.326281  15.410479  4.925861  0.886303  0.461577   1.156877   \n",
                  "3     1.656177  0.205034  13.696990  4.109135  0.586851  0.444865   0.375849   \n",
                  "4     1.628236  0.167404  14.366379  3.720781  0.319801  0.423719   0.573436   \n",
                  "...        ...       ...        ...       ...       ...       ...        ...   \n",
                  "6746  7.371461  0.043727   1.028638  0.160337  0.084640  0.280247   0.018844   \n",
                  "6747  9.576178  0.033978   0.812179  0.122365  0.068098  0.260465   0.014015   \n",
                  "6748  8.848558  0.030241   0.707814  0.110570  0.081769  0.250688   0.013308   \n",
                  "6749  7.829515  0.027953   0.686441  0.101447  0.116131  0.248642   0.012729   \n",
                  "6750  8.008830  0.025523   0.649834  0.092210  0.167404  0.240115   0.010882   \n",
                  "\n",
                  "      TOTEXTTAU       SED         SZA        time    lat      lon     MERRA2  \n",
                  "0      0.238345  1.001993  162.125019  2023-09-28  13.75 -17.0625  45.461171  \n",
                  "1      0.213748  1.001993  162.614719  2023-09-28  13.75 -16.4375  29.468360  \n",
                  "2      0.209353  1.001993  163.096070  2023-09-28  13.75 -15.8125  22.454167  \n",
                  "3      0.221011  1.001993  163.568339  2023-09-28  13.75 -15.1875  18.998698  \n",
                  "4      0.228579  1.001993  164.030718  2023-09-28  13.75 -14.5625  19.410614  \n",
                  "...         ...       ...         ...         ...    ...      ...        ...  \n",
                  "6746   0.020327  1.001993   99.501249  2023-09-28  34.75  77.9375   1.636885  \n",
                  "6747   0.018737  1.001993   98.988311  2023-09-28  34.75  78.5625   1.340677  \n",
                  "6748   0.018878  1.001993   98.475230  2023-09-28  34.75  79.1875   1.206630  \n",
                  "6749   0.019206  1.001993   97.962023  2023-09-28  34.75  79.8125   1.170452  \n",
                  "6750   0.018592  1.001993   97.448714  2023-09-28  34.75  80.4375   1.108607  \n",
                  "\n",
                  "[6751 rows x 20 columns]\n",
                  "2.5616342941919963\n"
                ]
              },
              {
                "name": "stdout",
                "output_type": "stream",
                "text": [
                  "14/14 - 0s - 242ms/epoch - 17ms/step\n"
                ]
              },
              {
                "name": "stdout",
                "output_type": "stream",
                "text": [
                  "V1 Done\n",
                  "V2 DUSMASS25\n"
                ]
              },
              {
                "name": "stdout",
                "output_type": "stream",
                "text": [
                  "V2 OCSMASS\n"
                ]
              },
              {
                "name": "stdout",
                "output_type": "stream",
                "text": [
                  "V2 SO2SMASS\n"
                ]
              },
              {
                "name": "stdout",
                "output_type": "stream",
                "text": [
                  "V2 SO4SMASS\n"
                ]
              },
              {
                "name": "stdout",
                "output_type": "stream",
                "text": [
                  "V2 SSSMASS25\n"
                ]
              },
              {
                "name": "stdout",
                "output_type": "stream",
                "text": [
                  "V2 Done\n"
                ]
              },
              {
                "name": "stdout",
                "output_type": "stream",
                "text": [
                  "V3 DUSMASS25\n"
                ]
              },
              {
                "name": "stdout",
                "output_type": "stream",
                "text": [
                  "V3 OCSMASS\n",
                  "Skipping OCSMASS because the subset is empty.\n",
                  "V3 SO2SMASS\n"
                ]
              },
              {
                "name": "stdout",
                "output_type": "stream",
                "text": [
                  "V3 SO4SMASS\n",
                  "Skipping SO4SMASS because the subset is empty.\n",
                  "V3 SSSMASS25\n"
                ]
              },
              {
                "name": "stdout",
                "output_type": "stream",
                "text": [
                  "V3 Done\n"
                ]
              },
              {
                "name": "stdout",
                "output_type": "stream",
                "text": [
                  "V4 DUSMASS25\n"
                ]
              },
              {
                "name": "stdout",
                "output_type": "stream",
                "text": [
                  "V4 OCSMASS\n",
                  "Skipping OCSMASS because the subset is empty.\n",
                  "V4 SO2SMASS\n"
                ]
              },
              {
                "name": "stdout",
                "output_type": "stream",
                "text": [
                  "V4 SSSMASS25\n"
                ]
              },
              {
                "name": "stdout",
                "output_type": "stream",
                "text": [
                  "V4 wSO4\n"
                ]
              },
              {
                "name": "stdout",
                "output_type": "stream",
                "text": [
                  "V4 Done\n"
                ]
              },
              {
                "name": "stdout",
                "output_type": "stream",
                "text": [
                  "V5 CARBON\n",
                  "Skipping CARBON because the subset is empty.\n",
                  "V5 DUSMASS25\n"
                ]
              },
              {
                "name": "stdout",
                "output_type": "stream",
                "text": [
                  "V5 SSSMASS25\n"
                ]
              },
              {
                "name": "stdout",
                "output_type": "stream",
                "text": [
                  "V5 Sulfate\n"
                ]
              },
              {
                "name": "stdout",
                "output_type": "stream",
                "text": [
                  "V5 Done\n",
                  "[15.0, 19.0, 23.0]\n",
                  "Empty DataFrame\n",
                  "Columns: [PS, QV10M, Q500, T10M, T500, T850, WIND, BCSMASS, DUSMASS25, OCSMASS, SO2SMASS, SO4SMASS, SSSMASS25, TOTEXTTAU, SED, SZA, time, lat, lon, MERRA2, V1, V2_DS, V2, lat_lon, closest_lat_lon, lat_cats, lon_cats, V3_DS, lat_lon_cats, V3, lat_cats, lon_cats, V4_DS, lat_lon_cats, V4, lat_cats, lon_cats, V5_DS, lat_lon_cats, V5, Region]\n",
                  "Index: []\n",
                  "\n",
                  "[0 rows x 41 columns]\n"
                ]
              },
              {
                "name": "stdout",
                "output_type": "stream",
                "text": [
                  "V6 Done\n"
                ]
              },
              {
                "name": "stdout",
                "output_type": "stream",
                "text": [
                  "V7 Done\n"
                ]
              },
              {
                "name": "stdout",
                "output_type": "stream",
                "text": [
                  "V8 Done\n"
                ]
              },
              {
                "name": "stdout",
                "output_type": "stream",
                "text": [
                  "Data available for time: 7:30 UTC\n"
                ]
              },
              {
                "name": "stdout",
                "output_type": "stream",
                "text": [
                  "                PS      QV10M      Q500        T10M        T500        T850  \\\n",
                  "0     100971.15625  19.580654  1.428620  301.020752  268.553955  294.750000   \n",
                  "1     100851.15625  18.115810  1.518266  298.302002  268.655518  295.125000   \n",
                  "2     100675.15625  17.047695  1.492040  297.661377  268.944580  295.351562   \n",
                  "3     100547.15625  17.131618  1.346128  297.864502  269.350830  295.304688   \n",
                  "4     100499.15625  17.345242  1.564042  297.911377  269.366455  295.195312   \n",
                  "...            ...        ...       ...         ...         ...         ...   \n",
                  "6746   52723.15625   1.749329  1.388566  270.811768  265.456299  270.811768   \n",
                  "6747   52035.15625   1.375488  1.120107  272.022705  267.350830  272.022705   \n",
                  "6748   53635.15625   1.105122  0.870482  275.880127  268.694580  275.880127   \n",
                  "6749   54523.15625   0.979713  0.755565  277.821533  269.264893  277.821533   \n",
                  "6750   53067.15625   0.963263  0.779406  275.762939  269.483643  275.762939   \n",
                  "\n",
                  "           WIND   BCSMASS  DUSMASS25   OCSMASS  SO2SMASS  SO4SMASS  SSSMASS25  \\\n",
                  "0      2.401861  0.384944  33.425751  2.359322  2.763045  0.849946   9.727955   \n",
                  "1      1.489878  0.523642  20.714651  4.880441  1.740773  0.573914   3.905370   \n",
                  "2      1.445063  0.363457  15.628757  5.302447  0.974524  0.466594   1.323770   \n",
                  "3      1.484403  0.224134  13.660610  4.513006  0.639375  0.447836   0.405180   \n",
                  "4      1.359596  0.177977  14.017133  4.072810  0.350497  0.424416   0.520913   \n",
                  "...         ...       ...        ...       ...       ...       ...        ...   \n",
                  "6746   7.701807  0.041780   0.804675  0.151808  0.081144  0.263663   0.012935   \n",
                  "6747  10.117846  0.033254   0.657792  0.119407  0.067189  0.243768   0.009106   \n",
                  "6748   9.609791  0.028543   0.565933  0.106987  0.075175  0.233422   0.008644   \n",
                  "6749   8.698270  0.026255   0.564796  0.099796  0.106070  0.233081   0.009621   \n",
                  "6750   8.795167  0.024237   0.576392  0.090815  0.144610  0.228818   0.009489   \n",
                  "\n",
                  "      TOTEXTTAU       SED         SZA        time    lat      lon     MERRA2  \n",
                  "0      0.243847  1.001993  162.125019  2023-09-28  13.75 -17.0625  47.066646  \n",
                  "1      0.222668  1.001993  162.614719  2023-09-28  13.75 -16.4375  30.813237  \n",
                  "2      0.216503  1.001993  163.096070  2023-09-28  13.75 -15.8125  23.259997  \n",
                  "3      0.225170  1.001993  163.568339  2023-09-28  13.75 -15.1875  19.418703  \n",
                  "4      0.230053  1.001993  164.030718  2023-09-28  13.75 -14.5625  19.372405  \n",
                  "...         ...       ...         ...         ...    ...      ...        ...  \n",
                  "6746   0.019421  1.001993   99.501249  2023-09-28  34.75  77.9375   1.373735  \n",
                  "6747   0.018036  1.001993   98.988311  2023-09-28  34.75  78.5625   1.154739  \n",
                  "6748   0.018146  1.001993   98.475230  2023-09-28  34.75  79.1875   1.031062  \n",
                  "6749   0.018749  1.001993   97.962023  2023-09-28  34.75  79.8125   1.020954  \n",
                  "6750   0.018661  1.001993   97.448714  2023-09-28  34.75  80.4375   1.015558  \n",
                  "\n",
                  "[6751 rows x 20 columns]\n",
                  "2.9096028486887615\n"
                ]
              },
              {
                "name": "stdout",
                "output_type": "stream",
                "text": [
                  "14/14 - 0s - 381ms/epoch - 27ms/step\n"
                ]
              },
              {
                "name": "stdout",
                "output_type": "stream",
                "text": [
                  "V1 Done\n",
                  "V2 DUSMASS25\n"
                ]
              },
              {
                "name": "stdout",
                "output_type": "stream",
                "text": [
                  "V2 OCSMASS\n"
                ]
              },
              {
                "name": "stdout",
                "output_type": "stream",
                "text": [
                  "V2 SO2SMASS\n"
                ]
              },
              {
                "name": "stdout",
                "output_type": "stream",
                "text": [
                  "V2 SO4SMASS\n"
                ]
              },
              {
                "name": "stdout",
                "output_type": "stream",
                "text": [
                  "V2 SSSMASS25\n"
                ]
              },
              {
                "name": "stdout",
                "output_type": "stream",
                "text": [
                  "V2 Done\n"
                ]
              },
              {
                "name": "stdout",
                "output_type": "stream",
                "text": [
                  "V3 DUSMASS25\n"
                ]
              },
              {
                "name": "stdout",
                "output_type": "stream",
                "text": [
                  "V3 OCSMASS\n",
                  "Skipping OCSMASS because the subset is empty.\n",
                  "V3 SO2SMASS\n"
                ]
              },
              {
                "name": "stdout",
                "output_type": "stream",
                "text": [
                  "V3 SO4SMASS\n",
                  "Skipping SO4SMASS because the subset is empty.\n",
                  "V3 SSSMASS25\n"
                ]
              },
              {
                "name": "stdout",
                "output_type": "stream",
                "text": [
                  "V3 Done\n"
                ]
              },
              {
                "name": "stdout",
                "output_type": "stream",
                "text": [
                  "V4 DUSMASS25\n"
                ]
              },
              {
                "name": "stdout",
                "output_type": "stream",
                "text": [
                  "V4 OCSMASS\n",
                  "Skipping OCSMASS because the subset is empty.\n",
                  "V4 SO2SMASS\n"
                ]
              },
              {
                "name": "stdout",
                "output_type": "stream",
                "text": [
                  "V4 SSSMASS25\n"
                ]
              },
              {
                "name": "stdout",
                "output_type": "stream",
                "text": [
                  "V4 wSO4\n"
                ]
              },
              {
                "name": "stdout",
                "output_type": "stream",
                "text": [
                  "V4 Done\n"
                ]
              },
              {
                "name": "stdout",
                "output_type": "stream",
                "text": [
                  "V5 CARBON\n",
                  "Skipping CARBON because the subset is empty.\n",
                  "V5 DUSMASS25\n"
                ]
              },
              {
                "name": "stdout",
                "output_type": "stream",
                "text": [
                  "V5 SSSMASS25\n"
                ]
              },
              {
                "name": "stdout",
                "output_type": "stream",
                "text": [
                  "V5 Sulfate\n"
                ]
              },
              {
                "name": "stdout",
                "output_type": "stream",
                "text": [
                  "V5 Done\n",
                  "[15.0, 19.0, 23.0]\n",
                  "Empty DataFrame\n",
                  "Columns: [PS, QV10M, Q500, T10M, T500, T850, WIND, BCSMASS, DUSMASS25, OCSMASS, SO2SMASS, SO4SMASS, SSSMASS25, TOTEXTTAU, SED, SZA, time, lat, lon, MERRA2, V1, V2_DS, V2, lat_lon, closest_lat_lon, lat_cats, lon_cats, V3_DS, lat_lon_cats, V3, lat_cats, lon_cats, V4_DS, lat_lon_cats, V4, lat_cats, lon_cats, V5_DS, lat_lon_cats, V5, Region]\n",
                  "Index: []\n",
                  "\n",
                  "[0 rows x 41 columns]\n"
                ]
              },
              {
                "name": "stdout",
                "output_type": "stream",
                "text": [
                  "V6 Done\n"
                ]
              },
              {
                "name": "stdout",
                "output_type": "stream",
                "text": [
                  "V7 Done\n"
                ]
              },
              {
                "name": "stdout",
                "output_type": "stream",
                "text": [
                  "V8 Done\n"
                ]
              },
              {
                "name": "stdout",
                "output_type": "stream",
                "text": [
                  "Data available for time: 8:30 UTC\n"
                ]
              },
              {
                "name": "stdout",
                "output_type": "stream",
                "text": [
                  "                 PS      QV10M      Q500        T10M        T500        T850  \\\n",
                  "0     101022.695312  19.695045  1.406677  301.203430  268.646942  294.822174   \n",
                  "1     100902.695312  18.527748  1.387604  298.984680  268.811005  295.158112   \n",
                  "2     100734.695312  16.986610  1.307495  298.219055  269.123505  295.244049   \n",
                  "3     100614.695312  17.017128  1.354225  298.406555  269.381317  295.134674   \n",
                  "4     100574.695312  17.276527  1.649387  298.515930  269.357880  294.986237   \n",
                  "...             ...        ...       ...         ...         ...         ...   \n",
                  "6746   52686.695312   1.702549  1.324184  271.275696  266.080536  271.275696   \n",
                  "6747   52006.695312   1.381638  1.132019  272.125305  267.600067  272.125305   \n",
                  "6748   53598.695312   1.141312  0.909575  276.051086  269.029755  276.051086   \n",
                  "6749   54478.695312   0.970604  0.756510  278.293274  269.928192  278.293274   \n",
                  "6750   53014.695312   0.947954  0.759609  276.344055  270.287567  276.344055   \n",
                  "\n",
                  "           WIND   BCSMASS  DUSMASS25   OCSMASS  SO2SMASS  SO4SMASS  SSSMASS25  \\\n",
                  "0      2.342364  0.380056  34.546246  2.264799  2.911293  0.880658   9.898940   \n",
                  "1      1.812556  0.496585  22.271706  4.440310  1.812623  0.600761   4.449248   \n",
                  "2      2.013133  0.391538  15.781552  5.542618  1.037733  0.470248   1.510671   \n",
                  "3      1.880550  0.240676  13.504177  4.833212  0.670298  0.446602   0.445880   \n",
                  "4      1.425112  0.183946  13.595127  4.316619  0.361069  0.418066   0.491582   \n",
                  "...         ...       ...        ...       ...       ...       ...        ...   \n",
                  "6746   7.706370  0.038967   0.663704  0.140163  0.078046  0.253902   0.009429   \n",
                  "6747  10.164277  0.032714   0.541831  0.116487  0.067217  0.230710   0.006366   \n",
                  "6748  10.014938  0.027918   0.460091  0.105176  0.071339  0.219171   0.005363   \n",
                  "6749   9.411335  0.025040   0.458499  0.099463  0.096293  0.218261   0.006423   \n",
                  "6750   9.448506  0.023399   0.515229  0.092102  0.130626  0.218205   0.007716   \n",
                  "\n",
                  "      TOTEXTTAU       SED         SZA        time    lat      lon     MERRA2  \n",
                  "0      0.244297  1.001993  162.125019  2023-09-28  13.75 -17.0625  48.300946  \n",
                  "1      0.227878  1.001993  162.614719  2023-09-28  13.75 -16.4375  32.483896  \n",
                  "2      0.219517  1.001993  163.096070  2023-09-28  13.75 -15.8125  23.872970  \n",
                  "3      0.224705  1.001993  163.568339  2023-09-28  13.75 -15.1875  19.638022  \n",
                  "4      0.228977  1.001993  164.030718  2023-09-28  13.75 -14.5625  19.162115  \n",
                  "...         ...       ...         ...         ...    ...      ...        ...  \n",
                  "6746   0.018799  1.001993   99.501249  2023-09-28  34.75  77.9375   1.201378  \n",
                  "6747   0.017631  1.001993   98.988311  2023-09-28  34.75  78.5625   1.014626  \n",
                  "6748   0.017662  1.001993   98.475230  2023-09-28  34.75  79.1875   0.899907  \n",
                  "6749   0.018238  1.001993   97.962023  2023-09-28  34.75  79.8125   0.889535  \n",
                  "6750   0.018623  1.001993   97.448714  2023-09-28  34.75  80.4375   0.938477  \n",
                  "\n",
                  "[6751 rows x 20 columns]\n",
                  "3.2561859925587973\n"
                ]
              },
              {
                "name": "stdout",
                "output_type": "stream",
                "text": [
                  "14/14 - 0s - 262ms/epoch - 19ms/step\n"
                ]
              },
              {
                "name": "stdout",
                "output_type": "stream",
                "text": [
                  "V1 Done\n",
                  "V2 DUSMASS25\n"
                ]
              },
              {
                "name": "stdout",
                "output_type": "stream",
                "text": [
                  "V2 OCSMASS\n"
                ]
              },
              {
                "name": "stdout",
                "output_type": "stream",
                "text": [
                  "V2 SO2SMASS\n"
                ]
              },
              {
                "name": "stdout",
                "output_type": "stream",
                "text": [
                  "V2 SO4SMASS\n"
                ]
              },
              {
                "name": "stdout",
                "output_type": "stream",
                "text": [
                  "V2 SSSMASS25\n"
                ]
              },
              {
                "name": "stdout",
                "output_type": "stream",
                "text": [
                  "V2 Done\n"
                ]
              },
              {
                "name": "stdout",
                "output_type": "stream",
                "text": [
                  "V3 DUSMASS25\n"
                ]
              },
              {
                "name": "stdout",
                "output_type": "stream",
                "text": [
                  "V3 OCSMASS\n",
                  "Skipping OCSMASS because the subset is empty.\n",
                  "V3 SO2SMASS\n"
                ]
              },
              {
                "name": "stdout",
                "output_type": "stream",
                "text": [
                  "V3 SO4SMASS\n",
                  "Skipping SO4SMASS because the subset is empty.\n",
                  "V3 SSSMASS25\n"
                ]
              },
              {
                "name": "stdout",
                "output_type": "stream",
                "text": [
                  "V3 Done\n"
                ]
              },
              {
                "name": "stdout",
                "output_type": "stream",
                "text": [
                  "V4 DUSMASS25\n"
                ]
              },
              {
                "name": "stdout",
                "output_type": "stream",
                "text": [
                  "V4 OCSMASS\n",
                  "Skipping OCSMASS because the subset is empty.\n",
                  "V4 SO2SMASS\n"
                ]
              },
              {
                "name": "stdout",
                "output_type": "stream",
                "text": [
                  "V4 SSSMASS25\n"
                ]
              },
              {
                "name": "stdout",
                "output_type": "stream",
                "text": [
                  "V4 wSO4\n"
                ]
              },
              {
                "name": "stdout",
                "output_type": "stream",
                "text": [
                  "V4 Done\n"
                ]
              },
              {
                "name": "stdout",
                "output_type": "stream",
                "text": [
                  "V5 CARBON\n",
                  "Skipping CARBON because the subset is empty.\n",
                  "V5 DUSMASS25\n"
                ]
              },
              {
                "name": "stdout",
                "output_type": "stream",
                "text": [
                  "V5 SSSMASS25\n"
                ]
              },
              {
                "name": "stdout",
                "output_type": "stream",
                "text": [
                  "V5 Sulfate\n"
                ]
              },
              {
                "name": "stdout",
                "output_type": "stream",
                "text": [
                  "V5 Done\n",
                  "[15.0, 19.0, 23.0]\n",
                  "Empty DataFrame\n",
                  "Columns: [PS, QV10M, Q500, T10M, T500, T850, WIND, BCSMASS, DUSMASS25, OCSMASS, SO2SMASS, SO4SMASS, SSSMASS25, TOTEXTTAU, SED, SZA, time, lat, lon, MERRA2, V1, V2_DS, V2, lat_lon, closest_lat_lon, lat_cats, lon_cats, V3_DS, lat_lon_cats, V3, lat_cats, lon_cats, V4_DS, lat_lon_cats, V4, lat_cats, lon_cats, V5_DS, lat_lon_cats, V5, Region]\n",
                  "Index: []\n",
                  "\n",
                  "[0 rows x 41 columns]\n"
                ]
              },
              {
                "name": "stdout",
                "output_type": "stream",
                "text": [
                  "V6 Done\n"
                ]
              },
              {
                "name": "stdout",
                "output_type": "stream",
                "text": [
                  "V7 Done\n"
                ]
              },
              {
                "name": "stdout",
                "output_type": "stream",
                "text": [
                  "V8 Done\n"
                ]
              },
              {
                "name": "stdout",
                "output_type": "stream",
                "text": [
                  "Data available for time: 9:30 UTC\n"
                ]
              },
              {
                "name": "stdout",
                "output_type": "stream",
                "text": [
                  "                 PS      QV10M      Q500        T10M        T500        T850  \\\n",
                  "0     101073.007812  19.511856  1.365214  301.487518  268.780884  294.930420   \n",
                  "1     100945.007812  18.527664  1.330881  300.112518  268.960571  295.188232   \n",
                  "2     100785.007812  17.535843  1.260786  298.831268  269.265259  295.149170   \n",
                  "3     100673.007812  17.619766  1.440077  299.065643  269.374634  295.016357   \n",
                  "4     100625.007812  17.795242  1.685648  299.737518  269.374634  294.899170   \n",
                  "...             ...        ...       ...         ...         ...         ...   \n",
                  "6746   52665.007812   1.612343  1.188784  271.602753  266.679321  271.602753   \n",
                  "6747   52001.007812   1.361527  1.102953  272.087128  267.827759  272.087128   \n",
                  "6748   53593.007812   1.161255  0.929623  275.839081  269.109009  275.839081   \n",
                  "6749   54465.007812   0.976958  0.772505  278.311737  270.249634  278.311737   \n",
                  "6750   52993.007812   0.935473  0.744610  276.577362  270.835571  276.577362   \n",
                  "\n",
                  "          WIND   BCSMASS  DUSMASS25   OCSMASS  SO2SMASS  SO4SMASS  SSSMASS25  \\\n",
                  "0     2.530196  0.358568  35.186531  2.070010  2.944944  0.918842   9.873474   \n",
                  "1     1.980249  0.390855  23.683243  3.424248  1.671196  0.612342   4.787580   \n",
                  "2     1.943524  0.388127  15.577826  5.391485  0.998625  0.463640   1.650278   \n",
                  "3     1.579794  0.240561  13.049430  4.762114  0.631871  0.434195   0.483396   \n",
                  "4     0.952805  0.169393  14.766556  3.799869  0.342425  0.417255   0.676891   \n",
                  "...        ...       ...        ...       ...       ...       ...        ...   \n",
                  "6746  7.644116  0.033523   0.432578  0.117041  0.076625  0.235129   0.004754   \n",
                  "6747  9.908079  0.029019   0.253294  0.101039  0.066990  0.204206   0.001456   \n",
                  "6748  9.961625  0.024670   0.139778  0.090864  0.069747  0.185846   0.000434   \n",
                  "6749  9.838984  0.020918   0.085947  0.085919  0.089614  0.180275   0.000382   \n",
                  "6750  9.947266  0.018844   0.110674  0.079723  0.121247  0.178854   0.000675   \n",
                  "\n",
                  "      TOTEXTTAU       SED         SZA        time    lat      lon     MERRA2  \n",
                  "0      0.240890  1.001993  162.125019  2023-09-28  13.75 -17.0625  48.751991  \n",
                  "1      0.227463  1.001993  162.614719  2023-09-28  13.75 -16.4375  33.127895  \n",
                  "2      0.219711  1.001993  163.096070  2023-09-28  13.75 -15.8125  23.645219  \n",
                  "3      0.222946  1.001993  163.568339  2023-09-28  13.75 -15.1875  19.132520  \n",
                  "4      0.226303  1.001993  164.030718  2023-09-28  13.75 -14.5625  19.986436  \n",
                  "...         ...       ...         ...         ...    ...      ...        ...  \n",
                  "6746   0.017944  1.001993   99.501249  2023-09-28  34.75  77.9375   0.911198  \n",
                  "6747   0.016392  1.001993   98.988311  2023-09-28  34.75  78.5625   0.665591  \n",
                  "6748   0.015999  1.001993   98.475230  2023-09-28  34.75  79.1875   0.511284  \n",
                  "6749   0.016079  1.001993   97.962023  2023-09-28  34.75  79.8125   0.441045  \n",
                  "6750   0.016422  1.001993   97.448714  2023-09-28  34.75  80.4375   0.455839  \n",
                  "\n",
                  "[6751 rows x 20 columns]\n",
                  "3.6293049414952594\n"
                ]
              },
              {
                "name": "stdout",
                "output_type": "stream",
                "text": [
                  "14/14 - 0s - 389ms/epoch - 28ms/step\n"
                ]
              },
              {
                "name": "stdout",
                "output_type": "stream",
                "text": [
                  "V1 Done\n",
                  "V2 DUSMASS25\n"
                ]
              },
              {
                "name": "stdout",
                "output_type": "stream",
                "text": [
                  "V2 OCSMASS\n"
                ]
              },
              {
                "name": "stdout",
                "output_type": "stream",
                "text": [
                  "V2 SO2SMASS\n"
                ]
              },
              {
                "name": "stdout",
                "output_type": "stream",
                "text": [
                  "V2 SO4SMASS\n"
                ]
              },
              {
                "name": "stdout",
                "output_type": "stream",
                "text": [
                  "V2 SSSMASS25\n"
                ]
              },
              {
                "name": "stdout",
                "output_type": "stream",
                "text": [
                  "V2 Done\n"
                ]
              },
              {
                "name": "stdout",
                "output_type": "stream",
                "text": [
                  "V3 DUSMASS25\n"
                ]
              },
              {
                "name": "stdout",
                "output_type": "stream",
                "text": [
                  "V3 OCSMASS\n",
                  "Skipping OCSMASS because the subset is empty.\n",
                  "V3 SO2SMASS\n"
                ]
              },
              {
                "name": "stdout",
                "output_type": "stream",
                "text": [
                  "V3 SO4SMASS\n",
                  "Skipping SO4SMASS because the subset is empty.\n",
                  "V3 SSSMASS25\n"
                ]
              },
              {
                "name": "stdout",
                "output_type": "stream",
                "text": [
                  "V3 Done\n"
                ]
              },
              {
                "name": "stdout",
                "output_type": "stream",
                "text": [
                  "V4 DUSMASS25\n"
                ]
              },
              {
                "name": "stdout",
                "output_type": "stream",
                "text": [
                  "V4 OCSMASS\n",
                  "Skipping OCSMASS because the subset is empty.\n",
                  "V4 SO2SMASS\n"
                ]
              },
              {
                "name": "stdout",
                "output_type": "stream",
                "text": [
                  "V4 SSSMASS25\n"
                ]
              },
              {
                "name": "stdout",
                "output_type": "stream",
                "text": [
                  "V4 wSO4\n"
                ]
              },
              {
                "name": "stdout",
                "output_type": "stream",
                "text": [
                  "V4 Done\n"
                ]
              },
              {
                "name": "stdout",
                "output_type": "stream",
                "text": [
                  "V5 CARBON\n",
                  "Skipping CARBON because the subset is empty.\n",
                  "V5 DUSMASS25\n"
                ]
              },
              {
                "name": "stdout",
                "output_type": "stream",
                "text": [
                  "V5 SSSMASS25\n"
                ]
              },
              {
                "name": "stdout",
                "output_type": "stream",
                "text": [
                  "V5 Sulfate\n"
                ]
              },
              {
                "name": "stdout",
                "output_type": "stream",
                "text": [
                  "V5 Done\n",
                  "[15.0, 19.0, 23.0]\n",
                  "Empty DataFrame\n",
                  "Columns: [PS, QV10M, Q500, T10M, T500, T850, WIND, BCSMASS, DUSMASS25, OCSMASS, SO2SMASS, SO4SMASS, SSSMASS25, TOTEXTTAU, SED, SZA, time, lat, lon, MERRA2, V1, V2_DS, V2, lat_lon, closest_lat_lon, lat_cats, lon_cats, V3_DS, lat_lon_cats, V3, lat_cats, lon_cats, V4_DS, lat_lon_cats, V4, lat_cats, lon_cats, V5_DS, lat_lon_cats, V5, Region]\n",
                  "Index: []\n",
                  "\n",
                  "[0 rows x 41 columns]\n"
                ]
              },
              {
                "name": "stdout",
                "output_type": "stream",
                "text": [
                  "V6 Done\n"
                ]
              },
              {
                "name": "stdout",
                "output_type": "stream",
                "text": [
                  "V7 Done\n"
                ]
              },
              {
                "name": "stdout",
                "output_type": "stream",
                "text": [
                  "V8 Done\n"
                ]
              },
              {
                "name": "stdout",
                "output_type": "stream",
                "text": [
                  "Data available for time: 10:30 UTC\n"
                ]
              },
              {
                "name": "stdout",
                "output_type": "stream",
                "text": [
                  "                 PS      QV10M      Q500        T10M        T500        T850  \\\n",
                  "0     101096.273438  19.000629  1.344695  301.842346  268.922607  294.944061   \n",
                  "1     100968.273438  17.909626  1.384750  301.451721  269.063232  295.115936   \n",
                  "2     100816.273438  17.528156  1.378074  300.576721  269.274170  294.998749   \n",
                  "3     100696.273438  17.383198  1.602187  301.045471  269.313232  294.881561   \n",
                  "4     100648.273438  17.268757  1.662269  302.420471  269.414795  294.865936   \n",
                  "...             ...        ...       ...         ...         ...         ...   \n",
                  "6746   52656.273438   1.520733  1.076236  271.475159  266.989014  271.475159   \n",
                  "6747   51992.273438   1.315693  1.049056  271.772034  267.930420  271.772034   \n",
                  "6748   53592.273438   1.162152  0.932231  275.256409  269.008545  275.256409   \n",
                  "6749   54472.273438   0.992398  0.793471  277.721252  270.156982  277.721252   \n",
                  "6750   52992.273438   0.928025  0.736489  276.244690  270.985107  276.244690   \n",
                  "\n",
                  "          WIND   BCSMASS  DUSMASS25   OCSMASS  SO2SMASS  SO4SMASS  SSSMASS25  \\\n",
                  "0     2.414790  0.338787  34.691765  1.955416  2.741217  0.945042   9.436917   \n",
                  "1     2.028547  0.290584  23.304892  2.465643  1.378794  0.599434   4.441972   \n",
                  "2     1.989910  0.264208  16.079866  3.439711  0.874934  0.470968   1.886292   \n",
                  "3     1.429404  0.175760  14.220860  3.034986  0.602085  0.450163   0.729187   \n",
                  "4     0.326496  0.128921  18.218998  2.275558  0.356749  0.460622   1.165517   \n",
                  "...        ...       ...        ...       ...       ...       ...        ...   \n",
                  "6746  7.399099  0.029900   0.378350  0.101297  0.079012  0.226314   0.003949   \n",
                  "6747  9.407601  0.027235   0.246018  0.093140  0.069036  0.201246   0.001728   \n",
                  "6748  9.510815  0.024450   0.155922  0.087314  0.070628  0.181976   0.000899   \n",
                  "6749  9.724299  0.021380   0.096776  0.086404  0.088335  0.176007   0.000616   \n",
                  "6750  9.948904  0.019313   0.108372  0.083875  0.118860  0.176462   0.000668   \n",
                  "\n",
                  "      TOTEXTTAU       SED         SZA        time    lat      lon     MERRA2  \n",
                  "0      0.237924  1.001993  162.125019  2023-09-28  13.75 -17.0625  47.722319  \n",
                  "1      0.226267  1.001993  162.614719  2023-09-28  13.75 -16.4375  31.327312  \n",
                  "2      0.219431  1.001993  163.096070  2023-09-28  13.75 -15.8125  22.317659  \n",
                  "3      0.220712  1.001993  163.568339  2023-09-28  13.75 -15.1875  18.779767  \n",
                  "4      0.223093  1.001993  164.030718  2023-09-28  13.75 -14.5625  22.422350  \n",
                  "...         ...       ...         ...         ...    ...      ...        ...  \n",
                  "6746   0.017893  1.001993   99.501249  2023-09-28  34.75  77.9375   0.824677  \n",
                  "6747   0.016969  1.001993   98.988311  2023-09-28  34.75  78.5625   0.644835  \n",
                  "6748   0.016645  1.001993   98.475230  2023-09-28  34.75  79.1875   0.518802  \n",
                  "6749   0.016336  1.001993   97.962023  2023-09-28  34.75  79.8125   0.447187  \n",
                  "6750   0.016203  1.001993   97.448714  2023-09-28  34.75  80.4375   0.454863  \n",
                  "\n",
                  "[6751 rows x 20 columns]\n",
                  "3.969379186630249\n"
                ]
              },
              {
                "name": "stdout",
                "output_type": "stream",
                "text": [
                  "14/14 - 0s - 245ms/epoch - 17ms/step\n"
                ]
              },
              {
                "name": "stdout",
                "output_type": "stream",
                "text": [
                  "V1 Done\n",
                  "V2 DUSMASS25\n"
                ]
              },
              {
                "name": "stdout",
                "output_type": "stream",
                "text": [
                  "V2 OCSMASS\n"
                ]
              },
              {
                "name": "stdout",
                "output_type": "stream",
                "text": [
                  "V2 SO2SMASS\n"
                ]
              },
              {
                "name": "stdout",
                "output_type": "stream",
                "text": [
                  "V2 SO4SMASS\n"
                ]
              },
              {
                "name": "stdout",
                "output_type": "stream",
                "text": [
                  "V2 SSSMASS25\n"
                ]
              },
              {
                "name": "stdout",
                "output_type": "stream",
                "text": [
                  "V2 Done\n"
                ]
              },
              {
                "name": "stdout",
                "output_type": "stream",
                "text": [
                  "V3 DUSMASS25\n"
                ]
              },
              {
                "name": "stdout",
                "output_type": "stream",
                "text": [
                  "V3 OCSMASS\n",
                  "Skipping OCSMASS because the subset is empty.\n",
                  "V3 SO2SMASS\n"
                ]
              },
              {
                "name": "stdout",
                "output_type": "stream",
                "text": [
                  "V3 SO4SMASS\n",
                  "Skipping SO4SMASS because the subset is empty.\n",
                  "V3 SSSMASS25\n"
                ]
              },
              {
                "name": "stdout",
                "output_type": "stream",
                "text": [
                  "V3 Done\n"
                ]
              },
              {
                "name": "stdout",
                "output_type": "stream",
                "text": [
                  "V4 DUSMASS25\n"
                ]
              },
              {
                "name": "stdout",
                "output_type": "stream",
                "text": [
                  "V4 OCSMASS\n",
                  "Skipping OCSMASS because the subset is empty.\n",
                  "V4 SO2SMASS\n"
                ]
              },
              {
                "name": "stdout",
                "output_type": "stream",
                "text": [
                  "V4 SSSMASS25\n"
                ]
              },
              {
                "name": "stdout",
                "output_type": "stream",
                "text": [
                  "V4 wSO4\n"
                ]
              },
              {
                "name": "stdout",
                "output_type": "stream",
                "text": [
                  "V4 Done\n"
                ]
              },
              {
                "name": "stdout",
                "output_type": "stream",
                "text": [
                  "V5 CARBON\n",
                  "Skipping CARBON because the subset is empty.\n",
                  "V5 DUSMASS25\n"
                ]
              },
              {
                "name": "stdout",
                "output_type": "stream",
                "text": [
                  "V5 SSSMASS25\n"
                ]
              },
              {
                "name": "stdout",
                "output_type": "stream",
                "text": [
                  "V5 Sulfate\n"
                ]
              },
              {
                "name": "stdout",
                "output_type": "stream",
                "text": [
                  "V5 Done\n",
                  "[15.0, 19.0, 23.0]\n",
                  "Empty DataFrame\n",
                  "Columns: [PS, QV10M, Q500, T10M, T500, T850, WIND, BCSMASS, DUSMASS25, OCSMASS, SO2SMASS, SO4SMASS, SSSMASS25, TOTEXTTAU, SED, SZA, time, lat, lon, MERRA2, V1, V2_DS, V2, lat_lon, closest_lat_lon, lat_cats, lon_cats, V3_DS, lat_lon_cats, V3, lat_cats, lon_cats, V4_DS, lat_lon_cats, V4, lat_cats, lon_cats, V5_DS, lat_lon_cats, V5, Region]\n",
                  "Index: []\n",
                  "\n",
                  "[0 rows x 41 columns]\n"
                ]
              },
              {
                "name": "stdout",
                "output_type": "stream",
                "text": [
                  "V6 Done\n"
                ]
              },
              {
                "name": "stdout",
                "output_type": "stream",
                "text": [
                  "V7 Done\n"
                ]
              },
              {
                "name": "stdout",
                "output_type": "stream",
                "text": [
                  "V8 Done\n"
                ]
              },
              {
                "name": "stdout",
                "output_type": "stream",
                "text": [
                  "Data available for time: 11:30 UTC\n"
                ]
              },
              {
                "name": "stdout",
                "output_type": "stream",
                "text": [
                  "               PS      QV10M      Q500        T10M        T500        T850  \\\n",
                  "0     101076.3125  18.580963  1.334214  302.182190  269.052094  294.907349   \n",
                  "1     100956.3125  17.612030  1.515412  302.229065  269.114594  294.946411   \n",
                  "2     100796.3125  17.444183  1.596951  301.838440  269.208344  294.790161   \n",
                  "3     100676.3125  17.261078  1.827740  302.416565  269.223969  294.719849   \n",
                  "4     100612.3125  17.306854  1.638913  303.854065  269.403656  294.907349   \n",
                  "...           ...        ...       ...         ...         ...         ...   \n",
                  "6746   52652.3125   1.474907  1.047634  270.684143  266.962250  270.684143   \n",
                  "6747   51996.3125   1.275112  1.014256  270.861877  267.755219  270.861877   \n",
                  "6748   53604.3125   1.183083  0.933909  274.084534  268.708344  274.084534   \n",
                  "6749   54484.3125   1.077702  0.821375  276.287659  269.763031  276.287659   \n",
                  "6750   53004.3125   0.957777  0.743174  274.994690  270.708344  274.994690   \n",
                  "\n",
                  "          WIND   BCSMASS  DUSMASS25   OCSMASS  SO2SMASS  SO4SMASS  SSSMASS25  \\\n",
                  "0     2.140551  0.326736  33.556717  1.906305  2.372872  0.958692   8.913048   \n",
                  "1     1.926159  0.251134  22.613676  2.107303  1.191893  0.594894   4.041794   \n",
                  "2     1.692645  0.210207  16.181730  2.659367  0.783984  0.475978   1.844000   \n",
                  "3     0.765069  0.149385  15.723345  2.374695  0.550017  0.467565   0.969521   \n",
                  "4     0.565133  0.118348  18.917490  1.933590  0.326963  0.477342   1.297394   \n",
                  "...        ...       ...        ...       ...       ...       ...        ...   \n",
                  "6746  6.477654  0.028045   0.336627  0.093910  0.087226  0.216999   0.003621   \n",
                  "6747  8.337758  0.025388   0.219927  0.085383  0.075119  0.195228   0.001901   \n",
                  "6748  8.264973  0.023341   0.154557  0.080949  0.075687  0.176697   0.001180   \n",
                  "6749  8.219543  0.021075   0.095895  0.081944  0.097685  0.168682   0.000794   \n",
                  "6750  8.472635  0.019206   0.078586  0.082910  0.132275  0.169023   0.000627   \n",
                  "\n",
                  "      TOTEXTTAU       SED         SZA        time    lat      lon     MERRA2  \n",
                  "0      0.237429  1.001993  162.125019  2023-09-28  13.75 -17.0625  46.021007  \n",
                  "1      0.227663  1.001993  162.614719  2023-09-28  13.75 -16.4375  29.831888  \n",
                  "2      0.221071  1.001993  163.096070  2023-09-28  13.75 -15.8125  21.549773  \n",
                  "3      0.220217  1.001993  163.568339  2023-09-28  13.75 -15.1875  19.859847  \n",
                  "4      0.221865  1.001993  164.030718  2023-09-28  13.75 -14.5625  22.923167  \n",
                  "...         ...       ...         ...         ...    ...      ...        ...  \n",
                  "6746   0.017157  1.001993   99.501249  2023-09-28  34.75  77.9375   0.760576  \n",
                  "6747   0.016634  1.001993   98.988311  2023-09-28  34.75  78.5625   0.601037  \n",
                  "6748   0.016859  1.001993   98.475230  2023-09-28  34.75  79.1875   0.502987  \n",
                  "6749   0.016859  1.001993   97.962023  2023-09-28  34.75  79.8125   0.431645  \n",
                  "6750   0.016588  1.001993   97.448714  2023-09-28  34.75  80.4375   0.413736  \n",
                  "\n",
                  "[6751 rows x 20 columns]\n",
                  "4.303255681196848\n"
                ]
              },
              {
                "name": "stdout",
                "output_type": "stream",
                "text": [
                  "14/14 - 0s - 419ms/epoch - 30ms/step\n"
                ]
              },
              {
                "name": "stdout",
                "output_type": "stream",
                "text": [
                  "V1 Done\n",
                  "V2 DUSMASS25\n"
                ]
              },
              {
                "name": "stdout",
                "output_type": "stream",
                "text": [
                  "V2 OCSMASS\n"
                ]
              },
              {
                "name": "stdout",
                "output_type": "stream",
                "text": [
                  "V2 SO2SMASS\n"
                ]
              },
              {
                "name": "stdout",
                "output_type": "stream",
                "text": [
                  "V2 SO4SMASS\n"
                ]
              },
              {
                "name": "stdout",
                "output_type": "stream",
                "text": [
                  "V2 SSSMASS25\n"
                ]
              },
              {
                "name": "stdout",
                "output_type": "stream",
                "text": [
                  "V2 Done\n"
                ]
              },
              {
                "name": "stdout",
                "output_type": "stream",
                "text": [
                  "V3 DUSMASS25\n"
                ]
              },
              {
                "name": "stdout",
                "output_type": "stream",
                "text": [
                  "V3 OCSMASS\n",
                  "Skipping OCSMASS because the subset is empty.\n",
                  "V3 SO2SMASS\n"
                ]
              },
              {
                "name": "stdout",
                "output_type": "stream",
                "text": [
                  "V3 SO4SMASS\n",
                  "Skipping SO4SMASS because the subset is empty.\n",
                  "V3 SSSMASS25\n"
                ]
              },
              {
                "name": "stdout",
                "output_type": "stream",
                "text": [
                  "V3 Done\n"
                ]
              },
              {
                "name": "stdout",
                "output_type": "stream",
                "text": [
                  "V4 DUSMASS25\n"
                ]
              },
              {
                "name": "stdout",
                "output_type": "stream",
                "text": [
                  "V4 OCSMASS\n",
                  "Skipping OCSMASS because the subset is empty.\n",
                  "V4 SO2SMASS\n"
                ]
              },
              {
                "name": "stdout",
                "output_type": "stream",
                "text": [
                  "V4 SSSMASS25\n"
                ]
              },
              {
                "name": "stdout",
                "output_type": "stream",
                "text": [
                  "V4 wSO4\n"
                ]
              },
              {
                "name": "stdout",
                "output_type": "stream",
                "text": [
                  "V4 Done\n"
                ]
              },
              {
                "name": "stdout",
                "output_type": "stream",
                "text": [
                  "V5 CARBON\n",
                  "Skipping CARBON because the subset is empty.\n",
                  "V5 DUSMASS25\n"
                ]
              },
              {
                "name": "stdout",
                "output_type": "stream",
                "text": [
                  "V5 SSSMASS25\n"
                ]
              },
              {
                "name": "stdout",
                "output_type": "stream",
                "text": [
                  "V5 Sulfate\n"
                ]
              },
              {
                "name": "stdout",
                "output_type": "stream",
                "text": [
                  "V5 Done\n",
                  "[15.0, 19.0, 23.0]\n",
                  "Empty DataFrame\n",
                  "Columns: [PS, QV10M, Q500, T10M, T500, T850, WIND, BCSMASS, DUSMASS25, OCSMASS, SO2SMASS, SO4SMASS, SSSMASS25, TOTEXTTAU, SED, SZA, time, lat, lon, MERRA2, V1, V2_DS, V2, lat_lon, closest_lat_lon, lat_cats, lon_cats, V3_DS, lat_lon_cats, V3, lat_cats, lon_cats, V4_DS, lat_lon_cats, V4, lat_cats, lon_cats, V5_DS, lat_lon_cats, V5, Region]\n",
                  "Index: []\n",
                  "\n",
                  "[0 rows x 41 columns]\n"
                ]
              },
              {
                "name": "stdout",
                "output_type": "stream",
                "text": [
                  "V6 Done\n"
                ]
              },
              {
                "name": "stdout",
                "output_type": "stream",
                "text": [
                  "V7 Done\n"
                ]
              },
              {
                "name": "stdout",
                "output_type": "stream",
                "text": [
                  "V8 Done\n"
                ]
              },
              {
                "name": "stdout",
                "output_type": "stream",
                "text": [
                  "Data available for time: 12:30 UTC\n"
                ]
              },
              {
                "name": "stdout",
                "output_type": "stream",
                "text": [
                  "                 PS      QV10M      Q500        T10M        T500        T850  \\\n",
                  "0     101022.257812  18.168756  1.372418  302.531982  269.155365  294.843048   \n",
                  "1     100902.257812  17.596552  1.736721  302.781982  269.100677  294.788361   \n",
                  "2     100742.257812  17.390558  1.879296  302.750732  269.061615  294.647736   \n",
                  "3     100614.257812  17.237970  2.061924  303.516357  269.077240  294.733673   \n",
                  "4     100542.257812  17.611811  1.698097  304.547607  269.264740  295.061798   \n",
                  "...             ...        ...       ...         ...         ...         ...   \n",
                  "6746   52662.257812   1.503775  1.080593  268.737061  266.670990  268.737061   \n",
                  "6747   52014.257812   1.285383  1.017651  268.578857  267.354584  268.578857   \n",
                  "6748   53622.257812   1.358339  0.939688  270.655029  268.295990  270.655029   \n",
                  "6749   54510.257812   1.362154  0.851473  271.936279  269.280365  271.936279   \n",
                  "6750   53030.257812   1.137564  0.773749  271.127686  270.217865  271.127686   \n",
                  "\n",
                  "          WIND   BCSMASS  DUSMASS25   OCSMASS  SO2SMASS  SO4SMASS  SSSMASS25  \\\n",
                  "0     1.953347  0.313094  31.621311  1.862653  1.983608  0.949992   8.138159   \n",
                  "1     1.673732  0.227942  22.664608  1.936322  1.022272  0.603020   3.748937   \n",
                  "2     1.176813  0.183775  18.611900  2.261921  0.691216  0.521393   2.117304   \n",
                  "3     0.092465  0.135288  19.776052  2.010900  0.474301  0.535490   1.634817   \n",
                  "4     1.070018  0.116160  22.751919  1.788529  0.291493  0.547541   1.864464   \n",
                  "...        ...       ...        ...       ...       ...       ...        ...   \n",
                  "6746  4.237513  0.028429   0.317755  0.097807  0.101608  0.212335   0.003423   \n",
                  "6747  5.441767  0.025246   0.199520  0.084307  0.086942  0.189882   0.002061   \n",
                  "6748  5.056863  0.023335   0.146542  0.079276  0.089159  0.172260   0.001337   \n",
                  "6749  5.107250  0.020997   0.099533  0.077912  0.134435  0.163393   0.000917   \n",
                  "6750  5.373194  0.019242   0.063977  0.079844  0.202590  0.163052   0.000634   \n",
                  "\n",
                  "      TOTEXTTAU       SED         SZA        time    lat      lon     MERRA2  \n",
                  "0      0.236652  1.001993  162.125019  2023-09-28  13.75 -17.0625  43.241456  \n",
                  "1      0.239520  1.001993  162.614719  2023-09-28  13.75 -16.4375  29.406962  \n",
                  "2      0.240924  1.001993  163.096070  2023-09-28  13.75 -15.8125  23.891814  \n",
                  "3      0.247028  1.001993  163.568339  2023-09-28  13.75 -15.1875  24.293356  \n",
                  "4      0.251971  1.001993  164.030718  2023-09-28  13.75 -14.5625  27.273941  \n",
                  "...         ...       ...         ...         ...    ...      ...        ...  \n",
                  "6746   0.016799  1.001993   99.501249  2023-09-28  34.75  77.9375   0.739374  \n",
                  "6747   0.016185  1.001993   98.988311  2023-09-28  34.75  78.5625   0.572221  \n",
                  "6748   0.016406  1.001993   98.475230  2023-09-28  34.75  79.1875   0.487348  \n",
                  "6749   0.016551  1.001993   97.962023  2023-09-28  34.75  79.8125   0.424024  \n",
                  "6750   0.016418  1.001993   97.448714  2023-09-28  34.75  80.4375   0.387894  \n",
                  "\n",
                  "[6751 rows x 20 columns]\n",
                  "4.635336224238078\n"
                ]
              },
              {
                "name": "stdout",
                "output_type": "stream",
                "text": [
                  "14/14 - 0s - 247ms/epoch - 18ms/step\n"
                ]
              },
              {
                "name": "stdout",
                "output_type": "stream",
                "text": [
                  "V1 Done\n",
                  "V2 DUSMASS25\n"
                ]
              },
              {
                "name": "stdout",
                "output_type": "stream",
                "text": [
                  "V2 OCSMASS\n"
                ]
              },
              {
                "name": "stdout",
                "output_type": "stream",
                "text": [
                  "V2 SO2SMASS\n"
                ]
              },
              {
                "name": "stdout",
                "output_type": "stream",
                "text": [
                  "V2 SO4SMASS\n"
                ]
              },
              {
                "name": "stdout",
                "output_type": "stream",
                "text": [
                  "V2 SSSMASS25\n"
                ]
              },
              {
                "name": "stdout",
                "output_type": "stream",
                "text": [
                  "V2 Done\n"
                ]
              },
              {
                "name": "stdout",
                "output_type": "stream",
                "text": [
                  "V3 DUSMASS25\n"
                ]
              },
              {
                "name": "stdout",
                "output_type": "stream",
                "text": [
                  "V3 OCSMASS\n",
                  "Skipping OCSMASS because the subset is empty.\n",
                  "V3 SO2SMASS\n"
                ]
              },
              {
                "name": "stdout",
                "output_type": "stream",
                "text": [
                  "V3 SO4SMASS\n",
                  "Skipping SO4SMASS because the subset is empty.\n",
                  "V3 SSSMASS25\n"
                ]
              },
              {
                "name": "stdout",
                "output_type": "stream",
                "text": [
                  "V3 Done\n"
                ]
              },
              {
                "name": "stdout",
                "output_type": "stream",
                "text": [
                  "V4 DUSMASS25\n"
                ]
              },
              {
                "name": "stdout",
                "output_type": "stream",
                "text": [
                  "V4 OCSMASS\n",
                  "Skipping OCSMASS because the subset is empty.\n",
                  "V4 SO2SMASS\n"
                ]
              },
              {
                "name": "stdout",
                "output_type": "stream",
                "text": [
                  "V4 SSSMASS25\n"
                ]
              },
              {
                "name": "stdout",
                "output_type": "stream",
                "text": [
                  "V4 wSO4\n"
                ]
              },
              {
                "name": "stdout",
                "output_type": "stream",
                "text": [
                  "V4 Done\n"
                ]
              },
              {
                "name": "stdout",
                "output_type": "stream",
                "text": [
                  "V5 CARBON\n",
                  "Skipping CARBON because the subset is empty.\n",
                  "V5 DUSMASS25\n"
                ]
              },
              {
                "name": "stdout",
                "output_type": "stream",
                "text": [
                  "V5 SSSMASS25\n"
                ]
              },
              {
                "name": "stdout",
                "output_type": "stream",
                "text": [
                  "V5 Sulfate\n"
                ]
              },
              {
                "name": "stdout",
                "output_type": "stream",
                "text": [
                  "V5 Done\n",
                  "[15.0, 19.0, 23.0]\n",
                  "Empty DataFrame\n",
                  "Columns: [PS, QV10M, Q500, T10M, T500, T850, WIND, BCSMASS, DUSMASS25, OCSMASS, SO2SMASS, SO4SMASS, SSSMASS25, TOTEXTTAU, SED, SZA, time, lat, lon, MERRA2, V1, V2_DS, V2, lat_lon, closest_lat_lon, lat_cats, lon_cats, V3_DS, lat_lon_cats, V3, lat_cats, lon_cats, V4_DS, lat_lon_cats, V4, lat_cats, lon_cats, V5_DS, lat_lon_cats, V5, Region]\n",
                  "Index: []\n",
                  "\n",
                  "[0 rows x 41 columns]\n"
                ]
              },
              {
                "name": "stdout",
                "output_type": "stream",
                "text": [
                  "V6 Done\n"
                ]
              },
              {
                "name": "stdout",
                "output_type": "stream",
                "text": [
                  "V7 Done\n"
                ]
              },
              {
                "name": "stdout",
                "output_type": "stream",
                "text": [
                  "V8 Done\n"
                ]
              },
              {
                "name": "stdout",
                "output_type": "stream",
                "text": [
                  "Data available for time: 13:30 UTC\n"
                ]
              },
              {
                "name": "stdout",
                "output_type": "stream",
                "text": [
                  "                 PS      QV10M      Q500        T10M        T500        T850  \\\n",
                  "0     100956.507812  17.741274  1.465938  302.870300  269.179138  294.804993   \n",
                  "1     100828.507812  17.603945  1.999995  303.182800  268.999451  294.711243   \n",
                  "2     100660.507812  17.466616  2.174518  303.339050  268.835388  294.734680   \n",
                  "3     100524.507812  17.397951  2.290866  304.057800  268.874451  294.976868   \n",
                  "4     100460.507812  17.962526  1.877448  304.745300  269.015076  295.265930   \n",
                  "...             ...        ...       ...         ...         ...         ...   \n",
                  "6746   52700.507812   1.617502  1.199386  267.611511  266.226013  267.611511   \n",
                  "6747   52044.507812   1.440118  1.076362  267.093933  266.890076  267.093933   \n",
                  "6748   53660.507812   1.442979  0.973842  268.903503  267.890076  268.903503   \n",
                  "6749   54556.507812   1.433442  0.898740  270.020691  268.804138  270.020691   \n",
                  "6750   53068.507812   1.264165  0.836989  269.383972  269.616638  269.383972   \n",
                  "\n",
                  "          WIND   BCSMASS  DUSMASS25   OCSMASS  SO2SMASS  SO4SMASS  SSSMASS25  \\\n",
                  "0     1.772828  0.300702  30.006050  1.835830  1.644821  0.934121   7.368726   \n",
                  "1     1.431652  0.214073  21.886080  1.879031  0.894261  0.595789   3.300556   \n",
                  "2     0.840339  0.172463  18.590073  2.151879  0.623231  0.521438   1.913577   \n",
                  "3     0.208970  0.130115  19.812433  1.956338  0.422347  0.530532   1.479293   \n",
                  "4     1.175455  0.115904  22.162567  1.827644  0.272848  0.537126   1.636181   \n",
                  "...        ...       ...        ...       ...       ...       ...        ...   \n",
                  "6746  3.489787  0.030227   0.320824  0.109438  0.118121  0.211811   0.003284   \n",
                  "6747  4.094497  0.026383   0.187640  0.090026  0.102602  0.186857   0.002088   \n",
                  "6748  4.417703  0.024479   0.136424  0.082580  0.104905  0.169292   0.001422   \n",
                  "6749  4.761994  0.021445   0.104052  0.076668  0.169791  0.160027   0.001026   \n",
                  "6750  4.834640  0.019626   0.065143  0.076895  0.277282  0.159913   0.000697   \n",
                  "\n",
                  "      TOTEXTTAU       SED         SZA        time    lat      lon     MERRA2  \n",
                  "0      0.241853  1.001993  162.125019  2023-09-28  13.75 -17.0625  40.795723  \n",
                  "1      0.244660  1.001993  162.614719  2023-09-28  13.75 -16.4375  28.098950  \n",
                  "2      0.243257  1.001993  163.096070  2023-09-28  13.75 -15.8125  23.544968  \n",
                  "3      0.247529  1.001993  163.568339  2023-09-28  13.75 -15.1875  24.107661  \n",
                  "4      0.248872  1.001993  164.030718  2023-09-28  13.75 -14.5625  26.480845  \n",
                  "...         ...       ...         ...         ...    ...      ...        ...  \n",
                  "6746   0.016332  1.001993   99.501249  2023-09-28  34.75  77.9375   0.755014  \n",
                  "6747   0.015821  1.001993   98.988311  2023-09-28  34.75  78.5625   0.563066  \n",
                  "6748   0.016091  1.001993   98.475230  2023-09-28  34.75  79.1875   0.477682  \n",
                  "6749   0.016175  1.001993   97.962023  2023-09-28  34.75  79.8125   0.423228  \n",
                  "6750   0.015962  1.001993   97.448714  2023-09-28  34.75  80.4375   0.382241  \n",
                  "\n",
                  "[6751 rows x 20 columns]\n",
                  "4.954943780104319\n"
                ]
              },
              {
                "name": "stdout",
                "output_type": "stream",
                "text": [
                  "14/14 - 0s - 257ms/epoch - 18ms/step\n"
                ]
              },
              {
                "name": "stdout",
                "output_type": "stream",
                "text": [
                  "V1 Done\n",
                  "V2 DUSMASS25\n"
                ]
              },
              {
                "name": "stdout",
                "output_type": "stream",
                "text": [
                  "V2 OCSMASS\n"
                ]
              },
              {
                "name": "stdout",
                "output_type": "stream",
                "text": [
                  "V2 SO2SMASS\n"
                ]
              },
              {
                "name": "stdout",
                "output_type": "stream",
                "text": [
                  "V2 SO4SMASS\n"
                ]
              },
              {
                "name": "stdout",
                "output_type": "stream",
                "text": [
                  "V2 SSSMASS25\n"
                ]
              },
              {
                "name": "stdout",
                "output_type": "stream",
                "text": [
                  "V2 Done\n"
                ]
              },
              {
                "name": "stdout",
                "output_type": "stream",
                "text": [
                  "V3 DUSMASS25\n"
                ]
              },
              {
                "name": "stdout",
                "output_type": "stream",
                "text": [
                  "V3 OCSMASS\n",
                  "Skipping OCSMASS because the subset is empty.\n",
                  "V3 SO2SMASS\n"
                ]
              },
              {
                "name": "stdout",
                "output_type": "stream",
                "text": [
                  "V3 SO4SMASS\n",
                  "Skipping SO4SMASS because the subset is empty.\n",
                  "V3 SSSMASS25\n"
                ]
              },
              {
                "name": "stdout",
                "output_type": "stream",
                "text": [
                  "V3 Done\n"
                ]
              },
              {
                "name": "stdout",
                "output_type": "stream",
                "text": [
                  "V4 DUSMASS25\n"
                ]
              },
              {
                "name": "stdout",
                "output_type": "stream",
                "text": [
                  "V4 OCSMASS\n",
                  "Skipping OCSMASS because the subset is empty.\n",
                  "V4 SO2SMASS\n"
                ]
              },
              {
                "name": "stdout",
                "output_type": "stream",
                "text": [
                  "V4 SSSMASS25\n"
                ]
              },
              {
                "name": "stdout",
                "output_type": "stream",
                "text": [
                  "V4 wSO4\n"
                ]
              },
              {
                "name": "stdout",
                "output_type": "stream",
                "text": [
                  "V4 Done\n"
                ]
              },
              {
                "name": "stdout",
                "output_type": "stream",
                "text": [
                  "V5 CARBON\n",
                  "Skipping CARBON because the subset is empty.\n",
                  "V5 DUSMASS25\n"
                ]
              },
              {
                "name": "stdout",
                "output_type": "stream",
                "text": [
                  "V5 SSSMASS25\n"
                ]
              },
              {
                "name": "stdout",
                "output_type": "stream",
                "text": [
                  "V5 Sulfate\n"
                ]
              },
              {
                "name": "stdout",
                "output_type": "stream",
                "text": [
                  "V5 Done\n",
                  "[15.0, 19.0, 23.0]\n",
                  "Empty DataFrame\n",
                  "Columns: [PS, QV10M, Q500, T10M, T500, T850, WIND, BCSMASS, DUSMASS25, OCSMASS, SO2SMASS, SO4SMASS, SSSMASS25, TOTEXTTAU, SED, SZA, time, lat, lon, MERRA2, V1, V2_DS, V2, lat_lon, closest_lat_lon, lat_cats, lon_cats, V3_DS, lat_lon_cats, V3, lat_cats, lon_cats, V4_DS, lat_lon_cats, V4, lat_cats, lon_cats, V5_DS, lat_lon_cats, V5, Region]\n",
                  "Index: []\n",
                  "\n",
                  "[0 rows x 41 columns]\n"
                ]
              },
              {
                "name": "stdout",
                "output_type": "stream",
                "text": [
                  "V6 Done\n"
                ]
              },
              {
                "name": "stdout",
                "output_type": "stream",
                "text": [
                  "V7 Done\n"
                ]
              },
              {
                "name": "stdout",
                "output_type": "stream",
                "text": [
                  "V8 Done\n"
                ]
              },
              {
                "name": "stdout",
                "output_type": "stream",
                "text": [
                  "Data available for time: 14:30 UTC\n"
                ]
              },
              {
                "name": "stdout",
                "output_type": "stream",
                "text": [
                  "                 PS      QV10M      Q500        T10M        T500        T850  \\\n",
                  "0     100888.617188  17.489351  1.605200  303.092102  269.106812  294.810730   \n",
                  "1     100752.617188  17.672457  2.217459  303.404602  268.841187  294.779480   \n",
                  "2     100584.617188  17.550386  2.452063  303.670227  268.598999  295.029480   \n",
                  "3     100448.617188  17.580904  2.523588  304.279602  268.614624  295.302917   \n",
                  "4     100384.617188  18.229403  2.159285  304.810852  268.716187  295.451355   \n",
                  "...             ...        ...       ...         ...         ...         ...   \n",
                  "6746   52744.617188   1.726069  1.372980  267.333313  265.669312  267.333313   \n",
                  "6747   52088.617188   1.505293  1.204180  266.897766  266.403687  266.897766   \n",
                  "6748   53704.617188   1.497187  1.049685  268.467102  267.473999  268.467102   \n",
                  "6749   54608.617188   1.507200  0.959563  269.342102  268.356812  269.342102   \n",
                  "6750   53120.617188   1.356520  0.903057  268.652649  268.958374  268.652649   \n",
                  "\n",
                  "          WIND   BCSMASS  DUSMASS25   OCSMASS  SO2SMASS  SO4SMASS  SSSMASS25  \\\n",
                  "0     1.582815  0.294678  28.732758  1.841290  1.401986  0.920056   6.742994   \n",
                  "1     1.214330  0.206400  21.347660  1.868120  0.808313  0.591729   2.976776   \n",
                  "2     0.653507  0.166326  18.510036  2.120960  0.576620  0.523517   1.767603   \n",
                  "3     0.258830  0.129150  19.674189  1.974531  0.390742  0.529201   1.401531   \n",
                  "4     1.012827  0.116758  21.813320  1.874486  0.260457  0.533976   1.546596   \n",
                  "...        ...       ...        ...       ...       ...       ...        ...   \n",
                  "6746  3.379514  0.032758   0.358568  0.124391  0.136367  0.216505   0.003485   \n",
                  "6747  4.024934  0.027777   0.187526  0.099437  0.121304  0.186720   0.002132   \n",
                  "6748  4.288798  0.025851   0.126590  0.088239  0.123976  0.166597   0.001468   \n",
                  "6749  4.535487  0.022064   0.101693  0.077495  0.200771  0.155910   0.001087   \n",
                  "6750  4.730127  0.019954   0.069917  0.074568  0.330260  0.156763   0.000784   \n",
                  "\n",
                  "      TOTEXTTAU       SED         SZA        time    lat      lon     MERRA2  \n",
                  "0      0.247868  1.001993  162.125019  2023-09-28  13.75 -17.0625  38.876796  \n",
                  "1      0.247197  1.001993  162.614719  2023-09-28  13.75 -16.4375  27.212583  \n",
                  "2      0.243230  1.001993  163.096070  2023-09-28  13.75 -15.8125  23.284760  \n",
                  "3      0.243840  1.001993  163.568339  2023-09-28  13.75 -15.1875  23.907053  \n",
                  "4      0.242192  1.001993  164.030718  2023-09-28  13.75 -14.5625  26.085378  \n",
                  "...         ...       ...         ...         ...    ...      ...        ...  \n",
                  "6746   0.016297  1.001993   99.501249  2023-09-28  34.75  77.9375   0.816898  \n",
                  "6747   0.015530  1.001993   98.988311  2023-09-28  34.75  78.5625   0.573611  \n",
                  "6748   0.015836  1.001993   98.475230  2023-09-28  34.75  79.1875   0.471220  \n",
                  "6749   0.015855  1.001993   97.962023  2023-09-28  34.75  79.8125   0.416716  \n",
                  "6750   0.015431  1.001993   97.448714  2023-09-28  34.75  80.4375   0.380773  \n",
                  "\n",
                  "[6751 rows x 20 columns]\n",
                  "5.3132947325706485\n"
                ]
              },
              {
                "name": "stdout",
                "output_type": "stream",
                "text": [
                  "14/14 - 0s - 251ms/epoch - 18ms/step\n"
                ]
              },
              {
                "name": "stdout",
                "output_type": "stream",
                "text": [
                  "V1 Done\n",
                  "V2 DUSMASS25\n"
                ]
              },
              {
                "name": "stdout",
                "output_type": "stream",
                "text": [
                  "V2 OCSMASS\n"
                ]
              },
              {
                "name": "stdout",
                "output_type": "stream",
                "text": [
                  "V2 SO2SMASS\n"
                ]
              },
              {
                "name": "stdout",
                "output_type": "stream",
                "text": [
                  "V2 SO4SMASS\n"
                ]
              },
              {
                "name": "stdout",
                "output_type": "stream",
                "text": [
                  "V2 SSSMASS25\n"
                ]
              },
              {
                "name": "stdout",
                "output_type": "stream",
                "text": [
                  "V2 Done\n"
                ]
              },
              {
                "name": "stdout",
                "output_type": "stream",
                "text": [
                  "V3 DUSMASS25\n"
                ]
              },
              {
                "name": "stdout",
                "output_type": "stream",
                "text": [
                  "V3 OCSMASS\n",
                  "Skipping OCSMASS because the subset is empty.\n",
                  "V3 SO2SMASS\n"
                ]
              },
              {
                "name": "stdout",
                "output_type": "stream",
                "text": [
                  "V3 SO4SMASS\n",
                  "Skipping SO4SMASS because the subset is empty.\n",
                  "V3 SSSMASS25\n"
                ]
              },
              {
                "name": "stdout",
                "output_type": "stream",
                "text": [
                  "V3 Done\n"
                ]
              },
              {
                "name": "stdout",
                "output_type": "stream",
                "text": [
                  "V4 DUSMASS25\n"
                ]
              },
              {
                "name": "stdout",
                "output_type": "stream",
                "text": [
                  "V4 OCSMASS\n",
                  "Skipping OCSMASS because the subset is empty.\n",
                  "V4 SO2SMASS\n"
                ]
              },
              {
                "name": "stdout",
                "output_type": "stream",
                "text": [
                  "V4 SSSMASS25\n"
                ]
              },
              {
                "name": "stdout",
                "output_type": "stream",
                "text": [
                  "V4 wSO4\n"
                ]
              },
              {
                "name": "stdout",
                "output_type": "stream",
                "text": [
                  "V4 Done\n"
                ]
              },
              {
                "name": "stdout",
                "output_type": "stream",
                "text": [
                  "V5 CARBON\n",
                  "Skipping CARBON because the subset is empty.\n",
                  "V5 DUSMASS25\n"
                ]
              },
              {
                "name": "stdout",
                "output_type": "stream",
                "text": [
                  "V5 SSSMASS25\n"
                ]
              },
              {
                "name": "stdout",
                "output_type": "stream",
                "text": [
                  "V5 Sulfate\n"
                ]
              },
              {
                "name": "stdout",
                "output_type": "stream",
                "text": [
                  "V5 Done\n",
                  "[15.0, 19.0, 23.0]\n",
                  "Empty DataFrame\n",
                  "Columns: [PS, QV10M, Q500, T10M, T500, T850, WIND, BCSMASS, DUSMASS25, OCSMASS, SO2SMASS, SO4SMASS, SSSMASS25, TOTEXTTAU, SED, SZA, time, lat, lon, MERRA2, V1, V2_DS, V2, lat_lon, closest_lat_lon, lat_cats, lon_cats, V3_DS, lat_lon_cats, V3, lat_cats, lon_cats, V4_DS, lat_lon_cats, V4, lat_cats, lon_cats, V5_DS, lat_lon_cats, V5, Region]\n",
                  "Index: []\n",
                  "\n",
                  "[0 rows x 41 columns]\n"
                ]
              },
              {
                "name": "stdout",
                "output_type": "stream",
                "text": [
                  "V6 Done\n"
                ]
              },
              {
                "name": "stdout",
                "output_type": "stream",
                "text": [
                  "V7 Done\n"
                ]
              },
              {
                "name": "stdout",
                "output_type": "stream",
                "text": [
                  "V8 Done\n"
                ]
              },
              {
                "name": "stdout",
                "output_type": "stream",
                "text": [
                  "Data available for time: 15:30 UTC\n"
                ]
              },
              {
                "name": "stdout",
                "output_type": "stream",
                "text": [
                  "               PS      QV10M      Q500        T10M        T500        T850  \\\n",
                  "0     100831.9375  17.374853  1.741952  303.231232  268.954865  294.921936   \n",
                  "1     100703.9375  17.794470  2.365178  303.481232  268.673615  295.031311   \n",
                  "2     100535.9375  17.672400  2.656049  303.793732  268.384552  295.335999   \n",
                  "3     100399.9375  17.725805  2.727574  304.371857  268.353302  295.554749   \n",
                  "4     100343.9375  18.404821  2.471036  304.793732  268.329865  295.632874   \n",
                  "...           ...        ...       ...         ...         ...         ...   \n",
                  "6746   52759.9375   1.847605  1.546448  267.039825  265.048615  267.039825   \n",
                  "6747   52103.9375   1.593928  1.382416  266.766388  265.853302  266.766388   \n",
                  "6748   53727.9375   1.562933  1.164025  268.203888  266.947052  268.203888   \n",
                  "6749   54631.9375   1.577715  1.037663  268.928497  267.861115  268.928497   \n",
                  "6750   53143.9375   1.426081  0.967091  268.143341  268.407990  268.143341   \n",
                  "\n",
                  "          WIND   BCSMASS  DUSMASS25   OCSMASS  SO2SMASS  SO4SMASS  SSSMASS25  \\\n",
                  "0     1.364581  0.306049  39.435692  1.857671  1.239641  1.071507   7.159542   \n",
                  "1     1.010645  0.210040  32.232491  1.839481  0.771024  0.730219   3.439709   \n",
                  "2     0.552007  0.167294  25.087502  2.097323  0.560703  0.609711   2.062734   \n",
                  "3     0.227425  0.131141  23.079338  1.988184  0.377895  0.576742   1.568424   \n",
                  "4     0.796803  0.118352  26.229828  1.864492  0.255227  0.589020   1.767603   \n",
                  "...        ...       ...        ...       ...       ...       ...        ...   \n",
                  "6746  3.347300  0.035815   0.434852  0.140431  0.153307  0.226075   0.004345   \n",
                  "6747  4.204202  0.029690   0.211116  0.111754  0.141199  0.191003   0.002380   \n",
                  "6748  4.263672  0.027381   0.121986  0.096236  0.146031  0.165082   0.001513   \n",
                  "6749  4.307928  0.022713   0.092797  0.080007  0.231410  0.150644   0.001100   \n",
                  "6750  4.643391  0.019998   0.071879  0.073100  0.370960  0.152065   0.000848   \n",
                  "\n",
                  "      TOTEXTTAU       SED         SZA        time    lat      lon     MERRA2  \n",
                  "0      0.326685  1.001993  162.125019  2023-09-28  13.75 -17.0625  50.232275  \n",
                  "1      0.316431  1.001993  162.614719  2023-09-28  13.75 -16.4375  38.725774  \n",
                  "2      0.283716  1.001993  163.096070  2023-09-28  13.75 -15.8125  30.253206  \n",
                  "3      0.264795  1.001993  163.568339  2023-09-28  13.75 -15.1875  27.560107  \n",
                  "4      0.275049  1.001993  164.030718  2023-09-28  13.75 -14.5625  30.790177  \n",
                  "...         ...       ...         ...         ...    ...      ...        ...  \n",
                  "6746   0.016550  1.001993   99.501249  2023-09-28  34.75  77.9375   0.926297  \n",
                  "6747   0.015463  1.001993   98.988311  2023-09-28  34.75  78.5625   0.617569  \n",
                  "6748   0.015722  1.001993   98.475230  2023-09-28  34.75  79.1875   0.474104  \n",
                  "6749   0.015867  1.001993   97.962023  2023-09-28  34.75  79.8125   0.403752  \n",
                  "6750   0.015425  1.001993   97.448714  2023-09-28  34.75  80.4375   0.374914  \n",
                  "\n",
                  "[6751 rows x 20 columns]\n",
                  "5.637122499942779\n"
                ]
              },
              {
                "name": "stdout",
                "output_type": "stream",
                "text": [
                  "14/14 - 0s - 252ms/epoch - 18ms/step\n"
                ]
              },
              {
                "name": "stdout",
                "output_type": "stream",
                "text": [
                  "V1 Done\n",
                  "V2 DUSMASS25\n"
                ]
              },
              {
                "name": "stdout",
                "output_type": "stream",
                "text": [
                  "V2 OCSMASS\n"
                ]
              },
              {
                "name": "stdout",
                "output_type": "stream",
                "text": [
                  "V2 SO2SMASS\n"
                ]
              },
              {
                "name": "stdout",
                "output_type": "stream",
                "text": [
                  "V2 SO4SMASS\n"
                ]
              },
              {
                "name": "stdout",
                "output_type": "stream",
                "text": [
                  "V2 SSSMASS25\n"
                ]
              },
              {
                "name": "stdout",
                "output_type": "stream",
                "text": [
                  "V2 Done\n"
                ]
              },
              {
                "name": "stdout",
                "output_type": "stream",
                "text": [
                  "V3 DUSMASS25\n"
                ]
              },
              {
                "name": "stdout",
                "output_type": "stream",
                "text": [
                  "V3 OCSMASS\n",
                  "Skipping OCSMASS because the subset is empty.\n",
                  "V3 SO2SMASS\n"
                ]
              },
              {
                "name": "stdout",
                "output_type": "stream",
                "text": [
                  "V3 SO4SMASS\n",
                  "Skipping SO4SMASS because the subset is empty.\n",
                  "V3 SSSMASS25\n"
                ]
              },
              {
                "name": "stdout",
                "output_type": "stream",
                "text": [
                  "V3 Done\n"
                ]
              },
              {
                "name": "stdout",
                "output_type": "stream",
                "text": [
                  "V4 DUSMASS25\n"
                ]
              },
              {
                "name": "stdout",
                "output_type": "stream",
                "text": [
                  "V4 OCSMASS\n",
                  "Skipping OCSMASS because the subset is empty.\n",
                  "V4 SO2SMASS\n"
                ]
              },
              {
                "name": "stdout",
                "output_type": "stream",
                "text": [
                  "V4 SSSMASS25\n"
                ]
              },
              {
                "name": "stdout",
                "output_type": "stream",
                "text": [
                  "V4 wSO4\n"
                ]
              },
              {
                "name": "stdout",
                "output_type": "stream",
                "text": [
                  "V4 Done\n"
                ]
              },
              {
                "name": "stdout",
                "output_type": "stream",
                "text": [
                  "V5 CARBON\n",
                  "Skipping CARBON because the subset is empty.\n",
                  "V5 DUSMASS25\n"
                ]
              },
              {
                "name": "stdout",
                "output_type": "stream",
                "text": [
                  "V5 SSSMASS25\n"
                ]
              },
              {
                "name": "stdout",
                "output_type": "stream",
                "text": [
                  "V5 Sulfate\n"
                ]
              },
              {
                "name": "stdout",
                "output_type": "stream",
                "text": [
                  "V5 Done\n",
                  "[15.0, 19.0, 23.0]\n",
                  "Empty DataFrame\n",
                  "Columns: [PS, QV10M, Q500, T10M, T500, T850, WIND, BCSMASS, DUSMASS25, OCSMASS, SO2SMASS, SO4SMASS, SSSMASS25, TOTEXTTAU, SED, SZA, time, lat, lon, MERRA2, V1, V2_DS, V2, lat_lon, closest_lat_lon, lat_cats, lon_cats, V3_DS, lat_lon_cats, V3, lat_cats, lon_cats, V4_DS, lat_lon_cats, V4, lat_cats, lon_cats, V5_DS, lat_lon_cats, V5, Region]\n",
                  "Index: []\n",
                  "\n",
                  "[0 rows x 41 columns]\n"
                ]
              },
              {
                "name": "stdout",
                "output_type": "stream",
                "text": [
                  "V6 Done\n"
                ]
              },
              {
                "name": "stdout",
                "output_type": "stream",
                "text": [
                  "V7 Done\n"
                ]
              },
              {
                "name": "stdout",
                "output_type": "stream",
                "text": [
                  "V8 Done\n"
                ]
              },
              {
                "name": "stdout",
                "output_type": "stream",
                "text": [
                  "Data available for time: 16:30 UTC\n"
                ]
              },
              {
                "name": "stdout",
                "output_type": "stream",
                "text": [
                  "                 PS      QV10M      Q500        T10M        T500        T850  \\\n",
                  "0     100810.476562  17.397638  1.837793  303.322510  268.821991  295.146057   \n",
                  "1     100682.476562  17.931696  2.431932  303.494385  268.556366  295.325745   \n",
                  "2     100514.476562  17.885920  2.759042  303.744385  268.243866  295.513245   \n",
                  "3     100386.476562  18.091913  2.862039  304.228760  268.126678  295.661682   \n",
                  "4     100330.476562  18.770929  2.759042  304.697510  267.986053  295.685120   \n",
                  "...             ...        ...       ...         ...         ...         ...   \n",
                  "6746   52754.476562   1.959560  1.695695  266.703369  264.439178  266.703369   \n",
                  "6747   52090.476562   1.691577  1.551690  266.551025  265.232147  266.551025   \n",
                  "6748   53722.476562   1.648185  1.292768  268.019775  266.290741  268.019775   \n",
                  "6749   54626.476562   1.649139  1.129212  268.670166  267.275116  268.670166   \n",
                  "6750   53138.476562   1.500365  1.033845  267.801025  267.954803  267.801025   \n",
                  "\n",
                  "          WIND   BCSMASS  DUSMASS25   OCSMASS  SO2SMASS  SO4SMASS  SSSMASS25  \\\n",
                  "0     1.057664  0.312189  37.980499  1.923634  1.180979  1.053361   6.615664   \n",
                  "1     0.757850  0.212088  31.359377  1.902716  0.763976  0.724352   3.093191   \n",
                  "2     0.462230  0.169853  24.745531  2.174655  0.569571  0.609755   1.883564   \n",
                  "3     0.188155  0.133246  23.130270  2.055511  0.376986  0.579515   1.462922   \n",
                  "4     0.577245  0.120115  26.280760  1.931820  0.254431  0.590883   1.641183   \n",
                  "...        ...       ...        ...       ...       ...       ...        ...   \n",
                  "6746  3.306961  0.039255   0.524096  0.156088  0.166608  0.238113   0.005697   \n",
                  "6747  4.548853  0.032207   0.263640  0.125620  0.159673  0.200255   0.003054   \n",
                  "6748  4.241772  0.029087   0.131195  0.106379  0.168768  0.166945   0.001672   \n",
                  "6749  4.078298  0.023446   0.085066  0.084068  0.261821  0.145856   0.001101   \n",
                  "6750  4.248119  0.019928   0.070798  0.072898  0.405066  0.146311   0.000873   \n",
                  "\n",
                  "      TOTEXTTAU       SED         SZA        time    lat      lon     MERRA2  \n",
                  "0      0.325646  1.001993  162.125019  2023-09-28  13.75 -17.0625  48.280358  \n",
                  "1      0.309533  1.001993  162.614719  2023-09-28  13.75 -16.4375  37.563356  \n",
                  "2      0.279137  1.001993  163.096070  2023-09-28  13.75 -15.8125  29.812017  \n",
                  "3      0.267663  1.001993  163.568339  2023-09-28  13.75 -15.1875  27.578781  \n",
                  "4      0.285485  1.001993  164.030718  2023-09-28  13.75 -14.5625  30.786342  \n",
                  "...         ...       ...         ...         ...    ...      ...        ...  \n",
                  "6746   0.017025  1.001993   99.501249  2023-09-28  34.75  77.9375   1.052542  \n",
                  "6747   0.015782  1.001993   98.988311  2023-09-28  34.75  78.5625   0.699871  \n",
                  "6748   0.015770  1.001993   98.475230  2023-09-28  34.75  79.1875   0.497883  \n",
                  "6749   0.015790  1.001993   97.962023  2023-09-28  34.75  79.8125   0.394233  \n",
                  "6750   0.015389  1.001993   97.448714  2023-09-28  34.75  80.4375   0.365675  \n",
                  "\n",
                  "[6751 rows x 20 columns]\n",
                  "6.001514987150828\n"
                ]
              },
              {
                "name": "stdout",
                "output_type": "stream",
                "text": [
                  "14/14 - 0s - 257ms/epoch - 18ms/step\n"
                ]
              },
              {
                "name": "stdout",
                "output_type": "stream",
                "text": [
                  "V1 Done\n",
                  "V2 DUSMASS25\n"
                ]
              },
              {
                "name": "stdout",
                "output_type": "stream",
                "text": [
                  "V2 OCSMASS\n"
                ]
              },
              {
                "name": "stdout",
                "output_type": "stream",
                "text": [
                  "V2 SO2SMASS\n"
                ]
              },
              {
                "name": "stdout",
                "output_type": "stream",
                "text": [
                  "V2 SO4SMASS\n"
                ]
              },
              {
                "name": "stdout",
                "output_type": "stream",
                "text": [
                  "V2 SSSMASS25\n"
                ]
              },
              {
                "name": "stdout",
                "output_type": "stream",
                "text": [
                  "V2 Done\n"
                ]
              },
              {
                "name": "stdout",
                "output_type": "stream",
                "text": [
                  "V3 DUSMASS25\n"
                ]
              },
              {
                "name": "stdout",
                "output_type": "stream",
                "text": [
                  "V3 OCSMASS\n",
                  "Skipping OCSMASS because the subset is empty.\n",
                  "V3 SO2SMASS\n"
                ]
              },
              {
                "name": "stdout",
                "output_type": "stream",
                "text": [
                  "V3 SO4SMASS\n",
                  "Skipping SO4SMASS because the subset is empty.\n",
                  "V3 SSSMASS25\n"
                ]
              },
              {
                "name": "stdout",
                "output_type": "stream",
                "text": [
                  "V3 Done\n"
                ]
              },
              {
                "name": "stdout",
                "output_type": "stream",
                "text": [
                  "V4 DUSMASS25\n"
                ]
              },
              {
                "name": "stdout",
                "output_type": "stream",
                "text": [
                  "V4 OCSMASS\n",
                  "Skipping OCSMASS because the subset is empty.\n",
                  "V4 SO2SMASS\n"
                ]
              },
              {
                "name": "stdout",
                "output_type": "stream",
                "text": [
                  "V4 SSSMASS25\n"
                ]
              },
              {
                "name": "stdout",
                "output_type": "stream",
                "text": [
                  "V4 wSO4\n"
                ]
              },
              {
                "name": "stdout",
                "output_type": "stream",
                "text": [
                  "V4 Done\n"
                ]
              },
              {
                "name": "stdout",
                "output_type": "stream",
                "text": [
                  "V5 CARBON\n",
                  "Skipping CARBON because the subset is empty.\n",
                  "V5 DUSMASS25\n"
                ]
              },
              {
                "name": "stdout",
                "output_type": "stream",
                "text": [
                  "V5 SSSMASS25\n"
                ]
              },
              {
                "name": "stdout",
                "output_type": "stream",
                "text": [
                  "V5 Sulfate\n"
                ]
              },
              {
                "name": "stdout",
                "output_type": "stream",
                "text": [
                  "V5 Done\n",
                  "[15.0, 19.0, 23.0]\n",
                  "Empty DataFrame\n",
                  "Columns: [PS, QV10M, Q500, T10M, T500, T850, WIND, BCSMASS, DUSMASS25, OCSMASS, SO2SMASS, SO4SMASS, SSSMASS25, TOTEXTTAU, SED, SZA, time, lat, lon, MERRA2, V1, V2_DS, V2, lat_lon, closest_lat_lon, lat_cats, lon_cats, V3_DS, lat_lon_cats, V3, lat_cats, lon_cats, V4_DS, lat_lon_cats, V4, lat_cats, lon_cats, V5_DS, lat_lon_cats, V5, Region]\n",
                  "Index: []\n",
                  "\n",
                  "[0 rows x 41 columns]\n"
                ]
              },
              {
                "name": "stdout",
                "output_type": "stream",
                "text": [
                  "V6 Done\n"
                ]
              },
              {
                "name": "stdout",
                "output_type": "stream",
                "text": [
                  "V7 Done\n"
                ]
              },
              {
                "name": "stdout",
                "output_type": "stream",
                "text": [
                  "V8 Done\n"
                ]
              },
              {
                "name": "stdout",
                "output_type": "stream",
                "text": [
                  "Data available for time: 17:30 UTC\n"
                ]
              },
              {
                "name": "stdout",
                "output_type": "stream",
                "text": [
                  "                 PS      QV10M      Q500        T10M        T500        T850  \\\n",
                  "0     100825.578125  17.206718  1.897354  303.485962  268.725464  295.345947   \n",
                  "1     100705.578125  17.824699  2.452870  303.564087  268.491089  295.361572   \n",
                  "2     100545.578125  17.801811  2.779026  303.595337  268.194214  294.916260   \n",
                  "3     100417.578125  17.885735  2.934475  303.954712  267.983276  294.556885   \n",
                  "4     100369.578125  18.389275  2.949734  304.517212  267.725464  294.666260   \n",
                  "...             ...        ...       ...         ...         ...         ...   \n",
                  "6746   52721.578125   2.086213  1.800080  266.130493  263.889526  266.130493   \n",
                  "6747   52065.578125   1.814892  1.690884  266.148071  264.635620  266.148071   \n",
                  "6748   53697.578125   1.750042  1.414318  267.866821  265.639526  267.866821   \n",
                  "6749   54601.578125   1.715710  1.212139  268.491821  266.647339  268.491821   \n",
                  "6750   53113.578125   1.560738  1.105805  267.609009  267.405151  267.609009   \n",
                  "\n",
                  "          WIND   BCSMASS  DUSMASS25   OCSMASS  SO2SMASS  SO4SMASS  SSSMASS25  \\\n",
                  "0     0.759425  0.313784  36.714481  1.972790  1.159151  1.033833   6.115442   \n",
                  "1     0.497385  0.208225  30.559023  1.931862  0.724867  0.715282   2.788511   \n",
                  "2     0.112739  0.167526  24.447218  2.188340  0.536829  0.609326   1.702119   \n",
                  "3     0.368417  0.133874  23.363100  2.065558  0.346859  0.584088   1.355147   \n",
                  "4     0.598103  0.121369  26.673660  1.957328  0.240789  0.596821   1.553872   \n",
                  "...        ...       ...        ...       ...       ...       ...        ...   \n",
                  "6746  3.053653  0.042925   0.600039  0.171308  0.177465  0.248825   0.007171   \n",
                  "6747  4.422848  0.035009   0.326395  0.139078  0.174452  0.211422   0.004071   \n",
                  "6748  4.094450  0.030945   0.158138  0.117420  0.188834  0.173110   0.002107   \n",
                  "6749  3.835694  0.024309   0.085350  0.089482  0.290811  0.143836   0.001187   \n",
                  "6750  3.942877  0.019839   0.066706  0.073424  0.439627  0.140937   0.000867   \n",
                  "\n",
                  "      TOTEXTTAU       SED         SZA        time    lat      lon     MERRA2  \n",
                  "0      0.323991  1.001993  162.125019  2023-09-28  13.75 -17.0625  46.538018  \n",
                  "1      0.303117  1.001993  162.614719  2023-09-28  13.75 -16.4375  36.471134  \n",
                  "2      0.279313  1.001993  163.096070  2023-09-28  13.75 -15.8125  29.343026  \n",
                  "3      0.276139  1.001993  163.568339  2023-09-28  13.75 -15.1875  27.720800  \n",
                  "4      0.295548  1.001993  164.030718  2023-09-28  13.75 -14.5625  31.126858  \n",
                  "...         ...       ...         ...         ...    ...      ...        ...  \n",
                  "6746   0.017419  1.001993   99.501249  2023-09-28  34.75  77.9375   1.163578  \n",
                  "6747   0.016263  1.001993   98.988311  2023-09-28  34.75  78.5625   0.795259  \n",
                  "6748   0.016130  1.001993   98.475230  2023-09-28  34.75  79.1875   0.546637  \n",
                  "6749   0.015878  1.001993   97.962023  2023-09-28  34.75  79.8125   0.398102  \n",
                  "6750   0.015229  1.001993   97.448714  2023-09-28  34.75  80.4375   0.354623  \n",
                  "\n",
                  "[6751 rows x 20 columns]\n",
                  "6.31375257174174\n"
                ]
              },
              {
                "name": "stdout",
                "output_type": "stream",
                "text": [
                  "14/14 - 0s - 254ms/epoch - 18ms/step\n"
                ]
              },
              {
                "name": "stdout",
                "output_type": "stream",
                "text": [
                  "V1 Done\n",
                  "V2 DUSMASS25\n"
                ]
              },
              {
                "name": "stdout",
                "output_type": "stream",
                "text": [
                  "V2 OCSMASS\n"
                ]
              },
              {
                "name": "stdout",
                "output_type": "stream",
                "text": [
                  "V2 SO2SMASS\n"
                ]
              },
              {
                "name": "stdout",
                "output_type": "stream",
                "text": [
                  "V2 SO4SMASS\n"
                ]
              },
              {
                "name": "stdout",
                "output_type": "stream",
                "text": [
                  "V2 SSSMASS25\n"
                ]
              },
              {
                "name": "stdout",
                "output_type": "stream",
                "text": [
                  "V2 Done\n"
                ]
              },
              {
                "name": "stdout",
                "output_type": "stream",
                "text": [
                  "V3 DUSMASS25\n"
                ]
              },
              {
                "name": "stdout",
                "output_type": "stream",
                "text": [
                  "V3 OCSMASS\n",
                  "Skipping OCSMASS because the subset is empty.\n",
                  "V3 SO2SMASS\n"
                ]
              },
              {
                "name": "stdout",
                "output_type": "stream",
                "text": [
                  "V3 SO4SMASS\n",
                  "Skipping SO4SMASS because the subset is empty.\n",
                  "V3 SSSMASS25\n"
                ]
              },
              {
                "name": "stdout",
                "output_type": "stream",
                "text": [
                  "V3 Done\n"
                ]
              },
              {
                "name": "stdout",
                "output_type": "stream",
                "text": [
                  "V4 DUSMASS25\n"
                ]
              },
              {
                "name": "stdout",
                "output_type": "stream",
                "text": [
                  "V4 OCSMASS\n",
                  "Skipping OCSMASS because the subset is empty.\n",
                  "V4 SO2SMASS\n"
                ]
              },
              {
                "name": "stdout",
                "output_type": "stream",
                "text": [
                  "V4 SSSMASS25\n"
                ]
              },
              {
                "name": "stdout",
                "output_type": "stream",
                "text": [
                  "V4 wSO4\n"
                ]
              },
              {
                "name": "stdout",
                "output_type": "stream",
                "text": [
                  "V4 Done\n"
                ]
              },
              {
                "name": "stdout",
                "output_type": "stream",
                "text": [
                  "V5 CARBON\n",
                  "Skipping CARBON because the subset is empty.\n",
                  "V5 DUSMASS25\n"
                ]
              },
              {
                "name": "stdout",
                "output_type": "stream",
                "text": [
                  "V5 SSSMASS25\n"
                ]
              },
              {
                "name": "stdout",
                "output_type": "stream",
                "text": [
                  "V5 Sulfate\n"
                ]
              },
              {
                "name": "stdout",
                "output_type": "stream",
                "text": [
                  "V5 Done\n",
                  "[15.0, 19.0, 23.0]\n",
                  "Empty DataFrame\n",
                  "Columns: [PS, QV10M, Q500, T10M, T500, T850, WIND, BCSMASS, DUSMASS25, OCSMASS, SO2SMASS, SO4SMASS, SSSMASS25, TOTEXTTAU, SED, SZA, time, lat, lon, MERRA2, V1, V2_DS, V2, lat_lon, closest_lat_lon, lat_cats, lon_cats, V3_DS, lat_lon_cats, V3, lat_cats, lon_cats, V4_DS, lat_lon_cats, V4, lat_cats, lon_cats, V5_DS, lat_lon_cats, V5, Region]\n",
                  "Index: []\n",
                  "\n",
                  "[0 rows x 41 columns]\n"
                ]
              },
              {
                "name": "stdout",
                "output_type": "stream",
                "text": [
                  "V6 Done\n"
                ]
              },
              {
                "name": "stdout",
                "output_type": "stream",
                "text": [
                  "V7 Done\n"
                ]
              },
              {
                "name": "stdout",
                "output_type": "stream",
                "text": [
                  "V8 Done\n"
                ]
              },
              {
                "name": "stdout",
                "output_type": "stream",
                "text": [
                  "Data available for time: 18:30 UTC\n"
                ]
              },
              {
                "name": "stdout",
                "output_type": "stream",
                "text": [
                  "                 PS      QV10M      Q500        T10M        T500        T850  \\\n",
                  "0     100869.578125  17.023495  1.940264  303.446899  268.660004  295.385254   \n",
                  "1     100749.578125  17.580441  2.447142  303.400024  268.449066  295.260254   \n",
                  "2     100597.578125  17.717770  2.753272  303.337524  268.191254  294.596191   \n",
                  "3     100469.578125  18.015316  2.955451  303.806274  267.910004  294.393066   \n",
                  "4     100413.578125  18.999508  3.017440  303.993774  267.581879  294.479004   \n",
                  "...             ...        ...       ...         ...         ...         ...   \n",
                  "6746   52693.578125   2.160480  1.863970  265.358032  263.351410  265.358032   \n",
                  "6747   52037.578125   1.933029  1.801505  265.581665  264.058441  265.581665   \n",
                  "6748   53677.578125   1.848152  1.518263  267.739868  265.015472  267.739868   \n",
                  "6749   54581.578125   1.776150  1.284136  268.403931  266.007660  268.403931   \n",
                  "6750   53093.578125   1.612118  1.169695  267.476196  266.785004  267.476196   \n",
                  "\n",
                  "          WIND   BCSMASS  DUSMASS25   OCSMASS  SO2SMASS  SO4SMASS  SSSMASS25  \\\n",
                  "0     0.324516  0.319583  35.768608  2.048301  1.172793  1.019228   5.689799   \n",
                  "1     0.555206  0.209704  29.795046  2.035568  0.689624  0.703178   2.485649   \n",
                  "2     0.540655  0.169971  24.279871  2.302960  0.507953  0.609500   1.542503   \n",
                  "3     0.769084  0.139730  23.894245  2.224743  0.336172  0.590856   1.315129   \n",
                  "4     0.894639  0.125974  27.444912  2.116513  0.237037  0.605180   1.529315   \n",
                  "...        ...       ...        ...       ...       ...       ...        ...   \n",
                  "6746  2.914365  0.046379   0.672571  0.185258  0.185992  0.257867   0.008924   \n",
                  "6747  4.124376  0.037810   0.396312  0.151891  0.185707  0.222283   0.005482   \n",
                  "6748  3.936227  0.032779   0.200203  0.128358  0.205887  0.182095   0.002896   \n",
                  "6749  3.554217  0.025311   0.096065  0.095986  0.317527  0.145431   0.001464   \n",
                  "6750  3.688698  0.019911   0.064773  0.074783  0.475893  0.137302   0.000889   \n",
                  "\n",
                  "      TOTEXTTAU       SED         SZA        time    lat      lon     MERRA2  \n",
                  "0      0.322891  1.001993  162.125019  2023-09-28  13.75 -17.0625  45.227728  \n",
                  "1      0.300918  1.001993  162.614719  2023-09-28  13.75 -16.4375  35.492838  \n",
                  "2      0.285293  1.001993  163.096070  2023-09-28  13.75 -15.8125  29.133367  \n",
                  "3      0.287246  1.001993  163.568339  2023-09-28  13.75 -15.1875  28.386274  \n",
                  "4      0.304458  1.001993  164.030718  2023-09-28  13.75 -14.5625  32.048838  \n",
                  "...         ...       ...         ...         ...    ...      ...        ...  \n",
                  "6746   0.017566  1.001993   99.501249  2023-09-28  34.75  77.9375   1.267700  \n",
                  "6747   0.016659  1.001993   98.988311  2023-09-28  34.75  78.5625   0.897134  \n",
                  "6748   0.016624  1.001993   98.475230  2023-09-28  34.75  79.1875   0.614616  \n",
                  "6749   0.016235  1.001993   97.962023  2023-09-28  34.75  79.8125   0.418793  \n",
                  "6750   0.015377  1.001993   97.448714  2023-09-28  34.75  80.4375   0.349147  \n",
                  "\n",
                  "[6751 rows x 20 columns]\n",
                  "6.651709032058716\n"
                ]
              },
              {
                "name": "stdout",
                "output_type": "stream",
                "text": [
                  "14/14 - 0s - 410ms/epoch - 29ms/step\n"
                ]
              },
              {
                "name": "stdout",
                "output_type": "stream",
                "text": [
                  "V1 Done\n",
                  "V2 DUSMASS25\n"
                ]
              },
              {
                "name": "stdout",
                "output_type": "stream",
                "text": [
                  "V2 OCSMASS\n"
                ]
              },
              {
                "name": "stdout",
                "output_type": "stream",
                "text": [
                  "V2 SO2SMASS\n"
                ]
              },
              {
                "name": "stdout",
                "output_type": "stream",
                "text": [
                  "V2 SO4SMASS\n"
                ]
              },
              {
                "name": "stdout",
                "output_type": "stream",
                "text": [
                  "V2 SSSMASS25\n"
                ]
              },
              {
                "name": "stdout",
                "output_type": "stream",
                "text": [
                  "V2 Done\n"
                ]
              },
              {
                "name": "stdout",
                "output_type": "stream",
                "text": [
                  "V3 DUSMASS25\n"
                ]
              },
              {
                "name": "stdout",
                "output_type": "stream",
                "text": [
                  "V3 OCSMASS\n",
                  "Skipping OCSMASS because the subset is empty.\n",
                  "V3 SO2SMASS\n"
                ]
              },
              {
                "name": "stdout",
                "output_type": "stream",
                "text": [
                  "V3 SO4SMASS\n",
                  "Skipping SO4SMASS because the subset is empty.\n",
                  "V3 SSSMASS25\n"
                ]
              },
              {
                "name": "stdout",
                "output_type": "stream",
                "text": [
                  "V3 Done\n"
                ]
              },
              {
                "name": "stdout",
                "output_type": "stream",
                "text": [
                  "V4 DUSMASS25\n"
                ]
              },
              {
                "name": "stdout",
                "output_type": "stream",
                "text": [
                  "V4 OCSMASS\n",
                  "Skipping OCSMASS because the subset is empty.\n",
                  "V4 SO2SMASS\n"
                ]
              },
              {
                "name": "stdout",
                "output_type": "stream",
                "text": [
                  "V4 SSSMASS25\n"
                ]
              },
              {
                "name": "stdout",
                "output_type": "stream",
                "text": [
                  "V4 wSO4\n"
                ]
              },
              {
                "name": "stdout",
                "output_type": "stream",
                "text": [
                  "V4 Done\n"
                ]
              },
              {
                "name": "stdout",
                "output_type": "stream",
                "text": [
                  "V5 CARBON\n",
                  "Skipping CARBON because the subset is empty.\n",
                  "V5 DUSMASS25\n"
                ]
              },
              {
                "name": "stdout",
                "output_type": "stream",
                "text": [
                  "V5 SSSMASS25\n"
                ]
              },
              {
                "name": "stdout",
                "output_type": "stream",
                "text": [
                  "V5 Sulfate\n"
                ]
              },
              {
                "name": "stdout",
                "output_type": "stream",
                "text": [
                  "V5 Done\n",
                  "[15.0, 19.0, 23.0]\n",
                  "Empty DataFrame\n",
                  "Columns: [PS, QV10M, Q500, T10M, T500, T850, WIND, BCSMASS, DUSMASS25, OCSMASS, SO2SMASS, SO4SMASS, SSSMASS25, TOTEXTTAU, SED, SZA, time, lat, lon, MERRA2, V1, V2_DS, V2, lat_lon, closest_lat_lon, lat_cats, lon_cats, V3_DS, lat_lon_cats, V3, lat_cats, lon_cats, V4_DS, lat_lon_cats, V4, lat_cats, lon_cats, V5_DS, lat_lon_cats, V5, Region]\n",
                  "Index: []\n",
                  "\n",
                  "[0 rows x 41 columns]\n"
                ]
              },
              {
                "name": "stdout",
                "output_type": "stream",
                "text": [
                  "V6 Done\n"
                ]
              },
              {
                "name": "stdout",
                "output_type": "stream",
                "text": [
                  "V7 Done\n"
                ]
              },
              {
                "name": "stdout",
                "output_type": "stream",
                "text": [
                  "V8 Done\n"
                ]
              },
              {
                "name": "stdout",
                "output_type": "stream",
                "text": [
                  "Data available for time: 19:30 UTC\n"
                ]
              },
              {
                "name": "stdout",
                "output_type": "stream",
                "text": [
                  "                 PS      QV10M      Q500        T10M        T500        T850  \\\n",
                  "0     100939.640625  16.886091  1.993193  303.345612  268.590759  295.305542   \n",
                  "1     100819.640625  17.404890  2.449049  302.939362  268.372009  295.219604   \n",
                  "2     100659.640625  17.389631  2.704634  302.845612  268.168884  294.625854   \n",
                  "3     100539.640625  17.748213  2.934469  303.142487  267.848572  294.414917   \n",
                  "4     100483.640625  18.831587  3.024115  303.126862  267.512634  294.469604   \n",
                  "...             ...        ...       ...         ...         ...         ...   \n",
                  "6746   52675.640625   2.161360  1.904501  264.671783  262.821228  264.671783   \n",
                  "6747   52019.640625   2.028799  1.888289  264.862213  263.493103  264.862213   \n",
                  "6748   53651.640625   1.921034  1.606001  267.611237  264.422791  267.611237   \n",
                  "6749   54563.640625   1.829004  1.349939  268.347565  265.395447  268.347565   \n",
                  "6750   53075.640625   1.664019  1.220240  267.220612  266.153259  267.220612   \n",
                  "\n",
                  "          WIND   BCSMASS  DUSMASS25   OCSMASS  SO2SMASS  SO4SMASS  SSSMASS25  \\\n",
                  "0     0.290210  0.342662  35.477570  2.206641  1.266926  1.028414   5.516995   \n",
                  "1     0.803258  0.238979  29.780495  2.351251  0.749878  0.704861   2.449269   \n",
                  "2     0.964445  0.190719  24.629116  2.676850  0.541831  0.615276   1.543867   \n",
                  "3     1.246022  0.153032  24.818291  2.581353  0.351633  0.601179   1.348781   \n",
                  "4     1.463814  0.135411  28.696377  2.457662  0.246132  0.617095   1.562967   \n",
                  "...        ...       ...        ...       ...       ...       ...        ...   \n",
                  "6746  2.887507  0.049378   0.749651  0.197511  0.191335  0.265007   0.010981   \n",
                  "6747  3.697605  0.040610   0.472483  0.164485  0.193268  0.231640   0.007249   \n",
                  "6748  3.853326  0.034670   0.255682  0.139076  0.219700  0.191906   0.004134   \n",
                  "6749  3.287494  0.026342   0.118519  0.102980  0.343221  0.149785   0.001998   \n",
                  "6750  3.276175  0.020175   0.068439  0.077031  0.512273  0.135745   0.001011   \n",
                  "\n",
                  "      TOTEXTTAU       SED         SZA        time    lat      lon     MERRA2  \n",
                  "0      0.324640  1.001993  162.125019  2023-09-28  13.75 -17.0625  44.957937  \n",
                  "1      0.302667  1.001993  162.614719  2023-09-28  13.75 -16.4375  35.789178  \n",
                  "2      0.293756  1.001993  163.096070  2023-09-28  13.75 -15.8125  29.886558  \n",
                  "3      0.296930  1.001993  163.568339  2023-09-28  13.75 -15.1875  29.728078  \n",
                  "4      0.310358  1.001993  164.030718  2023-09-28  13.75 -14.5625  33.700922  \n",
                  "...         ...       ...         ...         ...    ...      ...        ...  \n",
                  "6746   0.017362  1.001993   99.501249  2023-09-28  34.75  77.9375   1.371906  \n",
                  "6747   0.016779  1.001993   98.988311  2023-09-28  34.75  78.5625   1.003331  \n",
                  "6748   0.017095  1.001993   98.475230  2023-09-28  34.75  79.1875   0.697432  \n",
                  "6749   0.016821  1.001993   97.962023  2023-09-28  34.75  79.8125   0.455793  \n",
                  "6750   0.015894  1.001993   97.448714  2023-09-28  34.75  80.4375   0.353306  \n",
                  "\n",
                  "[6751 rows x 20 columns]\n",
                  "6.988901789983114\n"
                ]
              },
              {
                "name": "stdout",
                "output_type": "stream",
                "text": [
                  "14/14 - 0s - 271ms/epoch - 19ms/step\n"
                ]
              },
              {
                "name": "stdout",
                "output_type": "stream",
                "text": [
                  "V1 Done\n",
                  "V2 DUSMASS25\n"
                ]
              },
              {
                "name": "stdout",
                "output_type": "stream",
                "text": [
                  "V2 OCSMASS\n"
                ]
              },
              {
                "name": "stdout",
                "output_type": "stream",
                "text": [
                  "V2 SO2SMASS\n"
                ]
              },
              {
                "name": "stdout",
                "output_type": "stream",
                "text": [
                  "V2 SO4SMASS\n"
                ]
              },
              {
                "name": "stdout",
                "output_type": "stream",
                "text": [
                  "V2 SSSMASS25\n"
                ]
              },
              {
                "name": "stdout",
                "output_type": "stream",
                "text": [
                  "V2 Done\n"
                ]
              },
              {
                "name": "stdout",
                "output_type": "stream",
                "text": [
                  "V3 DUSMASS25\n"
                ]
              },
              {
                "name": "stdout",
                "output_type": "stream",
                "text": [
                  "V3 OCSMASS\n",
                  "Skipping OCSMASS because the subset is empty.\n",
                  "V3 SO2SMASS\n"
                ]
              },
              {
                "name": "stdout",
                "output_type": "stream",
                "text": [
                  "V3 SO4SMASS\n",
                  "Skipping SO4SMASS because the subset is empty.\n",
                  "V3 SSSMASS25\n"
                ]
              },
              {
                "name": "stdout",
                "output_type": "stream",
                "text": [
                  "V3 Done\n"
                ]
              },
              {
                "name": "stdout",
                "output_type": "stream",
                "text": [
                  "V4 DUSMASS25\n"
                ]
              },
              {
                "name": "stdout",
                "output_type": "stream",
                "text": [
                  "V4 OCSMASS\n",
                  "Skipping OCSMASS because the subset is empty.\n",
                  "V4 SO2SMASS\n"
                ]
              },
              {
                "name": "stdout",
                "output_type": "stream",
                "text": [
                  "V4 SSSMASS25\n"
                ]
              },
              {
                "name": "stdout",
                "output_type": "stream",
                "text": [
                  "V4 wSO4\n"
                ]
              },
              {
                "name": "stdout",
                "output_type": "stream",
                "text": [
                  "V4 Done\n"
                ]
              },
              {
                "name": "stdout",
                "output_type": "stream",
                "text": [
                  "V5 CARBON\n",
                  "Skipping CARBON because the subset is empty.\n",
                  "V5 DUSMASS25\n"
                ]
              },
              {
                "name": "stdout",
                "output_type": "stream",
                "text": [
                  "V5 SSSMASS25\n"
                ]
              },
              {
                "name": "stdout",
                "output_type": "stream",
                "text": [
                  "V5 Sulfate\n"
                ]
              },
              {
                "name": "stdout",
                "output_type": "stream",
                "text": [
                  "V5 Done\n",
                  "[15.0, 19.0, 23.0]\n",
                  "Empty DataFrame\n",
                  "Columns: [PS, QV10M, Q500, T10M, T500, T850, WIND, BCSMASS, DUSMASS25, OCSMASS, SO2SMASS, SO4SMASS, SSSMASS25, TOTEXTTAU, SED, SZA, time, lat, lon, MERRA2, V1, V2_DS, V2, lat_lon, closest_lat_lon, lat_cats, lon_cats, V3_DS, lat_lon_cats, V3, lat_cats, lon_cats, V4_DS, lat_lon_cats, V4, lat_cats, lon_cats, V5_DS, lat_lon_cats, V5, Region]\n",
                  "Index: []\n",
                  "\n",
                  "[0 rows x 41 columns]\n"
                ]
              },
              {
                "name": "stdout",
                "output_type": "stream",
                "text": [
                  "V6 Done\n"
                ]
              },
              {
                "name": "stdout",
                "output_type": "stream",
                "text": [
                  "V7 Done\n"
                ]
              },
              {
                "name": "stdout",
                "output_type": "stream",
                "text": [
                  "V8 Done\n"
                ]
              },
              {
                "name": "stdout",
                "output_type": "stream",
                "text": [
                  "Data available for time: 20:30 UTC\n"
                ]
              },
              {
                "name": "stdout",
                "output_type": "stream",
                "text": [
                  "                 PS      QV10M      Q500        T10M        T500        T850  \\\n",
                  "0     101016.695312  17.000502  2.038003  303.291809  268.531311  295.205017   \n",
                  "1     100888.695312  17.519300  2.461434  302.494934  268.289124  295.119080   \n",
                  "2     100736.695312  17.633741  2.648355  302.182434  268.132874  294.580017   \n",
                  "3     100608.695312  18.160170  2.884866  302.244934  267.851624  294.392517   \n",
                  "4     100552.695312  19.182508  3.021241  302.135559  267.515686  294.540955   \n",
                  "...             ...        ...       ...         ...         ...         ...   \n",
                  "6746   52648.695312   2.158468  1.914025  264.039856  262.316467  264.039856   \n",
                  "6747   51992.695312   2.088850  1.942159  264.093567  262.953186  264.093567   \n",
                  "6748   53632.695312   1.973456  1.680852  267.405090  263.859436  267.405090   \n",
                  "6749   54552.695312   1.871889  1.398564  268.264465  264.808655  268.264465   \n",
                  "6750   53056.695312   1.700228  1.255513  266.823059  265.558655  266.823059   \n",
                  "\n",
                  "          WIND   BCSMASS  DUSMASS25   OCSMASS  SO2SMASS  SO4SMASS  SSSMASS25  \\\n",
                  "0     0.853025  0.369605  35.666744  2.373099  1.409717  1.059329   5.551556   \n",
                  "1     1.230998  0.272176  30.180672  2.682327  0.820364  0.713949   2.493834   \n",
                  "2     1.459508  0.214423  25.451300  3.074319  0.576165  0.626182   1.587068   \n",
                  "3     1.740496  0.167982  26.448107  2.951537  0.364594  0.618679   1.422450   \n",
                  "4     1.911487  0.146438  30.675438  2.816932  0.253863  0.635050   1.641183   \n",
                  "...        ...       ...        ...       ...       ...       ...        ...   \n",
                  "6746  2.779777  0.051822   0.831506  0.207592  0.194404  0.270229   0.013337   \n",
                  "6747  3.330538  0.043509   0.551836  0.176783  0.197986  0.238965   0.009280   \n",
                  "6748  3.747149  0.036673   0.326054  0.149555  0.229647  0.200937   0.005874   \n",
                  "6749  3.061073  0.027351   0.153932  0.109992  0.367322  0.155633   0.002877   \n",
                  "6750  2.996626  0.020594   0.078700  0.080149  0.547971  0.136135   0.001283   \n",
                  "\n",
                  "      TOTEXTTAU       SED         SZA        time    lat      lon     MERRA2  \n",
                  "0      0.328390  1.001993  162.125019  2023-09-28  13.75 -17.0625  45.417582  \n",
                  "1      0.307271  1.001993  162.614719  2023-09-28  13.75 -16.4375  36.610689  \n",
                  "2      0.302144  1.001993  163.096070  2023-09-28  13.75 -15.8125  31.188111  \n",
                  "3      0.305318  1.001993  163.568339  2023-09-28  13.75 -15.1875  31.840759  \n",
                  "4      0.316549  1.001993  164.030718  2023-09-28  13.75 -14.5625  36.153185  \n",
                  "...         ...       ...         ...         ...    ...      ...        ...  \n",
                  "6746   0.017015  1.001993   99.501249  2023-09-28  34.75  77.9375   1.475821  \n",
                  "6747   0.016435  1.001993   98.988311  2023-09-28  34.75  78.5625   1.109984  \n",
                  "6748   0.017084  1.001993   98.475230  2023-09-28  34.75  79.1875   0.794445  \n",
                  "6749   0.017190  1.001993   97.962023  2023-09-28  34.75  79.8125   0.508147  \n",
                  "6750   0.016485  1.001993   97.448714  2023-09-28  34.75  80.4375   0.367911  \n",
                  "\n",
                  "[6751 rows x 20 columns]\n",
                  "7.3279907902081804\n"
                ]
              },
              {
                "name": "stdout",
                "output_type": "stream",
                "text": [
                  "14/14 - 0s - 398ms/epoch - 28ms/step\n"
                ]
              },
              {
                "name": "stdout",
                "output_type": "stream",
                "text": [
                  "V1 Done\n",
                  "V2 DUSMASS25\n"
                ]
              },
              {
                "name": "stdout",
                "output_type": "stream",
                "text": [
                  "V2 OCSMASS\n"
                ]
              },
              {
                "name": "stdout",
                "output_type": "stream",
                "text": [
                  "V2 SO2SMASS\n"
                ]
              },
              {
                "name": "stdout",
                "output_type": "stream",
                "text": [
                  "V2 SO4SMASS\n"
                ]
              },
              {
                "name": "stdout",
                "output_type": "stream",
                "text": [
                  "V2 SSSMASS25\n"
                ]
              },
              {
                "name": "stdout",
                "output_type": "stream",
                "text": [
                  "V2 Done\n"
                ]
              },
              {
                "name": "stdout",
                "output_type": "stream",
                "text": [
                  "V3 DUSMASS25\n"
                ]
              },
              {
                "name": "stdout",
                "output_type": "stream",
                "text": [
                  "V3 OCSMASS\n",
                  "Skipping OCSMASS because the subset is empty.\n",
                  "V3 SO2SMASS\n"
                ]
              },
              {
                "name": "stdout",
                "output_type": "stream",
                "text": [
                  "V3 SO4SMASS\n",
                  "Skipping SO4SMASS because the subset is empty.\n",
                  "V3 SSSMASS25\n"
                ]
              },
              {
                "name": "stdout",
                "output_type": "stream",
                "text": [
                  "V3 Done\n"
                ]
              },
              {
                "name": "stdout",
                "output_type": "stream",
                "text": [
                  "V4 DUSMASS25\n"
                ]
              },
              {
                "name": "stdout",
                "output_type": "stream",
                "text": [
                  "V4 OCSMASS\n",
                  "Skipping OCSMASS because the subset is empty.\n",
                  "V4 SO2SMASS\n"
                ]
              },
              {
                "name": "stdout",
                "output_type": "stream",
                "text": [
                  "V4 SSSMASS25\n"
                ]
              },
              {
                "name": "stdout",
                "output_type": "stream",
                "text": [
                  "V4 wSO4\n"
                ]
              },
              {
                "name": "stdout",
                "output_type": "stream",
                "text": [
                  "V4 Done\n"
                ]
              },
              {
                "name": "stdout",
                "output_type": "stream",
                "text": [
                  "V5 CARBON\n",
                  "Skipping CARBON because the subset is empty.\n",
                  "V5 DUSMASS25\n"
                ]
              },
              {
                "name": "stdout",
                "output_type": "stream",
                "text": [
                  "V5 SSSMASS25\n"
                ]
              },
              {
                "name": "stdout",
                "output_type": "stream",
                "text": [
                  "V5 Sulfate\n"
                ]
              },
              {
                "name": "stdout",
                "output_type": "stream",
                "text": [
                  "V5 Done\n",
                  "[15.0, 19.0, 23.0]\n",
                  "Empty DataFrame\n",
                  "Columns: [PS, QV10M, Q500, T10M, T500, T850, WIND, BCSMASS, DUSMASS25, OCSMASS, SO2SMASS, SO4SMASS, SSSMASS25, TOTEXTTAU, SED, SZA, time, lat, lon, MERRA2, V1, V2_DS, V2, lat_lon, closest_lat_lon, lat_cats, lon_cats, V3_DS, lat_lon_cats, V3, lat_cats, lon_cats, V4_DS, lat_lon_cats, V4, lat_cats, lon_cats, V5_DS, lat_lon_cats, V5, Region]\n",
                  "Index: []\n",
                  "\n",
                  "[0 rows x 41 columns]\n"
                ]
              },
              {
                "name": "stdout",
                "output_type": "stream",
                "text": [
                  "V6 Done\n"
                ]
              },
              {
                "name": "stdout",
                "output_type": "stream",
                "text": [
                  "V7 Done\n"
                ]
              },
              {
                "name": "stdout",
                "output_type": "stream",
                "text": [
                  "V8 Done\n"
                ]
              },
              {
                "name": "stdout",
                "output_type": "stream",
                "text": [
                  "Data available for time: 21:30 UTC\n"
                ]
              },
              {
                "name": "stdout",
                "output_type": "stream",
                "text": [
                  "                 PS      QV10M      Q500        T10M        T500        T850  \\\n",
                  "0     101081.789062  17.282764  2.035142  303.151917  268.577545  295.060242   \n",
                  "1     100953.789062  17.786304  2.422334  301.933167  268.272858  294.935242   \n",
                  "2     100801.789062  17.938892  2.537728  301.386292  268.155670  294.458679   \n",
                  "3     100673.789062  18.503468  2.770425  301.339417  267.929108  294.310242   \n",
                  "4     100617.789062  19.357960  2.968789  301.230042  267.600983  294.607117   \n",
                  "...             ...        ...       ...         ...         ...         ...   \n",
                  "6746   52625.789062   2.138416  1.898766  263.478088  261.929108  263.478088   \n",
                  "6747   51969.789062   2.112666  1.951218  263.351135  262.522858  263.351135   \n",
                  "6748   53617.789062   2.030650  1.721860  266.878479  263.382233  266.878479   \n",
                  "6749   54537.789062   1.904289  1.417638  268.218323  264.296295  268.218323   \n",
                  "6750   53041.789062   1.722137  1.276971  266.464417  265.046295  266.464417   \n",
                  "\n",
                  "          WIND   BCSMASS  DUSMASS25   OCSMASS  SO2SMASS  SO4SMASS  SSSMASS25  \\\n",
                  "0     1.269302  0.395295  36.161510  2.519340  1.577064  1.104171   5.713446   \n",
                  "1     1.556262  0.307301  30.922819  3.002282  0.893806  0.730369   2.609340   \n",
                  "2     1.832383  0.238975  26.797352  3.457939  0.605951  0.641921   1.673015   \n",
                  "3     2.109586  0.184690  28.936483  3.326062  0.374030  0.643740   1.564331   \n",
                  "4     2.195402  0.159394  33.367542  3.186909  0.258638  0.658064   1.788067   \n",
                  "...        ...       ...        ...       ...       ...       ...        ...   \n",
                  "6746  2.668837  0.053694   0.911768  0.214965  0.196280  0.273234   0.015795   \n",
                  "6747  3.025938  0.046376   0.627779  0.188533  0.201908  0.244017   0.011447   \n",
                  "6748  3.350387  0.038702   0.404839  0.159599  0.237378  0.208149   0.008036   \n",
                  "6749  2.862938  0.028278   0.200544  0.116512  0.389605  0.161537   0.004176   \n",
                  "6750  2.766671  0.021045   0.097288  0.083713  0.583213  0.138061   0.001751   \n",
                  "\n",
                  "      TOTEXTTAU       SED         SZA        time    lat      lon     MERRA2  \n",
                  "0      0.333586  1.001993  162.125019  2023-09-28  13.75 -17.0625  46.307826  \n",
                  "1      0.313200  1.001993  162.614719  2023-09-28  13.75 -16.4375  37.846001  \n",
                  "2      0.310148  1.001993  163.096070  2023-09-28  13.75 -15.8125  33.049923  \n",
                  "3      0.315641  1.001993  163.568339  2023-09-28  13.75 -15.1875  34.896708  \n",
                  "4      0.324431  1.001993  164.030718  2023-09-28  13.75 -14.5625  39.406750  \n",
                  "...         ...       ...         ...         ...    ...      ...        ...  \n",
                  "6746   0.016775  1.001993   99.501249  2023-09-28  34.75  77.9375   1.571920  \n",
                  "6747   0.016024  1.001993   98.988311  2023-09-28  34.75  78.5625   1.209657  \n",
                  "6748   0.016626  1.001993   98.475230  2023-09-28  34.75  79.1875   0.897381  \n",
                  "6749   0.016882  1.001993   97.962023  2023-09-28  34.75  79.8125   0.571623  \n",
                  "6750   0.016489  1.001993   97.448714  2023-09-28  34.75  80.4375   0.393630  \n",
                  "\n",
                  "[6751 rows x 20 columns]\n",
                  "7.662947642803192\n"
                ]
              },
              {
                "name": "stdout",
                "output_type": "stream",
                "text": [
                  "14/14 - 0s - 257ms/epoch - 18ms/step\n"
                ]
              },
              {
                "name": "stdout",
                "output_type": "stream",
                "text": [
                  "V1 Done\n",
                  "V2 DUSMASS25\n"
                ]
              },
              {
                "name": "stdout",
                "output_type": "stream",
                "text": [
                  "V2 OCSMASS\n"
                ]
              },
              {
                "name": "stdout",
                "output_type": "stream",
                "text": [
                  "V2 SO2SMASS\n"
                ]
              },
              {
                "name": "stdout",
                "output_type": "stream",
                "text": [
                  "V2 SO4SMASS\n"
                ]
              },
              {
                "name": "stdout",
                "output_type": "stream",
                "text": [
                  "V2 SSSMASS25\n"
                ]
              },
              {
                "name": "stdout",
                "output_type": "stream",
                "text": [
                  "V2 Done\n"
                ]
              },
              {
                "name": "stdout",
                "output_type": "stream",
                "text": [
                  "V3 DUSMASS25\n"
                ]
              },
              {
                "name": "stdout",
                "output_type": "stream",
                "text": [
                  "V3 OCSMASS\n",
                  "Skipping OCSMASS because the subset is empty.\n",
                  "V3 SO2SMASS\n"
                ]
              },
              {
                "name": "stdout",
                "output_type": "stream",
                "text": [
                  "V3 SO4SMASS\n",
                  "Skipping SO4SMASS because the subset is empty.\n",
                  "V3 SSSMASS25\n"
                ]
              },
              {
                "name": "stdout",
                "output_type": "stream",
                "text": [
                  "V3 Done\n"
                ]
              },
              {
                "name": "stdout",
                "output_type": "stream",
                "text": [
                  "V4 DUSMASS25\n"
                ]
              },
              {
                "name": "stdout",
                "output_type": "stream",
                "text": [
                  "V4 OCSMASS\n",
                  "Skipping OCSMASS because the subset is empty.\n",
                  "V4 SO2SMASS\n"
                ]
              },
              {
                "name": "stdout",
                "output_type": "stream",
                "text": [
                  "V4 SSSMASS25\n"
                ]
              },
              {
                "name": "stdout",
                "output_type": "stream",
                "text": [
                  "V4 wSO4\n"
                ]
              },
              {
                "name": "stdout",
                "output_type": "stream",
                "text": [
                  "V4 Done\n"
                ]
              },
              {
                "name": "stdout",
                "output_type": "stream",
                "text": [
                  "V5 CARBON\n",
                  "Skipping CARBON because the subset is empty.\n",
                  "V5 DUSMASS25\n"
                ]
              },
              {
                "name": "stdout",
                "output_type": "stream",
                "text": [
                  "V5 SSSMASS25\n"
                ]
              },
              {
                "name": "stdout",
                "output_type": "stream",
                "text": [
                  "V5 Sulfate\n"
                ]
              },
              {
                "name": "stdout",
                "output_type": "stream",
                "text": [
                  "V5 Done\n",
                  "[15.0, 19.0, 23.0]\n",
                  "Empty DataFrame\n",
                  "Columns: [PS, QV10M, Q500, T10M, T500, T850, WIND, BCSMASS, DUSMASS25, OCSMASS, SO2SMASS, SO4SMASS, SSSMASS25, TOTEXTTAU, SED, SZA, time, lat, lon, MERRA2, V1, V2_DS, V2, lat_lon, closest_lat_lon, lat_cats, lon_cats, V3_DS, lat_lon_cats, V3, lat_cats, lon_cats, V4_DS, lat_lon_cats, V4, lat_cats, lon_cats, V5_DS, lat_lon_cats, V5, Region]\n",
                  "Index: []\n",
                  "\n",
                  "[0 rows x 41 columns]\n"
                ]
              },
              {
                "name": "stdout",
                "output_type": "stream",
                "text": [
                  "V6 Done\n"
                ]
              },
              {
                "name": "stdout",
                "output_type": "stream",
                "text": [
                  "V7 Done\n"
                ]
              },
              {
                "name": "stdout",
                "output_type": "stream",
                "text": [
                  "V8 Done\n"
                ]
              },
              {
                "name": "stdout",
                "output_type": "stream",
                "text": [
                  "Data available for time: 22:30 UTC\n"
                ]
              },
              {
                "name": "stdout",
                "output_type": "stream",
                "text": [
                  "                 PS      QV10M      Q500        T10M        T500        T850  \\\n",
                  "0     101107.453125  17.648920  2.027514  302.959503  268.644348  294.850586   \n",
                  "1     100987.453125  17.999872  2.339365  301.443878  268.300598  294.702148   \n",
                  "2     100827.453125  18.160089  2.406123  300.709503  268.214661  294.327148   \n",
                  "3     100707.453125  18.770441  2.610209  300.568878  268.074036  294.225586   \n",
                  "4     100651.453125  19.449457  2.844813  300.522003  267.706848  294.577148   \n",
                  "...             ...        ...       ...         ...         ...         ...   \n",
                  "6746   52619.453125   2.086864  1.850131  263.055206  261.659973  263.055206   \n",
                  "6747   51963.453125   2.094493  1.909258  262.770050  262.206848  262.770050   \n",
                  "6748   53619.453125   2.038226  1.663687  266.307159  263.027161  266.307159   \n",
                  "6749   54539.453125   1.924739  1.383784  268.182159  263.890442  268.182159   \n",
                  "6750   53043.453125   1.732097  1.279833  266.186066  264.597473  266.186066   \n",
                  "\n",
                  "          WIND   BCSMASS  DUSMASS25   OCSMASS  SO2SMASS  SO4SMASS  SSSMASS25  \\\n",
                  "0     1.515088  0.421673  36.903656  2.656807  1.772150  1.157991   5.973561   \n",
                  "1     1.686935  0.343911  31.883245  3.303458  0.977252  0.753720   2.792149   \n",
                  "2     2.018796  0.263648  28.630894  3.816413  0.632554  0.661861   1.803528   \n",
                  "3     2.303822  0.202541  32.101524  3.680898  0.379487  0.674367   1.785793   \n",
                  "4     2.462910  0.174688  36.408894  3.549022  0.259206  0.680961   2.014531   \n",
                  "...        ...       ...        ...       ...       ...       ...        ...   \n",
                  "6746  2.578510  0.055132   0.980890  0.219816  0.197417  0.274303   0.018105   \n",
                  "6747  2.853448  0.049192   0.695081  0.199466  0.205944  0.246791   0.013706   \n",
                  "6748  3.140630  0.040765   0.483624  0.169226  0.244086  0.213082   0.010481   \n",
                  "6749  2.756615  0.029077   0.258979  0.122216  0.409955  0.167096   0.005937   \n",
                  "6750  2.706569  0.021445   0.126818  0.087343  0.615955  0.141346   0.002493   \n",
                  "\n",
                  "      TOTEXTTAU       SED         SZA        time    lat      lon     MERRA2  \n",
                  "0      0.339395  1.001993  162.125019  2023-09-28  13.75 -17.0625  47.547935  \n",
                  "1      0.317911  1.001993  162.614719  2023-09-28  13.75 -16.4375  39.359129  \n",
                  "2      0.317301  1.001993  163.096070  2023-09-28  13.75 -15.8125  35.424542  \n",
                  "3      0.325357  1.001993  163.568339  2023-09-28  13.75 -15.1875  38.698012  \n",
                  "4      0.331705  1.001993  164.030718  2023-09-28  13.75 -14.5625  43.083453  \n",
                  "...         ...       ...         ...         ...    ...      ...        ...  \n",
                  "6746   0.016649  1.001993   99.501249  2023-09-28  34.75  77.9375   1.651110  \n",
                  "6747   0.015795  1.001993   98.988311  2023-09-28  34.75  78.5625   1.296783  \n",
                  "6748   0.016241  1.001993   98.475230  2023-09-28  34.75  79.1875   0.997083  \n",
                  "6749   0.016290  1.001993   97.962023  2023-09-28  34.75  79.8125   0.645965  \n",
                  "6750   0.015875  1.001993   97.448714  2023-09-28  34.75  80.4375   0.432450  \n",
                  "\n",
                  "[6751 rows x 20 columns]\n",
                  "7.995546197891235\n"
                ]
              },
              {
                "name": "stdout",
                "output_type": "stream",
                "text": [
                  "14/14 - 0s - 256ms/epoch - 18ms/step\n"
                ]
              },
              {
                "name": "stdout",
                "output_type": "stream",
                "text": [
                  "V1 Done\n",
                  "V2 DUSMASS25\n"
                ]
              },
              {
                "name": "stdout",
                "output_type": "stream",
                "text": [
                  "V2 OCSMASS\n"
                ]
              },
              {
                "name": "stdout",
                "output_type": "stream",
                "text": [
                  "V2 SO2SMASS\n"
                ]
              },
              {
                "name": "stdout",
                "output_type": "stream",
                "text": [
                  "V2 SO4SMASS\n"
                ]
              },
              {
                "name": "stdout",
                "output_type": "stream",
                "text": [
                  "V2 SSSMASS25\n"
                ]
              },
              {
                "name": "stdout",
                "output_type": "stream",
                "text": [
                  "V2 Done\n"
                ]
              },
              {
                "name": "stdout",
                "output_type": "stream",
                "text": [
                  "V3 DUSMASS25\n"
                ]
              },
              {
                "name": "stdout",
                "output_type": "stream",
                "text": [
                  "V3 OCSMASS\n",
                  "Skipping OCSMASS because the subset is empty.\n",
                  "V3 SO2SMASS\n"
                ]
              },
              {
                "name": "stdout",
                "output_type": "stream",
                "text": [
                  "V3 SO4SMASS\n",
                  "Skipping SO4SMASS because the subset is empty.\n",
                  "V3 SSSMASS25\n"
                ]
              },
              {
                "name": "stdout",
                "output_type": "stream",
                "text": [
                  "V3 Done\n"
                ]
              },
              {
                "name": "stdout",
                "output_type": "stream",
                "text": [
                  "V4 DUSMASS25\n"
                ]
              },
              {
                "name": "stdout",
                "output_type": "stream",
                "text": [
                  "V4 OCSMASS\n",
                  "Skipping OCSMASS because the subset is empty.\n",
                  "V4 SO2SMASS\n"
                ]
              },
              {
                "name": "stdout",
                "output_type": "stream",
                "text": [
                  "V4 SSSMASS25\n"
                ]
              },
              {
                "name": "stdout",
                "output_type": "stream",
                "text": [
                  "V4 wSO4\n"
                ]
              },
              {
                "name": "stdout",
                "output_type": "stream",
                "text": [
                  "V4 Done\n"
                ]
              },
              {
                "name": "stdout",
                "output_type": "stream",
                "text": [
                  "V5 CARBON\n",
                  "Skipping CARBON because the subset is empty.\n",
                  "V5 DUSMASS25\n"
                ]
              },
              {
                "name": "stdout",
                "output_type": "stream",
                "text": [
                  "V5 SSSMASS25\n"
                ]
              },
              {
                "name": "stdout",
                "output_type": "stream",
                "text": [
                  "V5 Sulfate\n"
                ]
              },
              {
                "name": "stdout",
                "output_type": "stream",
                "text": [
                  "V5 Done\n",
                  "[15.0, 19.0, 23.0]\n",
                  "Empty DataFrame\n",
                  "Columns: [PS, QV10M, Q500, T10M, T500, T850, WIND, BCSMASS, DUSMASS25, OCSMASS, SO2SMASS, SO4SMASS, SSSMASS25, TOTEXTTAU, SED, SZA, time, lat, lon, MERRA2, V1, V2_DS, V2, lat_lon, closest_lat_lon, lat_cats, lon_cats, V3_DS, lat_lon_cats, V3, lat_cats, lon_cats, V4_DS, lat_lon_cats, V4, lat_cats, lon_cats, V5_DS, lat_lon_cats, V5, Region]\n",
                  "Index: []\n",
                  "\n",
                  "[0 rows x 41 columns]\n"
                ]
              },
              {
                "name": "stdout",
                "output_type": "stream",
                "text": [
                  "V6 Done\n"
                ]
              },
              {
                "name": "stdout",
                "output_type": "stream",
                "text": [
                  "V7 Done\n"
                ]
              },
              {
                "name": "stdout",
                "output_type": "stream",
                "text": [
                  "V8 Done\n"
                ]
              },
              {
                "name": "stdout",
                "output_type": "stream",
                "text": [
                  "Data available for time: 23:30 UTC\n"
                ]
              },
              {
                "name": "stdout",
                "output_type": "stream",
                "text": [
                  "               PS      QV10M      Q500        T10M        T500        T850  \\\n",
                  "0     101103.0625  18.060900  2.017978  302.737549  268.695923  294.628754   \n",
                  "1     100983.0625  18.152452  2.243999  301.065674  268.375610  294.480316   \n",
                  "2     100823.0625  18.312670  2.295497  300.175049  268.266235  294.230316   \n",
                  "3     100703.0625  18.999315  2.469066  300.018799  268.141235  294.191254   \n",
                  "4     100647.0625  19.563890  2.701762  300.034424  267.766235  294.527191   \n",
                  "...           ...        ...       ...         ...         ...         ...   \n",
                  "6746   52623.0625   2.038219  1.729491  262.684814  261.457642  262.684814   \n",
                  "6747   51975.0625   2.061107  1.821998  262.269775  262.000610  262.269775   \n",
                  "6748   53623.0625   2.018192  1.527789  265.757080  262.781860  265.757080   \n",
                  "6749   54551.0625   1.935222  1.307967  268.104736  263.563110  268.104736   \n",
                  "6750   53055.0625   1.736381  1.266959  265.973877  264.160767  265.973877   \n",
                  "\n",
                  "          WIND   BCSMASS  DUSMASS25   OCSMASS  SO2SMASS  SO4SMASS  SSSMASS25  \\\n",
                  "0     1.652988  0.451573  37.864082  2.796870  1.998160  1.218156   6.337359   \n",
                  "1     1.699086  0.382338  32.930984  3.586312  1.077751  0.783872   3.028618   \n",
                  "2     2.065604  0.288887  30.791853  4.160203  0.656428  0.684282   1.969056   \n",
                  "3     2.458601  0.219879  35.419361  4.000132  0.380169  0.701108   2.089110   \n",
                  "4     2.901178  0.190832  38.882717  3.880079  0.253749  0.696333   2.321940   \n",
                  "...        ...       ...        ...       ...       ...       ...        ...   \n",
                  "6746  2.446811  0.056511   1.035915  0.223683  0.198497  0.273873   0.020123   \n",
                  "6747  2.689244  0.052120   0.748060  0.210324  0.210207  0.247156   0.015746   \n",
                  "6748  3.021206  0.042897   0.556838  0.178663  0.251134  0.215097   0.012978   \n",
                  "6749  2.634712  0.029738   0.328328  0.127049  0.433602  0.171896   0.008072   \n",
                  "6750  2.622091  0.021794   0.167006  0.090811  0.661203  0.145805   0.003508   \n",
                  "\n",
                  "      TOTEXTTAU       SED         SZA        time    lat      lon     MERRA2  \n",
                  "0      0.343721  1.001993  162.125019  2023-09-28  13.75 -17.0625  49.124850  \n",
                  "1      0.320772  1.001993  162.614719  2023-09-28  13.75 -16.4375  41.006075  \n",
                  "2      0.321626  1.001993  163.096070  2023-09-28  13.75 -15.8125  38.150887  \n",
                  "3      0.331758  1.001993  163.568339  2023-09-28  13.75 -15.1875  42.692506  \n",
                  "4      0.336397  1.001993  164.030718  2023-09-28  13.75 -14.5625  46.233027  \n",
                  "...         ...       ...         ...         ...    ...      ...        ...  \n",
                  "6746   0.016607  1.001993   99.501249  2023-09-28  34.75  77.9375   1.712806  \n",
                  "6747   0.015741  1.001993   98.988311  2023-09-28  34.75  78.5625   1.366090  \n",
                  "6748   0.016111  1.001993   98.475230  2023-09-28  34.75  79.1875   1.087134  \n",
                  "6749   0.015947  1.001993   97.962023  2023-09-28  34.75  79.8125   0.729543  \n",
                  "6750   0.015275  1.001993   97.448714  2023-09-28  34.75  80.4375   0.483600  \n",
                  "\n",
                  "[6751 rows x 20 columns]\n",
                  "8.62168060541153\n"
                ]
              },
              {
                "name": "stdout",
                "output_type": "stream",
                "text": [
                  "14/14 - 0s - 263ms/epoch - 19ms/step\n"
                ]
              },
              {
                "name": "stdout",
                "output_type": "stream",
                "text": [
                  "V1 Done\n",
                  "V2 DUSMASS25\n"
                ]
              },
              {
                "name": "stdout",
                "output_type": "stream",
                "text": [
                  "V2 OCSMASS\n"
                ]
              },
              {
                "name": "stdout",
                "output_type": "stream",
                "text": [
                  "V2 SO2SMASS\n"
                ]
              },
              {
                "name": "stdout",
                "output_type": "stream",
                "text": [
                  "V2 SO4SMASS\n"
                ]
              },
              {
                "name": "stdout",
                "output_type": "stream",
                "text": [
                  "V2 SSSMASS25\n"
                ]
              },
              {
                "name": "stdout",
                "output_type": "stream",
                "text": [
                  "V2 Done\n"
                ]
              },
              {
                "name": "stdout",
                "output_type": "stream",
                "text": [
                  "V3 DUSMASS25\n"
                ]
              },
              {
                "name": "stdout",
                "output_type": "stream",
                "text": [
                  "V3 OCSMASS\n",
                  "Skipping OCSMASS because the subset is empty.\n",
                  "V3 SO2SMASS\n"
                ]
              },
              {
                "name": "stdout",
                "output_type": "stream",
                "text": [
                  "V3 SO4SMASS\n",
                  "Skipping SO4SMASS because the subset is empty.\n",
                  "V3 SSSMASS25\n"
                ]
              },
              {
                "name": "stdout",
                "output_type": "stream",
                "text": [
                  "V3 Done\n"
                ]
              },
              {
                "name": "stdout",
                "output_type": "stream",
                "text": [
                  "V4 DUSMASS25\n"
                ]
              },
              {
                "name": "stdout",
                "output_type": "stream",
                "text": [
                  "V4 OCSMASS\n",
                  "Skipping OCSMASS because the subset is empty.\n",
                  "V4 SO2SMASS\n"
                ]
              },
              {
                "name": "stdout",
                "output_type": "stream",
                "text": [
                  "V4 SSSMASS25\n"
                ]
              },
              {
                "name": "stdout",
                "output_type": "stream",
                "text": [
                  "V4 wSO4\n"
                ]
              },
              {
                "name": "stdout",
                "output_type": "stream",
                "text": [
                  "V4 Done\n"
                ]
              },
              {
                "name": "stdout",
                "output_type": "stream",
                "text": [
                  "V5 CARBON\n",
                  "Skipping CARBON because the subset is empty.\n",
                  "V5 DUSMASS25\n"
                ]
              },
              {
                "name": "stdout",
                "output_type": "stream",
                "text": [
                  "V5 SSSMASS25\n"
                ]
              },
              {
                "name": "stdout",
                "output_type": "stream",
                "text": [
                  "V5 Sulfate\n"
                ]
              },
              {
                "name": "stdout",
                "output_type": "stream",
                "text": [
                  "V5 Done\n",
                  "[15.0, 19.0, 23.0]\n",
                  "Empty DataFrame\n",
                  "Columns: [PS, QV10M, Q500, T10M, T500, T850, WIND, BCSMASS, DUSMASS25, OCSMASS, SO2SMASS, SO4SMASS, SSSMASS25, TOTEXTTAU, SED, SZA, time, lat, lon, MERRA2, V1, V2_DS, V2, lat_lon, closest_lat_lon, lat_cats, lon_cats, V3_DS, lat_lon_cats, V3, lat_cats, lon_cats, V4_DS, lat_lon_cats, V4, lat_cats, lon_cats, V5_DS, lat_lon_cats, V5, Region]\n",
                  "Index: []\n",
                  "\n",
                  "[0 rows x 41 columns]\n"
                ]
              },
              {
                "name": "stdout",
                "output_type": "stream",
                "text": [
                  "V6 Done\n"
                ]
              },
              {
                "name": "stdout",
                "output_type": "stream",
                "text": [
                  "V7 Done\n"
                ]
              },
              {
                "name": "stdout",
                "output_type": "stream",
                "text": [
                  "V8 Done\n"
                ]
              },
              {
                "name": "stdout",
                "output_type": "stream",
                "text": [
                  "Processing data for 2023-09-29\n",
                  "Data available for time: 0:30 UTC\n"
                ]
              },
              {
                "name": "stdout",
                "output_type": "stream",
                "text": [
                  "                 PS      QV10M      Q500        T10M        T500        T850  \\\n",
                  "0     101070.523438  18.457722  1.995088  302.485199  268.752228  294.423279   \n",
                  "1     100942.523438  18.274616  2.146722  300.782074  268.455353  294.267029   \n",
                  "2     100782.523438  18.419575  2.195359  299.782074  268.322540  294.173279   \n",
                  "3     100662.523438  19.243549  2.338411  299.625824  268.220978  294.235779   \n",
                  "4     100606.523438  19.792866  2.574922  299.688324  267.767853  294.540466   \n",
                  "...             ...        ...       ...         ...         ...         ...   \n",
                  "6746   52638.523438   1.996350  1.577379  262.308441  261.314728  262.308441   \n",
                  "6747   51990.523438   2.027821  1.710416  261.778168  261.861603  261.778168   \n",
                  "6748   53646.523438   1.990628  1.350881  265.114105  262.619415  265.114105   \n",
                  "6749   54574.523438   1.946759  1.164914  267.868011  263.303009  267.868011   \n",
                  "6750   53078.523438   1.742672  1.221181  265.770355  263.760040  265.770355   \n",
                  "\n",
                  "          WIND   BCSMASS  DUSMASS25   OCSMASS  SO2SMASS  SO4SMASS  SSSMASS25  \\\n",
                  "0     1.793034  0.479986  39.028236  2.914022  2.218258  1.275577   6.746632   \n",
                  "1     1.612711  0.423029  33.964169  3.858078  1.199169  0.819920   3.301466   \n",
                  "2     2.005767  0.315708  32.945538  4.518371  0.680757  0.705778   2.160959   \n",
                  "3     2.603182  0.234081  37.689461  4.254618  0.375167  0.718284   2.504748   \n",
                  "4     3.399745  0.203272  39.988663  4.092728  0.240561  0.695319   2.738488   \n",
                  "...        ...       ...        ...       ...       ...       ...        ...   \n",
                  "6746  2.360272  0.057838   1.080934  0.227204  0.199577  0.272745   0.021977   \n",
                  "6747  2.624032  0.054826   0.796490  0.219758  0.214470  0.245915   0.017693   \n",
                  "6748  2.933318  0.045006   0.622094  0.187698  0.261821  0.214083   0.015334   \n",
                  "6749  2.515633  0.030227   0.403702  0.130912  0.468162  0.175714   0.010349   \n",
                  "6750  2.583314  0.022006   0.220950  0.093850  0.715772  0.150759   0.004773   \n",
                  "\n",
                  "      TOTEXTTAU       SED         SZA        time    lat      lon     MERRA2  \n",
                  "0      0.346769  1.001707  162.433433  2023-09-29  13.75 -17.0625  50.922795  \n",
                  "1      0.322599  1.001707  162.928591  2023-09-29  13.75 -16.4375  42.674133  \n",
                  "2      0.322110  1.001707  163.415585  2023-09-29  13.75 -15.8125  40.911020  \n",
                  "3      0.330533  1.001707  163.893671  2023-09-29  13.75 -15.1875  45.670548  \n",
                  "4      0.333829  1.001707  164.362031  2023-09-29  13.75 -14.5625  47.979215  \n",
                  "...         ...       ...         ...         ...    ...      ...        ...  \n",
                  "6746   0.016584  1.001707   99.660676  2023-09-29  34.75  77.9375   1.762979  \n",
                  "6747   0.015745  1.001707   99.147586  2023-09-29  34.75  78.5625   1.426899  \n",
                  "6748   0.016111  1.001707   98.634374  2023-09-29  34.75  79.1875   1.164496  \n",
                  "6749   0.015832  1.001707   98.121058  2023-09-29  34.75  79.8125   0.816795  \n",
                  "6750   0.014974  1.001707   97.607660  2023-09-29  34.75  80.4375   0.548873  \n",
                  "\n",
                  "[6751 rows x 20 columns]\n",
                  "8.963264493147532\n"
                ]
              },
              {
                "name": "stdout",
                "output_type": "stream",
                "text": [
                  "14/14 - 0s - 411ms/epoch - 29ms/step\n"
                ]
              },
              {
                "name": "stdout",
                "output_type": "stream",
                "text": [
                  "V1 Done\n",
                  "V2 DUSMASS25\n"
                ]
              },
              {
                "name": "stdout",
                "output_type": "stream",
                "text": [
                  "V2 OCSMASS\n"
                ]
              },
              {
                "name": "stdout",
                "output_type": "stream",
                "text": [
                  "V2 SO2SMASS\n"
                ]
              },
              {
                "name": "stdout",
                "output_type": "stream",
                "text": [
                  "V2 SO4SMASS\n"
                ]
              },
              {
                "name": "stdout",
                "output_type": "stream",
                "text": [
                  "V2 SSSMASS25\n"
                ]
              },
              {
                "name": "stdout",
                "output_type": "stream",
                "text": [
                  "V2 Done\n"
                ]
              },
              {
                "name": "stdout",
                "output_type": "stream",
                "text": [
                  "V3 DUSMASS25\n"
                ]
              },
              {
                "name": "stdout",
                "output_type": "stream",
                "text": [
                  "V3 OCSMASS\n",
                  "Skipping OCSMASS because the subset is empty.\n",
                  "V3 SO2SMASS\n"
                ]
              },
              {
                "name": "stdout",
                "output_type": "stream",
                "text": [
                  "V3 SO4SMASS\n",
                  "Skipping SO4SMASS because the subset is empty.\n",
                  "V3 SSSMASS25\n"
                ]
              },
              {
                "name": "stdout",
                "output_type": "stream",
                "text": [
                  "V3 Done\n"
                ]
              },
              {
                "name": "stdout",
                "output_type": "stream",
                "text": [
                  "V4 DUSMASS25\n"
                ]
              },
              {
                "name": "stdout",
                "output_type": "stream",
                "text": [
                  "V4 OCSMASS\n",
                  "Skipping OCSMASS because the subset is empty.\n",
                  "V4 SO2SMASS\n"
                ]
              },
              {
                "name": "stdout",
                "output_type": "stream",
                "text": [
                  "V4 SSSMASS25\n"
                ]
              },
              {
                "name": "stdout",
                "output_type": "stream",
                "text": [
                  "V4 wSO4\n"
                ]
              },
              {
                "name": "stdout",
                "output_type": "stream",
                "text": [
                  "V4 Done\n"
                ]
              },
              {
                "name": "stdout",
                "output_type": "stream",
                "text": [
                  "V5 CARBON\n",
                  "Skipping CARBON because the subset is empty.\n",
                  "V5 DUSMASS25\n"
                ]
              },
              {
                "name": "stdout",
                "output_type": "stream",
                "text": [
                  "V5 SSSMASS25\n"
                ]
              },
              {
                "name": "stdout",
                "output_type": "stream",
                "text": [
                  "V5 Sulfate\n"
                ]
              },
              {
                "name": "stdout",
                "output_type": "stream",
                "text": [
                  "V5 Done\n",
                  "[15.0, 19.0, 23.0]\n",
                  "Empty DataFrame\n",
                  "Columns: [PS, QV10M, Q500, T10M, T500, T850, WIND, BCSMASS, DUSMASS25, OCSMASS, SO2SMASS, SO4SMASS, SSSMASS25, TOTEXTTAU, SED, SZA, time, lat, lon, MERRA2, V1, V2_DS, V2, lat_lon, closest_lat_lon, lat_cats, lon_cats, V3_DS, lat_lon_cats, V3, lat_cats, lon_cats, V4_DS, lat_lon_cats, V4, lat_cats, lon_cats, V5_DS, lat_lon_cats, V5, Region]\n",
                  "Index: []\n",
                  "\n",
                  "[0 rows x 41 columns]\n"
                ]
              },
              {
                "name": "stdout",
                "output_type": "stream",
                "text": [
                  "V6 Done\n"
                ]
              },
              {
                "name": "stdout",
                "output_type": "stream",
                "text": [
                  "V7 Done\n"
                ]
              },
              {
                "name": "stdout",
                "output_type": "stream",
                "text": [
                  "V8 Done\n"
                ]
              },
              {
                "name": "stdout",
                "output_type": "stream",
                "text": [
                  "Data available for time: 1:30 UTC\n"
                ]
              },
              {
                "name": "stdout",
                "output_type": "stream",
                "text": [
                  "                 PS      QV10M      Q500        T10M        T500        T850  \\\n",
                  "0     101003.195312  18.847061  2.014160  302.238068  268.716278  294.269653   \n",
                  "1     100883.195312  18.389297  2.059937  300.550568  268.505341  294.082153   \n",
                  "2     100723.195312  18.503738  2.095223  299.488068  268.388153  294.113403   \n",
                  "3     100603.195312  19.449783  2.238274  299.300568  268.224091  294.300903   \n",
                  "4     100547.195312  19.945694  2.493859  299.347443  267.677216  294.558716   \n",
                  "...             ...        ...       ...         ...         ...         ...   \n",
                  "6746   52667.195312   2.033782  1.383305  262.622833  261.267059  262.622833   \n",
                  "6747   52019.195312   2.039505  1.566410  262.439240  261.790497  262.439240   \n",
                  "6748   53675.195312   1.979423  1.172066  265.761505  262.536591  265.761505   \n",
                  "6749   54603.195312   1.880718  1.009465  268.741974  263.118622  268.741974   \n",
                  "6750   53107.195312   1.707626  1.163006  266.755646  263.431122  266.755646   \n",
                  "\n",
                  "          WIND   BCSMASS  DUSMASS25   OCSMASS  SO2SMASS  SO4SMASS  SSSMASS25  \\\n",
                  "0     1.949510  0.507272  40.556187  3.012254  2.443812  1.325616   7.172275   \n",
                  "1     1.508838  0.465890  34.924595  4.118200  1.340595  0.860182   3.597052   \n",
                  "2     1.836653  0.345268  34.415279  4.905822  0.710543  0.721257   2.381967   \n",
                  "3     2.597083  0.244428  37.936844  4.418333  0.367777  0.721029   3.070454   \n",
                  "4     3.565390  0.208162  38.548023  4.116381  0.223963  0.678510   3.342393   \n",
                  "...        ...       ...        ...       ...       ...       ...        ...   \n",
                  "6746  2.367273  0.058635   1.118225  0.229144  0.199009  0.270716   0.023881   \n",
                  "6747  2.980194  0.056077   0.857427  0.223459  0.214470  0.242521   0.020016   \n",
                  "6748  3.666974  0.046130   0.702358  0.192139  0.260457  0.211201   0.018154   \n",
                  "6749  3.464101  0.030242   0.530009  0.132282  0.420755  0.180562   0.014101   \n",
                  "6750  3.459499  0.022369   0.343676  0.097324  0.623686  0.156517   0.007745   \n",
                  "\n",
                  "      TOTEXTTAU       SED         SZA        time    lat      lon     MERRA2  \n",
                  "0      0.348019  1.001707  162.433433  2023-09-29  13.75 -17.0625  53.070711  \n",
                  "1      0.322873  1.001707  162.928591  2023-09-29  13.75 -16.4375  44.288488  \n",
                  "2      0.319577  1.001707  163.415585  2023-09-29  13.75 -15.8125  43.040065  \n",
                  "3      0.323605  1.001707  163.893671  2023-09-29  13.75 -15.1875  46.661474  \n",
                  "4      0.325314  1.001707  164.362031  2023-09-29  13.75 -14.5625  47.147911  \n",
                  "...         ...       ...         ...         ...    ...      ...        ...  \n",
                  "6746   0.016499  1.001707   99.660676  2023-09-29  34.75  77.9375   1.802119  \n",
                  "6747   0.015667  1.001707   99.147586  2023-09-29  34.75  78.5625   1.490446  \n",
                  "6748   0.016087  1.001707   98.634374  2023-09-29  34.75  79.1875   1.249182  \n",
                  "6749   0.015824  1.001707   98.121058  2023-09-29  34.75  79.8125   0.954907  \n",
                  "6750   0.014859  1.001707   97.607660  2023-09-29  34.75  80.4375   0.686325  \n",
                  "\n",
                  "[6751 rows x 20 columns]\n",
                  "9.286009414990742\n"
                ]
              },
              {
                "name": "stdout",
                "output_type": "stream",
                "text": [
                  "14/14 - 0s - 253ms/epoch - 18ms/step\n"
                ]
              },
              {
                "name": "stdout",
                "output_type": "stream",
                "text": [
                  "V1 Done\n",
                  "V2 DUSMASS25\n"
                ]
              },
              {
                "name": "stdout",
                "output_type": "stream",
                "text": [
                  "V2 OCSMASS\n"
                ]
              },
              {
                "name": "stdout",
                "output_type": "stream",
                "text": [
                  "V2 SO2SMASS\n"
                ]
              },
              {
                "name": "stdout",
                "output_type": "stream",
                "text": [
                  "V2 SO4SMASS\n"
                ]
              },
              {
                "name": "stdout",
                "output_type": "stream",
                "text": [
                  "V2 SSSMASS25\n"
                ]
              },
              {
                "name": "stdout",
                "output_type": "stream",
                "text": [
                  "V2 Done\n"
                ]
              },
              {
                "name": "stdout",
                "output_type": "stream",
                "text": [
                  "V3 DUSMASS25\n"
                ]
              },
              {
                "name": "stdout",
                "output_type": "stream",
                "text": [
                  "V3 OCSMASS\n",
                  "Skipping OCSMASS because the subset is empty.\n",
                  "V3 SO2SMASS\n"
                ]
              },
              {
                "name": "stdout",
                "output_type": "stream",
                "text": [
                  "V3 SO4SMASS\n",
                  "Skipping SO4SMASS because the subset is empty.\n",
                  "V3 SSSMASS25\n"
                ]
              },
              {
                "name": "stdout",
                "output_type": "stream",
                "text": [
                  "V3 Done\n"
                ]
              },
              {
                "name": "stdout",
                "output_type": "stream",
                "text": [
                  "V4 DUSMASS25\n"
                ]
              },
              {
                "name": "stdout",
                "output_type": "stream",
                "text": [
                  "V4 OCSMASS\n",
                  "Skipping OCSMASS because the subset is empty.\n",
                  "V4 SO2SMASS\n"
                ]
              },
              {
                "name": "stdout",
                "output_type": "stream",
                "text": [
                  "V4 SSSMASS25\n"
                ]
              },
              {
                "name": "stdout",
                "output_type": "stream",
                "text": [
                  "V4 wSO4\n"
                ]
              },
              {
                "name": "stdout",
                "output_type": "stream",
                "text": [
                  "V4 Done\n"
                ]
              },
              {
                "name": "stdout",
                "output_type": "stream",
                "text": [
                  "V5 CARBON\n",
                  "Skipping CARBON because the subset is empty.\n",
                  "V5 DUSMASS25\n"
                ]
              },
              {
                "name": "stdout",
                "output_type": "stream",
                "text": [
                  "V5 SSSMASS25\n"
                ]
              },
              {
                "name": "stdout",
                "output_type": "stream",
                "text": [
                  "V5 Sulfate\n"
                ]
              },
              {
                "name": "stdout",
                "output_type": "stream",
                "text": [
                  "V5 Done\n",
                  "[15.0, 19.0, 23.0]\n",
                  "Empty DataFrame\n",
                  "Columns: [PS, QV10M, Q500, T10M, T500, T850, WIND, BCSMASS, DUSMASS25, OCSMASS, SO2SMASS, SO4SMASS, SSSMASS25, TOTEXTTAU, SED, SZA, time, lat, lon, MERRA2, V1, V2_DS, V2, lat_lon, closest_lat_lon, lat_cats, lon_cats, V3_DS, lat_lon_cats, V3, lat_cats, lon_cats, V4_DS, lat_lon_cats, V4, lat_cats, lon_cats, V5_DS, lat_lon_cats, V5, Region]\n",
                  "Index: []\n",
                  "\n",
                  "[0 rows x 41 columns]\n"
                ]
              },
              {
                "name": "stdout",
                "output_type": "stream",
                "text": [
                  "V6 Done\n"
                ]
              },
              {
                "name": "stdout",
                "output_type": "stream",
                "text": [
                  "V7 Done\n"
                ]
              },
              {
                "name": "stdout",
                "output_type": "stream",
                "text": [
                  "V8 Done\n"
                ]
              },
              {
                "name": "stdout",
                "output_type": "stream",
                "text": [
                  "Data available for time: 2:30 UTC\n"
                ]
              },
              {
                "name": "stdout",
                "output_type": "stream",
                "text": [
                  "                 PS      QV10M      Q500        T10M        T500        T850  \\\n",
                  "0     100957.015625  19.206026  2.058984  302.024689  268.645569  294.189056   \n",
                  "1     100837.015625  18.496492  1.992226  300.384064  268.528381  293.962494   \n",
                  "2     100677.015625  18.527010  1.995087  299.274689  268.450256  294.056244   \n",
                  "3     100557.015625  19.480684  2.160073  298.993439  268.192444  294.298431   \n",
                  "4     100501.015625  19.900301  2.464295  299.071564  267.567444  294.493744   \n",
                  "...             ...        ...       ...         ...         ...         ...   \n",
                  "6746   52693.015625   1.737097  1.204968  264.559845  261.356506  264.559845   \n",
                  "6747   52037.015625   1.649359  1.271249  265.085236  262.157288  265.085236   \n",
                  "6748   53701.015625   1.625040  1.111985  268.085236  262.676819  268.085236   \n",
                  "6749   54621.015625   1.412847  0.944377  270.434845  263.313538  270.434845   \n",
                  "6750   53133.015625   1.320818  1.020432  268.684845  263.653381  268.684845   \n",
                  "\n",
                  "          WIND   BCSMASS  DUSMASS25   OCSMASS  SO2SMASS  SO4SMASS  SSSMASS25  \\\n",
                  "0     2.114688  0.533202  42.709873  3.095942  2.728484  1.366126   7.657945   \n",
                  "1     1.431735  0.510237  35.914131  4.352863  1.514309  0.904785   3.929017   \n",
                  "2     1.622454  0.378361  35.157433  5.320566  0.752152  0.730844   2.612069   \n",
                  "3     2.397475  0.252623  36.525311  4.520210  0.364935  0.715837   3.736204   \n",
                  "4     3.259638  0.206523  35.113773  3.972695  0.212538  0.650581   4.141839   \n",
                  "...        ...       ...        ...       ...       ...       ...        ...   \n",
                  "6746  4.229847  0.046963   1.427455  0.179988  0.153989  0.277688   0.035897   \n",
                  "6747  5.534551  0.043254   1.260108  0.168392  0.154103  0.256201   0.032855   \n",
                  "6748  5.898553  0.039332   1.047741  0.159411  0.188038  0.232554   0.028507   \n",
                  "6749  5.384289  0.030649   0.861977  0.127010  0.245905  0.214364   0.023434   \n",
                  "6750  5.653585  0.024759   0.662798  0.102510  0.311616  0.192025   0.016684   \n",
                  "\n",
                  "      TOTEXTTAU       SED         SZA        time    lat      lon     MERRA2  \n",
                  "0      0.347286  1.001707  162.433433  2023-09-29  13.75 -17.0625  55.875387  \n",
                  "1      0.322262  1.001707  162.928591  2023-09-29  13.75 -16.4375  45.950327  \n",
                  "2      0.315060  1.001707  163.415585  2023-09-29  13.75 -15.8125  44.473336  \n",
                  "3      0.314571  1.001707  163.893671  2023-09-29  13.75 -15.1875  46.018624  \n",
                  "4      0.314694  1.001707  164.362031  2023-09-29  13.75 -14.5625  44.329380  \n",
                  "...         ...       ...         ...         ...    ...      ...        ...  \n",
                  "6746   0.016354  1.001707   99.660676  2023-09-29  34.75  77.9375   2.072124  \n",
                  "6747   0.015442  1.001707   99.147586  2023-09-29  34.75  78.5625   1.856886  \n",
                  "6748   0.015938  1.001707   98.634374  2023-09-29  34.75  79.1875   1.594753  \n",
                  "6749   0.015839  1.001707   98.121058  2023-09-29  34.75  79.8125   1.337821  \n",
                  "6750   0.014900  1.001707   97.607660  2023-09-29  34.75  80.4375   1.070785  \n",
                  "\n",
                  "[6751 rows x 20 columns]\n",
                  "9.61408988237381\n"
                ]
              },
              {
                "name": "stdout",
                "output_type": "stream",
                "text": [
                  "14/14 - 0s - 266ms/epoch - 19ms/step\n"
                ]
              },
              {
                "name": "stdout",
                "output_type": "stream",
                "text": [
                  "V1 Done\n",
                  "V2 DUSMASS25\n"
                ]
              },
              {
                "name": "stdout",
                "output_type": "stream",
                "text": [
                  "V2 OCSMASS\n"
                ]
              },
              {
                "name": "stdout",
                "output_type": "stream",
                "text": [
                  "V2 SO2SMASS\n"
                ]
              },
              {
                "name": "stdout",
                "output_type": "stream",
                "text": [
                  "V2 SO4SMASS\n"
                ]
              },
              {
                "name": "stdout",
                "output_type": "stream",
                "text": [
                  "V2 SSSMASS25\n"
                ]
              },
              {
                "name": "stdout",
                "output_type": "stream",
                "text": [
                  "V2 Done\n"
                ]
              },
              {
                "name": "stdout",
                "output_type": "stream",
                "text": [
                  "V3 DUSMASS25\n"
                ]
              },
              {
                "name": "stdout",
                "output_type": "stream",
                "text": [
                  "V3 OCSMASS\n",
                  "Skipping OCSMASS because the subset is empty.\n",
                  "V3 SO2SMASS\n"
                ]
              },
              {
                "name": "stdout",
                "output_type": "stream",
                "text": [
                  "V3 SO4SMASS\n",
                  "Skipping SO4SMASS because the subset is empty.\n",
                  "V3 SSSMASS25\n"
                ]
              },
              {
                "name": "stdout",
                "output_type": "stream",
                "text": [
                  "V3 Done\n"
                ]
              },
              {
                "name": "stdout",
                "output_type": "stream",
                "text": [
                  "V4 DUSMASS25\n"
                ]
              },
              {
                "name": "stdout",
                "output_type": "stream",
                "text": [
                  "V4 OCSMASS\n",
                  "Skipping OCSMASS because the subset is empty.\n",
                  "V4 SO2SMASS\n"
                ]
              },
              {
                "name": "stdout",
                "output_type": "stream",
                "text": [
                  "V4 SSSMASS25\n"
                ]
              },
              {
                "name": "stdout",
                "output_type": "stream",
                "text": [
                  "V4 wSO4\n"
                ]
              },
              {
                "name": "stdout",
                "output_type": "stream",
                "text": [
                  "V4 Done\n"
                ]
              },
              {
                "name": "stdout",
                "output_type": "stream",
                "text": [
                  "V5 CARBON\n",
                  "Skipping CARBON because the subset is empty.\n",
                  "V5 DUSMASS25\n"
                ]
              },
              {
                "name": "stdout",
                "output_type": "stream",
                "text": [
                  "V5 SSSMASS25\n"
                ]
              },
              {
                "name": "stdout",
                "output_type": "stream",
                "text": [
                  "V5 Sulfate\n"
                ]
              },
              {
                "name": "stdout",
                "output_type": "stream",
                "text": [
                  "V5 Done\n",
                  "[15.0, 19.0, 23.0]\n",
                  "Empty DataFrame\n",
                  "Columns: [PS, QV10M, Q500, T10M, T500, T850, WIND, BCSMASS, DUSMASS25, OCSMASS, SO2SMASS, SO4SMASS, SSSMASS25, TOTEXTTAU, SED, SZA, time, lat, lon, MERRA2, V1, V2_DS, V2, lat_lon, closest_lat_lon, lat_cats, lon_cats, V3_DS, lat_lon_cats, V3, lat_cats, lon_cats, V4_DS, lat_lon_cats, V4, lat_cats, lon_cats, V5_DS, lat_lon_cats, V5, Region]\n",
                  "Index: []\n",
                  "\n",
                  "[0 rows x 41 columns]\n"
                ]
              },
              {
                "name": "stdout",
                "output_type": "stream",
                "text": [
                  "V6 Done\n"
                ]
              },
              {
                "name": "stdout",
                "output_type": "stream",
                "text": [
                  "V7 Done\n"
                ]
              },
              {
                "name": "stdout",
                "output_type": "stream",
                "text": [
                  "V8 Done\n"
                ]
              },
              {
                "name": "stdout",
                "output_type": "stream",
                "text": [
                  "Data available for time: 3:30 UTC\n"
                ]
              },
              {
                "name": "stdout",
                "output_type": "stream",
                "text": [
                  "                 PS      QV10M      Q500        T10M        T500        T850  \\\n",
                  "0     100925.890625  19.465775  2.136239  301.860931  268.536896  294.146851   \n",
                  "1     100813.890625  18.557877  1.994141  300.251556  268.450958  293.896851   \n",
                  "2     100661.890625  18.527359  1.956948  299.110931  268.435333  293.959351   \n",
                  "3     100533.890625  19.412369  2.160080  298.751556  268.099396  294.154663   \n",
                  "4     100485.890625  19.740433  2.505311  298.798431  267.466583  294.279663   \n",
                  "...             ...        ...       ...         ...         ...         ...   \n",
                  "6746   52701.890625   1.334994  1.049050  266.216400  261.907990  266.216400   \n",
                  "6747   52045.890625   1.137107  0.921019  267.321869  263.462677  267.321869   \n",
                  "6748   53693.890625   1.126617  0.894316  270.165619  263.751740  270.165619   \n",
                  "6749   54621.890625   1.028388  0.797042  272.024994  264.165802  272.024994   \n",
                  "6750   53133.890625   0.952571  0.779875  270.282806  264.626740  270.282806   \n",
                  "\n",
                  "          WIND   BCSMASS  DUSMASS25   OCSMASS  SO2SMASS  SO4SMASS  SSSMASS25  \\\n",
                  "0     2.099385  0.555701  45.401974  3.166861  3.018613  1.391560   8.236384   \n",
                  "1     1.356768  0.556611  37.107384  4.551112  1.737135  0.950000   4.305548   \n",
                  "2     1.397794  0.415639  35.070114  5.729816  0.817636  0.737861   2.818524   \n",
                  "3     2.049757  0.262617  33.891411  4.645699  0.375280  0.706938   4.341928   \n",
                  "4     2.682510  0.204352  30.297087  3.803507  0.211287  0.623946   4.942194   \n",
                  "...        ...       ...        ...       ...       ...       ...        ...   \n",
                  "6746  5.973607  0.041496   1.612079  0.150408  0.111470  0.297210   0.042860   \n",
                  "6747  7.622438  0.038043   1.450644  0.138016  0.101466  0.285842   0.038398   \n",
                  "6748  7.456774  0.036181   1.274202  0.135572  0.123180  0.272086   0.033836   \n",
                  "6749  6.641470  0.031690   1.060471  0.120110  0.166551  0.257647   0.027747   \n",
                  "6750  7.009180  0.027484   0.866066  0.104393  0.208161  0.240822   0.021473   \n",
                  "\n",
                  "      TOTEXTTAU       SED         SZA        time    lat      lon     MERRA2  \n",
                  "0      0.346977  1.001707  162.433433  2023-09-29  13.75 -17.0625  59.274316  \n",
                  "1      0.321465  1.001707  162.928591  2023-09-29  13.75 -16.4375  47.826905  \n",
                  "2      0.309990  1.001707  163.415585  2023-09-29  13.75 -15.8125  45.048654  \n",
                  "3      0.305351  1.001707  163.893671  2023-09-29  13.75 -15.1875  44.113693  \n",
                  "4      0.305229  1.001707  164.362031  2023-09-29  13.75 -14.5625  40.105067  \n",
                  "...         ...       ...         ...         ...    ...      ...        ...  \n",
                  "6746   0.016335  1.001707   99.660676  2023-09-29  34.75  77.9375   2.255507  \n",
                  "6747   0.015301  1.001707   99.147586  2023-09-29  34.75  78.5625   2.058133  \n",
                  "6748   0.015820  1.001707   98.634374  2023-09-29  34.75  79.1875   1.853909  \n",
                  "6749   0.015839  1.001707   98.121058  2023-09-29  34.75  79.8125   1.594283  \n",
                  "6750   0.015026  1.001707   97.607660  2023-09-29  34.75  80.4375   1.350546  \n",
                  "\n",
                  "[6751 rows x 20 columns]\n",
                  "9.952449254194896\n"
                ]
              },
              {
                "name": "stdout",
                "output_type": "stream",
                "text": [
                  "14/14 - 0s - 256ms/epoch - 18ms/step\n"
                ]
              },
              {
                "name": "stdout",
                "output_type": "stream",
                "text": [
                  "V1 Done\n",
                  "V2 DUSMASS25\n"
                ]
              },
              {
                "name": "stdout",
                "output_type": "stream",
                "text": [
                  "V2 OCSMASS\n"
                ]
              },
              {
                "name": "stdout",
                "output_type": "stream",
                "text": [
                  "V2 SO2SMASS\n"
                ]
              },
              {
                "name": "stdout",
                "output_type": "stream",
                "text": [
                  "V2 SO4SMASS\n"
                ]
              },
              {
                "name": "stdout",
                "output_type": "stream",
                "text": [
                  "V2 SSSMASS25\n"
                ]
              },
              {
                "name": "stdout",
                "output_type": "stream",
                "text": [
                  "V2 Done\n"
                ]
              },
              {
                "name": "stdout",
                "output_type": "stream",
                "text": [
                  "V3 DUSMASS25\n"
                ]
              },
              {
                "name": "stdout",
                "output_type": "stream",
                "text": [
                  "V3 OCSMASS\n",
                  "Skipping OCSMASS because the subset is empty.\n",
                  "V3 SO2SMASS\n"
                ]
              },
              {
                "name": "stdout",
                "output_type": "stream",
                "text": [
                  "V3 SO4SMASS\n",
                  "Skipping SO4SMASS because the subset is empty.\n",
                  "V3 SSSMASS25\n"
                ]
              },
              {
                "name": "stdout",
                "output_type": "stream",
                "text": [
                  "V3 Done\n"
                ]
              },
              {
                "name": "stdout",
                "output_type": "stream",
                "text": [
                  "V4 DUSMASS25\n"
                ]
              },
              {
                "name": "stdout",
                "output_type": "stream",
                "text": [
                  "V4 OCSMASS\n",
                  "Skipping OCSMASS because the subset is empty.\n",
                  "V4 SO2SMASS\n"
                ]
              },
              {
                "name": "stdout",
                "output_type": "stream",
                "text": [
                  "V4 SSSMASS25\n"
                ]
              },
              {
                "name": "stdout",
                "output_type": "stream",
                "text": [
                  "V4 wSO4\n"
                ]
              },
              {
                "name": "stdout",
                "output_type": "stream",
                "text": [
                  "V4 Done\n"
                ]
              },
              {
                "name": "stdout",
                "output_type": "stream",
                "text": [
                  "V5 CARBON\n",
                  "Skipping CARBON because the subset is empty.\n",
                  "V5 DUSMASS25\n"
                ]
              },
              {
                "name": "stdout",
                "output_type": "stream",
                "text": [
                  "V5 SSSMASS25\n"
                ]
              },
              {
                "name": "stdout",
                "output_type": "stream",
                "text": [
                  "V5 Sulfate\n"
                ]
              },
              {
                "name": "stdout",
                "output_type": "stream",
                "text": [
                  "V5 Done\n",
                  "[15.0, 19.0, 23.0]\n",
                  "Empty DataFrame\n",
                  "Columns: [PS, QV10M, Q500, T10M, T500, T850, WIND, BCSMASS, DUSMASS25, OCSMASS, SO2SMASS, SO4SMASS, SSSMASS25, TOTEXTTAU, SED, SZA, time, lat, lon, MERRA2, V1, V2_DS, V2, lat_lon, closest_lat_lon, lat_cats, lon_cats, V3_DS, lat_lon_cats, V3, lat_cats, lon_cats, V4_DS, lat_lon_cats, V4, lat_cats, lon_cats, V5_DS, lat_lon_cats, V5, Region]\n",
                  "Index: []\n",
                  "\n",
                  "[0 rows x 41 columns]\n"
                ]
              },
              {
                "name": "stdout",
                "output_type": "stream",
                "text": [
                  "V6 Done\n"
                ]
              },
              {
                "name": "stdout",
                "output_type": "stream",
                "text": [
                  "V7 Done\n"
                ]
              },
              {
                "name": "stdout",
                "output_type": "stream",
                "text": [
                  "V8 Done\n"
                ]
              },
              {
                "name": "stdout",
                "output_type": "stream",
                "text": [
                  "Data available for time: 4:30 UTC\n"
                ]
              },
              {
                "name": "stdout",
                "output_type": "stream",
                "text": [
                  "                 PS      QV10M      Q500        T10M        T500        T850  \\\n",
                  "0     100944.367188  19.634035  2.269748  301.721924  268.246277  294.100525   \n",
                  "1     100824.367188  18.581179  2.063754  300.081299  268.277527  293.873962   \n",
                  "2     100672.367188  18.489626  1.996043  298.956299  268.316589  293.858337   \n",
                  "3     100552.367188  19.290712  2.236369  298.596924  267.965027  293.944275   \n",
                  "4     100504.367188  19.550112  2.611163  298.550049  267.355652  293.975525   \n",
                  "...             ...        ...       ...         ...         ...         ...   \n",
                  "6746   52704.367188   1.288201  1.022342  267.368408  262.636902  267.368408   \n",
                  "6747   52032.367188   0.995423  0.797275  268.960205  264.648621  268.960205   \n",
                  "6748   53680.367188   0.910546  0.733378  272.010986  265.129089  272.010986   \n",
                  "6749   54600.367188   0.850703  0.685933  273.608643  265.312683  273.608643   \n",
                  "6750   53120.367188   0.812795  0.671390  271.764893  265.715027  271.764893   \n",
                  "\n",
                  "          WIND   BCSMASS  DUSMASS25   OCSMASS  SO2SMASS  SO4SMASS  SSSMASS25  \\\n",
                  "0     2.156814  0.575259  48.516087  3.228712  3.242349  1.394782   8.829374   \n",
                  "1     1.327841  0.602544  38.722645  4.722102  1.990884  0.989602   4.747562   \n",
                  "2     1.209103  0.455319  34.720871  6.115448  0.912678  0.745630   2.980414   \n",
                  "3     1.704242  0.277286  31.534000  4.880354  0.401883  0.703111   4.780304   \n",
                  "4     2.067242  0.207482  25.982445  3.818064  0.220837  0.611025   5.598849   \n",
                  "...        ...       ...        ...       ...       ...       ...        ...   \n",
                  "6746  7.021416  0.041798   1.554781  0.148082  0.095156  0.305435   0.041709   \n",
                  "6747  9.083620  0.036838   1.360149  0.128130  0.080433  0.297363   0.035826   \n",
                  "6748  8.656467  0.035175   1.225089  0.125629  0.093451  0.290656   0.031747   \n",
                  "6749  7.700110  0.032163   1.054559  0.116591  0.128637  0.280537   0.026979   \n",
                  "6750  8.087277  0.028788   0.894033  0.105166  0.167972  0.265531   0.021792   \n",
                  "\n",
                  "      TOTEXTTAU       SED         SZA        time    lat      lon     MERRA2  \n",
                  "0      0.347158  1.001707  162.433433  2023-09-29  13.75 -17.0625  63.067256  \n",
                  "1      0.319815  1.001707  162.928591  2023-09-29  13.75 -16.4375  50.155557  \n",
                  "2      0.305533  1.001707  163.415585  2023-09-29  13.75 -15.8125  45.297292  \n",
                  "3      0.300039  1.001707  163.893671  2023-09-29  13.75 -15.1875  42.438722  \n",
                  "4      0.300650  1.001707  164.362031  2023-09-29  13.75 -14.5625  36.446999  \n",
                  "...         ...       ...         ...         ...    ...      ...        ...  \n",
                  "6746   0.016485  1.001707   99.660676  2023-09-29  34.75  77.9375   2.206343  \n",
                  "6747   0.015226  1.001707   99.147586  2023-09-29  34.75  78.5625   1.969817  \n",
                  "6748   0.015699  1.001707   98.634374  2023-09-29  34.75  79.1875   1.817292  \n",
                  "6749   0.015799  1.001707   98.121058  2023-09-29  34.75  79.8125   1.616031  \n",
                  "6750   0.015123  1.001707   97.607660  2023-09-29  34.75  80.4375   1.414884  \n",
                  "\n",
                  "[6751 rows x 20 columns]\n",
                  "10.265031476815542\n"
                ]
              },
              {
                "name": "stdout",
                "output_type": "stream",
                "text": [
                  "14/14 - 0s - 279ms/epoch - 20ms/step\n"
                ]
              },
              {
                "name": "stdout",
                "output_type": "stream",
                "text": [
                  "V1 Done\n",
                  "V2 DUSMASS25\n"
                ]
              },
              {
                "name": "stdout",
                "output_type": "stream",
                "text": [
                  "V2 OCSMASS\n"
                ]
              },
              {
                "name": "stdout",
                "output_type": "stream",
                "text": [
                  "V2 SO2SMASS\n"
                ]
              },
              {
                "name": "stdout",
                "output_type": "stream",
                "text": [
                  "V2 SO4SMASS\n"
                ]
              },
              {
                "name": "stdout",
                "output_type": "stream",
                "text": [
                  "V2 SSSMASS25\n"
                ]
              },
              {
                "name": "stdout",
                "output_type": "stream",
                "text": [
                  "V2 Done\n"
                ]
              },
              {
                "name": "stdout",
                "output_type": "stream",
                "text": [
                  "V3 DUSMASS25\n"
                ]
              },
              {
                "name": "stdout",
                "output_type": "stream",
                "text": [
                  "V3 OCSMASS\n",
                  "Skipping OCSMASS because the subset is empty.\n",
                  "V3 SO2SMASS\n"
                ]
              },
              {
                "name": "stdout",
                "output_type": "stream",
                "text": [
                  "V3 SO4SMASS\n",
                  "Skipping SO4SMASS because the subset is empty.\n",
                  "V3 SSSMASS25\n"
                ]
              },
              {
                "name": "stdout",
                "output_type": "stream",
                "text": [
                  "V3 Done\n"
                ]
              },
              {
                "name": "stdout",
                "output_type": "stream",
                "text": [
                  "V4 DUSMASS25\n"
                ]
              },
              {
                "name": "stdout",
                "output_type": "stream",
                "text": [
                  "V4 OCSMASS\n",
                  "Skipping OCSMASS because the subset is empty.\n",
                  "V4 SO2SMASS\n"
                ]
              },
              {
                "name": "stdout",
                "output_type": "stream",
                "text": [
                  "V4 SSSMASS25\n"
                ]
              },
              {
                "name": "stdout",
                "output_type": "stream",
                "text": [
                  "V4 wSO4\n"
                ]
              },
              {
                "name": "stdout",
                "output_type": "stream",
                "text": [
                  "V4 Done\n"
                ]
              },
              {
                "name": "stdout",
                "output_type": "stream",
                "text": [
                  "V5 CARBON\n",
                  "Skipping CARBON because the subset is empty.\n",
                  "V5 DUSMASS25\n"
                ]
              },
              {
                "name": "stdout",
                "output_type": "stream",
                "text": [
                  "V5 SSSMASS25\n"
                ]
              },
              {
                "name": "stdout",
                "output_type": "stream",
                "text": [
                  "V5 Sulfate\n"
                ]
              },
              {
                "name": "stdout",
                "output_type": "stream",
                "text": [
                  "V5 Done\n",
                  "[15.0, 19.0, 23.0]\n",
                  "Empty DataFrame\n",
                  "Columns: [PS, QV10M, Q500, T10M, T500, T850, WIND, BCSMASS, DUSMASS25, OCSMASS, SO2SMASS, SO4SMASS, SSSMASS25, TOTEXTTAU, SED, SZA, time, lat, lon, MERRA2, V1, V2_DS, V2, lat_lon, closest_lat_lon, lat_cats, lon_cats, V3_DS, lat_lon_cats, V3, lat_cats, lon_cats, V4_DS, lat_lon_cats, V4, lat_cats, lon_cats, V5_DS, lat_lon_cats, V5, Region]\n",
                  "Index: []\n",
                  "\n",
                  "[0 rows x 41 columns]\n"
                ]
              },
              {
                "name": "stdout",
                "output_type": "stream",
                "text": [
                  "V6 Done\n"
                ]
              },
              {
                "name": "stdout",
                "output_type": "stream",
                "text": [
                  "V7 Done\n"
                ]
              },
              {
                "name": "stdout",
                "output_type": "stream",
                "text": [
                  "V8 Done\n"
                ]
              },
              {
                "name": "stdout",
                "output_type": "stream",
                "text": [
                  "Data available for time: 5:30 UTC\n"
                ]
              },
              {
                "name": "stdout",
                "output_type": "stream",
                "text": [
                  "                 PS      QV10M      Q500        T10M        T500        T850  \\\n",
                  "0     100987.257812  19.748718  2.383232  301.618805  267.908112  294.077209   \n",
                  "1     100867.257812  18.589050  2.180099  299.884430  267.986237  293.850647   \n",
                  "2     100715.257812  18.428833  2.099991  298.837555  268.079987  293.749084   \n",
                  "3     100603.257812  19.168884  2.367020  298.571930  267.775299  293.694397   \n",
                  "4     100563.257812  19.374878  2.738953  298.415680  267.236237  293.655334   \n",
                  "...             ...        ...       ...         ...         ...         ...   \n",
                  "6746   52691.257812   1.370459  1.067162  268.517242  263.415924  268.517242   \n",
                  "6747   52019.257812   1.037627  0.834942  270.126617  265.517487  270.126617   \n",
                  "6748   53643.257812   0.864058  0.688553  273.532867  266.392487  273.532867   \n",
                  "6749   54555.257812   0.776797  0.617981  275.118805  266.603424  275.118805   \n",
                  "6750   53091.257812   0.766545  0.627041  273.150055  266.884674  273.150055   \n",
                  "\n",
                  "           WIND   BCSMASS  DUSMASS25   OCSMASS  SO2SMASS  SO4SMASS  SSSMASS25  \\\n",
                  "0      2.325782  0.588673  52.139511  3.260552  3.379682  1.373911   9.480573   \n",
                  "1      1.392721  0.644380  40.949089  4.860353  2.251909  1.019662   5.300535   \n",
                  "2      1.089349  0.494995  34.531696  6.466521  1.039552  0.754545   3.091372   \n",
                  "3      1.461735  0.296953  30.006050  5.233246  0.443379  0.702249   5.034963   \n",
                  "4      1.753307  0.215837  23.115717  4.021799  0.238629  0.607889   6.093615   \n",
                  "...         ...       ...        ...       ...       ...       ...        ...   \n",
                  "6746   7.881878  0.043715   1.480657  0.154798  0.087908  0.305595   0.040203   \n",
                  "6747  10.245236  0.036809   1.256012  0.127456  0.071140  0.293204   0.033126   \n",
                  "6748   9.758630  0.034322   1.130047  0.120976  0.078444  0.289225   0.029083   \n",
                  "6749   8.725332  0.031679   0.994987  0.113444  0.106127  0.284109   0.025032   \n",
                  "6750   9.035816  0.028950   0.874252  0.104804  0.143132  0.273081   0.021338   \n",
                  "\n",
                  "      TOTEXTTAU       SED         SZA        time    lat      lon     MERRA2  \n",
                  "0      0.347273  1.001707  162.433433  2023-09-29  13.75 -17.0625  67.358437  \n",
                  "1      0.318465  1.001707  162.928591  2023-09-29  13.75 -16.4375  53.156393  \n",
                  "2      0.303206  1.001707  163.415585  2023-09-29  13.75 -15.8125  45.622082  \n",
                  "3      0.299910  1.001707  163.893671  2023-09-29  13.75 -15.1875  41.536803  \n",
                  "4      0.300154  1.001707  164.362031  2023-09-29  13.75 -14.5625  34.282815  \n",
                  "...         ...       ...         ...         ...    ...      ...        ...  \n",
                  "6746   0.016821  1.001707   99.660676  2023-09-29  34.75  77.9375   2.139567  \n",
                  "6747   0.015269  1.001707   99.147586  2023-09-29  34.75  78.5625   1.856558  \n",
                  "6748   0.015585  1.001707   98.634374  2023-09-29  34.75  79.1875   1.712112  \n",
                  "6749   0.015776  1.001707   98.121058  2023-09-29  34.75  79.8125   1.555792  \n",
                  "6750   0.015311  1.001707   97.607660  2023-09-29  34.75  80.4375   1.404830  \n",
                  "\n",
                  "[6751 rows x 20 columns]\n",
                  "10.625061984856924\n"
                ]
              },
              {
                "name": "stdout",
                "output_type": "stream",
                "text": [
                  "14/14 - 0s - 271ms/epoch - 19ms/step\n"
                ]
              },
              {
                "name": "stdout",
                "output_type": "stream",
                "text": [
                  "V1 Done\n",
                  "V2 DUSMASS25\n"
                ]
              },
              {
                "name": "stdout",
                "output_type": "stream",
                "text": [
                  "V2 OCSMASS\n"
                ]
              },
              {
                "name": "stdout",
                "output_type": "stream",
                "text": [
                  "V2 SO2SMASS\n"
                ]
              },
              {
                "name": "stdout",
                "output_type": "stream",
                "text": [
                  "V2 SO4SMASS\n"
                ]
              },
              {
                "name": "stdout",
                "output_type": "stream",
                "text": [
                  "V2 SSSMASS25\n"
                ]
              },
              {
                "name": "stdout",
                "output_type": "stream",
                "text": [
                  "V2 Done\n"
                ]
              },
              {
                "name": "stdout",
                "output_type": "stream",
                "text": [
                  "V3 DUSMASS25\n"
                ]
              },
              {
                "name": "stdout",
                "output_type": "stream",
                "text": [
                  "V3 OCSMASS\n",
                  "Skipping OCSMASS because the subset is empty.\n",
                  "V3 SO2SMASS\n"
                ]
              },
              {
                "name": "stdout",
                "output_type": "stream",
                "text": [
                  "V3 SO4SMASS\n",
                  "Skipping SO4SMASS because the subset is empty.\n",
                  "V3 SSSMASS25\n"
                ]
              },
              {
                "name": "stdout",
                "output_type": "stream",
                "text": [
                  "V3 Done\n"
                ]
              },
              {
                "name": "stdout",
                "output_type": "stream",
                "text": [
                  "V4 DUSMASS25\n"
                ]
              },
              {
                "name": "stdout",
                "output_type": "stream",
                "text": [
                  "V4 OCSMASS\n",
                  "Skipping OCSMASS because the subset is empty.\n",
                  "V4 SO2SMASS\n"
                ]
              },
              {
                "name": "stdout",
                "output_type": "stream",
                "text": [
                  "V4 SSSMASS25\n"
                ]
              },
              {
                "name": "stdout",
                "output_type": "stream",
                "text": [
                  "V4 wSO4\n"
                ]
              },
              {
                "name": "stdout",
                "output_type": "stream",
                "text": [
                  "V4 Done\n"
                ]
              },
              {
                "name": "stdout",
                "output_type": "stream",
                "text": [
                  "V5 CARBON\n",
                  "Skipping CARBON because the subset is empty.\n",
                  "V5 DUSMASS25\n"
                ]
              },
              {
                "name": "stdout",
                "output_type": "stream",
                "text": [
                  "V5 SSSMASS25\n"
                ]
              },
              {
                "name": "stdout",
                "output_type": "stream",
                "text": [
                  "V5 Sulfate\n"
                ]
              },
              {
                "name": "stdout",
                "output_type": "stream",
                "text": [
                  "V5 Done\n",
                  "[15.0, 19.0, 23.0]\n",
                  "Empty DataFrame\n",
                  "Columns: [PS, QV10M, Q500, T10M, T500, T850, WIND, BCSMASS, DUSMASS25, OCSMASS, SO2SMASS, SO4SMASS, SSSMASS25, TOTEXTTAU, SED, SZA, time, lat, lon, MERRA2, V1, V2_DS, V2, lat_lon, closest_lat_lon, lat_cats, lon_cats, V3_DS, lat_lon_cats, V3, lat_cats, lon_cats, V4_DS, lat_lon_cats, V4, lat_cats, lon_cats, V5_DS, lat_lon_cats, V5, Region]\n",
                  "Index: []\n",
                  "\n",
                  "[0 rows x 41 columns]\n"
                ]
              },
              {
                "name": "stdout",
                "output_type": "stream",
                "text": [
                  "V6 Done\n"
                ]
              },
              {
                "name": "stdout",
                "output_type": "stream",
                "text": [
                  "V7 Done\n"
                ]
              },
              {
                "name": "stdout",
                "output_type": "stream",
                "text": [
                  "V8 Done\n"
                ]
              },
              {
                "name": "stdout",
                "output_type": "stream",
                "text": [
                  "Data available for time: 6:30 UTC\n"
                ]
              },
              {
                "name": "stdout",
                "output_type": "stream",
                "text": [
                  "                PS      QV10M      Q500        T10M        T500        T850  \\\n",
                  "0     101047.34375  19.809792  2.470016  301.511505  267.562195  294.054169   \n",
                  "1     100935.34375  18.596718  2.302170  299.605255  267.710632  293.835419   \n",
                  "2     100783.34375  18.337318  2.227783  298.745880  267.835632  293.679169   \n",
                  "3     100679.34375  19.062111  2.517700  298.574005  267.577820  293.491669   \n",
                  "4     100631.34375  19.222328  2.859116  298.355255  267.140320  293.421356   \n",
                  "...            ...        ...       ...         ...         ...         ...   \n",
                  "6746   52671.34375   1.434396  1.118183  269.474396  264.124695  269.474396   \n",
                  "6747   51999.34375   1.130650  0.924826  270.886505  266.171570  270.886505   \n",
                  "6748   53607.34375   0.907729  0.727177  274.542755  267.304382  274.542755   \n",
                  "6749   54511.34375   0.760148  0.595570  276.390411  267.780945  276.390411   \n",
                  "6750   53055.34375   0.753711  0.608683  274.339630  268.023132  274.339630   \n",
                  "\n",
                  "           WIND   BCSMASS  DUSMASS25   OCSMASS  SO2SMASS  SO4SMASS  SSSMASS25  \\\n",
                  "0      2.538131  0.593445  56.403225  3.251444  3.402420  1.336553  10.204531   \n",
                  "1      1.504738  0.680075  43.801266  4.978574  2.492016  1.035965   5.948095   \n",
                  "2      0.973699  0.530235  34.706318  6.746632  1.183253  0.763799   3.171408   \n",
                  "3      1.231887  0.318664  29.132935  5.615221  0.493401  0.704000   5.182301   \n",
                  "4      1.620159  0.226919  21.304005  4.307367  0.260570  0.610094   6.513801   \n",
                  "...         ...       ...        ...       ...       ...       ...        ...   \n",
                  "6746   8.561846  0.052495   2.135494  0.191677  0.082196  0.359756   0.052978   \n",
                  "6747  10.992341  0.043187   1.753960  0.155183  0.065683  0.325650   0.042007   \n",
                  "6748  10.639427  0.039975   1.685294  0.145918  0.069008  0.323149   0.038114   \n",
                  "6749   9.670584  0.039364   1.792614  0.144951  0.091433  0.336336   0.037289   \n",
                  "6750   9.836580  0.039833   1.945409  0.147452  0.123009  0.351116   0.037375   \n",
                  "\n",
                  "      TOTEXTTAU       SED         SZA        time    lat      lon     MERRA2  \n",
                  "0      0.346726  1.001707  162.433433  2023-09-29  13.75 -17.0625  72.290404  \n",
                  "1      0.317917  1.001707  162.928591  2023-09-29  13.75 -16.4375  56.832461  \n",
                  "2      0.303635  1.001707  163.415585  2023-09-29  13.75 -15.8125  46.204817  \n",
                  "3      0.303269  1.001707  163.893671  2023-09-29  13.75 -15.1875  41.217119  \n",
                  "4      0.301926  1.001707  164.362031  2023-09-29  13.75 -14.5625  33.190971  \n",
                  "...         ...       ...         ...         ...    ...      ...        ...  \n",
                  "6746   0.021309  1.001707   99.660676  2023-09-29  34.75  77.9375   2.927307  \n",
                  "6747   0.018696  1.001707   99.147586  2023-09-29  34.75  78.5625   2.442106  \n",
                  "6748   0.019257  1.001707   98.634374  2023-09-29  34.75  79.1875   2.353629  \n",
                  "6749   0.020672  1.001707   98.121058  2023-09-29  34.75  79.8125   2.476681  \n",
                  "6750   0.021489  1.001707   97.607660  2023-09-29  34.75  80.4375   2.652853  \n",
                  "\n",
                  "[6751 rows x 20 columns]\n",
                  "10.95066678126653\n"
                ]
              },
              {
                "name": "stdout",
                "output_type": "stream",
                "text": [
                  "14/14 - 0s - 252ms/epoch - 18ms/step\n"
                ]
              },
              {
                "name": "stdout",
                "output_type": "stream",
                "text": [
                  "V1 Done\n",
                  "V2 DUSMASS25\n"
                ]
              },
              {
                "name": "stdout",
                "output_type": "stream",
                "text": [
                  "V2 OCSMASS\n"
                ]
              },
              {
                "name": "stdout",
                "output_type": "stream",
                "text": [
                  "V2 SO2SMASS\n"
                ]
              },
              {
                "name": "stdout",
                "output_type": "stream",
                "text": [
                  "V2 SO4SMASS\n"
                ]
              },
              {
                "name": "stdout",
                "output_type": "stream",
                "text": [
                  "V2 SSSMASS25\n"
                ]
              },
              {
                "name": "stdout",
                "output_type": "stream",
                "text": [
                  "V2 Done\n"
                ]
              },
              {
                "name": "stdout",
                "output_type": "stream",
                "text": [
                  "V3 DUSMASS25\n"
                ]
              },
              {
                "name": "stdout",
                "output_type": "stream",
                "text": [
                  "V3 OCSMASS\n",
                  "Skipping OCSMASS because the subset is empty.\n",
                  "V3 SO2SMASS\n"
                ]
              },
              {
                "name": "stdout",
                "output_type": "stream",
                "text": [
                  "V3 SO4SMASS\n",
                  "Skipping SO4SMASS because the subset is empty.\n",
                  "V3 SSSMASS25\n"
                ]
              },
              {
                "name": "stdout",
                "output_type": "stream",
                "text": [
                  "V3 Done\n"
                ]
              },
              {
                "name": "stdout",
                "output_type": "stream",
                "text": [
                  "V4 DUSMASS25\n"
                ]
              },
              {
                "name": "stdout",
                "output_type": "stream",
                "text": [
                  "V4 OCSMASS\n",
                  "Skipping OCSMASS because the subset is empty.\n",
                  "V4 SO2SMASS\n"
                ]
              },
              {
                "name": "stdout",
                "output_type": "stream",
                "text": [
                  "V4 SSSMASS25\n"
                ]
              },
              {
                "name": "stdout",
                "output_type": "stream",
                "text": [
                  "V4 wSO4\n"
                ]
              },
              {
                "name": "stdout",
                "output_type": "stream",
                "text": [
                  "V4 Done\n"
                ]
              },
              {
                "name": "stdout",
                "output_type": "stream",
                "text": [
                  "V5 CARBON\n",
                  "Skipping CARBON because the subset is empty.\n",
                  "V5 DUSMASS25\n"
                ]
              },
              {
                "name": "stdout",
                "output_type": "stream",
                "text": [
                  "V5 SSSMASS25\n"
                ]
              },
              {
                "name": "stdout",
                "output_type": "stream",
                "text": [
                  "V5 Sulfate\n"
                ]
              },
              {
                "name": "stdout",
                "output_type": "stream",
                "text": [
                  "V5 Done\n",
                  "[15.0, 19.0, 23.0]\n",
                  "Empty DataFrame\n",
                  "Columns: [PS, QV10M, Q500, T10M, T500, T850, WIND, BCSMASS, DUSMASS25, OCSMASS, SO2SMASS, SO4SMASS, SSSMASS25, TOTEXTTAU, SED, SZA, time, lat, lon, MERRA2, V1, V2_DS, V2, lat_lon, closest_lat_lon, lat_cats, lon_cats, V3_DS, lat_lon_cats, V3, lat_cats, lon_cats, V4_DS, lat_lon_cats, V4, lat_cats, lon_cats, V5_DS, lat_lon_cats, V5, Region]\n",
                  "Index: []\n",
                  "\n",
                  "[0 rows x 41 columns]\n"
                ]
              },
              {
                "name": "stdout",
                "output_type": "stream",
                "text": [
                  "V6 Done\n"
                ]
              },
              {
                "name": "stdout",
                "output_type": "stream",
                "text": [
                  "V7 Done\n"
                ]
              },
              {
                "name": "stdout",
                "output_type": "stream",
                "text": [
                  "V8 Done\n"
                ]
              },
              {
                "name": "stdout",
                "output_type": "stream",
                "text": [
                  "Data available for time: 7:30 UTC\n"
                ]
              },
              {
                "name": "stdout",
                "output_type": "stream",
                "text": [
                  "                 PS      QV10M      Q500        T10M        T500        T850  \\\n",
                  "0     101129.203125  19.832752  2.575874  301.427002  267.090149  293.996857   \n",
                  "1     101009.203125  18.840931  2.434731  299.364502  267.379211  293.778107   \n",
                  "2     100857.203125  18.535755  2.390862  298.755127  267.543274  293.645294   \n",
                  "3     100753.203125  19.237659  2.681732  298.755127  267.347961  293.442169   \n",
                  "4     100705.203125  19.420765  2.951622  298.614502  267.066711  293.356232   \n",
                  "...             ...        ...       ...         ...         ...         ...   \n",
                  "6746   52633.203125   1.453064  1.143456  270.132080  264.785461  270.132080   \n",
                  "6747   51961.203125   1.206540  0.998974  271.329346  266.660461  271.329346   \n",
                  "6748   53569.203125   0.979088  0.797272  275.083252  267.887024  275.083252   \n",
                  "6749   54457.203125   0.781439  0.616789  277.227783  268.660461  277.227783   \n",
                  "6750   53001.203125   0.751160  0.601292  275.259033  269.019836  275.259033   \n",
                  "\n",
                  "           WIND   BCSMASS  DUSMASS25   OCSMASS  SO2SMASS  SO4SMASS  SSSMASS25  \\\n",
                  "0      2.735918  0.589353  60.856110  3.202362  3.308742  1.288114  10.993972   \n",
                  "1      1.510068  0.710543  47.162758  5.102297  2.682100  1.043460   6.664777   \n",
                  "2      0.792568  0.556384  35.201084  6.941295  1.315584  0.771748   3.260539   \n",
                  "3      0.965754  0.336854  28.470821  5.929937  0.538421  0.707856   5.333277   \n",
                  "4      1.682099  0.237833  19.928848  4.583885  0.280352  0.618044   6.950358   \n",
                  "...         ...       ...        ...       ...       ...       ...        ...   \n",
                  "6746   8.960088  0.050932   2.012712  0.186705  0.076625  0.353040   0.050846   \n",
                  "6747  11.347401  0.042505   1.632088  0.155100  0.061107  0.313136   0.040160   \n",
                  "6748  11.095947  0.037517   1.431999  0.139582  0.061391  0.295400   0.033722   \n",
                  "6749  10.411031  0.034703   1.382432  0.130260  0.081172  0.295514   0.030425   \n",
                  "6750  10.541194  0.034135   1.440640  0.127020  0.108656  0.302222   0.029971   \n",
                  "\n",
                  "      TOTEXTTAU       SED         SZA        time    lat      lon     MERRA2  \n",
                  "0      0.345580  1.001707  162.433433  2023-09-29  13.75 -17.0625  77.412953  \n",
                  "1      0.322142  1.001707  162.928591  2023-09-29  13.75 -16.4375  61.075131  \n",
                  "2      0.307982  1.001707  163.415585  2023-09-29  13.75 -15.8125  47.020454  \n",
                  "3      0.306761  1.001707  163.893671  2023-09-29  13.75 -15.1875  41.044193  \n",
                  "4      0.303954  1.001707  164.362031  2023-09-29  13.75 -14.5625  32.550734  \n",
                  "...         ...       ...         ...         ...    ...      ...        ...  \n",
                  "6746   0.021796  1.001707   99.660676  2023-09-29  34.75  77.9375   2.786625  \n",
                  "6747   0.019026  1.001707   99.147586  2023-09-29  34.75  78.5625   2.300415  \n",
                  "6748   0.018801  1.001707   98.634374  2023-09-29  34.75  79.1875   2.048996  \n",
                  "6749   0.019385  1.001707   98.121058  2023-09-29  34.75  79.8125   1.984152  \n",
                  "6750   0.019907  1.001707   97.607660  2023-09-29  34.75  80.4375   2.047319  \n",
                  "\n",
                  "[6751 rows x 20 columns]\n",
                  "11.298843109607697\n"
                ]
              },
              {
                "name": "stdout",
                "output_type": "stream",
                "text": [
                  "14/14 - 0s - 387ms/epoch - 28ms/step\n"
                ]
              },
              {
                "name": "stdout",
                "output_type": "stream",
                "text": [
                  "V1 Done\n",
                  "V2 DUSMASS25\n"
                ]
              },
              {
                "name": "stdout",
                "output_type": "stream",
                "text": [
                  "V2 OCSMASS\n"
                ]
              },
              {
                "name": "stdout",
                "output_type": "stream",
                "text": [
                  "V2 SO2SMASS\n"
                ]
              },
              {
                "name": "stdout",
                "output_type": "stream",
                "text": [
                  "V2 SO4SMASS\n"
                ]
              },
              {
                "name": "stdout",
                "output_type": "stream",
                "text": [
                  "V2 SSSMASS25\n"
                ]
              },
              {
                "name": "stdout",
                "output_type": "stream",
                "text": [
                  "V2 Done\n"
                ]
              },
              {
                "name": "stdout",
                "output_type": "stream",
                "text": [
                  "V3 DUSMASS25\n"
                ]
              },
              {
                "name": "stdout",
                "output_type": "stream",
                "text": [
                  "V3 OCSMASS\n",
                  "Skipping OCSMASS because the subset is empty.\n",
                  "V3 SO2SMASS\n"
                ]
              },
              {
                "name": "stdout",
                "output_type": "stream",
                "text": [
                  "V3 SO4SMASS\n",
                  "Skipping SO4SMASS because the subset is empty.\n",
                  "V3 SSSMASS25\n"
                ]
              },
              {
                "name": "stdout",
                "output_type": "stream",
                "text": [
                  "V3 Done\n"
                ]
              },
              {
                "name": "stdout",
                "output_type": "stream",
                "text": [
                  "V4 DUSMASS25\n"
                ]
              },
              {
                "name": "stdout",
                "output_type": "stream",
                "text": [
                  "V4 OCSMASS\n",
                  "Skipping OCSMASS because the subset is empty.\n",
                  "V4 SO2SMASS\n"
                ]
              },
              {
                "name": "stdout",
                "output_type": "stream",
                "text": [
                  "V4 SSSMASS25\n"
                ]
              },
              {
                "name": "stdout",
                "output_type": "stream",
                "text": [
                  "V4 wSO4\n"
                ]
              },
              {
                "name": "stdout",
                "output_type": "stream",
                "text": [
                  "V4 Done\n"
                ]
              },
              {
                "name": "stdout",
                "output_type": "stream",
                "text": [
                  "V5 CARBON\n",
                  "Skipping CARBON because the subset is empty.\n",
                  "V5 DUSMASS25\n"
                ]
              },
              {
                "name": "stdout",
                "output_type": "stream",
                "text": [
                  "V5 SSSMASS25\n"
                ]
              },
              {
                "name": "stdout",
                "output_type": "stream",
                "text": [
                  "V5 Sulfate\n"
                ]
              },
              {
                "name": "stdout",
                "output_type": "stream",
                "text": [
                  "V5 Done\n",
                  "[15.0, 19.0, 23.0]\n",
                  "Empty DataFrame\n",
                  "Columns: [PS, QV10M, Q500, T10M, T500, T850, WIND, BCSMASS, DUSMASS25, OCSMASS, SO2SMASS, SO4SMASS, SSSMASS25, TOTEXTTAU, SED, SZA, time, lat, lon, MERRA2, V1, V2_DS, V2, lat_lon, closest_lat_lon, lat_cats, lon_cats, V3_DS, lat_lon_cats, V3, lat_cats, lon_cats, V4_DS, lat_lon_cats, V4, lat_cats, lon_cats, V5_DS, lat_lon_cats, V5, Region]\n",
                  "Index: []\n",
                  "\n",
                  "[0 rows x 41 columns]\n"
                ]
              },
              {
                "name": "stdout",
                "output_type": "stream",
                "text": [
                  "V6 Done\n"
                ]
              },
              {
                "name": "stdout",
                "output_type": "stream",
                "text": [
                  "V7 Done\n"
                ]
              },
              {
                "name": "stdout",
                "output_type": "stream",
                "text": [
                  "V8 Done\n"
                ]
              },
              {
                "name": "stdout",
                "output_type": "stream",
                "text": [
                  "Data available for time: 8:30 UTC\n"
                ]
              },
              {
                "name": "stdout",
                "output_type": "stream",
                "text": [
                  "                PS      QV10M      Q500        T10M        T500        T850  \\\n",
                  "0     101208.53125  19.947287  2.696991  301.579437  266.653015  293.963562   \n",
                  "1     101088.53125  19.336935  2.581596  299.735687  267.067078  293.760437   \n",
                  "2     100936.53125  18.863913  2.593040  299.329437  267.203796  293.721375   \n",
                  "3     100816.53125  19.497152  2.839088  299.548187  267.110046  293.612000   \n",
                  "4     100768.53125  19.657370  3.020287  299.266937  266.996765  293.526062   \n",
                  "...            ...        ...       ...         ...         ...         ...   \n",
                  "6746   52592.53125   1.462695  1.146793  270.585297  265.406921  270.585297   \n",
                  "6747   51928.53125   1.260039  1.059055  271.513031  267.008484  271.513031   \n",
                  "6748   53536.53125   1.042124  0.863314  275.235687  268.242859  275.235687   \n",
                  "6749   54416.53125   0.819441  0.659704  277.548187  269.188171  277.548187   \n",
                  "6750   52952.53125   0.756022  0.604153  275.786469  269.766296  275.786469   \n",
                  "\n",
                  "           WIND   BCSMASS  DUSMASS25   OCSMASS  SO2SMASS  SO4SMASS  SSSMASS25  \\\n",
                  "0      2.851223  0.578439  64.814232  3.121444  3.165951  1.238697  11.936209   \n",
                  "1      1.610212  0.718956  50.582458  5.127790  2.725756  1.044065   7.374183   \n",
                  "2      0.768440  0.541377  35.041012  6.475661  1.346962  0.777811   3.540663   \n",
                  "3      1.144802  0.311730  26.288034  5.389724  0.497266  0.718466   5.758921   \n",
                  "4      2.296327  0.238629  18.218998  4.603921  0.277964  0.645025   7.465133   \n",
                  "...         ...       ...        ...       ...       ...       ...        ...   \n",
                  "6746   9.065791  0.048517   1.936314  0.177410  0.075005  0.349553   0.050136   \n",
                  "6747  11.354126  0.042264   1.604349  0.155582  0.058918  0.312832   0.040302   \n",
                  "6748  11.144050  0.037247   1.367880  0.140519  0.055195  0.287821   0.032998   \n",
                  "6749  10.807992  0.033112   1.196895  0.127501  0.072930  0.277134   0.027399   \n",
                  "6750  11.079623  0.031506   1.160970  0.120055  0.099618  0.275997   0.025523   \n",
                  "\n",
                  "      TOTEXTTAU       SED         SZA        time    lat      lon     MERRA2  \n",
                  "0      0.342498  1.001707  162.433433  2023-09-29  13.75 -17.0625  82.153531  \n",
                  "1      0.330168  1.001707  162.928591  2023-09-29  13.75 -16.4375  65.238976  \n",
                  "2      0.312834  1.001707  163.415585  2023-09-29  13.75 -15.8125  46.668203  \n",
                  "3      0.307219  1.001707  163.893671  2023-09-29  13.75 -15.1875  38.736301  \n",
                  "4      0.304778  1.001707  164.362031  2023-09-29  13.75 -14.5625  31.413589  \n",
                  "...         ...       ...         ...         ...    ...      ...        ...  \n",
                  "6746   0.022399  1.001707   99.660676  2023-09-29  34.75  77.9375   2.693011  \n",
                  "6747   0.019721  1.001707   99.147586  2023-09-29  34.75  78.5625   2.272640  \n",
                  "6748   0.019118  1.001707   98.634374  2023-09-29  34.75  79.1875   1.974397  \n",
                  "6749   0.018874  1.001707   98.121058  2023-09-29  34.75  79.8125   1.765966  \n",
                  "6750   0.019046  1.001707   97.607660  2023-09-29  34.75  80.4375   1.717550  \n",
                  "\n",
                  "[6751 rows x 20 columns]\n",
                  "11.620847098032634\n"
                ]
              },
              {
                "name": "stdout",
                "output_type": "stream",
                "text": [
                  "14/14 - 0s - 264ms/epoch - 19ms/step\n"
                ]
              },
              {
                "name": "stdout",
                "output_type": "stream",
                "text": [
                  "V1 Done\n",
                  "V2 DUSMASS25\n"
                ]
              },
              {
                "name": "stdout",
                "output_type": "stream",
                "text": [
                  "V2 OCSMASS\n"
                ]
              },
              {
                "name": "stdout",
                "output_type": "stream",
                "text": [
                  "V2 SO2SMASS\n"
                ]
              },
              {
                "name": "stdout",
                "output_type": "stream",
                "text": [
                  "V2 SO4SMASS\n"
                ]
              },
              {
                "name": "stdout",
                "output_type": "stream",
                "text": [
                  "V2 SSSMASS25\n"
                ]
              },
              {
                "name": "stdout",
                "output_type": "stream",
                "text": [
                  "V2 Done\n"
                ]
              },
              {
                "name": "stdout",
                "output_type": "stream",
                "text": [
                  "V3 DUSMASS25\n"
                ]
              },
              {
                "name": "stdout",
                "output_type": "stream",
                "text": [
                  "V3 OCSMASS\n",
                  "Skipping OCSMASS because the subset is empty.\n",
                  "V3 SO2SMASS\n"
                ]
              },
              {
                "name": "stdout",
                "output_type": "stream",
                "text": [
                  "V3 SO4SMASS\n",
                  "Skipping SO4SMASS because the subset is empty.\n",
                  "V3 SSSMASS25\n"
                ]
              },
              {
                "name": "stdout",
                "output_type": "stream",
                "text": [
                  "V3 Done\n"
                ]
              },
              {
                "name": "stdout",
                "output_type": "stream",
                "text": [
                  "V4 DUSMASS25\n"
                ]
              },
              {
                "name": "stdout",
                "output_type": "stream",
                "text": [
                  "V4 OCSMASS\n",
                  "Skipping OCSMASS because the subset is empty.\n",
                  "V4 SO2SMASS\n"
                ]
              },
              {
                "name": "stdout",
                "output_type": "stream",
                "text": [
                  "V4 SSSMASS25\n"
                ]
              },
              {
                "name": "stdout",
                "output_type": "stream",
                "text": [
                  "V4 wSO4\n"
                ]
              },
              {
                "name": "stdout",
                "output_type": "stream",
                "text": [
                  "V4 Done\n"
                ]
              },
              {
                "name": "stdout",
                "output_type": "stream",
                "text": [
                  "V5 CARBON\n",
                  "Skipping CARBON because the subset is empty.\n",
                  "V5 DUSMASS25\n"
                ]
              },
              {
                "name": "stdout",
                "output_type": "stream",
                "text": [
                  "V5 SSSMASS25\n"
                ]
              },
              {
                "name": "stdout",
                "output_type": "stream",
                "text": [
                  "V5 Sulfate\n"
                ]
              },
              {
                "name": "stdout",
                "output_type": "stream",
                "text": [
                  "V5 Done\n",
                  "[15.0, 19.0, 23.0]\n",
                  "Empty DataFrame\n",
                  "Columns: [PS, QV10M, Q500, T10M, T500, T850, WIND, BCSMASS, DUSMASS25, OCSMASS, SO2SMASS, SO4SMASS, SSSMASS25, TOTEXTTAU, SED, SZA, time, lat, lon, MERRA2, V1, V2_DS, V2, lat_lon, closest_lat_lon, lat_cats, lon_cats, V3_DS, lat_lon_cats, V3, lat_cats, lon_cats, V4_DS, lat_lon_cats, V4, lat_cats, lon_cats, V5_DS, lat_lon_cats, V5, Region]\n",
                  "Index: []\n",
                  "\n",
                  "[0 rows x 41 columns]\n"
                ]
              },
              {
                "name": "stdout",
                "output_type": "stream",
                "text": [
                  "V6 Done\n"
                ]
              },
              {
                "name": "stdout",
                "output_type": "stream",
                "text": [
                  "V7 Done\n"
                ]
              },
              {
                "name": "stdout",
                "output_type": "stream",
                "text": [
                  "V8 Done\n"
                ]
              },
              {
                "name": "stdout",
                "output_type": "stream",
                "text": [
                  "Data available for time: 9:30 UTC\n"
                ]
              },
              {
                "name": "stdout",
                "output_type": "stream",
                "text": [
                  "               PS      QV10M      Q500        T10M        T500        T850  \\\n",
                  "0     101272.9375  19.733728  2.793312  301.971649  266.409302  293.960358   \n",
                  "1     101144.9375  19.535364  2.720833  300.190399  266.827271  293.843170   \n",
                  "2     100992.9375  18.757166  2.796173  300.440399  266.932739  293.913483   \n",
                  "3     100864.9375  19.329370  2.978325  301.299774  266.917114  293.936920   \n",
                  "4     100808.9375  20.107569  3.057480  300.284149  266.963989  293.897858   \n",
                  "...           ...        ...       ...         ...         ...         ...   \n",
                  "6746   52568.9375   1.508059  1.182079  270.748993  265.858521  270.748993   \n",
                  "6747   51912.9375   1.325908  1.130104  271.405243  267.167114  271.405243   \n",
                  "6748   53512.9375   1.118007  0.948429  275.041962  268.370239  275.041962   \n",
                  "6749   54400.9375   0.872197  0.721216  277.409149  269.393677  277.409149   \n",
                  "6750   52928.9375   0.771584  0.622034  275.854462  270.159302  275.854462   \n",
                  "\n",
                  "           WIND   BCSMASS  DUSMASS25   OCSMASS  SO2SMASS  SO4SMASS  SSSMASS25  \\\n",
                  "0      2.741494  0.497494  57.305443  2.724846  2.847628  1.111446  12.329110   \n",
                  "1      1.554356  0.611180  36.408894  4.474714  2.532033  0.879752   7.157723   \n",
                  "2      0.704241  0.426780  19.201252  4.885806  1.207354  0.597582   3.036803   \n",
                  "3      1.371747  0.220666  15.817932  3.612513  0.373575  0.631233   5.513357   \n",
                  "4      2.764086  0.209582  22.082531  3.728928  0.239538  0.787666   8.538336   \n",
                  "...         ...       ...        ...       ...       ...       ...        ...   \n",
                  "6746   8.964504  0.049298   2.212801  0.180989  0.081712  0.377598   0.055735   \n",
                  "6747  11.083250  0.043855   1.837634  0.162743  0.063437  0.335874   0.045191   \n",
                  "6748  10.940375  0.038597   1.502485  0.146372  0.053305  0.299608   0.035698   \n",
                  "6749  10.802894  0.033325   1.175977  0.129887  0.067871  0.273915   0.027214   \n",
                  "6750  11.223967  0.030610   1.014541  0.118973  0.095184  0.264479   0.023043   \n",
                  "\n",
                  "      TOTEXTTAU       SED         SZA        time    lat      lon     MERRA2  \n",
                  "0      0.307799  1.001707  162.433433  2023-09-29  13.75 -17.0625  74.385130  \n",
                  "1      0.273742  1.001707  162.928591  2023-09-29  13.75 -16.4375  49.862169  \n",
                  "2      0.252013  1.001707  163.415585  2023-09-29  13.75 -15.8125  28.372316  \n",
                  "3      0.277160  1.001707  163.893671  2023-09-29  13.75 -15.1875  26.032413  \n",
                  "4      0.352721  1.001707  164.362031  2023-09-29  13.75 -14.5625  35.642418  \n",
                  "...         ...       ...         ...         ...    ...      ...        ...  \n",
                  "6746   0.025352  1.001707   99.660676  2023-09-29  34.75  77.9375   3.018019  \n",
                  "6747   0.022590  1.001707   99.147586  2023-09-29  34.75  78.5625   2.551249  \n",
                  "6748   0.021098  1.001707   98.634374  2023-09-29  34.75  79.1875   2.135113  \n",
                  "6749   0.019504  1.001707   98.121058  2023-09-29  34.75  79.8125   1.743035  \n",
                  "6750   0.018809  1.001707   97.607660  2023-09-29  34.75  80.4375   1.550827  \n",
                  "\n",
                  "[6751 rows x 20 columns]\n",
                  "11.944046692053478\n"
                ]
              },
              {
                "name": "stdout",
                "output_type": "stream",
                "text": [
                  "14/14 - 0s - 255ms/epoch - 18ms/step\n"
                ]
              },
              {
                "name": "stdout",
                "output_type": "stream",
                "text": [
                  "V1 Done\n",
                  "V2 DUSMASS25\n"
                ]
              },
              {
                "name": "stdout",
                "output_type": "stream",
                "text": [
                  "V2 OCSMASS\n"
                ]
              },
              {
                "name": "stdout",
                "output_type": "stream",
                "text": [
                  "V2 SO2SMASS\n"
                ]
              },
              {
                "name": "stdout",
                "output_type": "stream",
                "text": [
                  "V2 SO4SMASS\n"
                ]
              },
              {
                "name": "stdout",
                "output_type": "stream",
                "text": [
                  "V2 SSSMASS25\n"
                ]
              },
              {
                "name": "stdout",
                "output_type": "stream",
                "text": [
                  "V2 Done\n"
                ]
              },
              {
                "name": "stdout",
                "output_type": "stream",
                "text": [
                  "V3 DUSMASS25\n"
                ]
              },
              {
                "name": "stdout",
                "output_type": "stream",
                "text": [
                  "V3 OCSMASS\n",
                  "Skipping OCSMASS because the subset is empty.\n",
                  "V3 SO2SMASS\n"
                ]
              },
              {
                "name": "stdout",
                "output_type": "stream",
                "text": [
                  "V3 SO4SMASS\n",
                  "Skipping SO4SMASS because the subset is empty.\n",
                  "V3 SSSMASS25\n"
                ]
              },
              {
                "name": "stdout",
                "output_type": "stream",
                "text": [
                  "V3 Done\n"
                ]
              },
              {
                "name": "stdout",
                "output_type": "stream",
                "text": [
                  "V4 DUSMASS25\n"
                ]
              },
              {
                "name": "stdout",
                "output_type": "stream",
                "text": [
                  "V4 OCSMASS\n",
                  "Skipping OCSMASS because the subset is empty.\n",
                  "V4 SO2SMASS\n"
                ]
              },
              {
                "name": "stdout",
                "output_type": "stream",
                "text": [
                  "V4 SSSMASS25\n"
                ]
              },
              {
                "name": "stdout",
                "output_type": "stream",
                "text": [
                  "V4 wSO4\n"
                ]
              },
              {
                "name": "stdout",
                "output_type": "stream",
                "text": [
                  "V4 Done\n"
                ]
              },
              {
                "name": "stdout",
                "output_type": "stream",
                "text": [
                  "V5 CARBON\n",
                  "Skipping CARBON because the subset is empty.\n",
                  "V5 DUSMASS25\n"
                ]
              },
              {
                "name": "stdout",
                "output_type": "stream",
                "text": [
                  "V5 SSSMASS25\n"
                ]
              },
              {
                "name": "stdout",
                "output_type": "stream",
                "text": [
                  "V5 Sulfate\n"
                ]
              },
              {
                "name": "stdout",
                "output_type": "stream",
                "text": [
                  "V5 Done\n",
                  "[15.0, 19.0, 23.0]\n",
                  "Empty DataFrame\n",
                  "Columns: [PS, QV10M, Q500, T10M, T500, T850, WIND, BCSMASS, DUSMASS25, OCSMASS, SO2SMASS, SO4SMASS, SSSMASS25, TOTEXTTAU, SED, SZA, time, lat, lon, MERRA2, V1, V2_DS, V2, lat_lon, closest_lat_lon, lat_cats, lon_cats, V3_DS, lat_lon_cats, V3, lat_cats, lon_cats, V4_DS, lat_lon_cats, V4, lat_cats, lon_cats, V5_DS, lat_lon_cats, V5, Region]\n",
                  "Index: []\n",
                  "\n",
                  "[0 rows x 41 columns]\n"
                ]
              },
              {
                "name": "stdout",
                "output_type": "stream",
                "text": [
                  "V6 Done\n"
                ]
              },
              {
                "name": "stdout",
                "output_type": "stream",
                "text": [
                  "V7 Done\n"
                ]
              },
              {
                "name": "stdout",
                "output_type": "stream",
                "text": [
                  "V8 Done\n"
                ]
              },
              {
                "name": "stdout",
                "output_type": "stream",
                "text": [
                  "Data available for time: 10:30 UTC\n"
                ]
              },
              {
                "name": "stdout",
                "output_type": "stream",
                "text": [
                  "                 PS      QV10M      Q500        T10M        T500        T850  \\\n",
                  "0     101291.226562  19.245430  2.880099  302.583191  266.276459  293.997742   \n",
                  "1     101163.226562  19.230171  2.835276  301.551941  266.741302  293.966492   \n",
                  "2     100995.226562  18.490120  2.941134  302.083191  266.858490  293.927429   \n",
                  "3     100859.226562  18.719002  3.033641  302.989441  266.936615  293.943054   \n",
                  "4     100803.226562  20.183846  3.050807  301.411316  267.026459  294.349304   \n",
                  "...             ...        ...       ...         ...         ...         ...   \n",
                  "6746   52555.226562   1.610561  1.296046  270.438660  265.967865  270.438660   \n",
                  "6747   51907.226562   1.412197  1.224997  270.960144  267.131927  270.960144   \n",
                  "6748   53515.226562   1.214787  1.053336  274.462097  268.260834  274.462097   \n",
                  "6749   54403.226562   0.955864  0.813010  276.774597  269.276459  276.774597   \n",
                  "6750   52931.226562   0.810429  0.663998  275.387878  270.174896  275.387878   \n",
                  "\n",
                  "           WIND   BCSMASS  DUSMASS25   OCSMASS  SO2SMASS  SO4SMASS  SSSMASS25  \\\n",
                  "0      2.628516  0.434398  56.883438  2.340131  2.276465  1.069820  13.169483   \n",
                  "1      1.476955  0.436899  40.527084  3.147762  1.990884  0.856771   8.098141   \n",
                  "2      0.777646  0.318551  22.460880  3.511560  0.969521  0.567551   3.023160   \n",
                  "3      1.502313  0.172122  15.854312  2.663002  0.303430  0.551408   4.332833   \n",
                  "4      2.774281  0.180990  18.277206  3.077731  0.211969  0.719664   7.299604   \n",
                  "...         ...       ...        ...       ...       ...       ...        ...   \n",
                  "6746   8.533777  0.047578   2.046363  0.174738  0.096975  0.376216   0.052651   \n",
                  "6747  10.441119  0.043386   1.818535  0.160982  0.076909  0.345521   0.045631   \n",
                  "6748  10.353200  0.039251   1.564786  0.148817  0.059003  0.313120   0.037417   \n",
                  "6749  10.326363  0.034220   1.224635  0.133583  0.069321  0.279583   0.028272   \n",
                  "6750  10.771491  0.030781   0.960881  0.120680  0.096662  0.261961   0.022084   \n",
                  "\n",
                  "      TOTEXTTAU       SED         SZA        time    lat      lon     MERRA2  \n",
                  "0      0.308280  1.001707  162.433433  2023-09-29  13.75 -17.0625  74.298451  \n",
                  "1      0.275322  1.001707  162.928591  2023-09-29  13.75 -16.4375  53.387946  \n",
                  "2      0.265800  1.001707  163.415585  2023-09-29  13.75 -15.8125  30.094536  \n",
                  "3      0.297782  1.001707  163.893671  2023-09-29  13.75 -15.1875  23.780454  \n",
                  "4      0.360771  1.001707  164.362031  2023-09-29  13.75 -14.5625  29.825069  \n",
                  "...         ...       ...         ...         ...    ...      ...        ...  \n",
                  "6746   0.025581  1.001707   99.660676  2023-09-29  34.75  77.9375   2.838628  \n",
                  "6747   0.023040  1.001707   99.147586  2023-09-29  34.75  78.5625   2.543625  \n",
                  "6748   0.022293  1.001707   98.634374  2023-09-29  34.75  79.1875   2.220811  \n",
                  "6749   0.020706  1.001707   98.121058  2023-09-29  34.75  79.8125   1.805136  \n",
                  "6750   0.019290  1.001707   97.607660  2023-09-29  34.75  80.4375   1.494622  \n",
                  "\n",
                  "[6751 rows x 20 columns]\n",
                  "12.317105960845947\n"
                ]
              },
              {
                "name": "stdout",
                "output_type": "stream",
                "text": [
                  "14/14 - 0s - 260ms/epoch - 19ms/step\n"
                ]
              },
              {
                "name": "stdout",
                "output_type": "stream",
                "text": [
                  "V1 Done\n",
                  "V2 DUSMASS25\n"
                ]
              },
              {
                "name": "stdout",
                "output_type": "stream",
                "text": [
                  "V2 OCSMASS\n"
                ]
              },
              {
                "name": "stdout",
                "output_type": "stream",
                "text": [
                  "V2 SO2SMASS\n"
                ]
              },
              {
                "name": "stdout",
                "output_type": "stream",
                "text": [
                  "V2 SO4SMASS\n"
                ]
              },
              {
                "name": "stdout",
                "output_type": "stream",
                "text": [
                  "V2 SSSMASS25\n"
                ]
              },
              {
                "name": "stdout",
                "output_type": "stream",
                "text": [
                  "V2 Done\n"
                ]
              },
              {
                "name": "stdout",
                "output_type": "stream",
                "text": [
                  "V3 DUSMASS25\n"
                ]
              },
              {
                "name": "stdout",
                "output_type": "stream",
                "text": [
                  "V3 OCSMASS\n",
                  "Skipping OCSMASS because the subset is empty.\n",
                  "V3 SO2SMASS\n"
                ]
              },
              {
                "name": "stdout",
                "output_type": "stream",
                "text": [
                  "V3 SO4SMASS\n",
                  "Skipping SO4SMASS because the subset is empty.\n",
                  "V3 SSSMASS25\n"
                ]
              },
              {
                "name": "stdout",
                "output_type": "stream",
                "text": [
                  "V3 Done\n"
                ]
              },
              {
                "name": "stdout",
                "output_type": "stream",
                "text": [
                  "V4 DUSMASS25\n"
                ]
              },
              {
                "name": "stdout",
                "output_type": "stream",
                "text": [
                  "V4 OCSMASS\n",
                  "Skipping OCSMASS because the subset is empty.\n",
                  "V4 SO2SMASS\n"
                ]
              },
              {
                "name": "stdout",
                "output_type": "stream",
                "text": [
                  "V4 SSSMASS25\n"
                ]
              },
              {
                "name": "stdout",
                "output_type": "stream",
                "text": [
                  "V4 wSO4\n"
                ]
              },
              {
                "name": "stdout",
                "output_type": "stream",
                "text": [
                  "V4 Done\n"
                ]
              },
              {
                "name": "stdout",
                "output_type": "stream",
                "text": [
                  "V5 CARBON\n",
                  "Skipping CARBON because the subset is empty.\n",
                  "V5 DUSMASS25\n"
                ]
              },
              {
                "name": "stdout",
                "output_type": "stream",
                "text": [
                  "V5 SSSMASS25\n"
                ]
              },
              {
                "name": "stdout",
                "output_type": "stream",
                "text": [
                  "V5 Sulfate\n"
                ]
              },
              {
                "name": "stdout",
                "output_type": "stream",
                "text": [
                  "V5 Done\n",
                  "[15.0, 19.0, 23.0]\n",
                  "Empty DataFrame\n",
                  "Columns: [PS, QV10M, Q500, T10M, T500, T850, WIND, BCSMASS, DUSMASS25, OCSMASS, SO2SMASS, SO4SMASS, SSSMASS25, TOTEXTTAU, SED, SZA, time, lat, lon, MERRA2, V1, V2_DS, V2, lat_lon, closest_lat_lon, lat_cats, lon_cats, V3_DS, lat_lon_cats, V3, lat_cats, lon_cats, V4_DS, lat_lon_cats, V4, lat_cats, lon_cats, V5_DS, lat_lon_cats, V5, Region]\n",
                  "Index: []\n",
                  "\n",
                  "[0 rows x 41 columns]\n"
                ]
              },
              {
                "name": "stdout",
                "output_type": "stream",
                "text": [
                  "V6 Done\n"
                ]
              },
              {
                "name": "stdout",
                "output_type": "stream",
                "text": [
                  "V7 Done\n"
                ]
              },
              {
                "name": "stdout",
                "output_type": "stream",
                "text": [
                  "V8 Done\n"
                ]
              },
              {
                "name": "stdout",
                "output_type": "stream",
                "text": [
                  "Data available for time: 11:30 UTC\n"
                ]
              },
              {
                "name": "stdout",
                "output_type": "stream",
                "text": [
                  "                 PS      QV10M      Q500        T10M        T500        T850  \\\n",
                  "0     101261.078125  18.436522  2.962119  303.205627  266.280029  294.076477   \n",
                  "1     101133.078125  18.467039  2.968795  302.705627  266.662842  294.099915   \n",
                  "2     100957.078125  17.795652  3.057486  303.486877  266.780029  294.037415   \n",
                  "3     100805.078125  18.497557  3.067977  303.861877  266.932373  294.099915   \n",
                  "4     100757.078125  20.130247  3.046996  302.346252  267.061279  294.717102   \n",
                  "...             ...        ...       ...         ...         ...         ...   \n",
                  "6746   52565.078125   1.769155  1.509196  269.525940  265.682373  269.525940   \n",
                  "6747   51917.078125   1.538842  1.373774  270.014221  266.811279  270.014221   \n",
                  "6748   53525.078125   1.332372  1.164443  273.365784  267.928467  273.365784   \n",
                  "6749   54421.078125   1.095861  0.924355  275.420471  268.826904  275.420471   \n",
                  "6750   52941.078125   0.887244  0.733859  274.197815  269.834717  274.197815   \n",
                  "\n",
                  "          WIND   BCSMASS  DUSMASS25   OCSMASS  SO2SMASS  SO4SMASS  SSSMASS25  \\\n",
                  "0     2.471218  0.377899  55.311829  2.018185  1.856733  1.030627  13.063982   \n",
                  "1     1.460219  0.320600  41.996826  2.248287  1.589797  0.834176   8.138159   \n",
                  "2     1.111714  0.225956  26.200724  2.442010  0.812634  0.576562   3.140485   \n",
                  "3     1.750835  0.153197  15.992555  2.285577  0.275577  0.504030   3.396963   \n",
                  "4     2.623957  0.159392  15.825208  2.628456  0.188265  0.620672   5.858965   \n",
                  "...        ...       ...        ...       ...       ...       ...        ...   \n",
                  "6746  7.568285  0.047795   1.899025  0.178562  0.116472  0.377610   0.049724   \n",
                  "6747  9.352557  0.043347   1.728495  0.161509  0.098026  0.351917   0.043940   \n",
                  "6748  9.042683  0.039524   1.547050  0.149117  0.074152  0.323495   0.037218   \n",
                  "6749  8.764987  0.035119   1.275112  0.135929  0.080547  0.288707   0.029075   \n",
                  "6750  9.220979  0.031353   0.965429  0.122173  0.110248  0.263241   0.021842   \n",
                  "\n",
                  "      TOTEXTTAU       SED         SZA        time    lat      lon     MERRA2  \n",
                  "0      0.310553  1.001707  162.433433  2023-09-29  13.75 -17.0625  72.189008  \n",
                  "1      0.287237  1.001707  162.928591  2023-09-29  13.75 -16.4375  53.850866  \n",
                  "2      0.289923  1.001707  163.415585  2023-09-29  13.75 -15.8125  32.801947  \n",
                  "3      0.320196  1.001707  163.893671  2023-09-29  13.75 -15.1875  22.521331  \n",
                  "4      0.361822  1.001707  164.362031  2023-09-29  13.75 -14.5625  25.325446  \n",
                  "...         ...       ...         ...         ...    ...      ...        ...  \n",
                  "6746   0.028280  1.001707   99.660676  2023-09-29  34.75  77.9375   2.694319  \n",
                  "6747   0.024931  1.001707   99.147586  2023-09-29  34.75  78.5625   2.461175  \n",
                  "6748   0.023306  1.001707   98.634374  2023-09-29  34.75  79.1875   2.217715  \n",
                  "6749   0.021704  1.001707   98.121058  2023-09-29  34.75  79.8125   1.872206  \n",
                  "6750   0.019838  1.001707   97.607660  2023-09-29  34.75  80.4375   1.502753  \n",
                  "\n",
                  "[6751 rows x 20 columns]\n",
                  "12.648160564899445\n"
                ]
              },
              {
                "name": "stdout",
                "output_type": "stream",
                "text": [
                  "14/14 - 0s - 294ms/epoch - 21ms/step\n"
                ]
              },
              {
                "name": "stdout",
                "output_type": "stream",
                "text": [
                  "V1 Done\n",
                  "V2 DUSMASS25\n"
                ]
              },
              {
                "name": "stdout",
                "output_type": "stream",
                "text": [
                  "V2 OCSMASS\n"
                ]
              },
              {
                "name": "stdout",
                "output_type": "stream",
                "text": [
                  "V2 SO2SMASS\n"
                ]
              },
              {
                "name": "stdout",
                "output_type": "stream",
                "text": [
                  "V2 SO4SMASS\n"
                ]
              },
              {
                "name": "stdout",
                "output_type": "stream",
                "text": [
                  "V2 SSSMASS25\n"
                ]
              },
              {
                "name": "stdout",
                "output_type": "stream",
                "text": [
                  "V2 Done\n"
                ]
              },
              {
                "name": "stdout",
                "output_type": "stream",
                "text": [
                  "V3 DUSMASS25\n"
                ]
              },
              {
                "name": "stdout",
                "output_type": "stream",
                "text": [
                  "V3 OCSMASS\n",
                  "Skipping OCSMASS because the subset is empty.\n",
                  "V3 SO2SMASS\n"
                ]
              },
              {
                "name": "stdout",
                "output_type": "stream",
                "text": [
                  "V3 SO4SMASS\n",
                  "Skipping SO4SMASS because the subset is empty.\n",
                  "V3 SSSMASS25\n"
                ]
              },
              {
                "name": "stdout",
                "output_type": "stream",
                "text": [
                  "V3 Done\n"
                ]
              },
              {
                "name": "stdout",
                "output_type": "stream",
                "text": [
                  "V4 DUSMASS25\n"
                ]
              },
              {
                "name": "stdout",
                "output_type": "stream",
                "text": [
                  "V4 OCSMASS\n",
                  "Skipping OCSMASS because the subset is empty.\n",
                  "V4 SO2SMASS\n"
                ]
              },
              {
                "name": "stdout",
                "output_type": "stream",
                "text": [
                  "V4 SSSMASS25\n"
                ]
              },
              {
                "name": "stdout",
                "output_type": "stream",
                "text": [
                  "V4 wSO4\n"
                ]
              },
              {
                "name": "stdout",
                "output_type": "stream",
                "text": [
                  "V4 Done\n"
                ]
              },
              {
                "name": "stdout",
                "output_type": "stream",
                "text": [
                  "V5 CARBON\n",
                  "Skipping CARBON because the subset is empty.\n",
                  "V5 DUSMASS25\n"
                ]
              },
              {
                "name": "stdout",
                "output_type": "stream",
                "text": [
                  "V5 SSSMASS25\n"
                ]
              },
              {
                "name": "stdout",
                "output_type": "stream",
                "text": [
                  "V5 Sulfate\n"
                ]
              },
              {
                "name": "stdout",
                "output_type": "stream",
                "text": [
                  "V5 Done\n",
                  "[15.0, 19.0, 23.0]\n",
                  "Empty DataFrame\n",
                  "Columns: [PS, QV10M, Q500, T10M, T500, T850, WIND, BCSMASS, DUSMASS25, OCSMASS, SO2SMASS, SO4SMASS, SSSMASS25, TOTEXTTAU, SED, SZA, time, lat, lon, MERRA2, V1, V2_DS, V2, lat_lon, closest_lat_lon, lat_cats, lon_cats, V3_DS, lat_lon_cats, V3, lat_cats, lon_cats, V4_DS, lat_lon_cats, V4, lat_cats, lon_cats, V5_DS, lat_lon_cats, V5, Region]\n",
                  "Index: []\n",
                  "\n",
                  "[0 rows x 41 columns]\n"
                ]
              },
              {
                "name": "stdout",
                "output_type": "stream",
                "text": [
                  "V6 Done\n"
                ]
              },
              {
                "name": "stdout",
                "output_type": "stream",
                "text": [
                  "V7 Done\n"
                ]
              },
              {
                "name": "stdout",
                "output_type": "stream",
                "text": [
                  "V8 Done\n"
                ]
              },
              {
                "name": "stdout",
                "output_type": "stream",
                "text": [
                  "Data available for time: 12:30 UTC\n"
                ]
              },
              {
                "name": "stdout",
                "output_type": "stream",
                "text": [
                  "                 PS      QV10M      Q500        T10M        T500        T850  \\\n",
                  "0     101178.226562  17.871746  3.056537  303.633698  266.359711  294.214294   \n",
                  "1     101050.226562  18.215069  3.071795  303.274323  266.676117  294.284607   \n",
                  "2     100866.226562  17.818340  3.108989  303.961823  266.765961  294.386169   \n",
                  "3     100714.226562  18.375286  3.074656  304.321198  266.972992  294.518982   \n",
                  "4     100666.226562  19.962200  3.038417  303.055573  267.113617  294.956482   \n",
                  "...             ...        ...       ...         ...         ...         ...   \n",
                  "6746   52586.226562   1.896748  1.770030  267.998932  265.074554  267.998932   \n",
                  "6747   51938.226562   1.673111  1.578341  268.078033  266.144867  268.078033   \n",
                  "6748   53554.226562   1.541504  1.292716  270.475494  267.387054  270.475494   \n",
                  "6749   54450.226562   1.385579  1.028548  271.411041  268.215179  271.411041   \n",
                  "6750   52970.226562   1.080880  0.815402  270.541901  269.230804  270.541901   \n",
                  "\n",
                  "          WIND   BCSMASS  DUSMASS25   OCSMASS  SO2SMASS  SO4SMASS  SSSMASS25  \\\n",
                  "0     2.214658  0.324468  47.075447  1.758990  1.591616  0.931382  12.165401   \n",
                  "1     1.309948  0.274333  38.693542  1.950893  1.360604  0.787910   7.810740   \n",
                  "2     1.577312  0.202994  25.785994  2.201005  0.742602  0.563947   3.101377   \n",
                  "3     1.999097  0.143479  16.065315  2.078223  0.272735  0.470041   2.708475   \n",
                  "4     2.432625  0.141774  14.206307  2.283768  0.172065  0.529841   4.592948   \n",
                  "...        ...       ...        ...       ...       ...       ...        ...   \n",
                  "6746  5.766052  0.049744   1.802164  0.189259  0.133241  0.381707   0.048388   \n",
                  "6747  7.089425  0.045026   1.656645  0.169875  0.119712  0.359538   0.042633   \n",
                  "6748  6.110413  0.040806   1.502940  0.153050  0.100101  0.330775   0.035982   \n",
                  "6749  5.498695  0.036017   1.290118  0.137190  0.120906  0.296100   0.028962   \n",
                  "6750  5.857009  0.032137   0.990440  0.122923  0.176556  0.267338   0.021821   \n",
                  "\n",
                  "      TOTEXTTAU       SED         SZA        time    lat      lon     MERRA2  \n",
                  "0      0.291439  1.001707  162.433433  2023-09-29  13.75 -17.0625  62.604956  \n",
                  "1      0.296688  1.001707  162.928591  2023-09-29  13.75 -16.4375  49.812885  \n",
                  "2      0.311336  1.001707  163.415585  2023-09-29  13.75 -15.8125  32.066796  \n",
                  "3      0.331112  1.001707  163.893671  2023-09-29  13.75 -15.1875  21.641798  \n",
                  "4      0.354427  1.001707  164.362031  2023-09-29  13.75 -14.5625  21.953328  \n",
                  "...         ...       ...         ...         ...    ...      ...        ...  \n",
                  "6746   0.029407  1.001707   99.660676  2023-09-29  34.75  77.9375   2.614401  \n",
                  "6747   0.026958  1.001707   99.147586  2023-09-29  34.75  78.5625   2.408543  \n",
                  "6748   0.024471  1.001707   98.634374  2023-09-29  34.75  79.1875   2.187593  \n",
                  "6749   0.022533  1.001707   98.121058  2023-09-29  34.75  79.8125   1.899425  \n",
                  "6750   0.020412  1.001707   97.607660  2023-09-29  34.75  80.4375   1.534909  \n",
                  "\n",
                  "[6751 rows x 20 columns]\n",
                  "12.98011710246404\n"
                ]
              },
              {
                "name": "stdout",
                "output_type": "stream",
                "text": [
                  "14/14 - 0s - 259ms/epoch - 18ms/step\n"
                ]
              },
              {
                "name": "stdout",
                "output_type": "stream",
                "text": [
                  "V1 Done\n",
                  "V2 DUSMASS25\n"
                ]
              },
              {
                "name": "stdout",
                "output_type": "stream",
                "text": [
                  "V2 OCSMASS\n"
                ]
              },
              {
                "name": "stdout",
                "output_type": "stream",
                "text": [
                  "V2 SO2SMASS\n"
                ]
              },
              {
                "name": "stdout",
                "output_type": "stream",
                "text": [
                  "V2 SO4SMASS\n"
                ]
              },
              {
                "name": "stdout",
                "output_type": "stream",
                "text": [
                  "V2 SSSMASS25\n"
                ]
              },
              {
                "name": "stdout",
                "output_type": "stream",
                "text": [
                  "V2 Done\n"
                ]
              },
              {
                "name": "stdout",
                "output_type": "stream",
                "text": [
                  "V3 DUSMASS25\n"
                ]
              },
              {
                "name": "stdout",
                "output_type": "stream",
                "text": [
                  "V3 OCSMASS\n",
                  "Skipping OCSMASS because the subset is empty.\n",
                  "V3 SO2SMASS\n"
                ]
              },
              {
                "name": "stdout",
                "output_type": "stream",
                "text": [
                  "V3 SO4SMASS\n",
                  "Skipping SO4SMASS because the subset is empty.\n",
                  "V3 SSSMASS25\n"
                ]
              },
              {
                "name": "stdout",
                "output_type": "stream",
                "text": [
                  "V3 Done\n"
                ]
              },
              {
                "name": "stdout",
                "output_type": "stream",
                "text": [
                  "V4 DUSMASS25\n"
                ]
              },
              {
                "name": "stdout",
                "output_type": "stream",
                "text": [
                  "V4 OCSMASS\n",
                  "Skipping OCSMASS because the subset is empty.\n",
                  "V4 SO2SMASS\n"
                ]
              },
              {
                "name": "stdout",
                "output_type": "stream",
                "text": [
                  "V4 SSSMASS25\n"
                ]
              },
              {
                "name": "stdout",
                "output_type": "stream",
                "text": [
                  "V4 wSO4\n"
                ]
              },
              {
                "name": "stdout",
                "output_type": "stream",
                "text": [
                  "V4 Done\n"
                ]
              },
              {
                "name": "stdout",
                "output_type": "stream",
                "text": [
                  "V5 CARBON\n",
                  "Skipping CARBON because the subset is empty.\n",
                  "V5 DUSMASS25\n"
                ]
              },
              {
                "name": "stdout",
                "output_type": "stream",
                "text": [
                  "V5 SSSMASS25\n"
                ]
              },
              {
                "name": "stdout",
                "output_type": "stream",
                "text": [
                  "V5 Sulfate\n"
                ]
              },
              {
                "name": "stdout",
                "output_type": "stream",
                "text": [
                  "V5 Done\n",
                  "[15.0, 19.0, 23.0]\n",
                  "Empty DataFrame\n",
                  "Columns: [PS, QV10M, Q500, T10M, T500, T850, WIND, BCSMASS, DUSMASS25, OCSMASS, SO2SMASS, SO4SMASS, SSSMASS25, TOTEXTTAU, SED, SZA, time, lat, lon, MERRA2, V1, V2_DS, V2, lat_lon, closest_lat_lon, lat_cats, lon_cats, V3_DS, lat_lon_cats, V3, lat_cats, lon_cats, V4_DS, lat_lon_cats, V4, lat_cats, lon_cats, V5_DS, lat_lon_cats, V5, Region]\n",
                  "Index: []\n",
                  "\n",
                  "[0 rows x 41 columns]\n"
                ]
              },
              {
                "name": "stdout",
                "output_type": "stream",
                "text": [
                  "V6 Done\n"
                ]
              },
              {
                "name": "stdout",
                "output_type": "stream",
                "text": [
                  "V7 Done\n"
                ]
              },
              {
                "name": "stdout",
                "output_type": "stream",
                "text": [
                  "V8 Done\n"
                ]
              },
              {
                "name": "stdout",
                "output_type": "stream",
                "text": [
                  "Data available for time: 13:30 UTC\n"
                ]
              },
              {
                "name": "stdout",
                "output_type": "stream",
                "text": [
                  "                 PS      QV10M      Q500        T10M        T500        T850  \\\n",
                  "0     101088.328125  17.680874  3.114707  303.894470  266.507141  294.391602   \n",
                  "1     100952.328125  17.902126  3.101355  303.753845  266.772766  294.524414   \n",
                  "2     100768.328125  17.886868  3.075606  304.269470  266.897766  294.875977   \n",
                  "3     100624.328125  18.306484  3.045089  304.660095  267.124329  295.094727   \n",
                  "4     100576.328125  19.771328  3.000266  303.644470  267.202454  295.141602   \n",
                  "...             ...        ...       ...         ...         ...         ...   \n",
                  "6746   52616.328125   2.097836  2.008445  267.035095  264.382141  267.035095   \n",
                  "6747   51968.328125   1.859895  1.790053  266.983337  265.354797  266.983337   \n",
                  "6748   53592.328125   1.706830  1.446254  268.890564  266.671204  268.890564   \n",
                  "6749   54496.328125   1.523724  1.142032  269.689392  267.507141  269.689392   \n",
                  "6750   53016.328125   1.239053  0.906236  268.857361  268.452454  268.857361   \n",
                  "\n",
                  "          WIND   BCSMASS  DUSMASS25   OCSMASS  SO2SMASS  SO4SMASS  SSSMASS25  \\\n",
                  "0     2.054063  0.305483  44.397892  1.650343  1.435637  0.924760  12.012606   \n",
                  "1     1.360193  0.243864  36.758137  1.752661  1.172793  0.769010   7.425115   \n",
                  "2     1.973817  0.189010  25.138433  2.036423  0.686896  0.551640   3.058631   \n",
                  "3     2.157444  0.138477  16.363628  1.959116  0.287059  0.451823   2.220986   \n",
                  "4     2.268632  0.130916  13.409590  2.076441  0.167574  0.468876   3.662535   \n",
                  "...        ...       ...        ...       ...       ...       ...        ...   \n",
                  "6746  4.494656  0.052416   1.734406  0.201688  0.143189  0.387022   0.047564   \n",
                  "6747  5.997459  0.047769   1.607077  0.182305  0.135174  0.366899   0.042206   \n",
                  "6748  5.310165  0.043335   1.473381  0.162637  0.124487  0.337909   0.035286   \n",
                  "6749  5.016970  0.037281   1.281933  0.140582  0.164732  0.301870   0.028436   \n",
                  "6750  5.240050  0.032975   1.018634  0.124324  0.246473  0.272198   0.021899   \n",
                  "\n",
                  "      TOTEXTTAU       SED         SZA        time    lat      lon     MERRA2  \n",
                  "0      0.309906  1.001707  162.433433  2023-09-29  13.75 -17.0625  59.637870  \n",
                  "1      0.321015  1.001707  162.928591  2023-09-29  13.75 -16.4375  47.237166  \n",
                  "2      0.326874  1.001707  163.415585  2023-09-29  13.75 -15.8125  31.181004  \n",
                  "3      0.333832  1.001707  163.893671  2023-09-29  13.75 -15.1875  21.303465  \n",
                  "4      0.348358  1.001707  164.362031  2023-09-29  13.75 -14.5625  19.924188  \n",
                  "...         ...       ...         ...         ...    ...      ...        ...  \n",
                  "6746   0.027947  1.001707   99.660676  2023-09-29  34.75  77.9375   2.568229  \n",
                  "6747   0.026963  1.001707   99.147586  2023-09-29  34.75  78.5625   2.383843  \n",
                  "6748   0.024575  1.001707   98.634374  2023-09-29  34.75  79.1875   2.179264  \n",
                  "6749   0.022621  1.001707   98.121058  2023-09-29  34.75  79.8125   1.903303  \n",
                  "6750   0.020447  1.001707   97.607660  2023-09-29  34.75  80.4375   1.572105  \n",
                  "\n",
                  "[6751 rows x 20 columns]\n",
                  "13.28920514980952\n"
                ]
              },
              {
                "name": "stdout",
                "output_type": "stream",
                "text": [
                  "14/14 - 0s - 257ms/epoch - 18ms/step\n"
                ]
              },
              {
                "name": "stdout",
                "output_type": "stream",
                "text": [
                  "V1 Done\n",
                  "V2 DUSMASS25\n"
                ]
              },
              {
                "name": "stdout",
                "output_type": "stream",
                "text": [
                  "V2 OCSMASS\n"
                ]
              },
              {
                "name": "stdout",
                "output_type": "stream",
                "text": [
                  "V2 SO2SMASS\n"
                ]
              },
              {
                "name": "stdout",
                "output_type": "stream",
                "text": [
                  "V2 SO4SMASS\n"
                ]
              },
              {
                "name": "stdout",
                "output_type": "stream",
                "text": [
                  "V2 SSSMASS25\n"
                ]
              },
              {
                "name": "stdout",
                "output_type": "stream",
                "text": [
                  "V2 Done\n"
                ]
              },
              {
                "name": "stdout",
                "output_type": "stream",
                "text": [
                  "V3 DUSMASS25\n"
                ]
              },
              {
                "name": "stdout",
                "output_type": "stream",
                "text": [
                  "V3 OCSMASS\n",
                  "Skipping OCSMASS because the subset is empty.\n",
                  "V3 SO2SMASS\n"
                ]
              },
              {
                "name": "stdout",
                "output_type": "stream",
                "text": [
                  "V3 SO4SMASS\n",
                  "Skipping SO4SMASS because the subset is empty.\n",
                  "V3 SSSMASS25\n"
                ]
              },
              {
                "name": "stdout",
                "output_type": "stream",
                "text": [
                  "V3 Done\n"
                ]
              },
              {
                "name": "stdout",
                "output_type": "stream",
                "text": [
                  "V4 DUSMASS25\n"
                ]
              },
              {
                "name": "stdout",
                "output_type": "stream",
                "text": [
                  "V4 OCSMASS\n",
                  "Skipping OCSMASS because the subset is empty.\n",
                  "V4 SO2SMASS\n"
                ]
              },
              {
                "name": "stdout",
                "output_type": "stream",
                "text": [
                  "V4 SSSMASS25\n"
                ]
              },
              {
                "name": "stdout",
                "output_type": "stream",
                "text": [
                  "V4 wSO4\n"
                ]
              },
              {
                "name": "stdout",
                "output_type": "stream",
                "text": [
                  "V4 Done\n"
                ]
              },
              {
                "name": "stdout",
                "output_type": "stream",
                "text": [
                  "V5 CARBON\n",
                  "Skipping CARBON because the subset is empty.\n",
                  "V5 DUSMASS25\n"
                ]
              },
              {
                "name": "stdout",
                "output_type": "stream",
                "text": [
                  "V5 SSSMASS25\n"
                ]
              },
              {
                "name": "stdout",
                "output_type": "stream",
                "text": [
                  "V5 Sulfate\n"
                ]
              },
              {
                "name": "stdout",
                "output_type": "stream",
                "text": [
                  "V5 Done\n",
                  "[15.0, 19.0, 23.0]\n",
                  "Empty DataFrame\n",
                  "Columns: [PS, QV10M, Q500, T10M, T500, T850, WIND, BCSMASS, DUSMASS25, OCSMASS, SO2SMASS, SO4SMASS, SSSMASS25, TOTEXTTAU, SED, SZA, time, lat, lon, MERRA2, V1, V2_DS, V2, lat_lon, closest_lat_lon, lat_cats, lon_cats, V3_DS, lat_lon_cats, V3, lat_cats, lon_cats, V4_DS, lat_lon_cats, V4, lat_cats, lon_cats, V5_DS, lat_lon_cats, V5, Region]\n",
                  "Index: []\n",
                  "\n",
                  "[0 rows x 41 columns]\n"
                ]
              },
              {
                "name": "stdout",
                "output_type": "stream",
                "text": [
                  "V6 Done\n"
                ]
              },
              {
                "name": "stdout",
                "output_type": "stream",
                "text": [
                  "V7 Done\n"
                ]
              },
              {
                "name": "stdout",
                "output_type": "stream",
                "text": [
                  "V8 Done\n"
                ]
              },
              {
                "name": "stdout",
                "output_type": "stream",
                "text": [
                  "Data available for time: 14:30 UTC\n"
                ]
              },
              {
                "name": "stdout",
                "output_type": "stream",
                "text": [
                  "                 PS      QV10M      Q500        T10M        T500        T850  \\\n",
                  "0     101010.429688  17.535692  3.123284  304.046844  266.689331  294.616455   \n",
                  "1     100874.429688  17.665392  3.058434  304.093719  266.954956  294.772705   \n",
                  "2     100698.429688  18.031603  2.992631  304.359344  267.134644  295.241455   \n",
                  "3     100554.429688  18.382555  2.999307  304.765594  267.329956  295.483643   \n",
                  "4     100506.429688  19.847399  2.939225  303.874969  267.290894  295.335205   \n",
                  "...             ...        ...       ...         ...         ...         ...   \n",
                  "6746   52642.429688   2.207285  2.133370  266.563446  263.708862  266.563446   \n",
                  "6747   52002.429688   1.979357  1.907826  266.667938  264.681519  266.667938   \n",
                  "6748   53626.429688   1.820093  1.558782  268.408173  265.849487  268.408173   \n",
                  "6749   54538.429688   1.639849  1.262666  269.039032  266.689331  269.039032   \n",
                  "6750   53058.429688   1.345640  1.008511  268.277313  267.540894  268.277313   \n",
                  "\n",
                  "          WIND   BCSMASS  DUSMASS25   OCSMASS  SO2SMASS  SO4SMASS  SSSMASS25  \\\n",
                  "0     1.942285  0.294797  41.836758  1.588756  1.372427  0.931594  12.052624   \n",
                  "1     1.454219  0.228688  35.535778  1.656059  1.075477  0.764474   7.279595   \n",
                  "2     2.146244  0.185146  25.022018  1.968470  0.687123  0.552334   3.197783   \n",
                  "3     2.206894  0.139273  16.843842  1.943913  0.316732  0.450926   1.987246   \n",
                  "4     2.151509  0.128871  13.293175  2.041229  0.179114  0.446265   3.194145   \n",
                  "...        ...       ...        ...       ...       ...       ...        ...   \n",
                  "6746  4.678064  0.054534   1.652552  0.211156  0.146144  0.393969   0.046029   \n",
                  "6747  6.217073  0.049390   1.512944  0.190067  0.142677  0.369640   0.040416   \n",
                  "6748  5.345180  0.045609   1.422450  0.172218  0.143189  0.343946   0.034504   \n",
                  "6749  4.865342  0.038831   1.255103  0.145843  0.197019  0.306543   0.027789   \n",
                  "6750  5.203848  0.033814   1.041826  0.126459  0.287173  0.275393   0.021984   \n",
                  "\n",
                  "      TOTEXTTAU       SED         SZA        time    lat      lon     MERRA2  \n",
                  "0      0.332216  1.001707  162.433433  2023-09-29  13.75 -17.0625  57.053874  \n",
                  "1      0.336855  1.001707  162.928591  2023-09-29  13.75 -16.4375  45.751271  \n",
                  "2      0.332094  1.001707  163.415585  2023-09-29  13.75 -15.8125  31.132877  \n",
                  "3      0.331972  1.001707  163.893671  2023-09-29  13.75 -15.1875  21.534297  \n",
                  "4      0.340151  1.001707  164.362031  2023-09-29  13.75 -14.5625  19.271034  \n",
                  "...         ...       ...         ...         ...    ...      ...        ...  \n",
                  "6746   0.027055  1.001707   99.660676  2023-09-29  34.75  77.9375   2.505977  \n",
                  "6747   0.025736  1.001707   99.147586  2023-09-29  34.75  78.5625   2.301071  \n",
                  "6748   0.024332  1.001707   98.634374  2023-09-29  34.75  79.1875   2.147707  \n",
                  "6749   0.022699  1.001707   98.121058  2023-09-29  34.75  79.8125   1.889063  \n",
                  "6750   0.020567  1.001707   97.607660  2023-09-29  34.75  80.4375   1.602749  \n",
                  "\n",
                  "[6751 rows x 20 columns]\n",
                  "13.636996817588805\n"
                ]
              },
              {
                "name": "stdout",
                "output_type": "stream",
                "text": [
                  "14/14 - 0s - 419ms/epoch - 30ms/step\n"
                ]
              },
              {
                "name": "stdout",
                "output_type": "stream",
                "text": [
                  "V1 Done\n",
                  "V2 DUSMASS25\n"
                ]
              },
              {
                "name": "stdout",
                "output_type": "stream",
                "text": [
                  "V2 OCSMASS\n"
                ]
              },
              {
                "name": "stdout",
                "output_type": "stream",
                "text": [
                  "V2 SO2SMASS\n"
                ]
              },
              {
                "name": "stdout",
                "output_type": "stream",
                "text": [
                  "V2 SO4SMASS\n"
                ]
              },
              {
                "name": "stdout",
                "output_type": "stream",
                "text": [
                  "V2 SSSMASS25\n"
                ]
              },
              {
                "name": "stdout",
                "output_type": "stream",
                "text": [
                  "V2 Done\n"
                ]
              },
              {
                "name": "stdout",
                "output_type": "stream",
                "text": [
                  "V3 DUSMASS25\n"
                ]
              },
              {
                "name": "stdout",
                "output_type": "stream",
                "text": [
                  "V3 OCSMASS\n",
                  "Skipping OCSMASS because the subset is empty.\n",
                  "V3 SO2SMASS\n"
                ]
              },
              {
                "name": "stdout",
                "output_type": "stream",
                "text": [
                  "V3 SO4SMASS\n",
                  "Skipping SO4SMASS because the subset is empty.\n",
                  "V3 SSSMASS25\n"
                ]
              },
              {
                "name": "stdout",
                "output_type": "stream",
                "text": [
                  "V3 Done\n"
                ]
              },
              {
                "name": "stdout",
                "output_type": "stream",
                "text": [
                  "V4 DUSMASS25\n"
                ]
              },
              {
                "name": "stdout",
                "output_type": "stream",
                "text": [
                  "V4 OCSMASS\n",
                  "Skipping OCSMASS because the subset is empty.\n",
                  "V4 SO2SMASS\n"
                ]
              },
              {
                "name": "stdout",
                "output_type": "stream",
                "text": [
                  "V4 SSSMASS25\n"
                ]
              },
              {
                "name": "stdout",
                "output_type": "stream",
                "text": [
                  "V4 wSO4\n"
                ]
              },
              {
                "name": "stdout",
                "output_type": "stream",
                "text": [
                  "V4 Done\n"
                ]
              },
              {
                "name": "stdout",
                "output_type": "stream",
                "text": [
                  "V5 CARBON\n",
                  "Skipping CARBON because the subset is empty.\n",
                  "V5 DUSMASS25\n"
                ]
              },
              {
                "name": "stdout",
                "output_type": "stream",
                "text": [
                  "V5 SSSMASS25\n"
                ]
              },
              {
                "name": "stdout",
                "output_type": "stream",
                "text": [
                  "V5 Sulfate\n"
                ]
              },
              {
                "name": "stdout",
                "output_type": "stream",
                "text": [
                  "V5 Done\n",
                  "[15.0, 19.0, 23.0]\n",
                  "Empty DataFrame\n",
                  "Columns: [PS, QV10M, Q500, T10M, T500, T850, WIND, BCSMASS, DUSMASS25, OCSMASS, SO2SMASS, SO4SMASS, SSSMASS25, TOTEXTTAU, SED, SZA, time, lat, lon, MERRA2, V1, V2_DS, V2, lat_lon, closest_lat_lon, lat_cats, lon_cats, V3_DS, lat_lon_cats, V3, lat_cats, lon_cats, V4_DS, lat_lon_cats, V4, lat_cats, lon_cats, V5_DS, lat_lon_cats, V5, Region]\n",
                  "Index: []\n",
                  "\n",
                  "[0 rows x 41 columns]\n"
                ]
              },
              {
                "name": "stdout",
                "output_type": "stream",
                "text": [
                  "V6 Done\n"
                ]
              },
              {
                "name": "stdout",
                "output_type": "stream",
                "text": [
                  "V7 Done\n"
                ]
              },
              {
                "name": "stdout",
                "output_type": "stream",
                "text": [
                  "V8 Done\n"
                ]
              },
              {
                "name": "stdout",
                "output_type": "stream",
                "text": [
                  "Data available for time: 15:30 UTC\n"
                ]
              },
              {
                "name": "stdout",
                "output_type": "stream",
                "text": [
                  "                 PS      QV10M      Q500        T10M        T500        T850  \\\n",
                  "0     100966.382812  17.596386  2.906811  304.073181  266.871246  294.858185   \n",
                  "1     100830.382812  17.680309  2.860080  304.182556  267.074371  295.045685   \n",
                  "2     100654.382812  18.252514  2.831470  304.276306  267.316559  295.522247   \n",
                  "3     100510.382812  18.603466  2.884876  304.651306  267.488434  295.764435   \n",
                  "4     100462.382812  19.892834  2.818119  303.963806  267.277496  295.561310   \n",
                  "...             ...        ...       ...         ...         ...         ...   \n",
                  "6746   52654.382812   2.185964  2.091419  266.054626  263.031403  266.054626   \n",
                  "6747   52014.382812   1.973294  1.888286  266.282166  264.089996  266.282166   \n",
                  "6748   53646.382812   1.877450  1.605522  268.069275  265.062653  268.069275   \n",
                  "6749   54566.382812   1.729631  1.354229  268.534119  265.824371  268.534119   \n",
                  "6750   53078.382812   1.430177  1.124393  267.793884  266.496246  267.793884   \n",
                  "\n",
                  "          WIND   BCSMASS  DUSMASS25   OCSMASS  SO2SMASS  SO4SMASS  SSSMASS25  \\\n",
                  "0     1.947275  0.260123  31.403032  1.462020  1.474291  0.850231  11.634256   \n",
                  "1     1.593645  0.215842  30.631781  1.585256  1.060016  0.721992   7.275958   \n",
                  "2     2.268000  0.179348  21.580490  1.901760  0.718501  0.523040   3.548849   \n",
                  "3     2.177622  0.138535  14.417310  1.911765  0.362661  0.429476   2.064553   \n",
                  "4     2.065879  0.127507  10.844815  2.010900  0.199293  0.418107   2.956768   \n",
                  "...        ...       ...        ...       ...       ...       ...        ...   \n",
                  "6746  5.331143  0.054023   1.486569  0.208281  0.132445  0.399690   0.041624   \n",
                  "6747  6.676355  0.048893   1.347416  0.188102  0.136708  0.365357   0.036181   \n",
                  "6748  5.566672  0.046832   1.325589  0.177529  0.154387  0.344779   0.032586   \n",
                  "6749  4.758485  0.040309   1.210537  0.151665  0.216346  0.310560   0.027029   \n",
                  "6750  5.268132  0.034838   1.044555  0.129894  0.303885  0.277477   0.022091   \n",
                  "\n",
                  "      TOTEXTTAU       SED         SZA        time    lat      lon     MERRA2  \n",
                  "0      0.302214  1.001707  162.433433  2023-09-29  13.75 -17.0625  45.928499  \n",
                  "1      0.314177  1.001707  162.928591  2023-09-29  13.75 -16.4375  40.701577  \n",
                  "2      0.302702  1.001707  163.415585  2023-09-29  13.75 -15.8125  27.929628  \n",
                  "3      0.300017  1.001707  163.893671  2023-09-29  13.75 -15.1875  19.122692  \n",
                  "4      0.303557  1.001707  164.362031  2023-09-29  13.75 -14.5625  16.514887  \n",
                  "...         ...       ...         ...         ...    ...      ...        ...  \n",
                  "6746   0.027121  1.001707   99.660676  2023-09-29  34.75  77.9375   2.340071  \n",
                  "6747   0.024870  1.001707   99.147586  2023-09-29  34.75  78.5625   2.122957  \n",
                  "6748   0.023489  1.001707   98.634374  2023-09-29  34.75  79.1875   2.056607  \n",
                  "6749   0.022413  1.001707   98.121058  2023-09-29  34.75  79.8125   1.856561  \n",
                  "6750   0.020544  1.001707   97.607660  2023-09-29  34.75  80.4375   1.612908  \n",
                  "\n",
                  "[6751 rows x 20 columns]\n",
                  "13.955664292971294\n"
                ]
              },
              {
                "name": "stdout",
                "output_type": "stream",
                "text": [
                  "14/14 - 0s - 263ms/epoch - 19ms/step\n"
                ]
              },
              {
                "name": "stdout",
                "output_type": "stream",
                "text": [
                  "V1 Done\n",
                  "V2 DUSMASS25\n"
                ]
              },
              {
                "name": "stdout",
                "output_type": "stream",
                "text": [
                  "V2 OCSMASS\n"
                ]
              },
              {
                "name": "stdout",
                "output_type": "stream",
                "text": [
                  "V2 SO2SMASS\n"
                ]
              },
              {
                "name": "stdout",
                "output_type": "stream",
                "text": [
                  "V2 SO4SMASS\n"
                ]
              },
              {
                "name": "stdout",
                "output_type": "stream",
                "text": [
                  "V2 SSSMASS25\n"
                ]
              },
              {
                "name": "stdout",
                "output_type": "stream",
                "text": [
                  "V2 Done\n"
                ]
              },
              {
                "name": "stdout",
                "output_type": "stream",
                "text": [
                  "V3 DUSMASS25\n"
                ]
              },
              {
                "name": "stdout",
                "output_type": "stream",
                "text": [
                  "V3 OCSMASS\n",
                  "Skipping OCSMASS because the subset is empty.\n",
                  "V3 SO2SMASS\n"
                ]
              },
              {
                "name": "stdout",
                "output_type": "stream",
                "text": [
                  "V3 SO4SMASS\n",
                  "Skipping SO4SMASS because the subset is empty.\n",
                  "V3 SSSMASS25\n"
                ]
              },
              {
                "name": "stdout",
                "output_type": "stream",
                "text": [
                  "V3 Done\n"
                ]
              },
              {
                "name": "stdout",
                "output_type": "stream",
                "text": [
                  "V4 DUSMASS25\n"
                ]
              },
              {
                "name": "stdout",
                "output_type": "stream",
                "text": [
                  "V4 OCSMASS\n",
                  "Skipping OCSMASS because the subset is empty.\n",
                  "V4 SO2SMASS\n"
                ]
              },
              {
                "name": "stdout",
                "output_type": "stream",
                "text": [
                  "V4 SSSMASS25\n"
                ]
              },
              {
                "name": "stdout",
                "output_type": "stream",
                "text": [
                  "V4 wSO4\n"
                ]
              },
              {
                "name": "stdout",
                "output_type": "stream",
                "text": [
                  "V4 Done\n"
                ]
              },
              {
                "name": "stdout",
                "output_type": "stream",
                "text": [
                  "V5 CARBON\n",
                  "Skipping CARBON because the subset is empty.\n",
                  "V5 DUSMASS25\n"
                ]
              },
              {
                "name": "stdout",
                "output_type": "stream",
                "text": [
                  "V5 SSSMASS25\n"
                ]
              },
              {
                "name": "stdout",
                "output_type": "stream",
                "text": [
                  "V5 Sulfate\n"
                ]
              },
              {
                "name": "stdout",
                "output_type": "stream",
                "text": [
                  "V5 Done\n",
                  "[15.0, 19.0, 23.0]\n",
                  "Empty DataFrame\n",
                  "Columns: [PS, QV10M, Q500, T10M, T500, T850, WIND, BCSMASS, DUSMASS25, OCSMASS, SO2SMASS, SO4SMASS, SSSMASS25, TOTEXTTAU, SED, SZA, time, lat, lon, MERRA2, V1, V2_DS, V2, lat_lon, closest_lat_lon, lat_cats, lon_cats, V3_DS, lat_lon_cats, V3, lat_cats, lon_cats, V4_DS, lat_lon_cats, V4, lat_cats, lon_cats, V5_DS, lat_lon_cats, V5, Region]\n",
                  "Index: []\n",
                  "\n",
                  "[0 rows x 41 columns]\n"
                ]
              },
              {
                "name": "stdout",
                "output_type": "stream",
                "text": [
                  "V6 Done\n"
                ]
              },
              {
                "name": "stdout",
                "output_type": "stream",
                "text": [
                  "V7 Done\n"
                ]
              },
              {
                "name": "stdout",
                "output_type": "stream",
                "text": [
                  "V8 Done\n"
                ]
              },
              {
                "name": "stdout",
                "output_type": "stream",
                "text": [
                  "Data available for time: 16:30 UTC\n"
                ]
              },
              {
                "name": "stdout",
                "output_type": "stream",
                "text": [
                  "                PS      QV10M      Q500        T10M        T500        T850  \\\n",
                  "0     100959.34375  17.870762  2.513906  303.960510  267.069672  295.075989   \n",
                  "1     100815.34375  17.680027  2.545378  304.226135  267.202484  295.341614   \n",
                  "2     100647.34375  18.603184  2.640745  304.069885  267.397797  295.779114   \n",
                  "3     100511.34375  18.664219  2.756140  304.507385  267.397797  295.982239   \n",
                  "4     100455.34375  19.923069  2.661726  303.898010  267.116547  295.810364   \n",
                  "...            ...        ...       ...         ...         ...         ...   \n",
                  "6746   52647.34375   2.119877  2.061865  265.394104  262.347015  265.394104   \n",
                  "6747   52007.34375   1.925327  1.868746  265.706604  263.460297  265.706604   \n",
                  "6748   53647.34375   1.875736  1.613161  267.735901  264.315765  267.735901   \n",
                  "6749   54567.34375   1.785137  1.405737  268.167542  264.987640  268.167542   \n",
                  "6750   53087.34375   1.509048  1.242182  267.358948  265.413422  267.358948   \n",
                  "\n",
                  "          WIND   BCSMASS  DUSMASS25   OCSMASS  SO2SMASS  SO4SMASS  SSSMASS25  \\\n",
                  "0     2.237950  0.263537  29.322109  1.472495  1.702119  0.908771  12.387318   \n",
                  "1     1.662569  0.204761  28.565409  1.521607  0.987711  0.708000   7.066774   \n",
                  "2     2.182049  0.181910  21.995220  1.896319  0.746695  0.537924   3.854439   \n",
                  "3     2.054036  0.139619  15.243132  1.871763  0.405862  0.436971   2.009984   \n",
                  "4     1.951724  0.128250  11.408702  2.019101  0.223963  0.417530   2.705747   \n",
                  "...        ...       ...        ...       ...       ...       ...        ...   \n",
                  "6746  5.546951  0.054297   1.363787  0.207444  0.116813  0.411959   0.038028   \n",
                  "6747  6.939074  0.048825   1.215540  0.187037  0.128921  0.368190   0.032543   \n",
                  "6748  5.683574  0.046793   1.191893  0.177090  0.157627  0.341246   0.029402   \n",
                  "6749  4.560406  0.041294   1.141871  0.155603  0.234081  0.312711   0.025828   \n",
                  "6750  5.225610  0.036064   1.025001  0.134969  0.312411  0.281561   0.022212   \n",
                  "\n",
                  "      TOTEXTTAU       SED         SZA        time    lat      lon     MERRA2  \n",
                  "0      0.315187  1.001707  162.433433  2023-09-29  13.75 -17.0625  44.695019  \n",
                  "1      0.315309  1.001707  162.928591  2023-09-29  13.75 -16.4375  38.332052  \n",
                  "2      0.302125  1.001707  163.415585  2023-09-29  13.75 -15.8125  28.667534  \n",
                  "3      0.294190  1.001707  163.893671  2023-09-29  13.75 -15.1875  19.865331  \n",
                  "4      0.286866  1.001707  164.362031  2023-09-29  13.75 -14.5625  16.835903  \n",
                  "...         ...       ...         ...         ...    ...      ...        ...  \n",
                  "6746   0.026559  1.001707   99.660676  2023-09-29  34.75  77.9375   2.230001  \n",
                  "6747   0.023072  1.001707   99.147586  2023-09-29  34.75  78.5625   1.990207  \n",
                  "6748   0.022355  1.001707   98.634374  2023-09-29  34.75  79.1875   1.914392  \n",
                  "6749   0.021752  1.001707   98.121058  2023-09-29  34.75  79.8125   1.794573  \n",
                  "6750   0.020089  1.001707   97.607660  2023-09-29  34.75  80.4375   1.605391  \n",
                  "\n",
                  "[6751 rows x 20 columns]\n",
                  "14.281054361661274\n"
                ]
              },
              {
                "name": "stdout",
                "output_type": "stream",
                "text": [
                  "14/14 - 0s - 258ms/epoch - 18ms/step\n"
                ]
              },
              {
                "name": "stdout",
                "output_type": "stream",
                "text": [
                  "V1 Done\n",
                  "V2 DUSMASS25\n"
                ]
              },
              {
                "name": "stdout",
                "output_type": "stream",
                "text": [
                  "V2 OCSMASS\n"
                ]
              },
              {
                "name": "stdout",
                "output_type": "stream",
                "text": [
                  "V2 SO2SMASS\n"
                ]
              },
              {
                "name": "stdout",
                "output_type": "stream",
                "text": [
                  "V2 SO4SMASS\n"
                ]
              },
              {
                "name": "stdout",
                "output_type": "stream",
                "text": [
                  "V2 SSSMASS25\n"
                ]
              },
              {
                "name": "stdout",
                "output_type": "stream",
                "text": [
                  "V2 Done\n"
                ]
              },
              {
                "name": "stdout",
                "output_type": "stream",
                "text": [
                  "V3 DUSMASS25\n"
                ]
              },
              {
                "name": "stdout",
                "output_type": "stream",
                "text": [
                  "V3 OCSMASS\n",
                  "Skipping OCSMASS because the subset is empty.\n",
                  "V3 SO2SMASS\n"
                ]
              },
              {
                "name": "stdout",
                "output_type": "stream",
                "text": [
                  "V3 SO4SMASS\n",
                  "Skipping SO4SMASS because the subset is empty.\n",
                  "V3 SSSMASS25\n"
                ]
              },
              {
                "name": "stdout",
                "output_type": "stream",
                "text": [
                  "V3 Done\n"
                ]
              },
              {
                "name": "stdout",
                "output_type": "stream",
                "text": [
                  "V4 DUSMASS25\n"
                ]
              },
              {
                "name": "stdout",
                "output_type": "stream",
                "text": [
                  "V4 OCSMASS\n",
                  "Skipping OCSMASS because the subset is empty.\n",
                  "V4 SO2SMASS\n"
                ]
              },
              {
                "name": "stdout",
                "output_type": "stream",
                "text": [
                  "V4 SSSMASS25\n"
                ]
              },
              {
                "name": "stdout",
                "output_type": "stream",
                "text": [
                  "V4 wSO4\n"
                ]
              },
              {
                "name": "stdout",
                "output_type": "stream",
                "text": [
                  "V4 Done\n"
                ]
              },
              {
                "name": "stdout",
                "output_type": "stream",
                "text": [
                  "V5 CARBON\n",
                  "Skipping CARBON because the subset is empty.\n",
                  "V5 DUSMASS25\n"
                ]
              },
              {
                "name": "stdout",
                "output_type": "stream",
                "text": [
                  "V5 SSSMASS25\n"
                ]
              },
              {
                "name": "stdout",
                "output_type": "stream",
                "text": [
                  "V5 Sulfate\n"
                ]
              },
              {
                "name": "stdout",
                "output_type": "stream",
                "text": [
                  "V5 Done\n",
                  "[15.0, 19.0, 23.0]\n",
                  "Empty DataFrame\n",
                  "Columns: [PS, QV10M, Q500, T10M, T500, T850, WIND, BCSMASS, DUSMASS25, OCSMASS, SO2SMASS, SO4SMASS, SSSMASS25, TOTEXTTAU, SED, SZA, time, lat, lon, MERRA2, V1, V2_DS, V2, lat_lon, closest_lat_lon, lat_cats, lon_cats, V3_DS, lat_lon_cats, V3, lat_cats, lon_cats, V4_DS, lat_lon_cats, V4, lat_cats, lon_cats, V5_DS, lat_lon_cats, V5, Region]\n",
                  "Index: []\n",
                  "\n",
                  "[0 rows x 41 columns]\n"
                ]
              },
              {
                "name": "stdout",
                "output_type": "stream",
                "text": [
                  "V6 Done\n"
                ]
              },
              {
                "name": "stdout",
                "output_type": "stream",
                "text": [
                  "V7 Done\n"
                ]
              },
              {
                "name": "stdout",
                "output_type": "stream",
                "text": [
                  "V8 Done\n"
                ]
              },
              {
                "name": "stdout",
                "output_type": "stream",
                "text": [
                  "Data available for time: 17:30 UTC\n"
                ]
              },
              {
                "name": "stdout",
                "output_type": "stream",
                "text": [
                  "                 PS      QV10M      Q500        T10M        T500        T850  \\\n",
                  "0     100989.507812  18.274885  2.124009  303.645477  267.196320  295.210388   \n",
                  "1     100845.507812  16.985518  2.304254  304.223602  267.243195  295.608826   \n",
                  "2     100669.507812  17.969709  2.501664  303.801727  267.376007  296.015076   \n",
                  "3     100533.507812  18.046003  2.626596  304.207977  267.219757  296.202576   \n",
                  "4     100477.507812  19.602400  2.497850  303.629852  266.907257  296.069763   \n",
                  "...             ...        ...       ...         ...         ...         ...   \n",
                  "6746   52637.507812   2.087216  2.030549  264.742157  261.739288  264.742157   \n",
                  "6747   51989.507812   1.925092  1.905618  264.988251  262.758820  264.988251   \n",
                  "6748   53637.507812   1.849275  1.641450  267.393524  263.579132  267.393524   \n",
                  "6749   54557.507812   1.805405  1.437841  267.885712  264.227570  267.885712   \n",
                  "6750   53077.507812   1.578431  1.340566  266.969696  264.497101  266.969696   \n",
                  "\n",
                  "          WIND   BCSMASS  DUSMASS25   OCSMASS  SO2SMASS  SO4SMASS  SSSMASS25  \\\n",
                  "0     2.737320  0.265013  26.455381  1.475689  2.013621  0.981636  13.660610   \n",
                  "1     1.958509  0.190093  25.436749  1.439309  0.890168  0.676955   6.733899   \n",
                  "2     2.340067  0.176565  21.471352  1.826299  0.719183  0.537575   3.970854   \n",
                  "3     2.234631  0.141322  15.963451  1.838578  0.447358  0.447649   2.067282   \n",
                  "4     1.968420  0.129271  12.078090  2.027298  0.253976  0.421046   2.533853   \n",
                  "...        ...       ...        ...       ...       ...       ...        ...   \n",
                  "6746  5.526699  0.056113   1.329226  0.213026  0.107747  0.425593   0.036607   \n",
                  "6747  7.002105  0.050514   1.170065  0.192847  0.127159  0.379550   0.031065   \n",
                  "6748  5.963352  0.046606   1.082753  0.176021  0.158707  0.340442   0.026539   \n",
                  "6749  4.515013  0.041505   1.065018  0.156126  0.247837  0.312361   0.024216   \n",
                  "6750  5.162867  0.037270   0.992713  0.139869  0.324121  0.287123   0.022084   \n",
                  "\n",
                  "      TOTEXTTAU       SED         SZA        time    lat      lon     MERRA2  \n",
                  "0      0.325567  1.001707  162.433433  2023-09-29  13.75 -17.0625  43.206444  \n",
                  "1      0.315558  1.001707  162.928591  2023-09-29  13.75 -16.4375  34.730863  \n",
                  "2      0.299322  1.001707  163.415585  2023-09-29  13.75 -15.8125  28.184235  \n",
                  "3      0.283331  1.001707  163.893671  2023-09-29  13.75 -15.1875  20.626149  \n",
                  "4      0.265142  1.001707  164.362031  2023-09-29  13.75 -14.5625  17.347449  \n",
                  "...         ...       ...         ...         ...    ...      ...        ...  \n",
                  "6746   0.027739  1.001707   99.660676  2023-09-29  34.75  77.9375   2.220164  \n",
                  "6747   0.022879  1.001707   99.147586  2023-09-29  34.75  78.5625   1.966373  \n",
                  "6748   0.021704  1.001707   98.634374  2023-09-29  34.75  79.1875   1.800028  \n",
                  "6749   0.021132  1.001707   98.121058  2023-09-29  34.75  79.8125   1.716361  \n",
                  "6750   0.019724  1.001707   97.607660  2023-09-29  34.75  80.4375   1.586730  \n",
                  "\n",
                  "[6751 rows x 20 columns]\n",
                  "14.614212993780772\n"
                ]
              },
              {
                "name": "stdout",
                "output_type": "stream",
                "text": [
                  "14/14 - 0s - 271ms/epoch - 19ms/step\n"
                ]
              },
              {
                "name": "stdout",
                "output_type": "stream",
                "text": [
                  "V1 Done\n",
                  "V2 DUSMASS25\n"
                ]
              },
              {
                "name": "stdout",
                "output_type": "stream",
                "text": [
                  "V2 OCSMASS\n"
                ]
              },
              {
                "name": "stdout",
                "output_type": "stream",
                "text": [
                  "V2 SO2SMASS\n"
                ]
              },
              {
                "name": "stdout",
                "output_type": "stream",
                "text": [
                  "V2 SO4SMASS\n"
                ]
              },
              {
                "name": "stdout",
                "output_type": "stream",
                "text": [
                  "V2 SSSMASS25\n"
                ]
              },
              {
                "name": "stdout",
                "output_type": "stream",
                "text": [
                  "V2 Done\n"
                ]
              },
              {
                "name": "stdout",
                "output_type": "stream",
                "text": [
                  "V3 DUSMASS25\n"
                ]
              },
              {
                "name": "stdout",
                "output_type": "stream",
                "text": [
                  "V3 OCSMASS\n",
                  "Skipping OCSMASS because the subset is empty.\n",
                  "V3 SO2SMASS\n"
                ]
              },
              {
                "name": "stdout",
                "output_type": "stream",
                "text": [
                  "V3 SO4SMASS\n",
                  "Skipping SO4SMASS because the subset is empty.\n",
                  "V3 SSSMASS25\n"
                ]
              },
              {
                "name": "stdout",
                "output_type": "stream",
                "text": [
                  "V3 Done\n"
                ]
              },
              {
                "name": "stdout",
                "output_type": "stream",
                "text": [
                  "V4 DUSMASS25\n"
                ]
              },
              {
                "name": "stdout",
                "output_type": "stream",
                "text": [
                  "V4 OCSMASS\n",
                  "Skipping OCSMASS because the subset is empty.\n",
                  "V4 SO2SMASS\n"
                ]
              },
              {
                "name": "stdout",
                "output_type": "stream",
                "text": [
                  "V4 SSSMASS25\n"
                ]
              },
              {
                "name": "stdout",
                "output_type": "stream",
                "text": [
                  "V4 wSO4\n"
                ]
              },
              {
                "name": "stdout",
                "output_type": "stream",
                "text": [
                  "V4 Done\n"
                ]
              },
              {
                "name": "stdout",
                "output_type": "stream",
                "text": [
                  "V5 CARBON\n",
                  "Skipping CARBON because the subset is empty.\n",
                  "V5 DUSMASS25\n"
                ]
              },
              {
                "name": "stdout",
                "output_type": "stream",
                "text": [
                  "V5 SSSMASS25\n"
                ]
              },
              {
                "name": "stdout",
                "output_type": "stream",
                "text": [
                  "V5 Sulfate\n"
                ]
              },
              {
                "name": "stdout",
                "output_type": "stream",
                "text": [
                  "V5 Done\n",
                  "[15.0, 19.0, 23.0]\n",
                  "Empty DataFrame\n",
                  "Columns: [PS, QV10M, Q500, T10M, T500, T850, WIND, BCSMASS, DUSMASS25, OCSMASS, SO2SMASS, SO4SMASS, SSSMASS25, TOTEXTTAU, SED, SZA, time, lat, lon, MERRA2, V1, V2_DS, V2, lat_lon, closest_lat_lon, lat_cats, lon_cats, V3_DS, lat_lon_cats, V3, lat_cats, lon_cats, V4_DS, lat_lon_cats, V4, lat_cats, lon_cats, V5_DS, lat_lon_cats, V5, Region]\n",
                  "Index: []\n",
                  "\n",
                  "[0 rows x 41 columns]\n"
                ]
              },
              {
                "name": "stdout",
                "output_type": "stream",
                "text": [
                  "V6 Done\n"
                ]
              },
              {
                "name": "stdout",
                "output_type": "stream",
                "text": [
                  "V7 Done\n"
                ]
              },
              {
                "name": "stdout",
                "output_type": "stream",
                "text": [
                  "V8 Done\n"
                ]
              },
              {
                "name": "stdout",
                "output_type": "stream",
                "text": [
                  "Data available for time: 18:30 UTC\n"
                ]
              },
              {
                "name": "stdout",
                "output_type": "stream",
                "text": [
                  "            PS      QV10M      Q500        T10M        T500        T850  \\\n",
                  "0     101044.0  19.029976  1.787909  303.039764  267.227417  295.277588   \n",
                  "1     100892.0  18.343330  2.158412  302.930389  267.164917  295.761963   \n",
                  "2     100716.0  19.007088  2.401599  302.477264  267.227417  296.176025   \n",
                  "3     100580.0  19.037605  2.496966  302.977264  266.938354  296.394775   \n",
                  "4     100524.0  19.960762  2.378711  302.727264  266.680542  296.277588   \n",
                  "...        ...        ...       ...         ...         ...         ...   \n",
                  "6746   52620.0   2.072694  2.013453  264.149139  261.215698  264.149139   \n",
                  "6747   51980.0   1.939179  1.931437  264.331757  262.121948  264.331757   \n",
                  "6748   53628.0   1.856210  1.700648  266.996796  262.868042  266.996796   \n",
                  "6749   54548.0   1.817586  1.483687  267.615936  263.500854  267.615936   \n",
                  "6750   53068.0   1.636388  1.423129  266.619843  263.782104  266.619843   \n",
                  "\n",
                  "          WIND   BCSMASS  DUSMASS25   OCSMASS  SO2SMASS  SO4SMASS  SSSMASS25  \\\n",
                  "0     3.151998  0.273994  22.700987  1.521177  2.378329  1.051938  15.592377   \n",
                  "1     1.950565  0.218913  24.658220  1.641231  1.011358  0.711104   7.701601   \n",
                  "2     1.997666  0.194527  22.060703  2.040044  0.785803  0.559674   4.594768   \n",
                  "3     1.897795  0.152520  16.785635  2.025492  0.522277  0.461903   2.359230   \n",
                  "4     1.741329  0.135808  12.641976  2.200115  0.299679  0.424955   2.473826   \n",
                  "...        ...       ...        ...       ...       ...       ...        ...   \n",
                  "6746  5.398641  0.057591   1.319677  0.217076  0.101807  0.437233   0.035670   \n",
                  "6747  6.989325  0.052347   1.163698  0.199000  0.125453  0.392895   0.030525   \n",
                  "6748  6.388480  0.047132   1.034096  0.178138  0.157797  0.346738   0.025033   \n",
                  "6749  4.597625  0.041533   0.998170  0.156253  0.247724  0.312518   0.022589   \n",
                  "6750  5.180777  0.038222   0.953150  0.143520  0.333216  0.292282   0.021608   \n",
                  "\n",
                  "      TOTEXTTAU       SED         SZA        time    lat      lon     MERRA2  \n",
                  "0      0.331143  1.001707  162.433433  2023-09-29  13.75 -17.0625  41.534950  \n",
                  "1      0.316006  1.001707  162.928591  2023-09-29  13.75 -16.4375  35.197733  \n",
                  "2      0.294399  1.001707  163.415585  2023-09-29  13.75 -15.8125  29.659593  \n",
                  "3      0.268276  1.001707  163.893671  2023-09-29  13.75 -15.1875  21.957992  \n",
                  "4      0.245205  1.001707  164.362031  2023-09-29  13.75 -14.5625  18.036038  \n",
                  "...         ...       ...         ...         ...    ...      ...        ...  \n",
                  "6746   0.027813  1.001707   99.660676  2023-09-29  34.75  77.9375   2.231208  \n",
                  "6747   0.023274  1.001707   99.147586  2023-09-29  34.75  78.5625   1.985801  \n",
                  "6748   0.021824  1.001707   98.634374  2023-09-29  34.75  79.1875   1.761163  \n",
                  "6749   0.020848  1.001707   98.121058  2023-09-29  34.75  79.8125   1.648258  \n",
                  "6750   0.019562  1.001707   97.607660  2023-09-29  34.75  80.4375   1.558388  \n",
                  "\n",
                  "[6751 rows x 20 columns]\n",
                  "14.93689467906952\n"
                ]
              },
              {
                "name": "stdout",
                "output_type": "stream",
                "text": [
                  "14/14 - 0s - 256ms/epoch - 18ms/step\n"
                ]
              },
              {
                "name": "stdout",
                "output_type": "stream",
                "text": [
                  "V1 Done\n",
                  "V2 DUSMASS25\n"
                ]
              },
              {
                "name": "stdout",
                "output_type": "stream",
                "text": [
                  "V2 OCSMASS\n"
                ]
              },
              {
                "name": "stdout",
                "output_type": "stream",
                "text": [
                  "V2 SO2SMASS\n"
                ]
              },
              {
                "name": "stdout",
                "output_type": "stream",
                "text": [
                  "V2 SO4SMASS\n"
                ]
              },
              {
                "name": "stdout",
                "output_type": "stream",
                "text": [
                  "V2 SSSMASS25\n"
                ]
              },
              {
                "name": "stdout",
                "output_type": "stream",
                "text": [
                  "V2 Done\n"
                ]
              },
              {
                "name": "stdout",
                "output_type": "stream",
                "text": [
                  "V3 DUSMASS25\n"
                ]
              },
              {
                "name": "stdout",
                "output_type": "stream",
                "text": [
                  "V3 OCSMASS\n",
                  "Skipping OCSMASS because the subset is empty.\n",
                  "V3 SO2SMASS\n"
                ]
              },
              {
                "name": "stdout",
                "output_type": "stream",
                "text": [
                  "V3 SO4SMASS\n",
                  "Skipping SO4SMASS because the subset is empty.\n",
                  "V3 SSSMASS25\n"
                ]
              },
              {
                "name": "stdout",
                "output_type": "stream",
                "text": [
                  "V3 Done\n"
                ]
              },
              {
                "name": "stdout",
                "output_type": "stream",
                "text": [
                  "V4 DUSMASS25\n"
                ]
              },
              {
                "name": "stdout",
                "output_type": "stream",
                "text": [
                  "V4 OCSMASS\n",
                  "Skipping OCSMASS because the subset is empty.\n",
                  "V4 SO2SMASS\n"
                ]
              },
              {
                "name": "stdout",
                "output_type": "stream",
                "text": [
                  "V4 SSSMASS25\n"
                ]
              },
              {
                "name": "stdout",
                "output_type": "stream",
                "text": [
                  "V4 wSO4\n"
                ]
              },
              {
                "name": "stdout",
                "output_type": "stream",
                "text": [
                  "V4 Done\n"
                ]
              },
              {
                "name": "stdout",
                "output_type": "stream",
                "text": [
                  "V5 CARBON\n",
                  "Skipping CARBON because the subset is empty.\n",
                  "V5 DUSMASS25\n"
                ]
              },
              {
                "name": "stdout",
                "output_type": "stream",
                "text": [
                  "V5 SSSMASS25\n"
                ]
              },
              {
                "name": "stdout",
                "output_type": "stream",
                "text": [
                  "V5 Sulfate\n"
                ]
              },
              {
                "name": "stdout",
                "output_type": "stream",
                "text": [
                  "V5 Done\n",
                  "[15.0, 19.0, 23.0]\n",
                  "Empty DataFrame\n",
                  "Columns: [PS, QV10M, Q500, T10M, T500, T850, WIND, BCSMASS, DUSMASS25, OCSMASS, SO2SMASS, SO4SMASS, SSSMASS25, TOTEXTTAU, SED, SZA, time, lat, lon, MERRA2, V1, V2_DS, V2, lat_lon, closest_lat_lon, lat_cats, lon_cats, V3_DS, lat_lon_cats, V3, lat_cats, lon_cats, V4_DS, lat_lon_cats, V4, lat_cats, lon_cats, V5_DS, lat_lon_cats, V5, Region]\n",
                  "Index: []\n",
                  "\n",
                  "[0 rows x 41 columns]\n"
                ]
              },
              {
                "name": "stdout",
                "output_type": "stream",
                "text": [
                  "V6 Done\n"
                ]
              },
              {
                "name": "stdout",
                "output_type": "stream",
                "text": [
                  "V7 Done\n"
                ]
              },
              {
                "name": "stdout",
                "output_type": "stream",
                "text": [
                  "V8 Done\n"
                ]
              },
              {
                "name": "stdout",
                "output_type": "stream",
                "text": [
                  "Data available for time: 19:30 UTC\n"
                ]
              },
              {
                "name": "stdout",
                "output_type": "stream",
                "text": [
                  "                 PS      QV10M      Q500        T10M        T500        T850  \\\n",
                  "0     101116.859375  19.243441  1.489251  302.488464  267.238708  295.365051   \n",
                  "1     100956.859375  18.037996  2.033323  301.816589  267.074646  295.849426   \n",
                  "2     100780.859375  18.205843  2.304166  301.441589  267.019958  296.279114   \n",
                  "3     100644.859375  18.366060  2.380460  302.019714  266.680115  296.529114   \n",
                  "4     100588.859375  19.174776  2.288908  302.035339  266.508240  296.404114   \n",
                  "...             ...        ...       ...         ...         ...         ...   \n",
                  "6746   52612.859375   2.052507  1.978963  263.527527  260.715271  263.527527   \n",
                  "6747   51964.859375   1.953325  1.946538  263.627136  261.523865  263.627136   \n",
                  "6748   53612.859375   1.891813  1.762479  266.580261  262.207458  266.580261   \n",
                  "6749   54540.859375   1.852236  1.566022  267.359558  262.797302  267.359558   \n",
                  "6750   53060.859375   1.706800  1.513570  266.170105  263.129333  266.170105   \n",
                  "\n",
                  "          WIND   BCSMASS  DUSMASS25   OCSMASS  SO2SMASS  SO4SMASS  SSSMASS25  \\\n",
                  "0     3.703088  0.278206  17.273123  1.530284  2.718480  1.081723  17.731510   \n",
                  "1     2.456034  0.256605  23.544998  1.862704  1.238277  0.766128   9.353246   \n",
                  "2     2.341621  0.222613  22.686436  2.363836  0.879936  0.592414   5.540644   \n",
                  "3     2.072226  0.170260  17.760612  2.341098  0.612317  0.481001   2.864001   \n",
                  "4     1.859909  0.146613  13.205863  2.495713  0.357886  0.430752   2.508388   \n",
                  "...        ...       ...        ...       ...       ...       ...        ...   \n",
                  "6746  5.101162  0.058534   1.309218  0.218792  0.094474  0.445076   0.034719   \n",
                  "6747  6.687878  0.053717   1.155058  0.203217  0.120167  0.406195   0.029788   \n",
                  "6748  6.714866  0.048089   1.013177  0.181844  0.151147  0.359698   0.024246   \n",
                  "6749  4.814538  0.041950   0.947239  0.158141  0.233172  0.317406   0.021368   \n",
                  "6750  5.245499  0.039051   0.914724  0.147283  0.329692  0.297852   0.020935   \n",
                  "\n",
                  "      TOTEXTTAU       SED         SZA        time    lat      lon     MERRA2  \n",
                  "0      0.330109  1.001707  162.433433  2023-09-29  13.75 -17.0625  38.300492  \n",
                  "1      0.313019  1.001707  162.928591  2023-09-29  13.75 -16.4375  36.070979  \n",
                  "2      0.284821  1.001707  163.415585  2023-09-29  13.75 -15.8125  31.628098  \n",
                  "3      0.252106  1.001707  163.893671  2023-09-29  13.75 -15.1875  23.797349  \n",
                  "4      0.231720  1.001707  164.362031  2023-09-29  13.75 -14.5625  18.948861  \n",
                  "...         ...       ...         ...         ...    ...      ...        ...  \n",
                  "6746   0.026932  1.001707   99.660676  2023-09-29  34.75  77.9375   2.233243  \n",
                  "6747   0.022950  1.001707   99.147586  2023-09-29  34.75  78.5625   2.000299  \n",
                  "6748   0.022011  1.001707   98.634374  2023-09-29  34.75  79.1875   1.761940  \n",
                  "6749   0.020890  1.001707   98.121058  2023-09-29  34.75  79.8125   1.605131  \n",
                  "6750   0.019551  1.001707   97.607660  2023-09-29  34.75  80.4375   1.531540  \n",
                  "\n",
                  "[6751 rows x 20 columns]\n",
                  "15.283756959438325\n"
                ]
              },
              {
                "name": "stdout",
                "output_type": "stream",
                "text": [
                  "14/14 - 0s - 362ms/epoch - 26ms/step\n"
                ]
              },
              {
                "name": "stdout",
                "output_type": "stream",
                "text": [
                  "V1 Done\n",
                  "V2 DUSMASS25\n"
                ]
              },
              {
                "name": "stdout",
                "output_type": "stream",
                "text": [
                  "V2 OCSMASS\n"
                ]
              },
              {
                "name": "stdout",
                "output_type": "stream",
                "text": [
                  "V2 SO2SMASS\n"
                ]
              },
              {
                "name": "stdout",
                "output_type": "stream",
                "text": [
                  "V2 SO4SMASS\n"
                ]
              },
              {
                "name": "stdout",
                "output_type": "stream",
                "text": [
                  "V2 SSSMASS25\n"
                ]
              },
              {
                "name": "stdout",
                "output_type": "stream",
                "text": [
                  "V2 Done\n"
                ]
              },
              {
                "name": "stdout",
                "output_type": "stream",
                "text": [
                  "V3 DUSMASS25\n"
                ]
              },
              {
                "name": "stdout",
                "output_type": "stream",
                "text": [
                  "V3 OCSMASS\n",
                  "Skipping OCSMASS because the subset is empty.\n",
                  "V3 SO2SMASS\n"
                ]
              },
              {
                "name": "stdout",
                "output_type": "stream",
                "text": [
                  "V3 SO4SMASS\n",
                  "Skipping SO4SMASS because the subset is empty.\n",
                  "V3 SSSMASS25\n"
                ]
              },
              {
                "name": "stdout",
                "output_type": "stream",
                "text": [
                  "V3 Done\n"
                ]
              },
              {
                "name": "stdout",
                "output_type": "stream",
                "text": [
                  "V4 DUSMASS25\n"
                ]
              },
              {
                "name": "stdout",
                "output_type": "stream",
                "text": [
                  "V4 OCSMASS\n",
                  "Skipping OCSMASS because the subset is empty.\n",
                  "V4 SO2SMASS\n"
                ]
              },
              {
                "name": "stdout",
                "output_type": "stream",
                "text": [
                  "V4 SSSMASS25\n"
                ]
              },
              {
                "name": "stdout",
                "output_type": "stream",
                "text": [
                  "V4 wSO4\n"
                ]
              },
              {
                "name": "stdout",
                "output_type": "stream",
                "text": [
                  "V4 Done\n"
                ]
              },
              {
                "name": "stdout",
                "output_type": "stream",
                "text": [
                  "V5 CARBON\n",
                  "Skipping CARBON because the subset is empty.\n",
                  "V5 DUSMASS25\n"
                ]
              },
              {
                "name": "stdout",
                "output_type": "stream",
                "text": [
                  "V5 SSSMASS25\n"
                ]
              },
              {
                "name": "stdout",
                "output_type": "stream",
                "text": [
                  "V5 Sulfate\n"
                ]
              },
              {
                "name": "stdout",
                "output_type": "stream",
                "text": [
                  "V5 Done\n",
                  "[15.0, 19.0, 23.0]\n",
                  "Empty DataFrame\n",
                  "Columns: [PS, QV10M, Q500, T10M, T500, T850, WIND, BCSMASS, DUSMASS25, OCSMASS, SO2SMASS, SO4SMASS, SSSMASS25, TOTEXTTAU, SED, SZA, time, lat, lon, MERRA2, V1, V2_DS, V2, lat_lon, closest_lat_lon, lat_cats, lon_cats, V3_DS, lat_lon_cats, V3, lat_cats, lon_cats, V4_DS, lat_lon_cats, V4, lat_cats, lon_cats, V5_DS, lat_lon_cats, V5, Region]\n",
                  "Index: []\n",
                  "\n",
                  "[0 rows x 41 columns]\n"
                ]
              },
              {
                "name": "stdout",
                "output_type": "stream",
                "text": [
                  "V6 Done\n"
                ]
              },
              {
                "name": "stdout",
                "output_type": "stream",
                "text": [
                  "V7 Done\n"
                ]
              },
              {
                "name": "stdout",
                "output_type": "stream",
                "text": [
                  "V8 Done\n"
                ]
              },
              {
                "name": "stdout",
                "output_type": "stream",
                "text": [
                  "Data available for time: 20:30 UTC\n"
                ]
              },
              {
                "name": "stdout",
                "output_type": "stream",
                "text": [
                  "                 PS      QV10M      Q500        T10M        T500        T850  \\\n",
                  "0     101172.984375  19.243313  1.252669  302.143738  267.189117  295.507965   \n",
                  "1     101020.984375  18.350674  1.927394  301.003113  266.954742  295.953278   \n",
                  "2     100844.984375  18.114162  2.208728  300.721863  266.786774  296.328278   \n",
                  "3     100716.984375  18.213345  2.256411  301.409363  266.482086  296.562653   \n",
                  "4     100668.984375  18.884731  2.174395  301.659363  266.427399  296.445465   \n",
                  "...             ...        ...       ...         ...         ...         ...   \n",
                  "6746   52604.984375   2.013280  1.956958  262.829285  260.161774  262.829285   \n",
                  "6747   51956.984375   1.973225  1.968402  262.842957  260.919586  262.842957   \n",
                  "6748   53604.984375   1.931264  1.806754  266.061707  261.595367  266.061707   \n",
                  "6749   54532.984375   1.897408  1.638907  267.083191  262.165680  267.083191   \n",
                  "6750   53052.984375   1.792027  1.606959  265.618347  262.474274  265.618347   \n",
                  "\n",
                  "          WIND   BCSMASS  DUSMASS25   OCSMASS  SO2SMASS  SO4SMASS  SSSMASS25  \\\n",
                  "0     4.072681  0.268208  11.190423  1.476210  2.987690  1.063639  19.448641   \n",
                  "1     2.683899  0.288444  21.042068  2.002807  1.546596  0.826488  11.692469   \n",
                  "2     2.433935  0.254906  22.817404  2.675833  0.984983  0.632311   6.799387   \n",
                  "3     2.100930  0.190787  18.735590  2.682199  0.694627  0.504300   3.563405   \n",
                  "4     1.812608  0.158784  13.838871  2.809529  0.421323  0.439271   2.614802   \n",
                  "...        ...       ...        ...       ...       ...       ...        ...   \n",
                  "6746  4.760526  0.059137   1.306944  0.218549  0.084071  0.455414   0.033997   \n",
                  "6747  6.234827  0.054846   1.136414  0.206214  0.110845  0.418807   0.028675   \n",
                  "6748  6.690394  0.048849   0.992259  0.184613  0.135969  0.376857   0.023389   \n",
                  "6749  4.973733  0.042568   0.910632  0.160853  0.213902  0.329677   0.020568   \n",
                  "6750  5.271878  0.040081   0.889258  0.152269  0.316845  0.306939   0.020333   \n",
                  "\n",
                  "      TOTEXTTAU       SED         SZA        time    lat      lon     MERRA2  \n",
                  "0      0.322948  1.001707  162.433433  2023-09-29  13.75 -17.0625  33.845983  \n",
                  "1      0.305369  1.001707  162.928591  2023-09-29  13.75 -16.4375  36.162210  \n",
                  "2      0.273875  1.001707  163.415585  2023-09-29  13.75 -15.8125  33.416957  \n",
                  "3      0.242015  1.001707  163.893671  2023-09-29  13.75 -15.1875  25.865394  \n",
                  "4      0.228587  1.001707  164.362031  2023-09-29  13.75 -14.5625  20.025984  \n",
                  "...         ...       ...         ...         ...    ...      ...        ...  \n",
                  "6746   0.026553  1.001707   99.660676  2023-09-29  34.75  77.9375   2.244822  \n",
                  "6747   0.022533  1.001707   99.147586  2023-09-29  34.75  78.5625   2.002008  \n",
                  "6748   0.021937  1.001707   98.634374  2023-09-29  34.75  79.1875   1.767288  \n",
                  "6749   0.021007  1.001707   98.121058  2023-09-29  34.75  79.8125   1.587925  \n",
                  "6750   0.019553  1.001707   97.607660  2023-09-29  34.75  80.4375   1.523984  \n",
                  "\n",
                  "[6751 rows x 20 columns]\n",
                  "15.590706956386565\n"
                ]
              },
              {
                "name": "stdout",
                "output_type": "stream",
                "text": [
                  "14/14 - 0s - 260ms/epoch - 19ms/step\n"
                ]
              },
              {
                "name": "stdout",
                "output_type": "stream",
                "text": [
                  "V1 Done\n",
                  "V2 DUSMASS25\n"
                ]
              },
              {
                "name": "stdout",
                "output_type": "stream",
                "text": [
                  "V2 OCSMASS\n"
                ]
              },
              {
                "name": "stdout",
                "output_type": "stream",
                "text": [
                  "V2 SO2SMASS\n"
                ]
              },
              {
                "name": "stdout",
                "output_type": "stream",
                "text": [
                  "V2 SO4SMASS\n"
                ]
              },
              {
                "name": "stdout",
                "output_type": "stream",
                "text": [
                  "V2 SSSMASS25\n"
                ]
              },
              {
                "name": "stdout",
                "output_type": "stream",
                "text": [
                  "V2 Done\n"
                ]
              },
              {
                "name": "stdout",
                "output_type": "stream",
                "text": [
                  "V3 DUSMASS25\n"
                ]
              },
              {
                "name": "stdout",
                "output_type": "stream",
                "text": [
                  "V3 OCSMASS\n",
                  "Skipping OCSMASS because the subset is empty.\n",
                  "V3 SO2SMASS\n"
                ]
              },
              {
                "name": "stdout",
                "output_type": "stream",
                "text": [
                  "V3 SO4SMASS\n",
                  "Skipping SO4SMASS because the subset is empty.\n",
                  "V3 SSSMASS25\n"
                ]
              },
              {
                "name": "stdout",
                "output_type": "stream",
                "text": [
                  "V3 Done\n"
                ]
              },
              {
                "name": "stdout",
                "output_type": "stream",
                "text": [
                  "V4 DUSMASS25\n"
                ]
              },
              {
                "name": "stdout",
                "output_type": "stream",
                "text": [
                  "V4 OCSMASS\n",
                  "Skipping OCSMASS because the subset is empty.\n",
                  "V4 SO2SMASS\n"
                ]
              },
              {
                "name": "stdout",
                "output_type": "stream",
                "text": [
                  "V4 SSSMASS25\n"
                ]
              },
              {
                "name": "stdout",
                "output_type": "stream",
                "text": [
                  "V4 wSO4\n"
                ]
              },
              {
                "name": "stdout",
                "output_type": "stream",
                "text": [
                  "V4 Done\n"
                ]
              },
              {
                "name": "stdout",
                "output_type": "stream",
                "text": [
                  "V5 CARBON\n",
                  "Skipping CARBON because the subset is empty.\n",
                  "V5 DUSMASS25\n"
                ]
              },
              {
                "name": "stdout",
                "output_type": "stream",
                "text": [
                  "V5 SSSMASS25\n"
                ]
              },
              {
                "name": "stdout",
                "output_type": "stream",
                "text": [
                  "V5 Sulfate\n"
                ]
              },
              {
                "name": "stdout",
                "output_type": "stream",
                "text": [
                  "V5 Done\n",
                  "[15.0, 19.0, 23.0]\n",
                  "Empty DataFrame\n",
                  "Columns: [PS, QV10M, Q500, T10M, T500, T850, WIND, BCSMASS, DUSMASS25, OCSMASS, SO2SMASS, SO4SMASS, SSSMASS25, TOTEXTTAU, SED, SZA, time, lat, lon, MERRA2, V1, V2_DS, V2, lat_lon, closest_lat_lon, lat_cats, lon_cats, V3_DS, lat_lon_cats, V3, lat_cats, lon_cats, V4_DS, lat_lon_cats, V4, lat_cats, lon_cats, V5_DS, lat_lon_cats, V5, Region]\n",
                  "Index: []\n",
                  "\n",
                  "[0 rows x 41 columns]\n"
                ]
              },
              {
                "name": "stdout",
                "output_type": "stream",
                "text": [
                  "V6 Done\n"
                ]
              },
              {
                "name": "stdout",
                "output_type": "stream",
                "text": [
                  "V7 Done\n"
                ]
              },
              {
                "name": "stdout",
                "output_type": "stream",
                "text": [
                  "V8 Done\n"
                ]
              },
              {
                "name": "stdout",
                "output_type": "stream",
                "text": [
                  "Data available for time: 21:30 UTC\n"
                ]
              },
              {
                "name": "stdout",
                "output_type": "stream",
                "text": [
                  "                 PS      QV10M      Q500        T10M        T500        T850  \\\n",
                  "0     101217.078125  19.136459  1.289371  301.876404  267.106018  295.783051   \n",
                  "1     101065.078125  18.571884  1.965526  300.438904  266.832581  296.150238   \n",
                  "2     100897.078125  18.068344  2.167705  300.157654  266.629456  296.376801   \n",
                  "3     100785.078125  18.060715  2.147678  300.938904  266.402893  296.501801   \n",
                  "4     100737.078125  18.587143  2.032283  301.376404  266.473206  296.384613   \n",
                  "...             ...        ...       ...         ...         ...         ...   \n",
                  "6746   52601.078125   2.010375  1.990322  262.176208  259.625549  262.176208   \n",
                  "6747   51945.078125   1.990348  1.984599  262.084412  260.387268  262.084412   \n",
                  "6748   53601.078125   1.960784  1.838210  265.405701  261.047424  265.405701   \n",
                  "6749   54529.078125   1.909286  1.675609  266.864685  261.648987  266.864685   \n",
                  "6750   53049.078125   1.867801  1.681808  265.104919  261.910706  265.104919   \n",
                  "\n",
                  "          WIND   BCSMASS  DUSMASS25   OCSMASS  SO2SMASS  SO4SMASS  SSSMASS25  \\\n",
                  "0     4.109775  0.261935   6.282789  1.449744  3.140485  1.015042  20.641891   \n",
                  "1     2.697851  0.313776  16.945705  2.087299  1.884473  0.871797  14.289981   \n",
                  "2     2.389772  0.289219  22.337191  2.959505  1.126409  0.676938   8.367352   \n",
                  "3     1.989787  0.215380  19.463186  3.065006  0.767841  0.529600   4.352842   \n",
                  "4     1.657826  0.172463  14.442776  3.157775  0.478622  0.449109   2.795787   \n",
                  "...        ...       ...        ...       ...       ...       ...        ...   \n",
                  "6746  4.443897  0.060595   1.317403  0.220562  0.080803  0.463889   0.033850   \n",
                  "6747  5.704502  0.055934   1.111403  0.208227  0.099106  0.429328   0.027455   \n",
                  "6748  6.337996  0.049568   0.972705  0.187365  0.116984  0.393175   0.022482   \n",
                  "6749  5.150359  0.042761   0.883119  0.162297  0.191619  0.345086   0.019966   \n",
                  "6750  5.254068  0.041112   0.875389  0.157181  0.300361  0.320416   0.019902   \n",
                  "\n",
                  "      TOTEXTTAU       SED         SZA        time    lat      lon     MERRA2  \n",
                  "0      0.307796  1.001707  162.433433  2023-09-29  13.75 -17.0625  30.032043  \n",
                  "1      0.293392  1.001707  162.928591  2023-09-29  13.75 -16.4375  34.835482  \n",
                  "2      0.266536  1.001707  163.415585  2023-09-29  13.75 -15.8125  34.884055  \n",
                  "3      0.243038  1.001707  163.893671  2023-09-29  13.75 -15.1875  27.824614  \n",
                  "4      0.235469  1.001707  164.362031  2023-09-29  13.75 -14.5625  21.186326  \n",
                  "...         ...       ...         ...         ...    ...      ...        ...  \n",
                  "6746   0.026264  1.001707   99.660676  2023-09-29  34.75  77.9375   2.270257  \n",
                  "6747   0.022205  1.001707   99.147586  2023-09-29  34.75  78.5625   1.993344  \n",
                  "6748   0.021625  1.001707   98.634374  2023-09-29  34.75  79.1875   1.772735  \n",
                  "6749   0.020969  1.001707   98.121058  2023-09-29  34.75  79.8125   1.582636  \n",
                  "6750   0.019550  1.001707   97.607660  2023-09-29  34.75  80.4375   1.534156  \n",
                  "\n",
                  "[6751 rows x 20 columns]\n",
                  "15.91233956416448\n"
                ]
              },
              {
                "name": "stdout",
                "output_type": "stream",
                "text": [
                  "14/14 - 0s - 259ms/epoch - 19ms/step\n"
                ]
              },
              {
                "name": "stdout",
                "output_type": "stream",
                "text": [
                  "V1 Done\n",
                  "V2 DUSMASS25\n"
                ]
              },
              {
                "name": "stdout",
                "output_type": "stream",
                "text": [
                  "V2 OCSMASS\n"
                ]
              },
              {
                "name": "stdout",
                "output_type": "stream",
                "text": [
                  "V2 SO2SMASS\n"
                ]
              },
              {
                "name": "stdout",
                "output_type": "stream",
                "text": [
                  "V2 SO4SMASS\n"
                ]
              },
              {
                "name": "stdout",
                "output_type": "stream",
                "text": [
                  "V2 SSSMASS25\n"
                ]
              },
              {
                "name": "stdout",
                "output_type": "stream",
                "text": [
                  "V2 Done\n"
                ]
              },
              {
                "name": "stdout",
                "output_type": "stream",
                "text": [
                  "V3 DUSMASS25\n"
                ]
              },
              {
                "name": "stdout",
                "output_type": "stream",
                "text": [
                  "V3 OCSMASS\n",
                  "Skipping OCSMASS because the subset is empty.\n",
                  "V3 SO2SMASS\n"
                ]
              },
              {
                "name": "stdout",
                "output_type": "stream",
                "text": [
                  "V3 SO4SMASS\n",
                  "Skipping SO4SMASS because the subset is empty.\n",
                  "V3 SSSMASS25\n"
                ]
              },
              {
                "name": "stdout",
                "output_type": "stream",
                "text": [
                  "V3 Done\n"
                ]
              },
              {
                "name": "stdout",
                "output_type": "stream",
                "text": [
                  "V4 DUSMASS25\n"
                ]
              },
              {
                "name": "stdout",
                "output_type": "stream",
                "text": [
                  "V4 OCSMASS\n",
                  "Skipping OCSMASS because the subset is empty.\n",
                  "V4 SO2SMASS\n"
                ]
              },
              {
                "name": "stdout",
                "output_type": "stream",
                "text": [
                  "V4 SSSMASS25\n"
                ]
              },
              {
                "name": "stdout",
                "output_type": "stream",
                "text": [
                  "V4 wSO4\n"
                ]
              },
              {
                "name": "stdout",
                "output_type": "stream",
                "text": [
                  "V4 Done\n"
                ]
              },
              {
                "name": "stdout",
                "output_type": "stream",
                "text": [
                  "V5 CARBON\n",
                  "Skipping CARBON because the subset is empty.\n",
                  "V5 DUSMASS25\n"
                ]
              },
              {
                "name": "stdout",
                "output_type": "stream",
                "text": [
                  "V5 SSSMASS25\n"
                ]
              },
              {
                "name": "stdout",
                "output_type": "stream",
                "text": [
                  "V5 Sulfate\n"
                ]
              },
              {
                "name": "stdout",
                "output_type": "stream",
                "text": [
                  "V5 Done\n",
                  "[15.0, 19.0, 23.0]\n",
                  "Empty DataFrame\n",
                  "Columns: [PS, QV10M, Q500, T10M, T500, T850, WIND, BCSMASS, DUSMASS25, OCSMASS, SO2SMASS, SO4SMASS, SSSMASS25, TOTEXTTAU, SED, SZA, time, lat, lon, MERRA2, V1, V2_DS, V2, lat_lon, closest_lat_lon, lat_cats, lon_cats, V3_DS, lat_lon_cats, V3, lat_cats, lon_cats, V4_DS, lat_lon_cats, V4, lat_cats, lon_cats, V5_DS, lat_lon_cats, V5, Region]\n",
                  "Index: []\n",
                  "\n",
                  "[0 rows x 41 columns]\n"
                ]
              },
              {
                "name": "stdout",
                "output_type": "stream",
                "text": [
                  "V6 Done\n"
                ]
              },
              {
                "name": "stdout",
                "output_type": "stream",
                "text": [
                  "V7 Done\n"
                ]
              },
              {
                "name": "stdout",
                "output_type": "stream",
                "text": [
                  "V8 Done\n"
                ]
              },
              {
                "name": "stdout",
                "output_type": "stream",
                "text": [
                  "Data available for time: 22:30 UTC\n"
                ]
              },
              {
                "name": "stdout",
                "output_type": "stream",
                "text": [
                  "                 PS      QV10M      Q500        T10M        T500        T850  \\\n",
                  "0     101216.585938  18.968618  1.499196  301.693024  266.993958  296.089355   \n",
                  "1     101072.585938  18.678701  2.065679  300.021149  266.740051  296.362793   \n",
                  "2     100912.585938  18.068350  2.120992  299.693024  266.587708  296.417480   \n",
                  "3     100800.585938  17.946280  2.010365  300.552399  266.505676  296.401855   \n",
                  "4     100760.585938  18.373526  1.861592  301.052399  266.650208  296.276855   \n",
                  "...             ...        ...       ...         ...         ...         ...   \n",
                  "6746   52608.585938   2.013242  1.962682  261.697906  259.173645  261.697906   \n",
                  "6747   51952.585938   1.997983  1.974126  261.425934  259.958801  261.425934   \n",
                  "6748   53616.585938   1.996076  1.841088  264.704742  260.556458  264.704742   \n",
                  "6749   54544.585938   1.923119  1.674672  266.624664  261.177551  266.624664   \n",
                  "6750   53056.585938   1.904523  1.700421  264.671539  261.462708  264.671539   \n",
                  "\n",
                  "          WIND   BCSMASS  DUSMASS25   OCSMASS  SO2SMASS  SO4SMASS  SSSMASS25  \\\n",
                  "0     3.904848  0.259549   3.541572  1.442021  3.188689  0.957829  21.304005   \n",
                  "1     2.541859  0.333786  12.325472  2.160976  2.186425  0.893028  16.530975   \n",
                  "2     2.211824  0.323213  21.042068  3.223266  1.306034  0.719997  10.048098   \n",
                  "3     1.776291  0.243632  19.834261  3.495205  0.835371  0.553332   5.104084   \n",
                  "4     1.472782  0.187585  14.893886  3.547956  0.518867  0.458176   2.974957   \n",
                  "...        ...       ...        ...       ...       ...       ...        ...   \n",
                  "6746  4.266823  0.062245   1.343324  0.223298  0.084299  0.467839   0.034476   \n",
                  "6747  5.257929  0.057058   1.091848  0.209769  0.092030  0.435552   0.026432   \n",
                  "6748  5.803277  0.050564   0.965429  0.190329  0.106553  0.405084   0.021686   \n",
                  "6749  5.045023  0.042805   0.872888  0.163044  0.174282  0.358472   0.019497   \n",
                  "6750  5.063323  0.041597   0.866976  0.159122  0.283535  0.333802   0.019561   \n",
                  "\n",
                  "      TOTEXTTAU       SED         SZA        time    lat      lon     MERRA2  \n",
                  "0      0.289006  1.001707  162.433433  2023-09-29  13.75 -17.0625  27.864161  \n",
                  "1      0.281681  1.001707  162.928591  2023-09-29  13.75 -16.4375  32.579124  \n",
                  "2      0.266545  1.001707  163.415585  2023-09-29  13.75 -15.8125  35.626642  \n",
                  "3      0.252263  1.001707  163.893671  2023-09-29  13.75 -15.1875  29.438013  \n",
                  "4      0.242680  1.001707  164.362031  2023-09-29  13.75 -14.5625  22.234375  \n",
                  "...         ...       ...         ...         ...    ...      ...        ...  \n",
                  "6746   0.026150  1.001707   99.660676  2023-09-29  34.75  77.9375   2.306621  \n",
                  "6747   0.021862  1.001707   99.147586  2023-09-29  34.75  78.5625   1.983992  \n",
                  "6748   0.021237  1.001707   98.634374  2023-09-29  34.75  79.1875   1.784997  \n",
                  "6749   0.020745  1.001707   98.121058  2023-09-29  34.75  79.8125   1.591133  \n",
                  "6750   0.019452  1.001707   97.607660  2023-09-29  34.75  80.4375   1.546234  \n",
                  "\n",
                  "[6751 rows x 20 columns]\n",
                  "16.247399004300437\n"
                ]
              },
              {
                "name": "stdout",
                "output_type": "stream",
                "text": [
                  "14/14 - 0s - 247ms/epoch - 18ms/step\n"
                ]
              },
              {
                "name": "stdout",
                "output_type": "stream",
                "text": [
                  "V1 Done\n",
                  "V2 DUSMASS25\n"
                ]
              },
              {
                "name": "stdout",
                "output_type": "stream",
                "text": [
                  "V2 OCSMASS\n"
                ]
              },
              {
                "name": "stdout",
                "output_type": "stream",
                "text": [
                  "V2 SO2SMASS\n"
                ]
              },
              {
                "name": "stdout",
                "output_type": "stream",
                "text": [
                  "V2 SO4SMASS\n"
                ]
              },
              {
                "name": "stdout",
                "output_type": "stream",
                "text": [
                  "V2 SSSMASS25\n"
                ]
              },
              {
                "name": "stdout",
                "output_type": "stream",
                "text": [
                  "V2 Done\n"
                ]
              },
              {
                "name": "stdout",
                "output_type": "stream",
                "text": [
                  "V3 DUSMASS25\n"
                ]
              },
              {
                "name": "stdout",
                "output_type": "stream",
                "text": [
                  "V3 OCSMASS\n",
                  "Skipping OCSMASS because the subset is empty.\n",
                  "V3 SO2SMASS\n"
                ]
              },
              {
                "name": "stdout",
                "output_type": "stream",
                "text": [
                  "V3 SO4SMASS\n",
                  "Skipping SO4SMASS because the subset is empty.\n",
                  "V3 SSSMASS25\n"
                ]
              },
              {
                "name": "stdout",
                "output_type": "stream",
                "text": [
                  "V3 Done\n"
                ]
              },
              {
                "name": "stdout",
                "output_type": "stream",
                "text": [
                  "V4 DUSMASS25\n"
                ]
              },
              {
                "name": "stdout",
                "output_type": "stream",
                "text": [
                  "V4 OCSMASS\n",
                  "Skipping OCSMASS because the subset is empty.\n",
                  "V4 SO2SMASS\n"
                ]
              },
              {
                "name": "stdout",
                "output_type": "stream",
                "text": [
                  "V4 SSSMASS25\n"
                ]
              },
              {
                "name": "stdout",
                "output_type": "stream",
                "text": [
                  "V4 wSO4\n"
                ]
              },
              {
                "name": "stdout",
                "output_type": "stream",
                "text": [
                  "V4 Done\n"
                ]
              },
              {
                "name": "stdout",
                "output_type": "stream",
                "text": [
                  "V5 CARBON\n",
                  "Skipping CARBON because the subset is empty.\n",
                  "V5 DUSMASS25\n"
                ]
              },
              {
                "name": "stdout",
                "output_type": "stream",
                "text": [
                  "V5 SSSMASS25\n"
                ]
              },
              {
                "name": "stdout",
                "output_type": "stream",
                "text": [
                  "V5 Sulfate\n"
                ]
              },
              {
                "name": "stdout",
                "output_type": "stream",
                "text": [
                  "V5 Done\n",
                  "[15.0, 19.0, 23.0]\n",
                  "Empty DataFrame\n",
                  "Columns: [PS, QV10M, Q500, T10M, T500, T850, WIND, BCSMASS, DUSMASS25, OCSMASS, SO2SMASS, SO4SMASS, SSSMASS25, TOTEXTTAU, SED, SZA, time, lat, lon, MERRA2, V1, V2_DS, V2, lat_lon, closest_lat_lon, lat_cats, lon_cats, V3_DS, lat_lon_cats, V3, lat_cats, lon_cats, V4_DS, lat_lon_cats, V4, lat_cats, lon_cats, V5_DS, lat_lon_cats, V5, Region]\n",
                  "Index: []\n",
                  "\n",
                  "[0 rows x 41 columns]\n"
                ]
              },
              {
                "name": "stdout",
                "output_type": "stream",
                "text": [
                  "V6 Done\n"
                ]
              },
              {
                "name": "stdout",
                "output_type": "stream",
                "text": [
                  "V7 Done\n"
                ]
              },
              {
                "name": "stdout",
                "output_type": "stream",
                "text": [
                  "V8 Done\n"
                ]
              },
              {
                "name": "stdout",
                "output_type": "stream",
                "text": [
                  "Data available for time: 23:30 UTC\n"
                ]
              },
              {
                "name": "stdout",
                "output_type": "stream",
                "text": [
                  "                 PS      QV10M      Q500        T10M        T500        T850  \\\n",
                  "0     101179.679688  18.724403  1.706124  301.588104  266.893860  296.296509   \n",
                  "1     101043.679688  18.678627  2.094270  299.713104  266.682922  296.460571   \n",
                  "2     100883.679688  18.060646  2.019883  299.338104  266.616516  296.429321   \n",
                  "3     100779.679688  17.908058  1.841069  300.134979  266.686829  296.319946   \n",
                  "4     100739.679688  18.297157  1.665593  300.572479  266.862610  296.171509   \n",
                  "...             ...        ...       ...         ...         ...         ...   \n",
                  "6746   52627.679688   2.005540  1.948358  261.192596  258.815735  261.192596   \n",
                  "6747   51971.679688   1.968347  1.901151  260.862518  259.593079  260.862518   \n",
                  "6748   53635.679688   2.018892  1.806260  264.033417  260.136047  264.033417   \n",
                  "6749   54571.679688   1.956903  1.681329  266.322479  260.690735  266.322479   \n",
                  "6750   53075.679688   1.892053  1.673223  264.302948  261.054016  264.302948   \n",
                  "\n",
                  "          WIND   BCSMASS  DUSMASS25   OCSMASS  SO2SMASS  SO4SMASS  SSSMASS25  \\\n",
                  "0     3.569937  0.260802   2.253728  1.448849  3.203240  0.926838  21.624146   \n",
                  "1     2.331281  0.351297   8.316420  2.250114  2.427441  0.894778  18.109858   \n",
                  "2     1.986962  0.357436  18.997526  3.497031  1.497483  0.755853  11.568772   \n",
                  "3     1.562630  0.274558  19.899744  3.969059  0.898808  0.573954   5.709808   \n",
                  "4     1.443316  0.204186  15.148543  3.974516  0.538193  0.465610   3.085916   \n",
                  "...        ...       ...        ...       ...       ...       ...        ...   \n",
                  "6746  3.825647  0.063584   1.378794  0.225351  0.085606  0.474364   0.035584   \n",
                  "6747  5.021668  0.057459   1.087756  0.208469  0.088733  0.436620   0.025835   \n",
                  "6748  5.253706  0.051604   0.967702  0.192609  0.105672  0.411609   0.021139   \n",
                  "6749  4.727054  0.043305   0.880846  0.165325  0.162913  0.370909   0.019377   \n",
                  "6750  4.871730  0.041714   0.863793  0.159242  0.257046  0.344193   0.019419   \n",
                  "\n",
                  "      TOTEXTTAU       SED         SZA        time    lat      lon     MERRA2  \n",
                  "0      0.272955  1.001707  162.433433  2023-09-29  13.75 -17.0625  26.861927  \n",
                  "1      0.274176  1.001707  162.928591  2023-09-29  13.75 -16.4375  30.258009  \n",
                  "2      0.273566  1.001707  163.415585  2023-09-29  13.75 -15.8125  35.460063  \n",
                  "3      0.262213  1.001707  163.893671  2023-09-29  13.75 -15.1875  30.642356  \n",
                  "4      0.245673  1.001707  164.362031  2023-09-29  13.75 -14.5625  23.053376  \n",
                  "...         ...       ...         ...         ...    ...      ...        ...  \n",
                  "6746   0.026084  1.001707   99.660676  2023-09-29  34.75  77.9375   2.355564  \n",
                  "6747   0.021559  1.001707   99.147586  2023-09-29  34.75  78.5625   1.979872  \n",
                  "6748   0.020823  1.001707   98.634374  2023-09-29  34.75  79.1875   1.799017  \n",
                  "6749   0.020423  1.001707   98.121058  2023-09-29  34.75  79.8125   1.618852  \n",
                  "6750   0.019236  1.001707   97.607660  2023-09-29  34.75  80.4375   1.557433  \n",
                  "\n",
                  "[6751 rows x 20 columns]\n",
                  "16.56264743010203\n"
                ]
              },
              {
                "name": "stdout",
                "output_type": "stream",
                "text": [
                  "14/14 - 0s - 257ms/epoch - 18ms/step\n"
                ]
              },
              {
                "name": "stdout",
                "output_type": "stream",
                "text": [
                  "V1 Done\n",
                  "V2 DUSMASS25\n"
                ]
              },
              {
                "name": "stdout",
                "output_type": "stream",
                "text": [
                  "V2 OCSMASS\n"
                ]
              },
              {
                "name": "stdout",
                "output_type": "stream",
                "text": [
                  "V2 SO2SMASS\n"
                ]
              },
              {
                "name": "stdout",
                "output_type": "stream",
                "text": [
                  "V2 SO4SMASS\n"
                ]
              },
              {
                "name": "stdout",
                "output_type": "stream",
                "text": [
                  "V2 SSSMASS25\n"
                ]
              },
              {
                "name": "stdout",
                "output_type": "stream",
                "text": [
                  "V2 Done\n"
                ]
              },
              {
                "name": "stdout",
                "output_type": "stream",
                "text": [
                  "V3 DUSMASS25\n"
                ]
              },
              {
                "name": "stdout",
                "output_type": "stream",
                "text": [
                  "V3 OCSMASS\n",
                  "Skipping OCSMASS because the subset is empty.\n",
                  "V3 SO2SMASS\n"
                ]
              },
              {
                "name": "stdout",
                "output_type": "stream",
                "text": [
                  "V3 SO4SMASS\n",
                  "Skipping SO4SMASS because the subset is empty.\n",
                  "V3 SSSMASS25\n"
                ]
              },
              {
                "name": "stdout",
                "output_type": "stream",
                "text": [
                  "V3 Done\n"
                ]
              },
              {
                "name": "stdout",
                "output_type": "stream",
                "text": [
                  "V4 DUSMASS25\n"
                ]
              },
              {
                "name": "stdout",
                "output_type": "stream",
                "text": [
                  "V4 OCSMASS\n",
                  "Skipping OCSMASS because the subset is empty.\n",
                  "V4 SO2SMASS\n"
                ]
              },
              {
                "name": "stdout",
                "output_type": "stream",
                "text": [
                  "V4 SSSMASS25\n"
                ]
              },
              {
                "name": "stdout",
                "output_type": "stream",
                "text": [
                  "V4 wSO4\n"
                ]
              },
              {
                "name": "stdout",
                "output_type": "stream",
                "text": [
                  "V4 Done\n"
                ]
              },
              {
                "name": "stdout",
                "output_type": "stream",
                "text": [
                  "V5 CARBON\n",
                  "Skipping CARBON because the subset is empty.\n",
                  "V5 DUSMASS25\n"
                ]
              },
              {
                "name": "stdout",
                "output_type": "stream",
                "text": [
                  "V5 SSSMASS25\n"
                ]
              },
              {
                "name": "stdout",
                "output_type": "stream",
                "text": [
                  "V5 Sulfate\n"
                ]
              },
              {
                "name": "stdout",
                "output_type": "stream",
                "text": [
                  "V5 Done\n",
                  "[15.0, 19.0, 23.0]\n",
                  "Empty DataFrame\n",
                  "Columns: [PS, QV10M, Q500, T10M, T500, T850, WIND, BCSMASS, DUSMASS25, OCSMASS, SO2SMASS, SO4SMASS, SSSMASS25, TOTEXTTAU, SED, SZA, time, lat, lon, MERRA2, V1, V2_DS, V2, lat_lon, closest_lat_lon, lat_cats, lon_cats, V3_DS, lat_lon_cats, V3, lat_cats, lon_cats, V4_DS, lat_lon_cats, V4, lat_cats, lon_cats, V5_DS, lat_lon_cats, V5, Region]\n",
                  "Index: []\n",
                  "\n",
                  "[0 rows x 41 columns]\n"
                ]
              },
              {
                "name": "stdout",
                "output_type": "stream",
                "text": [
                  "V6 Done\n"
                ]
              },
              {
                "name": "stdout",
                "output_type": "stream",
                "text": [
                  "V7 Done\n"
                ]
              },
              {
                "name": "stdout",
                "output_type": "stream",
                "text": [
                  "V8 Done\n"
                ]
              },
              {
                "name": "stdout",
                "output_type": "stream",
                "text": [
                  "Processing data for 2023-09-30\n",
                  "Data available for time: 0:30 UTC\n"
                ]
              },
              {
                "name": "stdout",
                "output_type": "stream",
                "text": [
                  "                PS      QV10M      Q500        T10M        T500        T850  \\\n",
                  "0     101114.90625  18.480278  1.889725  301.529297  266.818817  296.357544   \n",
                  "1     100994.90625  18.579460  2.067585  299.513672  266.666473  296.427856   \n",
                  "2     100834.90625  18.060661  1.882095  299.013672  266.689911  296.380981   \n",
                  "3     100722.90625  17.961479  1.657505  299.638672  266.896942  296.263794   \n",
                  "4     100682.90625  18.358208  1.436253  299.873047  267.068817  296.146606   \n",
                  "...            ...        ...       ...         ...         ...         ...   \n",
                  "6746   52642.90625   2.018906  1.932163  260.715820  258.564911  260.715820   \n",
                  "6747   51986.90625   1.923062  1.869221  260.392090  259.264130  260.392090   \n",
                  "6748   53650.90625   2.012231  1.764317  263.455078  259.850067  263.455078   \n",
                  "6749   54594.90625   1.985528  1.666565  266.027344  260.283661  266.027344   \n",
                  "6750   53098.90625   1.848676  1.626034  264.009766  260.654755  264.009766   \n",
                  "\n",
                  "          WIND   BCSMASS  DUSMASS25   OCSMASS  SO2SMASS  SO4SMASS  SSSMASS25  \\\n",
                  "0     3.135293  0.266027   1.670742  1.474293  3.165041  0.912296  21.682354   \n",
                  "1     2.082689  0.369369   5.629772  2.363779  2.618435  0.893652  19.092113   \n",
                  "2     1.761486  0.392106  16.916601  3.792595  1.681201  0.782011  12.754754   \n",
                  "3     1.500086  0.307182  19.885193  4.480173  0.954515  0.591472   6.084519   \n",
                  "4     1.670977  0.222030  15.199475  4.416509  0.539330  0.472328   3.114110   \n",
                  "...        ...       ...        ...       ...       ...       ...        ...   \n",
                  "6746  3.436963  0.064659   1.394710  0.226125  0.083361  0.480968   0.035627   \n",
                  "6747  4.827269  0.057497   1.099124  0.205605  0.085436  0.437995   0.025736   \n",
                  "6748  4.880860  0.052367   0.977252  0.193327  0.111555  0.412870   0.020997   \n",
                  "6749  4.491041  0.044395   0.905175  0.169225  0.161890  0.381265   0.019575   \n",
                  "6750  4.868419  0.041851   0.874479  0.159448  0.227885  0.350342   0.019583   \n",
                  "\n",
                  "      TOTEXTTAU      SED         SZA        time    lat      lon     MERRA2  \n",
                  "0      0.264357  1.00142  162.735995  2023-09-30  13.75 -17.0625  26.347823  \n",
                  "1      0.273757  1.00142  163.236683  2023-09-30  13.75 -16.4375  28.683803  \n",
                  "2      0.282302  1.00142  163.729407  2023-09-30  13.75 -15.8125  34.931321  \n",
                  "3      0.268019  1.00142  164.213421  2023-09-30  13.75 -15.1875  31.570341  \n",
                  "4      0.246474  1.00142  164.687897  2023-09-30  13.75 -14.5625  23.601575  \n",
                  "...         ...      ...         ...         ...    ...      ...        ...  \n",
                  "6746   0.025939  1.00142   99.820376  2023-09-30  34.75  77.9375   2.382453  \n",
                  "6747   0.021586  1.00142   99.307157  2023-09-30  34.75  78.5625   1.990205  \n",
                  "6748   0.020510  1.00142   98.793836  2023-09-30  34.75  79.1875   1.811639  \n",
                  "6749   0.020041  1.00142   98.280434  2023-09-30  34.75  79.8125   1.662609  \n",
                  "6750   0.018817  1.00142   97.766971  2023-09-30  34.75  80.4375   1.577081  \n",
                  "\n",
                  "[6751 rows x 20 columns]\n",
                  "16.91848816871643\n"
                ]
              },
              {
                "name": "stdout",
                "output_type": "stream",
                "text": [
                  "14/14 - 0s - 297ms/epoch - 21ms/step\n"
                ]
              },
              {
                "name": "stdout",
                "output_type": "stream",
                "text": [
                  "V1 Done\n",
                  "V2 DUSMASS25\n"
                ]
              },
              {
                "name": "stdout",
                "output_type": "stream",
                "text": [
                  "V2 OCSMASS\n"
                ]
              },
              {
                "name": "stdout",
                "output_type": "stream",
                "text": [
                  "V2 SO2SMASS\n"
                ]
              },
              {
                "name": "stdout",
                "output_type": "stream",
                "text": [
                  "V2 SO4SMASS\n"
                ]
              },
              {
                "name": "stdout",
                "output_type": "stream",
                "text": [
                  "V2 SSSMASS25\n"
                ]
              },
              {
                "name": "stdout",
                "output_type": "stream",
                "text": [
                  "V2 Done\n"
                ]
              },
              {
                "name": "stdout",
                "output_type": "stream",
                "text": [
                  "V3 DUSMASS25\n"
                ]
              },
              {
                "name": "stdout",
                "output_type": "stream",
                "text": [
                  "V3 OCSMASS\n",
                  "Skipping OCSMASS because the subset is empty.\n",
                  "V3 SO2SMASS\n"
                ]
              },
              {
                "name": "stdout",
                "output_type": "stream",
                "text": [
                  "V3 SO4SMASS\n",
                  "Skipping SO4SMASS because the subset is empty.\n",
                  "V3 SSSMASS25\n"
                ]
              },
              {
                "name": "stdout",
                "output_type": "stream",
                "text": [
                  "V3 Done\n"
                ]
              },
              {
                "name": "stdout",
                "output_type": "stream",
                "text": [
                  "V4 DUSMASS25\n"
                ]
              },
              {
                "name": "stdout",
                "output_type": "stream",
                "text": [
                  "V4 OCSMASS\n",
                  "Skipping OCSMASS because the subset is empty.\n",
                  "V4 SO2SMASS\n"
                ]
              },
              {
                "name": "stdout",
                "output_type": "stream",
                "text": [
                  "V4 SSSMASS25\n"
                ]
              },
              {
                "name": "stdout",
                "output_type": "stream",
                "text": [
                  "V4 wSO4\n"
                ]
              },
              {
                "name": "stdout",
                "output_type": "stream",
                "text": [
                  "V4 Done\n"
                ]
              },
              {
                "name": "stdout",
                "output_type": "stream",
                "text": [
                  "V5 CARBON\n",
                  "Skipping CARBON because the subset is empty.\n",
                  "V5 DUSMASS25\n"
                ]
              },
              {
                "name": "stdout",
                "output_type": "stream",
                "text": [
                  "V5 SSSMASS25\n"
                ]
              },
              {
                "name": "stdout",
                "output_type": "stream",
                "text": [
                  "V5 Sulfate\n"
                ]
              },
              {
                "name": "stdout",
                "output_type": "stream",
                "text": [
                  "V5 Done\n",
                  "[15.0, 19.0, 23.0]\n",
                  "Empty DataFrame\n",
                  "Columns: [PS, QV10M, Q500, T10M, T500, T850, WIND, BCSMASS, DUSMASS25, OCSMASS, SO2SMASS, SO4SMASS, SSSMASS25, TOTEXTTAU, SED, SZA, time, lat, lon, MERRA2, V1, V2_DS, V2, lat_lon, closest_lat_lon, lat_cats, lon_cats, V3_DS, lat_lon_cats, V3, lat_cats, lon_cats, V4_DS, lat_lon_cats, V4, lat_cats, lon_cats, V5_DS, lat_lon_cats, V5, Region]\n",
                  "Index: []\n",
                  "\n",
                  "[0 rows x 41 columns]\n"
                ]
              },
              {
                "name": "stdout",
                "output_type": "stream",
                "text": [
                  "V6 Done\n"
                ]
              },
              {
                "name": "stdout",
                "output_type": "stream",
                "text": [
                  "V7 Done\n"
                ]
              },
              {
                "name": "stdout",
                "output_type": "stream",
                "text": [
                  "V8 Done\n"
                ]
              },
              {
                "name": "stdout",
                "output_type": "stream",
                "text": [
                  "Data available for time: 1:30 UTC\n"
                ]
              },
              {
                "name": "stdout",
                "output_type": "stream",
                "text": [
                  "                 PS      QV10M      Q500        T10M        T500        T850  \\\n",
                  "0     101049.601562  18.190557  2.028503  301.536530  266.720093  296.319946   \n",
                  "1     100921.601562  18.480474  1.993217  299.380280  266.700562  296.304321   \n",
                  "2     100761.601562  18.068487  1.719036  298.692780  266.829468  296.319946   \n",
                  "3     100649.601562  18.053228  1.461067  299.083405  267.102905  296.280884   \n",
                  "4     100593.601562  18.427069  1.190700  299.161530  267.274780  296.265259   \n",
                  "...             ...        ...       ...         ...         ...         ...   \n",
                  "6746   52657.601562   2.041991  1.930751  261.259186  258.534546  261.259186   \n",
                  "6747   52001.601562   1.924689  1.896896  261.179108  259.095093  261.179108   \n",
                  "6748   53673.601562   1.954253  1.750030  264.290436  259.731812  264.290436   \n",
                  "6749   54617.601562   1.904185  1.627483  266.770905  260.114624  266.770905   \n",
                  "6750   53121.601562   1.782114  1.608409  264.938873  260.438843  264.938873   \n",
                  "\n",
                  "          WIND   BCSMASS  DUSMASS25   OCSMASS  SO2SMASS  SO4SMASS  SSSMASS25  \\\n",
                  "0     2.716377  0.269779   1.585249  1.488421  3.064997  0.913114  21.478626   \n",
                  "1     1.839179  0.389036   4.220056  2.497505  2.763954  0.897198  19.681465   \n",
                  "2     1.611388  0.426780  15.148543  4.101853  1.857643  0.801246  13.642421   \n",
                  "3     1.632420  0.340947  19.732397  5.000434  1.005446  0.607524   6.279151   \n",
                  "4     1.922164  0.241471  15.075784  4.845820  0.532737  0.481332   3.085916   \n",
                  "...        ...       ...        ...       ...       ...       ...        ...   \n",
                  "6746  4.333902  0.063125   1.373337  0.217572  0.075744  0.478603   0.033765   \n",
                  "6747  6.132240  0.056147   1.120043  0.197450  0.077421  0.436653   0.025366   \n",
                  "6748  6.326751  0.051770   1.001354  0.188127  0.103455  0.408686   0.021323   \n",
                  "6749  5.974817  0.044906   0.938599  0.167948  0.145178  0.381287   0.019938   \n",
                  "6750  6.311188  0.041808   0.896762  0.157318  0.193381  0.349455   0.019718   \n",
                  "\n",
                  "      TOTEXTTAU      SED         SZA        time    lat      lon     MERRA2  \n",
                  "0      0.263012  1.00142  162.735995  2023-09-30  13.75 -17.0625  26.077608  \n",
                  "1      0.278271  1.00142  163.236683  2023-09-30  13.75 -16.4375  28.021710  \n",
                  "2      0.288403  1.00142  163.729407  2023-09-30  13.75 -15.8125  34.421312  \n",
                  "3      0.271679  1.00142  164.213421  2023-09-30  13.75 -15.1875  32.188275  \n",
                  "4      0.248608  1.00142  164.687897  2023-09-30  13.75 -14.5625  23.910822  \n",
                  "...         ...      ...         ...         ...    ...      ...        ...  \n",
                  "6746   0.025898  1.00142   99.820376  2023-09-30  34.75  77.9375   2.345878  \n",
                  "6747   0.021816  1.00142   99.307157  2023-09-30  34.75  78.5625   1.999403  \n",
                  "6748   0.020409  1.00142   98.793836  2023-09-30  34.75  79.1875   1.824518  \n",
                  "6749   0.019867  1.00142   98.280434  2023-09-30  34.75  79.8125   1.695661  \n",
                  "6750   0.018574  1.00142   97.766971  2023-09-30  34.75  80.4375   1.596106  \n",
                  "\n",
                  "[6751 rows x 20 columns]\n",
                  "17.234847287336986\n"
                ]
              },
              {
                "name": "stdout",
                "output_type": "stream",
                "text": [
                  "14/14 - 0s - 266ms/epoch - 19ms/step\n"
                ]
              },
              {
                "name": "stdout",
                "output_type": "stream",
                "text": [
                  "V1 Done\n",
                  "V2 DUSMASS25\n"
                ]
              },
              {
                "name": "stdout",
                "output_type": "stream",
                "text": [
                  "V2 OCSMASS\n"
                ]
              },
              {
                "name": "stdout",
                "output_type": "stream",
                "text": [
                  "V2 SO2SMASS\n"
                ]
              },
              {
                "name": "stdout",
                "output_type": "stream",
                "text": [
                  "V2 SO4SMASS\n"
                ]
              },
              {
                "name": "stdout",
                "output_type": "stream",
                "text": [
                  "V2 SSSMASS25\n"
                ]
              },
              {
                "name": "stdout",
                "output_type": "stream",
                "text": [
                  "V2 Done\n"
                ]
              },
              {
                "name": "stdout",
                "output_type": "stream",
                "text": [
                  "V3 DUSMASS25\n"
                ]
              },
              {
                "name": "stdout",
                "output_type": "stream",
                "text": [
                  "V3 OCSMASS\n",
                  "Skipping OCSMASS because the subset is empty.\n",
                  "V3 SO2SMASS\n"
                ]
              },
              {
                "name": "stdout",
                "output_type": "stream",
                "text": [
                  "V3 SO4SMASS\n",
                  "Skipping SO4SMASS because the subset is empty.\n",
                  "V3 SSSMASS25\n"
                ]
              },
              {
                "name": "stdout",
                "output_type": "stream",
                "text": [
                  "V3 Done\n"
                ]
              },
              {
                "name": "stdout",
                "output_type": "stream",
                "text": [
                  "V4 DUSMASS25\n"
                ]
              },
              {
                "name": "stdout",
                "output_type": "stream",
                "text": [
                  "V4 OCSMASS\n",
                  "Skipping OCSMASS because the subset is empty.\n",
                  "V4 SO2SMASS\n"
                ]
              },
              {
                "name": "stdout",
                "output_type": "stream",
                "text": [
                  "V4 SSSMASS25\n"
                ]
              },
              {
                "name": "stdout",
                "output_type": "stream",
                "text": [
                  "V4 wSO4\n"
                ]
              },
              {
                "name": "stdout",
                "output_type": "stream",
                "text": [
                  "V4 Done\n"
                ]
              },
              {
                "name": "stdout",
                "output_type": "stream",
                "text": [
                  "V5 CARBON\n",
                  "Skipping CARBON because the subset is empty.\n",
                  "V5 DUSMASS25\n"
                ]
              },
              {
                "name": "stdout",
                "output_type": "stream",
                "text": [
                  "V5 SSSMASS25\n"
                ]
              },
              {
                "name": "stdout",
                "output_type": "stream",
                "text": [
                  "V5 Sulfate\n"
                ]
              },
              {
                "name": "stdout",
                "output_type": "stream",
                "text": [
                  "V5 Done\n",
                  "[15.0, 19.0, 23.0]\n",
                  "Empty DataFrame\n",
                  "Columns: [PS, QV10M, Q500, T10M, T500, T850, WIND, BCSMASS, DUSMASS25, OCSMASS, SO2SMASS, SO4SMASS, SSSMASS25, TOTEXTTAU, SED, SZA, time, lat, lon, MERRA2, V1, V2_DS, V2, lat_lon, closest_lat_lon, lat_cats, lon_cats, V3_DS, lat_lon_cats, V3, lat_cats, lon_cats, V4_DS, lat_lon_cats, V4, lat_cats, lon_cats, V5_DS, lat_lon_cats, V5, Region]\n",
                  "Index: []\n",
                  "\n",
                  "[0 rows x 41 columns]\n"
                ]
              },
              {
                "name": "stdout",
                "output_type": "stream",
                "text": [
                  "V6 Done\n"
                ]
              },
              {
                "name": "stdout",
                "output_type": "stream",
                "text": [
                  "V7 Done\n"
                ]
              },
              {
                "name": "stdout",
                "output_type": "stream",
                "text": [
                  "V8 Done\n"
                ]
              },
              {
                "name": "stdout",
                "output_type": "stream",
                "text": [
                  "Data available for time: 2:30 UTC\n"
                ]
              },
              {
                "name": "stdout",
                "output_type": "stream",
                "text": [
                  "                PS      QV10M      Q500        T10M        T500        T850  \\\n",
                  "0     100987.15625  17.938953  2.078068  301.539398  266.683716  296.294525   \n",
                  "1     100867.15625  18.404346  1.845372  299.305023  266.781372  296.200775   \n",
                  "2     100707.15625  18.099171  1.544011  298.367523  266.976685  296.302338   \n",
                  "3     100579.15625  18.129688  1.254570  298.570648  267.281372  296.380463   \n",
                  "4     100523.15625  18.480640  0.946295  298.586273  267.468872  296.458588   \n",
                  "...            ...        ...       ...         ...         ...         ...   \n",
                  "6746   52683.15625   2.043109  1.905453  262.845062  258.867310  262.845062   \n",
                  "6747   52019.15625   1.925807  1.813900  263.206390  259.746216  263.206390   \n",
                  "6748   53691.15625   1.856189  1.678955  266.158539  260.144653  266.158539   \n",
                  "6749   54635.15625   1.747470  1.536381  268.140961  260.601685  268.140961   \n",
                  "6750   53147.15625   1.624446  1.479161  266.344086  260.976685  266.344086   \n",
                  "\n",
                  "          WIND   BCSMASS  DUSMASS25   OCSMASS  SO2SMASS  SO4SMASS  SSSMASS25  \\\n",
                  "0     2.301919  0.275577   1.727585  1.516164  2.938577  0.916665  21.165760   \n",
                  "1     1.659419  0.408022   3.421519  2.629385  2.880370  0.903705  20.001608   \n",
                  "2     1.591793  0.460432  13.638783  4.381981  2.040906  0.818212  14.413672   \n",
                  "3     1.792864  0.376304  19.543222  5.500660  1.068202  0.624945   6.466507   \n",
                  "4     2.059430  0.264322  15.039404  5.284200  0.533191  0.494660   3.044079   \n",
                  "...        ...       ...        ...       ...       ...       ...        ...   \n",
                  "6746  6.067703  0.054840   1.321496  0.184379  0.056261  0.453164   0.029985   \n",
                  "6747  8.479983  0.050278   1.132776  0.171078  0.056460  0.418489   0.024038   \n",
                  "6748  8.535237  0.047990   1.038643  0.167326  0.073669  0.396207   0.021707   \n",
                  "6749  7.558041  0.044040   0.956334  0.156981  0.105842  0.366193   0.020130   \n",
                  "6750  7.870673  0.040885   0.888576  0.146863  0.139153  0.334929   0.019149   \n",
                  "\n",
                  "      TOTEXTTAU      SED         SZA        time    lat      lon     MERRA2  \n",
                  "0      0.266321  1.00142  162.735995  2023-09-30  13.75 -17.0625  25.945501  \n",
                  "1      0.281946  1.00142  163.236683  2023-09-30  13.75 -16.4375  27.703128  \n",
                  "2      0.292567  1.00142  163.729407  2023-09-30  13.75 -15.8125  34.019910  \n",
                  "3      0.275110  1.00142  164.213421  2023-09-30  13.75 -15.1875  32.745992  \n",
                  "4      0.253504  1.00142  164.687897  2023-09-30  13.75 -14.5625  24.312162  \n",
                  "...         ...      ...         ...         ...    ...      ...        ...  \n",
                  "6746   0.024645  1.00142   99.820376  2023-09-30  34.75  77.9375   2.213800  \n",
                  "6747   0.021204  1.00142   99.307157  2023-09-30  34.75  78.5625   1.953592  \n",
                  "6748   0.020270  1.00142   98.793836  2023-09-30  34.75  79.1875   1.820451  \n",
                  "6749   0.019720  1.00142   98.280434  2023-09-30  34.75  79.8125   1.681000  \n",
                  "6750   0.018557  1.00142   97.766971  2023-09-30  34.75  80.4375   1.556001  \n",
                  "\n",
                  "[6751 rows x 20 columns]\n",
                  "17.56060647169749\n"
                ]
              },
              {
                "name": "stdout",
                "output_type": "stream",
                "text": [
                  "14/14 - 0s - 396ms/epoch - 28ms/step\n"
                ]
              },
              {
                "name": "stdout",
                "output_type": "stream",
                "text": [
                  "V1 Done\n",
                  "V2 DUSMASS25\n"
                ]
              },
              {
                "name": "stdout",
                "output_type": "stream",
                "text": [
                  "V2 OCSMASS\n"
                ]
              },
              {
                "name": "stdout",
                "output_type": "stream",
                "text": [
                  "V2 SO2SMASS\n"
                ]
              },
              {
                "name": "stdout",
                "output_type": "stream",
                "text": [
                  "V2 SO4SMASS\n"
                ]
              },
              {
                "name": "stdout",
                "output_type": "stream",
                "text": [
                  "V2 SSSMASS25\n"
                ]
              },
              {
                "name": "stdout",
                "output_type": "stream",
                "text": [
                  "V2 Done\n"
                ]
              },
              {
                "name": "stdout",
                "output_type": "stream",
                "text": [
                  "V3 DUSMASS25\n"
                ]
              },
              {
                "name": "stdout",
                "output_type": "stream",
                "text": [
                  "V3 OCSMASS\n",
                  "Skipping OCSMASS because the subset is empty.\n",
                  "V3 SO2SMASS\n"
                ]
              },
              {
                "name": "stdout",
                "output_type": "stream",
                "text": [
                  "V3 SO4SMASS\n",
                  "Skipping SO4SMASS because the subset is empty.\n",
                  "V3 SSSMASS25\n"
                ]
              },
              {
                "name": "stdout",
                "output_type": "stream",
                "text": [
                  "V3 Done\n"
                ]
              },
              {
                "name": "stdout",
                "output_type": "stream",
                "text": [
                  "V4 DUSMASS25\n"
                ]
              },
              {
                "name": "stdout",
                "output_type": "stream",
                "text": [
                  "V4 OCSMASS\n",
                  "Skipping OCSMASS because the subset is empty.\n",
                  "V4 SO2SMASS\n"
                ]
              },
              {
                "name": "stdout",
                "output_type": "stream",
                "text": [
                  "V4 SSSMASS25\n"
                ]
              },
              {
                "name": "stdout",
                "output_type": "stream",
                "text": [
                  "V4 wSO4\n"
                ]
              },
              {
                "name": "stdout",
                "output_type": "stream",
                "text": [
                  "V4 Done\n"
                ]
              },
              {
                "name": "stdout",
                "output_type": "stream",
                "text": [
                  "V5 CARBON\n",
                  "Skipping CARBON because the subset is empty.\n",
                  "V5 DUSMASS25\n"
                ]
              },
              {
                "name": "stdout",
                "output_type": "stream",
                "text": [
                  "V5 SSSMASS25\n"
                ]
              },
              {
                "name": "stdout",
                "output_type": "stream",
                "text": [
                  "V5 Sulfate\n"
                ]
              },
              {
                "name": "stdout",
                "output_type": "stream",
                "text": [
                  "V5 Done\n",
                  "[15.0, 19.0, 23.0]\n",
                  "Empty DataFrame\n",
                  "Columns: [PS, QV10M, Q500, T10M, T500, T850, WIND, BCSMASS, DUSMASS25, OCSMASS, SO2SMASS, SO4SMASS, SSSMASS25, TOTEXTTAU, SED, SZA, time, lat, lon, MERRA2, V1, V2_DS, V2, lat_lon, closest_lat_lon, lat_cats, lon_cats, V3_DS, lat_lon_cats, V3, lat_cats, lon_cats, V4_DS, lat_lon_cats, V4, lat_cats, lon_cats, V5_DS, lat_lon_cats, V5, Region]\n",
                  "Index: []\n",
                  "\n",
                  "[0 rows x 41 columns]\n"
                ]
              },
              {
                "name": "stdout",
                "output_type": "stream",
                "text": [
                  "V6 Done\n"
                ]
              },
              {
                "name": "stdout",
                "output_type": "stream",
                "text": [
                  "V7 Done\n"
                ]
              },
              {
                "name": "stdout",
                "output_type": "stream",
                "text": [
                  "V8 Done\n"
                ]
              },
              {
                "name": "stdout",
                "output_type": "stream",
                "text": [
                  "Data available for time: 3:30 UTC\n"
                ]
              },
              {
                "name": "stdout",
                "output_type": "stream",
                "text": [
                  "                 PS      QV10M      Q500        T10M        T500        T850  \\\n",
                  "0     100966.304688  17.748449  2.001771  301.525635  266.603760  296.196930   \n",
                  "1     100846.304688  18.366430  1.632699  299.213135  266.822510  296.110992   \n",
                  "2     100678.304688  18.145178  1.369008  298.041260  267.072510  296.321930   \n",
                  "3     100550.304688  18.168066  1.066216  298.150635  267.353760  296.462555   \n",
                  "4     100494.304688  18.580053  0.756511  298.228760  267.564697  296.579742   \n",
                  "...             ...        ...       ...         ...         ...         ...   \n",
                  "6746   52694.304688   2.010915  1.840600  264.207275  259.685791  264.207275   \n",
                  "6747   52022.304688   1.822087  1.690873  265.076416  261.049072  265.076416   \n",
                  "6748   53694.304688   1.707646  1.565942  267.996338  261.416260  267.996338   \n",
                  "6749   54630.304688   1.611802  1.469621  269.752197  261.724854  269.752197   \n",
                  "6750   53142.304688   1.504990  1.394757  267.918213  262.111572  267.918213   \n",
                  "\n",
                  "          WIND   BCSMASS  DUSMASS25   OCSMASS  SO2SMASS  SO4SMASS  SSSMASS25  \\\n",
                  "0     1.975865  0.282739   1.946319  1.552515  2.787601  0.916586  20.838343   \n",
                  "1     1.552204  0.423597   2.816705  2.735768  2.978595  0.911129  20.176231   \n",
                  "2     1.652629  0.489308  12.234523  4.572948  2.226443  0.837005  15.235855   \n",
                  "3     1.904667  0.413252  19.463186  5.926275  1.162789  0.647603   6.855771   \n",
                  "4     2.163378  0.292744  15.403202  5.751653  0.552518  0.513225   3.056812   \n",
                  "...        ...       ...        ...       ...       ...       ...        ...   \n",
                  "6746  7.046203  0.050477   1.238277  0.164570  0.041183  0.435350   0.026354   \n",
                  "6747  9.897314  0.047820   1.138233  0.157578  0.040529  0.413294   0.023043   \n",
                  "6748  9.842300  0.047947   1.160515  0.160988  0.053362  0.397378   0.023100   \n",
                  "6749  8.677544  0.046938   1.215994  0.160875  0.083105  0.375778   0.022922   \n",
                  "6750  8.856865  0.045674   1.271019  0.158089  0.113459  0.357019   0.022609   \n",
                  "\n",
                  "      TOTEXTTAU      SED         SZA        time    lat      lon     MERRA2  \n",
                  "0      0.269003  1.00142  162.735995  2023-09-30  13.75 -17.0625  25.880222  \n",
                  "1      0.283652  1.00142  163.236683  2023-09-30  13.75 -16.4375  27.405103  \n",
                  "2      0.297079  1.00142  163.729407  2023-09-30  13.75 -15.8125  33.683516  \n",
                  "3      0.281210  1.00142  164.213421  2023-09-30  13.75 -15.1875  33.548939  \n",
                  "4      0.262167  1.00142  164.687897  2023-09-30  13.75 -14.5625  25.210095  \n",
                  "...         ...      ...         ...         ...    ...      ...        ...  \n",
                  "6746   0.022345  1.00142   99.820376  2023-09-30  34.75  77.9375   2.078283  \n",
                  "6747   0.020312  1.00142   99.307157  2023-09-30  34.75  78.5625   1.934953  \n",
                  "6748   0.020590  1.00142   98.793836  2023-09-30  34.75  79.1875   1.938946  \n",
                  "6749   0.021059  1.00142   98.280434  2023-09-30  34.75  79.8125   1.963424  \n",
                  "6750   0.020575  1.00142   97.766971  2023-09-30  34.75  80.4375   1.988293  \n",
                  "\n",
                  "[6751 rows x 20 columns]\n",
                  "17.89144200483958\n"
                ]
              },
              {
                "name": "stdout",
                "output_type": "stream",
                "text": [
                  "14/14 - 0s - 257ms/epoch - 18ms/step\n"
                ]
              },
              {
                "name": "stdout",
                "output_type": "stream",
                "text": [
                  "V1 Done\n",
                  "V2 DUSMASS25\n"
                ]
              },
              {
                "name": "stdout",
                "output_type": "stream",
                "text": [
                  "V2 OCSMASS\n"
                ]
              },
              {
                "name": "stdout",
                "output_type": "stream",
                "text": [
                  "V2 SO2SMASS\n"
                ]
              },
              {
                "name": "stdout",
                "output_type": "stream",
                "text": [
                  "V2 SO4SMASS\n"
                ]
              },
              {
                "name": "stdout",
                "output_type": "stream",
                "text": [
                  "V2 SSSMASS25\n"
                ]
              },
              {
                "name": "stdout",
                "output_type": "stream",
                "text": [
                  "V2 Done\n"
                ]
              },
              {
                "name": "stdout",
                "output_type": "stream",
                "text": [
                  "V3 DUSMASS25\n"
                ]
              },
              {
                "name": "stdout",
                "output_type": "stream",
                "text": [
                  "V3 OCSMASS\n",
                  "Skipping OCSMASS because the subset is empty.\n",
                  "V3 SO2SMASS\n"
                ]
              },
              {
                "name": "stdout",
                "output_type": "stream",
                "text": [
                  "V3 SO4SMASS\n",
                  "Skipping SO4SMASS because the subset is empty.\n",
                  "V3 SSSMASS25\n"
                ]
              },
              {
                "name": "stdout",
                "output_type": "stream",
                "text": [
                  "V3 Done\n"
                ]
              },
              {
                "name": "stdout",
                "output_type": "stream",
                "text": [
                  "V4 DUSMASS25\n"
                ]
              },
              {
                "name": "stdout",
                "output_type": "stream",
                "text": [
                  "V4 OCSMASS\n",
                  "Skipping OCSMASS because the subset is empty.\n",
                  "V4 SO2SMASS\n"
                ]
              },
              {
                "name": "stdout",
                "output_type": "stream",
                "text": [
                  "V4 SSSMASS25\n"
                ]
              },
              {
                "name": "stdout",
                "output_type": "stream",
                "text": [
                  "V4 wSO4\n"
                ]
              },
              {
                "name": "stdout",
                "output_type": "stream",
                "text": [
                  "V4 Done\n"
                ]
              },
              {
                "name": "stdout",
                "output_type": "stream",
                "text": [
                  "V5 CARBON\n",
                  "Skipping CARBON because the subset is empty.\n",
                  "V5 DUSMASS25\n"
                ]
              },
              {
                "name": "stdout",
                "output_type": "stream",
                "text": [
                  "V5 SSSMASS25\n"
                ]
              },
              {
                "name": "stdout",
                "output_type": "stream",
                "text": [
                  "V5 Sulfate\n"
                ]
              },
              {
                "name": "stdout",
                "output_type": "stream",
                "text": [
                  "V5 Done\n",
                  "[15.0, 19.0, 23.0]\n",
                  "Empty DataFrame\n",
                  "Columns: [PS, QV10M, Q500, T10M, T500, T850, WIND, BCSMASS, DUSMASS25, OCSMASS, SO2SMASS, SO4SMASS, SSSMASS25, TOTEXTTAU, SED, SZA, time, lat, lon, MERRA2, V1, V2_DS, V2, lat_lon, closest_lat_lon, lat_cats, lon_cats, V3_DS, lat_lon_cats, V3, lat_cats, lon_cats, V4_DS, lat_lon_cats, V4, lat_cats, lon_cats, V5_DS, lat_lon_cats, V5, Region]\n",
                  "Index: []\n",
                  "\n",
                  "[0 rows x 41 columns]\n"
                ]
              },
              {
                "name": "stdout",
                "output_type": "stream",
                "text": [
                  "V6 Done\n"
                ]
              },
              {
                "name": "stdout",
                "output_type": "stream",
                "text": [
                  "V7 Done\n"
                ]
              },
              {
                "name": "stdout",
                "output_type": "stream",
                "text": [
                  "V8 Done\n",
                  "Data available for time: 4:30 UTC\n"
                ]
              },
              {
                "name": "stdout",
                "output_type": "stream",
                "text": [
                  "             PS      QV10M      Q500        T10M        T500        T850  \\\n",
                  "0     100966.75  17.619009  1.803413  301.515320  266.567932  296.119049   \n",
                  "1     100846.75  18.336172  1.399055  299.140320  266.833557  296.111237   \n",
                  "2     100686.75  18.153067  1.203552  297.780945  267.099182  296.384674   \n",
                  "3     100558.75  18.168325  0.906482  297.827820  267.372620  296.509674   \n",
                  "4     100494.75  18.656607  0.615373  298.015320  267.583557  296.650299   \n",
                  "...         ...        ...       ...         ...         ...         ...   \n",
                  "6746   52686.75   2.012128  1.794353  265.718445  260.821838  265.718445   \n",
                  "6747   52014.75   1.785154  1.628891  266.902039  262.489807  266.902039   \n",
                  "6748   53662.75   1.641626  1.496807  270.015320  263.048401  270.015320   \n",
                  "6749   54606.75   1.595372  1.464859  271.581726  263.204651  271.581726   \n",
                  "6750   53118.75   1.538629  1.434341  269.679382  263.548401  269.679382   \n",
                  "\n",
                  "           WIND   BCSMASS  DUSMASS25   OCSMASS  SO2SMASS  SO4SMASS  SSSMASS25  \\\n",
                  "0      1.783511  0.289220   2.194611  1.587540  2.693014  0.913894  20.576408   \n",
                  "1      1.518826  0.433489   2.276465  2.799441  3.049536  0.917532  20.278093   \n",
                  "2      1.712875  0.509545  10.684744  4.627525  2.410161  0.857278  16.181730   \n",
                  "3      1.959558  0.449746  19.332220  6.211865  1.302851  0.676970   7.628841   \n",
                  "4      2.261687  0.326623  16.167177  6.208227  0.596401  0.533725   3.173227   \n",
                  "...         ...       ...        ...       ...       ...       ...        ...   \n",
                  "6746   7.923553  0.048119   1.055923  0.152698  0.033722  0.419925   0.022212   \n",
                  "6747  10.979779  0.045618   0.979071  0.145763  0.032472  0.403099   0.020322   \n",
                  "6748  10.787070  0.045333   0.976343  0.146104  0.041439  0.384795   0.020293   \n",
                  "6749   9.636016  0.044026   0.989985  0.144001  0.067644  0.358988   0.019803   \n",
                  "6750   9.793389  0.042662   0.999535  0.140647  0.098737  0.341481   0.019284   \n",
                  "\n",
                  "      TOTEXTTAU      SED         SZA        time    lat      lon     MERRA2  \n",
                  "0      0.270565  1.00142  162.735995  2023-09-30  13.75 -17.0625  25.904383  \n",
                  "1      0.283993  1.00142  163.236683  2023-09-30  13.75 -16.4375  27.049095  \n",
                  "2      0.301815  1.00142  163.729407  2023-09-30  13.75 -15.8125  33.182301  \n",
                  "3      0.288754  1.00142  164.213421  2023-09-30  13.75 -15.1875  34.553507  \n",
                  "4      0.270932  1.00142  164.687897  2023-09-30  13.75 -14.5625  26.609127  \n",
                  "...         ...      ...         ...         ...    ...      ...        ...  \n",
                  "6746   0.021103  1.00142   99.820376  2023-09-30  34.75  77.9375   1.856348  \n",
                  "6747   0.019291  1.00142   99.307157  2023-09-30  34.75  78.5625   1.745034  \n",
                  "6748   0.019635  1.00142   98.793836  2023-09-30  34.75  79.1875   1.717167  \n",
                  "6749   0.020310  1.00142   98.280434  2023-09-30  34.75  79.8125   1.691424  \n",
                  "6750   0.020127  1.00142   97.766971  2023-09-30  34.75  80.4375   1.671664  \n",
                  "\n",
                  "[6751 rows x 20 columns]\n",
                  "18.204675316810608\n"
                ]
              },
              {
                "name": "stdout",
                "output_type": "stream",
                "text": [
                  "14/14 - 0s - 262ms/epoch - 19ms/step\n"
                ]
              },
              {
                "name": "stdout",
                "output_type": "stream",
                "text": [
                  "V1 Done\n",
                  "V2 DUSMASS25\n"
                ]
              },
              {
                "name": "stdout",
                "output_type": "stream",
                "text": [
                  "V2 OCSMASS\n"
                ]
              },
              {
                "name": "stdout",
                "output_type": "stream",
                "text": [
                  "V2 SO2SMASS\n"
                ]
              },
              {
                "name": "stdout",
                "output_type": "stream",
                "text": [
                  "V2 SO4SMASS\n"
                ]
              },
              {
                "name": "stdout",
                "output_type": "stream",
                "text": [
                  "V2 SSSMASS25\n"
                ]
              },
              {
                "name": "stdout",
                "output_type": "stream",
                "text": [
                  "V2 Done\n"
                ]
              },
              {
                "name": "stdout",
                "output_type": "stream",
                "text": [
                  "V3 DUSMASS25\n"
                ]
              },
              {
                "name": "stdout",
                "output_type": "stream",
                "text": [
                  "V3 OCSMASS\n",
                  "Skipping OCSMASS because the subset is empty.\n",
                  "V3 SO2SMASS\n"
                ]
              },
              {
                "name": "stdout",
                "output_type": "stream",
                "text": [
                  "V3 SO4SMASS\n",
                  "Skipping SO4SMASS because the subset is empty.\n",
                  "V3 SSSMASS25\n"
                ]
              },
              {
                "name": "stdout",
                "output_type": "stream",
                "text": [
                  "V3 Done\n"
                ]
              },
              {
                "name": "stdout",
                "output_type": "stream",
                "text": [
                  "V4 DUSMASS25\n"
                ]
              },
              {
                "name": "stdout",
                "output_type": "stream",
                "text": [
                  "V4 OCSMASS\n",
                  "Skipping OCSMASS because the subset is empty.\n",
                  "V4 SO2SMASS\n"
                ]
              },
              {
                "name": "stdout",
                "output_type": "stream",
                "text": [
                  "V4 SSSMASS25\n"
                ]
              },
              {
                "name": "stdout",
                "output_type": "stream",
                "text": [
                  "V4 wSO4\n"
                ]
              },
              {
                "name": "stdout",
                "output_type": "stream",
                "text": [
                  "V4 Done\n"
                ]
              },
              {
                "name": "stdout",
                "output_type": "stream",
                "text": [
                  "V5 CARBON\n",
                  "Skipping CARBON because the subset is empty.\n",
                  "V5 DUSMASS25\n"
                ]
              },
              {
                "name": "stdout",
                "output_type": "stream",
                "text": [
                  "V5 SSSMASS25\n"
                ]
              },
              {
                "name": "stdout",
                "output_type": "stream",
                "text": [
                  "V5 Sulfate\n"
                ]
              },
              {
                "name": "stdout",
                "output_type": "stream",
                "text": [
                  "V5 Done\n",
                  "[15.0, 19.0, 23.0]\n",
                  "Empty DataFrame\n",
                  "Columns: [PS, QV10M, Q500, T10M, T500, T850, WIND, BCSMASS, DUSMASS25, OCSMASS, SO2SMASS, SO4SMASS, SSSMASS25, TOTEXTTAU, SED, SZA, time, lat, lon, MERRA2, V1, V2_DS, V2, lat_lon, closest_lat_lon, lat_cats, lon_cats, V3_DS, lat_lon_cats, V3, lat_cats, lon_cats, V4_DS, lat_lon_cats, V4, lat_cats, lon_cats, V5_DS, lat_lon_cats, V5, Region]\n",
                  "Index: []\n",
                  "\n",
                  "[0 rows x 41 columns]\n"
                ]
              },
              {
                "name": "stdout",
                "output_type": "stream",
                "text": [
                  "V6 Done\n"
                ]
              },
              {
                "name": "stdout",
                "output_type": "stream",
                "text": [
                  "V7 Done\n"
                ]
              },
              {
                "name": "stdout",
                "output_type": "stream",
                "text": [
                  "V8 Done\n"
                ]
              },
              {
                "name": "stdout",
                "output_type": "stream",
                "text": [
                  "Data available for time: 5:30 UTC\n"
                ]
              },
              {
                "name": "stdout",
                "output_type": "stream",
                "text": [
                  "                 PS      QV10M      Q500        T10M        T500        T850  \\\n",
                  "0     100997.039062  17.588802  1.515909  301.492188  266.586121  296.167816   \n",
                  "1     100877.039062  18.275448  1.206442  299.085938  266.859558  296.292816   \n",
                  "2     100717.039062  18.122860  1.040979  297.601562  267.101746  296.495941   \n",
                  "3     100589.039062  18.161007  0.762506  297.601562  267.382996  296.542816   \n",
                  "4     100525.039062  18.641659  0.495955  297.835938  267.586121  296.706879   \n",
                  "...             ...        ...       ...         ...         ...         ...   \n",
                  "6746   52677.039062   2.017207  1.752897  267.167969  261.886902  267.167969   \n",
                  "6747   51989.039062   1.787372  1.607939  268.390625  263.715027  268.390625   \n",
                  "6748   53629.039062   1.650043  1.493975  271.816406  264.593933  271.816406   \n",
                  "6749   54557.039062   1.629062  1.491590  273.421875  264.824402  273.421875   \n",
                  "6750   53085.039062   1.652427  1.539274  271.417969  265.090027  271.417969   \n",
                  "\n",
                  "           WIND   BCSMASS  DUSMASS25   OCSMASS  SO2SMASS  SO4SMASS  SSSMASS25  \\\n",
                  "0      1.842467  0.292517   2.482011  1.608940  2.602064  0.906426  20.343578   \n",
                  "1      1.546470  0.437809   1.830813  2.827663  3.108653  0.921660  20.321749   \n",
                  "2      1.755113  0.519550   9.003998  4.560250  2.585693  0.876413  17.149431   \n",
                  "3      1.980172  0.482033  18.859282  6.331945  1.487479  0.712476   8.789357   \n",
                  "4      2.241566  0.358797  16.880222  6.391972  0.653017  0.534215   3.333298   \n",
                  "...         ...       ...        ...       ...       ...       ...        ...   \n",
                  "6746   8.728666  0.047508   0.939963  0.149315  0.029914  0.409501   0.019682   \n",
                  "6747  11.851587  0.044723   0.864020  0.140276  0.027654  0.391538   0.018140   \n",
                  "6748  11.592462  0.043685   0.846512  0.137662  0.033907  0.371075   0.017643   \n",
                  "6749  10.467863  0.041824   0.834234  0.133114  0.055792  0.343562   0.016783   \n",
                  "6750  10.621593  0.040331   0.828095  0.129476  0.086288  0.329352   0.016151   \n",
                  "\n",
                  "      TOTEXTTAU      SED         SZA        time    lat      lon     MERRA2  \n",
                  "0      0.272378  1.00142  162.735995  2023-09-30  13.75 -17.0625  25.973381  \n",
                  "1      0.286172  1.00142  163.236683  2023-09-30  13.75 -16.4375  26.685317  \n",
                  "2      0.306313  1.00142  163.729407  2023-09-30  13.75 -15.8125  32.438297  \n",
                  "3      0.296670  1.00142  164.213421  2023-09-30  13.75 -15.1875  35.442273  \n",
                  "4      0.274819  1.00142  164.687897  2023-09-30  13.75 -14.5625  27.698835  \n",
                  "...         ...      ...         ...         ...    ...      ...        ...  \n",
                  "6746   0.020898  1.00142   99.820376  2023-09-30  34.75  77.9375   1.719531  \n",
                  "6747   0.019173  1.00142   99.307157  2023-09-30  34.75  78.5625   1.605524  \n",
                  "6748   0.019532  1.00142   98.793836  2023-09-30  34.75  79.1875   1.555729  \n",
                  "6749   0.020280  1.00142   98.280434  2023-09-30  34.75  79.8125   1.498353  \n",
                  "6750   0.020631  1.00142   97.766971  2023-09-30  34.75  80.4375   1.466912  \n",
                  "\n",
                  "[6751 rows x 20 columns]\n",
                  "18.55760054588318\n"
                ]
              },
              {
                "name": "stdout",
                "output_type": "stream",
                "text": [
                  "14/14 - 0s - 254ms/epoch - 18ms/step\n"
                ]
              },
              {
                "name": "stdout",
                "output_type": "stream",
                "text": [
                  "V1 Done\n",
                  "V2 DUSMASS25\n"
                ]
              },
              {
                "name": "stdout",
                "output_type": "stream",
                "text": [
                  "V2 OCSMASS\n"
                ]
              },
              {
                "name": "stdout",
                "output_type": "stream",
                "text": [
                  "V2 SO2SMASS\n"
                ]
              },
              {
                "name": "stdout",
                "output_type": "stream",
                "text": [
                  "V2 SO4SMASS\n"
                ]
              },
              {
                "name": "stdout",
                "output_type": "stream",
                "text": [
                  "V2 SSSMASS25\n"
                ]
              },
              {
                "name": "stdout",
                "output_type": "stream",
                "text": [
                  "V2 Done\n"
                ]
              },
              {
                "name": "stdout",
                "output_type": "stream",
                "text": [
                  "V3 DUSMASS25\n"
                ]
              },
              {
                "name": "stdout",
                "output_type": "stream",
                "text": [
                  "V3 OCSMASS\n",
                  "Skipping OCSMASS because the subset is empty.\n",
                  "V3 SO2SMASS\n"
                ]
              },
              {
                "name": "stdout",
                "output_type": "stream",
                "text": [
                  "V3 SO4SMASS\n",
                  "Skipping SO4SMASS because the subset is empty.\n",
                  "V3 SSSMASS25\n"
                ]
              },
              {
                "name": "stdout",
                "output_type": "stream",
                "text": [
                  "V3 Done\n"
                ]
              },
              {
                "name": "stdout",
                "output_type": "stream",
                "text": [
                  "V4 DUSMASS25\n"
                ]
              },
              {
                "name": "stdout",
                "output_type": "stream",
                "text": [
                  "V4 OCSMASS\n",
                  "Skipping OCSMASS because the subset is empty.\n",
                  "V4 SO2SMASS\n"
                ]
              },
              {
                "name": "stdout",
                "output_type": "stream",
                "text": [
                  "V4 SSSMASS25\n"
                ]
              },
              {
                "name": "stdout",
                "output_type": "stream",
                "text": [
                  "V4 wSO4\n"
                ]
              },
              {
                "name": "stdout",
                "output_type": "stream",
                "text": [
                  "V4 Done\n"
                ]
              },
              {
                "name": "stdout",
                "output_type": "stream",
                "text": [
                  "V5 CARBON\n",
                  "Skipping CARBON because the subset is empty.\n",
                  "V5 DUSMASS25\n"
                ]
              },
              {
                "name": "stdout",
                "output_type": "stream",
                "text": [
                  "V5 SSSMASS25\n"
                ]
              },
              {
                "name": "stdout",
                "output_type": "stream",
                "text": [
                  "V5 Sulfate\n"
                ]
              },
              {
                "name": "stdout",
                "output_type": "stream",
                "text": [
                  "V5 Done\n",
                  "[15.0, 19.0, 23.0]\n",
                  "Empty DataFrame\n",
                  "Columns: [PS, QV10M, Q500, T10M, T500, T850, WIND, BCSMASS, DUSMASS25, OCSMASS, SO2SMASS, SO4SMASS, SSSMASS25, TOTEXTTAU, SED, SZA, time, lat, lon, MERRA2, V1, V2_DS, V2, lat_lon, closest_lat_lon, lat_cats, lon_cats, V3_DS, lat_lon_cats, V3, lat_cats, lon_cats, V4_DS, lat_lon_cats, V4, lat_cats, lon_cats, V5_DS, lat_lon_cats, V5, Region]\n",
                  "Index: []\n",
                  "\n",
                  "[0 rows x 41 columns]\n"
                ]
              },
              {
                "name": "stdout",
                "output_type": "stream",
                "text": [
                  "V6 Done\n"
                ]
              },
              {
                "name": "stdout",
                "output_type": "stream",
                "text": [
                  "V7 Done\n"
                ]
              },
              {
                "name": "stdout",
                "output_type": "stream",
                "text": [
                  "V8 Done\n"
                ]
              },
              {
                "name": "stdout",
                "output_type": "stream",
                "text": [
                  "Data available for time: 6:30 UTC\n"
                ]
              },
              {
                "name": "stdout",
                "output_type": "stream",
                "text": [
                  "               PS      QV10M      Q500        T10M        T500        T850  \\\n",
                  "0     101056.9375  17.718834  1.224575  301.469452  266.617004  296.248352   \n",
                  "1     100936.9375  18.222374  1.044330  299.031952  266.867004  296.521790   \n",
                  "2     100768.9375  18.077415  0.878153  297.485077  267.054504  296.599915   \n",
                  "3     100648.9375  18.123192  0.622330  297.406952  267.343567  296.584290   \n",
                  "4     100584.9375  18.558067  0.397501  297.656952  267.554504  296.748352   \n",
                  "...           ...        ...       ...         ...         ...         ...   \n",
                  "6746   52648.9375   1.993700  1.727638  268.258514  262.827942  268.258514   \n",
                  "6747   51960.9375   1.797720  1.612720  269.403046  264.652161  269.403046   \n",
                  "6748   53592.9375   1.696153  1.534042  273.039764  265.742004  273.039764   \n",
                  "6749   54504.9375   1.696630  1.551685  274.953827  266.281067  274.953827   \n",
                  "6750   53032.9375   1.765772  1.643238  272.930389  266.554504  272.930389   \n",
                  "\n",
                  "           WIND   BCSMASS  DUSMASS25   OCSMASS  SO2SMASS  SO4SMASS  SSSMASS25  \\\n",
                  "0      2.295410  0.292403   2.825800  1.616627  2.400156  0.888356  20.081642   \n",
                  "1      1.699716  0.439400   1.584795  2.843990  3.119567  0.923371  20.278093   \n",
                  "2      1.793013  0.520686   7.312337  4.409231  2.748493  0.891766  18.000719   \n",
                  "3      1.988825  0.505907  17.847923  6.302799  1.710760  0.751931  10.255463   \n",
                  "4      2.156983  0.391879  17.476851  6.499249  0.747832  0.535699   3.710738   \n",
                  "...         ...       ...        ...       ...       ...       ...        ...   \n",
                  "6746   9.234469  0.044381   0.627779  0.135970  0.027853  0.376878   0.014520   \n",
                  "6747  12.285423  0.042206   0.641649  0.130229  0.024393  0.361986   0.014190   \n",
                  "6748  12.133926  0.041013   0.669615  0.127955  0.029203  0.343113   0.014079   \n",
                  "6749  11.173274  0.039151   0.684622  0.123521  0.047592  0.320490   0.013575   \n",
                  "6750  11.288869  0.037702   0.695536  0.119712  0.075801  0.312191   0.013230   \n",
                  "\n",
                  "      TOTEXTTAU      SED         SZA        time    lat      lon     MERRA2  \n",
                  "0      0.273340  1.00142  162.735995  2023-09-30  13.75 -17.0625  26.037962  \n",
                  "1      0.289698  1.00142  163.236683  2023-09-30  13.75 -16.4375  26.415914  \n",
                  "2      0.310572  1.00142  163.729407  2023-09-30  13.75 -15.8125  31.469152  \n",
                  "3      0.303004  1.00142  164.213421  2023-09-30  13.75 -15.1875  35.945997  \n",
                  "4      0.275172  1.00142  164.687897  2023-09-30  13.75 -14.5625  28.815303  \n",
                  "...         ...      ...         ...         ...    ...      ...        ...  \n",
                  "6746   0.018866  1.00142   99.820376  2023-09-30  34.75  77.9375   1.340857  \n",
                  "6747   0.018130  1.00142   99.307157  2023-09-30  34.75  78.5625   1.326003  \n",
                  "6748   0.019068  1.00142   98.793836  2023-09-30  34.75  79.1875   1.324443  \n",
                  "6749   0.020605  1.00142   98.280434  2023-09-30  34.75  79.8125   1.301543  \n",
                  "6750   0.022158  1.00142   97.766971  2023-09-30  34.75  80.4375   1.295443  \n",
                  "\n",
                  "[6751 rows x 20 columns]\n",
                  "18.86475372314453\n"
                ]
              },
              {
                "name": "stdout",
                "output_type": "stream",
                "text": [
                  "14/14 - 0s - 274ms/epoch - 20ms/step\n"
                ]
              },
              {
                "name": "stdout",
                "output_type": "stream",
                "text": [
                  "V1 Done\n",
                  "V2 DUSMASS25\n"
                ]
              },
              {
                "name": "stdout",
                "output_type": "stream",
                "text": [
                  "V2 OCSMASS\n"
                ]
              },
              {
                "name": "stdout",
                "output_type": "stream",
                "text": [
                  "V2 SO2SMASS\n"
                ]
              },
              {
                "name": "stdout",
                "output_type": "stream",
                "text": [
                  "V2 SO4SMASS\n"
                ]
              },
              {
                "name": "stdout",
                "output_type": "stream",
                "text": [
                  "V2 SSSMASS25\n"
                ]
              },
              {
                "name": "stdout",
                "output_type": "stream",
                "text": [
                  "V2 Done\n"
                ]
              },
              {
                "name": "stdout",
                "output_type": "stream",
                "text": [
                  "V3 DUSMASS25\n"
                ]
              },
              {
                "name": "stdout",
                "output_type": "stream",
                "text": [
                  "V3 OCSMASS\n",
                  "Skipping OCSMASS because the subset is empty.\n",
                  "V3 SO2SMASS\n"
                ]
              },
              {
                "name": "stdout",
                "output_type": "stream",
                "text": [
                  "V3 SO4SMASS\n",
                  "Skipping SO4SMASS because the subset is empty.\n",
                  "V3 SSSMASS25\n"
                ]
              },
              {
                "name": "stdout",
                "output_type": "stream",
                "text": [
                  "V3 Done\n"
                ]
              },
              {
                "name": "stdout",
                "output_type": "stream",
                "text": [
                  "V4 DUSMASS25\n"
                ]
              },
              {
                "name": "stdout",
                "output_type": "stream",
                "text": [
                  "V4 OCSMASS\n",
                  "Skipping OCSMASS because the subset is empty.\n",
                  "V4 SO2SMASS\n"
                ]
              },
              {
                "name": "stdout",
                "output_type": "stream",
                "text": [
                  "V4 SSSMASS25\n"
                ]
              },
              {
                "name": "stdout",
                "output_type": "stream",
                "text": [
                  "V4 wSO4\n"
                ]
              },
              {
                "name": "stdout",
                "output_type": "stream",
                "text": [
                  "V4 Done\n"
                ]
              },
              {
                "name": "stdout",
                "output_type": "stream",
                "text": [
                  "V5 CARBON\n",
                  "Skipping CARBON because the subset is empty.\n",
                  "V5 DUSMASS25\n"
                ]
              },
              {
                "name": "stdout",
                "output_type": "stream",
                "text": [
                  "V5 SSSMASS25\n"
                ]
              },
              {
                "name": "stdout",
                "output_type": "stream",
                "text": [
                  "V5 Sulfate\n"
                ]
              },
              {
                "name": "stdout",
                "output_type": "stream",
                "text": [
                  "V5 Done\n",
                  "[15.0, 19.0, 23.0]\n",
                  "Empty DataFrame\n",
                  "Columns: [PS, QV10M, Q500, T10M, T500, T850, WIND, BCSMASS, DUSMASS25, OCSMASS, SO2SMASS, SO4SMASS, SSSMASS25, TOTEXTTAU, SED, SZA, time, lat, lon, MERRA2, V1, V2_DS, V2, lat_lon, closest_lat_lon, lat_cats, lon_cats, V3_DS, lat_lon_cats, V3, lat_cats, lon_cats, V4_DS, lat_lon_cats, V4, lat_cats, lon_cats, V5_DS, lat_lon_cats, V5, Region]\n",
                  "Index: []\n",
                  "\n",
                  "[0 rows x 41 columns]\n"
                ]
              },
              {
                "name": "stdout",
                "output_type": "stream",
                "text": [
                  "V6 Done\n"
                ]
              },
              {
                "name": "stdout",
                "output_type": "stream",
                "text": [
                  "V7 Done\n"
                ]
              },
              {
                "name": "stdout",
                "output_type": "stream",
                "text": [
                  "V8 Done\n"
                ]
              },
              {
                "name": "stdout",
                "output_type": "stream",
                "text": [
                  "Data available for time: 7:30 UTC\n"
                ]
              },
              {
                "name": "stdout",
                "output_type": "stream",
                "text": [
                  "                 PS      QV10M      Q500        T10M        T500        T850  \\\n",
                  "0     101126.695312  18.032017  1.001872  301.456665  266.611023  296.310974   \n",
                  "1     100998.695312  18.474522  0.902929  299.081665  266.821960  296.623474   \n",
                  "2     100838.695312  18.291416  0.712194  297.691040  266.946960  296.662537   \n",
                  "3     100710.695312  18.306675  0.484623  297.644165  267.228210  296.646912   \n",
                  "4     100654.695312  18.733921  0.318922  297.956665  267.478210  296.787537   \n",
                  "...             ...        ...       ...         ...         ...         ...   \n",
                  "6746   52614.695312   1.960696  1.689472  269.118774  263.743835  269.118774   \n",
                  "6747   51934.695312   1.788081  1.603164  270.091431  265.423523  270.091431   \n",
                  "6748   53550.695312   1.720847  1.558341  273.757446  266.532898  273.757446   \n",
                  "6749   54446.695312   1.750411  1.603641  275.921509  267.321960  275.921509   \n",
                  "6750   52982.695312   1.864852  1.746692  273.952759  267.665710  273.952759   \n",
                  "\n",
                  "           WIND   BCSMASS  DUSMASS25   OCSMASS  SO2SMASS  SO4SMASS  SSSMASS25  \\\n",
                  "0      2.921756  0.288311   3.301466  1.608903  2.199158  0.864093  19.921572   \n",
                  "1      1.841100  0.440537   1.530225  2.866734  3.054083  0.923438  20.154402   \n",
                  "2      1.753508  0.519777   5.715265  4.258261  2.889465  0.902974  18.604624   \n",
                  "3      2.148459  0.516139  16.312696  6.080888  1.939043  0.782466  11.739758   \n",
                  "4      2.425158  0.424053  17.877028  6.581110  0.870614  0.544406   4.309186   \n",
                  "...         ...       ...        ...       ...       ...       ...        ...   \n",
                  "6746   9.367350  0.043330   0.594127  0.133475  0.028031  0.361370   0.014488   \n",
                  "6747  12.333435  0.040729   0.578439  0.127393  0.022972  0.340111   0.013188   \n",
                  "6748  12.281705  0.038825   0.590035  0.123016  0.026695  0.316236   0.012161   \n",
                  "6749  11.639729  0.036523   0.598675  0.116820  0.042661  0.293272   0.011216   \n",
                  "6750  11.872920  0.035173   0.604359  0.112756  0.068042  0.289179   0.010907   \n",
                  "\n",
                  "      TOTEXTTAU      SED         SZA        time    lat      lon     MERRA2  \n",
                  "0      0.276662  1.00142  162.735995  2023-09-30  13.75 -17.0625  26.308380  \n",
                  "1      0.294728  1.00142  163.236683  2023-09-30  13.75 -16.4375  26.261626  \n",
                  "2      0.313039  1.00142  163.729407  2023-09-30  13.75 -15.8125  30.339516  \n",
                  "3      0.304494  1.00142  164.213421  2023-09-30  13.75 -15.1875  35.725373  \n",
                  "4      0.273488  1.00142  164.687897  2023-09-30  13.75 -14.5625  29.939935  \n",
                  "...         ...      ...         ...         ...    ...      ...        ...  \n",
                  "6746   0.018697  1.00142   99.820376  2023-09-30  34.75  77.9375   1.282304  \n",
                  "6747   0.017648  1.00142   99.307157  2023-09-30  34.75  78.5625   1.227401  \n",
                  "6748   0.018533  1.00142   98.793836  2023-09-30  34.75  79.1875   1.198862  \n",
                  "6749   0.021481  1.00142   98.280434  2023-09-30  34.75  79.8125   1.166482  \n",
                  "6750   0.025144  1.00142   97.766971  2023-09-30  34.75  80.4375   1.160816  \n",
                  "\n",
                  "[6751 rows x 20 columns]\n",
                  "19.180002176761626\n"
                ]
              },
              {
                "name": "stdout",
                "output_type": "stream",
                "text": [
                  "14/14 - 0s - 314ms/epoch - 22ms/step\n"
                ]
              },
              {
                "name": "stdout",
                "output_type": "stream",
                "text": [
                  "V1 Done\n",
                  "V2 DUSMASS25\n"
                ]
              },
              {
                "name": "stdout",
                "output_type": "stream",
                "text": [
                  "V2 OCSMASS\n"
                ]
              },
              {
                "name": "stdout",
                "output_type": "stream",
                "text": [
                  "V2 SO2SMASS\n"
                ]
              },
              {
                "name": "stdout",
                "output_type": "stream",
                "text": [
                  "V2 SO4SMASS\n"
                ]
              },
              {
                "name": "stdout",
                "output_type": "stream",
                "text": [
                  "V2 SSSMASS25\n"
                ]
              },
              {
                "name": "stdout",
                "output_type": "stream",
                "text": [
                  "V2 Done\n"
                ]
              },
              {
                "name": "stdout",
                "output_type": "stream",
                "text": [
                  "V3 DUSMASS25\n"
                ]
              },
              {
                "name": "stdout",
                "output_type": "stream",
                "text": [
                  "V3 OCSMASS\n",
                  "Skipping OCSMASS because the subset is empty.\n",
                  "V3 SO2SMASS\n"
                ]
              },
              {
                "name": "stdout",
                "output_type": "stream",
                "text": [
                  "V3 SO4SMASS\n",
                  "Skipping SO4SMASS because the subset is empty.\n",
                  "V3 SSSMASS25\n"
                ]
              },
              {
                "name": "stdout",
                "output_type": "stream",
                "text": [
                  "V3 Done\n"
                ]
              },
              {
                "name": "stdout",
                "output_type": "stream",
                "text": [
                  "V4 DUSMASS25\n"
                ]
              },
              {
                "name": "stdout",
                "output_type": "stream",
                "text": [
                  "V4 OCSMASS\n",
                  "Skipping OCSMASS because the subset is empty.\n",
                  "V4 SO2SMASS\n"
                ]
              },
              {
                "name": "stdout",
                "output_type": "stream",
                "text": [
                  "V4 SSSMASS25\n"
                ]
              },
              {
                "name": "stdout",
                "output_type": "stream",
                "text": [
                  "V4 wSO4\n"
                ]
              },
              {
                "name": "stdout",
                "output_type": "stream",
                "text": [
                  "V4 Done\n"
                ]
              },
              {
                "name": "stdout",
                "output_type": "stream",
                "text": [
                  "V5 CARBON\n",
                  "Skipping CARBON because the subset is empty.\n",
                  "V5 DUSMASS25\n"
                ]
              },
              {
                "name": "stdout",
                "output_type": "stream",
                "text": [
                  "V5 SSSMASS25\n"
                ]
              },
              {
                "name": "stdout",
                "output_type": "stream",
                "text": [
                  "V5 Sulfate\n"
                ]
              },
              {
                "name": "stdout",
                "output_type": "stream",
                "text": [
                  "V5 Done\n",
                  "[15.0, 19.0, 23.0]\n",
                  "Empty DataFrame\n",
                  "Columns: [PS, QV10M, Q500, T10M, T500, T850, WIND, BCSMASS, DUSMASS25, OCSMASS, SO2SMASS, SO4SMASS, SSSMASS25, TOTEXTTAU, SED, SZA, time, lat, lon, MERRA2, V1, V2_DS, V2, lat_lon, closest_lat_lon, lat_cats, lon_cats, V3_DS, lat_lon_cats, V3, lat_cats, lon_cats, V4_DS, lat_lon_cats, V4, lat_cats, lon_cats, V5_DS, lat_lon_cats, V5, Region]\n",
                  "Index: []\n",
                  "\n",
                  "[0 rows x 41 columns]\n"
                ]
              },
              {
                "name": "stdout",
                "output_type": "stream",
                "text": [
                  "V6 Done\n"
                ]
              },
              {
                "name": "stdout",
                "output_type": "stream",
                "text": [
                  "V7 Done\n"
                ]
              },
              {
                "name": "stdout",
                "output_type": "stream",
                "text": [
                  "V8 Done\n"
                ]
              },
              {
                "name": "stdout",
                "output_type": "stream",
                "text": [
                  "Data available for time: 8:30 UTC\n"
                ]
              },
              {
                "name": "stdout",
                "output_type": "stream",
                "text": [
                  "                 PS      QV10M      Q500        T10M        T500        T850  \\\n",
                  "0     101196.429688  18.421225  0.846666  301.892120  266.620636  296.391449   \n",
                  "1     101068.429688  18.947653  0.762981  300.157745  266.737823  296.625824   \n",
                  "2     100900.429688  18.695883  0.541728  298.595245  266.823761  296.696136   \n",
                  "3     100780.429688  18.627218  0.348490  298.392120  267.089386  296.735199   \n",
                  "4     100724.429688  19.039206  0.282925  298.626495  267.386261  296.860199   \n",
                  "...             ...        ...       ...         ...         ...         ...   \n",
                  "6746   52572.429688   1.946977  1.669925  269.730011  264.522980  269.730011   \n",
                  "6747   51892.429688   1.800112  1.623195  270.485870  265.987823  270.485870   \n",
                  "6748   53508.429688   1.740507  1.583618  274.083527  267.081573  274.083527   \n",
                  "6749   54396.429688   1.766733  1.629871  276.364777  268.011261  276.364777   \n",
                  "6750   52932.429688   1.930288  1.817268  274.466339  268.425323  274.466339   \n",
                  "\n",
                  "           WIND   BCSMASS  DUSMASS25   OCSMASS  SO2SMASS  SO4SMASS  SSSMASS25  \\\n",
                  "0      3.480119  0.258300   3.992682  1.458390  2.016350  0.845488  19.972504   \n",
                  "1      2.457073  0.396998   1.923581  2.609355  2.825800  0.911882  19.746948   \n",
                  "2      2.541054  0.515914   4.387403  4.136397  2.908564  0.904833  18.713762   \n",
                  "3      2.839310  0.510230  14.420948  5.702547  2.085471  0.792965  12.787496   \n",
                  "4      2.947284  0.443609  17.920683  6.521092  0.981800  0.556042   5.004040   \n",
                  "...         ...       ...        ...       ...       ...       ...        ...   \n",
                  "6746   9.227372  0.042735   0.610498  0.132233  0.032628  0.355612   0.015305   \n",
                  "6747  12.013787  0.040376   0.584578  0.127288  0.023910  0.334011   0.013799   \n",
                  "6748  11.960517  0.037861   0.565024  0.121887  0.025985  0.304112   0.011934   \n",
                  "6749  11.677485  0.034464   0.545015  0.112792  0.040927  0.270688   0.009958   \n",
                  "6750  12.134350  0.033001   0.540695  0.108046  0.064404  0.264094   0.009305   \n",
                  "\n",
                  "      TOTEXTTAU      SED         SZA        time    lat      lon     MERRA2  \n",
                  "0      0.282222  1.00142  162.735995  2023-09-30  13.75 -17.0625  26.844421  \n",
                  "1      0.297358  1.00142  163.236683  2023-09-30  13.75 -16.4375  25.930720  \n",
                  "2      0.311396  1.00142  163.729407  2023-09-30  13.75 -15.8125  28.997622  \n",
                  "3      0.299189  1.00142  164.213421  2023-09-30  13.75 -15.1875  34.511547  \n",
                  "4      0.269160  1.00142  164.687897  2023-09-30  13.75 -14.5625  30.653982  \n",
                  "...         ...      ...         ...         ...    ...      ...        ...  \n",
                  "6746   0.019065  1.00142   99.820376  2023-09-30  34.75  77.9375   1.289738  \n",
                  "6747   0.017783  1.00142   99.307157  2023-09-30  34.75  78.5625   1.225306  \n",
                  "6748   0.017997  1.00142   98.793836  2023-09-30  34.75  79.1875   1.154859  \n",
                  "6749   0.020667  1.00142   98.280434  2023-09-30  34.75  79.8125   1.074426  \n",
                  "6750   0.025424  1.00142   97.766971  2023-09-30  34.75  80.4375   1.054175  \n",
                  "\n",
                  "[6751 rows x 20 columns]\n",
                  "19.51000678539276\n"
                ]
              },
              {
                "name": "stdout",
                "output_type": "stream",
                "text": [
                  "14/14 - 0s - 251ms/epoch - 18ms/step\n"
                ]
              },
              {
                "name": "stdout",
                "output_type": "stream",
                "text": [
                  "V1 Done\n",
                  "V2 DUSMASS25\n"
                ]
              },
              {
                "name": "stdout",
                "output_type": "stream",
                "text": [
                  "V2 OCSMASS\n"
                ]
              },
              {
                "name": "stdout",
                "output_type": "stream",
                "text": [
                  "V2 SO2SMASS\n"
                ]
              },
              {
                "name": "stdout",
                "output_type": "stream",
                "text": [
                  "V2 SO4SMASS\n"
                ]
              },
              {
                "name": "stdout",
                "output_type": "stream",
                "text": [
                  "V2 SSSMASS25\n"
                ]
              },
              {
                "name": "stdout",
                "output_type": "stream",
                "text": [
                  "V2 Done\n"
                ]
              },
              {
                "name": "stdout",
                "output_type": "stream",
                "text": [
                  "V3 DUSMASS25\n"
                ]
              },
              {
                "name": "stdout",
                "output_type": "stream",
                "text": [
                  "V3 OCSMASS\n",
                  "Skipping OCSMASS because the subset is empty.\n",
                  "V3 SO2SMASS\n"
                ]
              },
              {
                "name": "stdout",
                "output_type": "stream",
                "text": [
                  "V3 SO4SMASS\n",
                  "Skipping SO4SMASS because the subset is empty.\n",
                  "V3 SSSMASS25\n"
                ]
              },
              {
                "name": "stdout",
                "output_type": "stream",
                "text": [
                  "V3 Done\n"
                ]
              },
              {
                "name": "stdout",
                "output_type": "stream",
                "text": [
                  "V4 DUSMASS25\n"
                ]
              },
              {
                "name": "stdout",
                "output_type": "stream",
                "text": [
                  "V4 OCSMASS\n",
                  "Skipping OCSMASS because the subset is empty.\n",
                  "V4 SO2SMASS\n"
                ]
              },
              {
                "name": "stdout",
                "output_type": "stream",
                "text": [
                  "V4 SSSMASS25\n"
                ]
              },
              {
                "name": "stdout",
                "output_type": "stream",
                "text": [
                  "V4 wSO4\n"
                ]
              },
              {
                "name": "stdout",
                "output_type": "stream",
                "text": [
                  "V4 Done\n"
                ]
              },
              {
                "name": "stdout",
                "output_type": "stream",
                "text": [
                  "V5 CARBON\n",
                  "Skipping CARBON because the subset is empty.\n",
                  "V5 DUSMASS25\n"
                ]
              },
              {
                "name": "stdout",
                "output_type": "stream",
                "text": [
                  "V5 SSSMASS25\n"
                ]
              },
              {
                "name": "stdout",
                "output_type": "stream",
                "text": [
                  "V5 Sulfate\n"
                ]
              },
              {
                "name": "stdout",
                "output_type": "stream",
                "text": [
                  "V5 Done\n",
                  "[15.0, 19.0, 23.0]\n",
                  "Empty DataFrame\n",
                  "Columns: [PS, QV10M, Q500, T10M, T500, T850, WIND, BCSMASS, DUSMASS25, OCSMASS, SO2SMASS, SO4SMASS, SSSMASS25, TOTEXTTAU, SED, SZA, time, lat, lon, MERRA2, V1, V2_DS, V2, lat_lon, closest_lat_lon, lat_cats, lon_cats, V3_DS, lat_lon_cats, V3, lat_cats, lon_cats, V4_DS, lat_lon_cats, V4, lat_cats, lon_cats, V5_DS, lat_lon_cats, V5, Region]\n",
                  "Index: []\n",
                  "\n",
                  "[0 rows x 41 columns]\n"
                ]
              },
              {
                "name": "stdout",
                "output_type": "stream",
                "text": [
                  "V6 Done\n"
                ]
              },
              {
                "name": "stdout",
                "output_type": "stream",
                "text": [
                  "V7 Done\n"
                ]
              },
              {
                "name": "stdout",
                "output_type": "stream",
                "text": [
                  "V8 Done\n"
                ]
              },
              {
                "name": "stdout",
                "output_type": "stream",
                "text": [
                  "Data available for time: 9:30 UTC\n"
                ]
              },
              {
                "name": "stdout",
                "output_type": "stream",
                "text": [
                  "                 PS      QV10M      Q500        T10M        T500        T850  \\\n",
                  "0     101246.164062  18.367897  0.754373  302.354828  266.680542  296.530457   \n",
                  "1     101118.164062  18.604408  0.637071  301.542328  266.719604  296.655457   \n",
                  "2     100958.164062  19.046913  0.381129  299.839203  266.789917  296.780457   \n",
                  "3     100830.164062  19.130836  0.222282  299.370453  267.024292  296.889832   \n",
                  "4     100782.164062  19.458900  0.246303  299.542328  267.328979  296.991394   \n",
                  "...             ...        ...       ...         ...         ...         ...   \n",
                  "6746   52550.164062   1.912724  1.618402  270.141937  265.200073  270.141937   \n",
                  "6747   51878.164062   1.808774  1.634138  270.608734  266.383667  270.608734   \n",
                  "6748   53486.164062   1.742493  1.586454  274.104828  267.438354  274.104828   \n",
                  "6749   54374.164062   1.746785  1.608388  276.370453  268.375854  276.370453   \n",
                  "6750   52902.164062   1.889836  1.774804  274.624359  268.946167  274.624359   \n",
                  "\n",
                  "           WIND   BCSMASS  DUSMASS25   OCSMASS  SO2SMASS  SO4SMASS  SSSMASS25  \\\n",
                  "0      3.818806  0.228569   4.843969  1.300128  1.715307  0.825710  20.088919   \n",
                  "1      3.109851  0.299566   3.407877  1.978157  2.409251  0.880507  18.531864   \n",
                  "2      2.718605  0.429056   3.386958  3.382416  2.713932  0.889374  18.386345   \n",
                  "3      2.595333  0.452589  12.019882  4.860345  2.082743  0.800244  13.787940   \n",
                  "4      2.657013  0.414390  17.425919  5.777116  1.091848  0.598336   6.484697   \n",
                  "...         ...       ...        ...       ...       ...       ...        ...   \n",
                  "6746   8.919653  0.042009   0.662794  0.131996  0.040572  0.349589   0.016229   \n",
                  "6747  11.494751  0.041128   0.695991  0.130973  0.028436  0.339812   0.015959   \n",
                  "6748  11.421650  0.040076   0.780346  0.131087  0.027548  0.324237   0.015575   \n",
                  "6749  11.450473  0.037817   0.944055  0.128415  0.041965  0.296839   0.015127   \n",
                  "6750  12.082098  0.038016   1.160515  0.131200  0.065967  0.301386   0.016193   \n",
                  "\n",
                  "      TOTEXTTAU      SED         SZA        time    lat      lon     MERRA2  \n",
                  "0      0.287766  1.00142  162.735995  2023-09-30  13.75 -17.0625  27.596936  \n",
                  "1      0.293991  1.00142  163.236683  2023-09-30  13.75 -16.4375  25.428161  \n",
                  "2      0.297287  1.00142  163.729407  2023-09-30  13.75 -15.8125  26.807665  \n",
                  "3      0.284958  1.00142  164.213421  2023-09-30  13.75 -15.1875  32.221091  \n",
                  "4      0.262131  1.00142  164.687897  2023-09-30  13.75 -14.5625  30.924834  \n",
                  "...         ...      ...         ...         ...    ...      ...        ...  \n",
                  "6746   0.019909  1.00142   99.820376  2023-09-30  34.75  77.9375   1.333713  \n",
                  "6747   0.018933  1.00142   99.307157  2023-09-30  34.75  78.5625   1.351292  \n",
                  "6748   0.019264  1.00142   98.793836  2023-09-30  34.75  79.1875   1.412910  \n",
                  "6749   0.022347  1.00142   98.280434  2023-09-30  34.75  79.8125   1.533568  \n",
                  "6750   0.028572  1.00142   97.766971  2023-09-30  34.75  80.4375   1.760330  \n",
                  "\n",
                  "[6751 rows x 20 columns]\n",
                  "19.823035677274067\n"
                ]
              },
              {
                "name": "stdout",
                "output_type": "stream",
                "text": [
                  "14/14 - 0s - 259ms/epoch - 19ms/step\n"
                ]
              },
              {
                "name": "stdout",
                "output_type": "stream",
                "text": [
                  "V1 Done\n",
                  "V2 DUSMASS25\n"
                ]
              },
              {
                "name": "stdout",
                "output_type": "stream",
                "text": [
                  "V2 OCSMASS\n"
                ]
              },
              {
                "name": "stdout",
                "output_type": "stream",
                "text": [
                  "V2 SO2SMASS\n"
                ]
              },
              {
                "name": "stdout",
                "output_type": "stream",
                "text": [
                  "V2 SO4SMASS\n"
                ]
              },
              {
                "name": "stdout",
                "output_type": "stream",
                "text": [
                  "V2 SSSMASS25\n"
                ]
              },
              {
                "name": "stdout",
                "output_type": "stream",
                "text": [
                  "V2 Done\n"
                ]
              },
              {
                "name": "stdout",
                "output_type": "stream",
                "text": [
                  "V3 DUSMASS25\n"
                ]
              },
              {
                "name": "stdout",
                "output_type": "stream",
                "text": [
                  "V3 OCSMASS\n",
                  "Skipping OCSMASS because the subset is empty.\n",
                  "V3 SO2SMASS\n"
                ]
              },
              {
                "name": "stdout",
                "output_type": "stream",
                "text": [
                  "V3 SO4SMASS\n",
                  "Skipping SO4SMASS because the subset is empty.\n",
                  "V3 SSSMASS25\n"
                ]
              },
              {
                "name": "stdout",
                "output_type": "stream",
                "text": [
                  "V3 Done\n"
                ]
              },
              {
                "name": "stdout",
                "output_type": "stream",
                "text": [
                  "V4 DUSMASS25\n"
                ]
              },
              {
                "name": "stdout",
                "output_type": "stream",
                "text": [
                  "V4 OCSMASS\n",
                  "Skipping OCSMASS because the subset is empty.\n",
                  "V4 SO2SMASS\n"
                ]
              },
              {
                "name": "stdout",
                "output_type": "stream",
                "text": [
                  "V4 SSSMASS25\n"
                ]
              },
              {
                "name": "stdout",
                "output_type": "stream",
                "text": [
                  "V4 wSO4\n"
                ]
              },
              {
                "name": "stdout",
                "output_type": "stream",
                "text": [
                  "V4 Done\n"
                ]
              },
              {
                "name": "stdout",
                "output_type": "stream",
                "text": [
                  "V5 CARBON\n",
                  "Skipping CARBON because the subset is empty.\n",
                  "V5 DUSMASS25\n"
                ]
              },
              {
                "name": "stdout",
                "output_type": "stream",
                "text": [
                  "V5 SSSMASS25\n"
                ]
              },
              {
                "name": "stdout",
                "output_type": "stream",
                "text": [
                  "V5 Sulfate\n"
                ]
              },
              {
                "name": "stdout",
                "output_type": "stream",
                "text": [
                  "V5 Done\n",
                  "[15.0, 19.0, 23.0]\n",
                  "Empty DataFrame\n",
                  "Columns: [PS, QV10M, Q500, T10M, T500, T850, WIND, BCSMASS, DUSMASS25, OCSMASS, SO2SMASS, SO4SMASS, SSSMASS25, TOTEXTTAU, SED, SZA, time, lat, lon, MERRA2, V1, V2_DS, V2, lat_lon, closest_lat_lon, lat_cats, lon_cats, V3_DS, lat_lon_cats, V3, lat_cats, lon_cats, V4_DS, lat_lon_cats, V4, lat_cats, lon_cats, V5_DS, lat_lon_cats, V5, Region]\n",
                  "Index: []\n",
                  "\n",
                  "[0 rows x 41 columns]\n"
                ]
              },
              {
                "name": "stdout",
                "output_type": "stream",
                "text": [
                  "V6 Done\n"
                ]
              },
              {
                "name": "stdout",
                "output_type": "stream",
                "text": [
                  "V7 Done\n"
                ]
              },
              {
                "name": "stdout",
                "output_type": "stream",
                "text": [
                  "V8 Done\n"
                ]
              },
              {
                "name": "stdout",
                "output_type": "stream",
                "text": [
                  "Data available for time: 10:30 UTC\n"
                ]
              },
              {
                "name": "stdout",
                "output_type": "stream",
                "text": [
                  "                 PS      QV10M      Q500        T10M        T500        T850  \\\n",
                  "0     101258.742188  18.367371  0.696228  302.752411  266.743317  296.644653   \n",
                  "1     101122.742188  18.573364  0.506923  302.721161  266.774567  296.754028   \n",
                  "2     100962.742188  18.870911  0.249431  301.705536  266.844879  296.910278   \n",
                  "3     100842.742188  18.970093  0.163898  301.080536  267.040192  297.074341   \n",
                  "4     100786.742188  19.214233  0.288532  301.033661  267.274567  297.089966   \n",
                  "...             ...        ...       ...         ...         ...         ...   \n",
                  "6746   52554.742188   1.888355  1.575515  270.143036  265.626129  270.143036   \n",
                  "6747   51882.742188   1.814445  1.643703  270.367645  266.532379  270.367645   \n",
                  "6748   53490.742188   1.748641  1.598880  273.775848  267.563629  273.775848   \n",
                  "6749   54378.742188   1.717647  1.582191  275.947723  268.454254  275.947723   \n",
                  "6750   52898.742188   1.795848  1.680419  274.420380  269.235504  274.420380   \n",
                  "\n",
                  "           WIND   BCSMASS  DUSMASS25   OCSMASS  SO2SMASS  SO4SMASS  SSSMASS25  \\\n",
                  "0      3.958247  0.212949   5.711627  1.223325  1.351509  0.799627  19.994331   \n",
                  "1      3.560012  0.238870   5.304173  1.564840  1.909939  0.834415  16.938429   \n",
                  "2      3.410738  0.293894   4.762114  2.213764  2.413799  0.870340  16.843842   \n",
                  "3      3.223810  0.316404  10.153599  2.982288  2.166416  0.841236  15.308615   \n",
                  "4      3.116859  0.315836  16.625563  3.896330  1.311491  0.688213   9.196811   \n",
                  "...         ...       ...        ...       ...       ...       ...        ...   \n",
                  "6746   8.413168  0.041509   0.691443  0.132556  0.049582  0.343970   0.016882   \n",
                  "6747  10.789659  0.040443   0.712134  0.130396  0.035982  0.330668   0.016378   \n",
                  "6748  10.707334  0.040060   0.750788  0.130794  0.031903  0.326121   0.016151   \n",
                  "6749  10.907152  0.037175   0.793989  0.124712  0.045262  0.294289   0.014602   \n",
                  "6750  11.552976  0.034446   0.844238  0.118118  0.069747  0.269164   0.013394   \n",
                  "\n",
                  "      TOTEXTTAU      SED         SZA        time    lat      lon     MERRA2  \n",
                  "0      0.291933  1.00142  162.735995  2023-09-30  13.75 -17.0625  28.241719  \n",
                  "1      0.286196  1.00142  163.236683  2023-09-30  13.75 -16.4375  25.193632  \n",
                  "2      0.275820  1.00142  163.729407  2023-09-30  13.75 -15.8125  25.310332  \n",
                  "3      0.266542  1.00142  164.213421  2023-09-30  13.75 -15.1875  29.917605  \n",
                  "4      0.253481  1.00142  164.687897  2023-09-30  13.75 -14.5625  30.980833  \n",
                  "...         ...      ...         ...         ...    ...      ...        ...  \n",
                  "6746   0.020811  1.00142   99.820376  2023-09-30  34.75  77.9375   1.355350  \n",
                  "6747   0.019670  1.00142   99.307157  2023-09-30  34.75  78.5625   1.354021  \n",
                  "6748   0.019205  1.00142   98.793836  2023-09-30  34.75  79.1875   1.386209  \n",
                  "6749   0.020601  1.00142   98.280434  2023-09-30  34.75  79.8125   1.375124  \n",
                  "6750   0.024729  1.00142   97.766971  2023-09-30  34.75  80.4375   1.380297  \n",
                  "\n",
                  "[6751 rows x 20 columns]\n",
                  "20.194166203339893\n"
                ]
              },
              {
                "name": "stdout",
                "output_type": "stream",
                "text": [
                  "14/14 - 0s - 256ms/epoch - 18ms/step\n"
                ]
              },
              {
                "name": "stdout",
                "output_type": "stream",
                "text": [
                  "V1 Done\n",
                  "V2 DUSMASS25\n"
                ]
              },
              {
                "name": "stdout",
                "output_type": "stream",
                "text": [
                  "V2 OCSMASS\n"
                ]
              },
              {
                "name": "stdout",
                "output_type": "stream",
                "text": [
                  "V2 SO2SMASS\n"
                ]
              },
              {
                "name": "stdout",
                "output_type": "stream",
                "text": [
                  "V2 SO4SMASS\n"
                ]
              },
              {
                "name": "stdout",
                "output_type": "stream",
                "text": [
                  "V2 SSSMASS25\n"
                ]
              },
              {
                "name": "stdout",
                "output_type": "stream",
                "text": [
                  "V2 Done\n"
                ]
              },
              {
                "name": "stdout",
                "output_type": "stream",
                "text": [
                  "V3 DUSMASS25\n"
                ]
              },
              {
                "name": "stdout",
                "output_type": "stream",
                "text": [
                  "V3 OCSMASS\n",
                  "Skipping OCSMASS because the subset is empty.\n",
                  "V3 SO2SMASS\n"
                ]
              },
              {
                "name": "stdout",
                "output_type": "stream",
                "text": [
                  "V3 SO4SMASS\n",
                  "Skipping SO4SMASS because the subset is empty.\n",
                  "V3 SSSMASS25\n"
                ]
              },
              {
                "name": "stdout",
                "output_type": "stream",
                "text": [
                  "V3 Done\n"
                ]
              },
              {
                "name": "stdout",
                "output_type": "stream",
                "text": [
                  "V4 DUSMASS25\n"
                ]
              },
              {
                "name": "stdout",
                "output_type": "stream",
                "text": [
                  "V4 OCSMASS\n",
                  "Skipping OCSMASS because the subset is empty.\n",
                  "V4 SO2SMASS\n"
                ]
              },
              {
                "name": "stdout",
                "output_type": "stream",
                "text": [
                  "V4 SSSMASS25\n"
                ]
              },
              {
                "name": "stdout",
                "output_type": "stream",
                "text": [
                  "V4 wSO4\n"
                ]
              },
              {
                "name": "stdout",
                "output_type": "stream",
                "text": [
                  "V4 Done\n"
                ]
              },
              {
                "name": "stdout",
                "output_type": "stream",
                "text": [
                  "V5 CARBON\n",
                  "Skipping CARBON because the subset is empty.\n",
                  "V5 DUSMASS25\n"
                ]
              },
              {
                "name": "stdout",
                "output_type": "stream",
                "text": [
                  "V5 SSSMASS25\n"
                ]
              },
              {
                "name": "stdout",
                "output_type": "stream",
                "text": [
                  "V5 Sulfate\n"
                ]
              },
              {
                "name": "stdout",
                "output_type": "stream",
                "text": [
                  "V5 Done\n",
                  "[15.0, 19.0, 23.0]\n",
                  "Empty DataFrame\n",
                  "Columns: [PS, QV10M, Q500, T10M, T500, T850, WIND, BCSMASS, DUSMASS25, OCSMASS, SO2SMASS, SO4SMASS, SSSMASS25, TOTEXTTAU, SED, SZA, time, lat, lon, MERRA2, V1, V2_DS, V2, lat_lon, closest_lat_lon, lat_cats, lon_cats, V3_DS, lat_lon_cats, V3, lat_cats, lon_cats, V4_DS, lat_lon_cats, V4, lat_cats, lon_cats, V5_DS, lat_lon_cats, V5, Region]\n",
                  "Index: []\n",
                  "\n",
                  "[0 rows x 41 columns]\n"
                ]
              },
              {
                "name": "stdout",
                "output_type": "stream",
                "text": [
                  "V6 Done\n"
                ]
              },
              {
                "name": "stdout",
                "output_type": "stream",
                "text": [
                  "V7 Done\n"
                ]
              },
              {
                "name": "stdout",
                "output_type": "stream",
                "text": [
                  "V8 Done\n"
                ]
              },
              {
                "name": "stdout",
                "output_type": "stream",
                "text": [
                  "Data available for time: 11:30 UTC\n"
                ]
              },
              {
                "name": "stdout",
                "output_type": "stream",
                "text": [
                  "                PS      QV10M      Q500        T10M        T500        T850  \\\n",
                  "0     101229.90625  18.496647  0.616822  303.039551  266.774933  296.639221   \n",
                  "1     101077.90625  18.771305  0.371251  303.648926  266.837433  296.865784   \n",
                  "2     100917.90625  19.007816  0.185701  303.086426  266.946808  297.092346   \n",
                  "3     100797.90625  19.106998  0.198934  302.180176  267.079620  297.240784   \n",
                  "4     100749.90625  19.229069  0.392947  302.117676  267.149933  297.084534   \n",
                  "...            ...        ...       ...         ...         ...         ...   \n",
                  "6746   52573.90625   1.864090  1.583609  269.484863  265.603058  269.484863   \n",
                  "6747   51901.90625   1.810684  1.657519  269.641113  266.376495  269.641113   \n",
                  "6748   53509.90625   1.778736  1.637015  272.879395  267.345245  272.879395   \n",
                  "6749   54405.90625   1.742019  1.601729  274.832520  268.110870  274.832520   \n",
                  "6750   52917.90625   1.742973  1.624617  273.625488  269.079620  273.625488   \n",
                  "\n",
                  "           WIND   BCSMASS  DUSMASS25   OCSMASS  SO2SMASS  SO4SMASS  SSSMASS25  \\\n",
                  "0      4.366351  0.201921   6.473783  1.178321  1.059561  0.776463  19.899744   \n",
                  "1      3.828040  0.209084   7.530616  1.439800  1.382887  0.767823  14.679244   \n",
                  "2      3.757027  0.242735   7.927156  1.882724  1.864464  0.805794  13.518729   \n",
                  "3      3.532886  0.267519  11.499651  2.353843  1.949047  0.828304  13.478711   \n",
                  "4      3.276436  0.266041  16.516424  3.046878  1.262379  0.700975   8.840288   \n",
                  "...         ...       ...        ...       ...       ...       ...        ...   \n",
                  "6746   7.590648  0.042689   0.786940  0.138598  0.058066  0.348432   0.019249   \n",
                  "6747   9.833992  0.040557   0.789441  0.133482  0.044949  0.327059   0.017430   \n",
                  "6748   9.574115  0.040728   0.819227  0.134676  0.040188  0.329333   0.017629   \n",
                  "6749   9.640880  0.038710   0.819909  0.129219  0.054939  0.309892   0.016321   \n",
                  "6750  10.382271  0.034532   0.783530  0.117622  0.080178  0.270670   0.013742   \n",
                  "\n",
                  "      TOTEXTTAU      SED         SZA        time    lat      lon     MERRA2  \n",
                  "0      0.293242  1.00142  162.735995  2023-09-30  13.75 -17.0625  28.821406  \n",
                  "1      0.273345  1.00142  163.236683  2023-09-30  13.75 -16.4375  24.914501  \n",
                  "2      0.258696  1.00142  163.729407  2023-09-30  13.75 -15.8125  24.679311  \n",
                  "3      0.258086  1.00142  164.213421  2023-09-30  13.75 -15.1875  28.738642  \n",
                  "4      0.252166  1.00142  164.687897  2023-09-30  13.75 -14.5625  29.633471  \n",
                  "...         ...      ...         ...         ...    ...      ...        ...  \n",
                  "6746   0.021895  1.00142   99.820376  2023-09-30  34.75  77.9375   1.466569  \n",
                  "6747   0.020423  1.00142   99.307157  2023-09-30  34.75  78.5625   1.430616  \n",
                  "6748   0.019992  1.00142   98.793836  2023-09-30  34.75  79.1875   1.465091  \n",
                  "6749   0.020324  1.00142   98.280434  2023-09-30  34.75  79.8125   1.430261  \n",
                  "6750   0.022147  1.00142   97.766971  2023-09-30  34.75  80.4375   1.321597  \n",
                  "\n",
                  "[6751 rows x 20 columns]\n",
                  "20.509664527575175\n"
                ]
              },
              {
                "name": "stdout",
                "output_type": "stream",
                "text": [
                  "14/14 - 0s - 255ms/epoch - 18ms/step\n"
                ]
              },
              {
                "name": "stdout",
                "output_type": "stream",
                "text": [
                  "V1 Done\n",
                  "V2 DUSMASS25\n"
                ]
              },
              {
                "name": "stdout",
                "output_type": "stream",
                "text": [
                  "V2 OCSMASS\n"
                ]
              },
              {
                "name": "stdout",
                "output_type": "stream",
                "text": [
                  "V2 SO2SMASS\n"
                ]
              },
              {
                "name": "stdout",
                "output_type": "stream",
                "text": [
                  "V2 SO4SMASS\n"
                ]
              },
              {
                "name": "stdout",
                "output_type": "stream",
                "text": [
                  "V2 SSSMASS25\n"
                ]
              },
              {
                "name": "stdout",
                "output_type": "stream",
                "text": [
                  "V2 Done\n"
                ]
              },
              {
                "name": "stdout",
                "output_type": "stream",
                "text": [
                  "V3 DUSMASS25\n"
                ]
              },
              {
                "name": "stdout",
                "output_type": "stream",
                "text": [
                  "V3 OCSMASS\n",
                  "Skipping OCSMASS because the subset is empty.\n",
                  "V3 SO2SMASS\n"
                ]
              },
              {
                "name": "stdout",
                "output_type": "stream",
                "text": [
                  "V3 SO4SMASS\n",
                  "Skipping SO4SMASS because the subset is empty.\n",
                  "V3 SSSMASS25\n"
                ]
              },
              {
                "name": "stdout",
                "output_type": "stream",
                "text": [
                  "V3 Done\n"
                ]
              },
              {
                "name": "stdout",
                "output_type": "stream",
                "text": [
                  "V4 DUSMASS25\n"
                ]
              },
              {
                "name": "stdout",
                "output_type": "stream",
                "text": [
                  "V4 OCSMASS\n",
                  "Skipping OCSMASS because the subset is empty.\n",
                  "V4 SO2SMASS\n"
                ]
              },
              {
                "name": "stdout",
                "output_type": "stream",
                "text": [
                  "V4 SSSMASS25\n"
                ]
              },
              {
                "name": "stdout",
                "output_type": "stream",
                "text": [
                  "V4 wSO4\n"
                ]
              },
              {
                "name": "stdout",
                "output_type": "stream",
                "text": [
                  "V4 Done\n"
                ]
              },
              {
                "name": "stdout",
                "output_type": "stream",
                "text": [
                  "V5 CARBON\n",
                  "Skipping CARBON because the subset is empty.\n",
                  "V5 DUSMASS25\n"
                ]
              },
              {
                "name": "stdout",
                "output_type": "stream",
                "text": [
                  "V5 SSSMASS25\n"
                ]
              },
              {
                "name": "stdout",
                "output_type": "stream",
                "text": [
                  "V5 Sulfate\n"
                ]
              },
              {
                "name": "stdout",
                "output_type": "stream",
                "text": [
                  "V5 Done\n",
                  "[15.0, 19.0, 23.0]\n",
                  "Empty DataFrame\n",
                  "Columns: [PS, QV10M, Q500, T10M, T500, T850, WIND, BCSMASS, DUSMASS25, OCSMASS, SO2SMASS, SO4SMASS, SSSMASS25, TOTEXTTAU, SED, SZA, time, lat, lon, MERRA2, V1, V2_DS, V2, lat_lon, closest_lat_lon, lat_cats, lon_cats, V3_DS, lat_lon_cats, V3, lat_cats, lon_cats, V4_DS, lat_lon_cats, V4, lat_cats, lon_cats, V5_DS, lat_lon_cats, V5, Region]\n",
                  "Index: []\n",
                  "\n",
                  "[0 rows x 41 columns]\n"
                ]
              },
              {
                "name": "stdout",
                "output_type": "stream",
                "text": [
                  "V6 Done\n"
                ]
              },
              {
                "name": "stdout",
                "output_type": "stream",
                "text": [
                  "V7 Done\n"
                ]
              },
              {
                "name": "stdout",
                "output_type": "stream",
                "text": [
                  "V8 Done\n"
                ]
              },
              {
                "name": "stdout",
                "output_type": "stream",
                "text": [
                  "Data available for time: 12:30 UTC\n"
                ]
              },
              {
                "name": "stdout",
                "output_type": "stream",
                "text": [
                  "                 PS      QV10M      Q500        T10M        T500        T850  \\\n",
                  "0     101171.835938  18.740513  0.500002  303.184998  266.811157  296.577209   \n",
                  "1     101011.835938  18.984653  0.255861  304.372498  266.873657  296.936584   \n",
                  "2     100843.835938  19.183018  0.192382  304.075623  267.029907  297.241272   \n",
                  "3     100723.835938  19.282200  0.286737  302.950623  267.084595  297.319397   \n",
                  "4     100683.835938  19.327976  0.640192  302.809998  266.920532  296.999084   \n",
                  "...             ...        ...       ...         ...         ...         ...   \n",
                  "6746   52611.835938   1.852847  1.704254  267.976013  265.205688  267.976013   \n",
                  "6747   51939.835938   1.811362  1.728096  268.044373  265.897095  268.044373   \n",
                  "6748   53547.835938   1.877642  1.704254  270.438904  266.873657  270.438904   \n",
                  "6749   54451.835938   1.895285  1.652756  271.450623  267.553345  271.450623   \n",
                  "6750   52963.835938   1.805163  1.640835  271.056091  268.404907  271.056091   \n",
                  "\n",
                  "          WIND   BCSMASS  DUSMASS25   OCSMASS  SO2SMASS  SO4SMASS  SSSMASS25  \\\n",
                  "0     4.862248  0.194973   7.959898  1.149603  0.863338  0.768329  20.110746   \n",
                  "1     4.142965  0.187527   6.364644  1.403806  0.986347  0.666238  12.711098   \n",
                  "2     3.913871  0.206740   2.230990  1.793525  1.366516  0.586885  10.000804   \n",
                  "3     3.606102  0.229591   0.819909  2.157323  1.599346  0.551642   9.986252   \n",
                  "4     3.222026  0.231524   4.898539  2.730304  1.110493  0.480929   6.824848   \n",
                  "...        ...       ...        ...       ...       ...       ...        ...   \n",
                  "6746  5.888061  0.045944   0.938144  0.152057  0.065626  0.365423   0.023242   \n",
                  "6747  7.770155  0.042334   0.918362  0.141598  0.053561  0.334273   0.019476   \n",
                  "6748  6.704506  0.042462   0.934506  0.142224  0.055124  0.335182   0.019540   \n",
                  "6749  6.168932  0.040828   0.916089  0.136653  0.089102  0.326087   0.018645   \n",
                  "6750  7.442232  0.036423   0.832642  0.122783  0.129887  0.286411   0.015561   \n",
                  "\n",
                  "      TOTEXTTAU      SED         SZA        time    lat      lon     MERRA2  \n",
                  "0      0.296324  1.00142  162.735995  2023-09-30  13.75 -17.0625  30.471673  \n",
                  "1      0.227476  1.00142  163.236683  2023-09-30  13.75 -16.4375  21.583153  \n",
                  "2      0.168761  1.00142  163.729407  2023-09-30  13.75 -15.8125  15.039026  \n",
                  "3      0.152708  1.00142  164.213421  2023-09-30  13.75 -15.1875  13.951583  \n",
                  "4      0.178953  1.00142  164.687897  2023-09-30  13.75 -14.5625  15.346492  \n",
                  "...         ...      ...         ...         ...    ...      ...        ...  \n",
                  "6746   0.023405  1.00142   99.820376  2023-09-30  34.75  77.9375   1.661844  \n",
                  "6747   0.021170  1.00142   99.307157  2023-09-30  34.75  78.5625   1.581396  \n",
                  "6748   0.020861  1.00142   98.793836  2023-09-30  34.75  79.1875   1.599607  \n",
                  "6749   0.021158  1.00142   98.280434  2023-09-30  34.75  79.8125   1.560584  \n",
                  "6750   0.021857  1.00142   97.766971  2023-09-30  34.75  80.4375   1.401224  \n",
                  "\n",
                  "[6751 rows x 20 columns]\n",
                  "20.863359677791596\n"
                ]
              },
              {
                "name": "stdout",
                "output_type": "stream",
                "text": [
                  "14/14 - 0s - 400ms/epoch - 29ms/step\n"
                ]
              },
              {
                "name": "stdout",
                "output_type": "stream",
                "text": [
                  "V1 Done\n",
                  "V2 DUSMASS25\n"
                ]
              },
              {
                "name": "stdout",
                "output_type": "stream",
                "text": [
                  "V2 OCSMASS\n"
                ]
              },
              {
                "name": "stdout",
                "output_type": "stream",
                "text": [
                  "V2 SO2SMASS\n"
                ]
              },
              {
                "name": "stdout",
                "output_type": "stream",
                "text": [
                  "V2 SO4SMASS\n"
                ]
              },
              {
                "name": "stdout",
                "output_type": "stream",
                "text": [
                  "V2 SSSMASS25\n"
                ]
              },
              {
                "name": "stdout",
                "output_type": "stream",
                "text": [
                  "V2 Done\n"
                ]
              },
              {
                "name": "stdout",
                "output_type": "stream",
                "text": [
                  "V3 DUSMASS25\n"
                ]
              },
              {
                "name": "stdout",
                "output_type": "stream",
                "text": [
                  "V3 OCSMASS\n",
                  "Skipping OCSMASS because the subset is empty.\n",
                  "V3 SO2SMASS\n"
                ]
              },
              {
                "name": "stdout",
                "output_type": "stream",
                "text": [
                  "V3 SO4SMASS\n",
                  "Skipping SO4SMASS because the subset is empty.\n",
                  "V3 SSSMASS25\n"
                ]
              },
              {
                "name": "stdout",
                "output_type": "stream",
                "text": [
                  "V3 Done\n"
                ]
              },
              {
                "name": "stdout",
                "output_type": "stream",
                "text": [
                  "V4 DUSMASS25\n"
                ]
              },
              {
                "name": "stdout",
                "output_type": "stream",
                "text": [
                  "V4 OCSMASS\n",
                  "Skipping OCSMASS because the subset is empty.\n",
                  "V4 SO2SMASS\n"
                ]
              },
              {
                "name": "stdout",
                "output_type": "stream",
                "text": [
                  "V4 SSSMASS25\n"
                ]
              },
              {
                "name": "stdout",
                "output_type": "stream",
                "text": [
                  "V4 wSO4\n"
                ]
              },
              {
                "name": "stdout",
                "output_type": "stream",
                "text": [
                  "V4 Done\n"
                ]
              },
              {
                "name": "stdout",
                "output_type": "stream",
                "text": [
                  "V5 CARBON\n",
                  "Skipping CARBON because the subset is empty.\n",
                  "V5 DUSMASS25\n"
                ]
              },
              {
                "name": "stdout",
                "output_type": "stream",
                "text": [
                  "V5 SSSMASS25\n"
                ]
              },
              {
                "name": "stdout",
                "output_type": "stream",
                "text": [
                  "V5 Sulfate\n"
                ]
              },
              {
                "name": "stdout",
                "output_type": "stream",
                "text": [
                  "V5 Done\n",
                  "[15.0, 19.0, 23.0]\n",
                  "Empty DataFrame\n",
                  "Columns: [PS, QV10M, Q500, T10M, T500, T850, WIND, BCSMASS, DUSMASS25, OCSMASS, SO2SMASS, SO4SMASS, SSSMASS25, TOTEXTTAU, SED, SZA, time, lat, lon, MERRA2, V1, V2_DS, V2, lat_lon, closest_lat_lon, lat_cats, lon_cats, V3_DS, lat_lon_cats, V3, lat_cats, lon_cats, V4_DS, lat_lon_cats, V4, lat_cats, lon_cats, V5_DS, lat_lon_cats, V5, Region]\n",
                  "Index: []\n",
                  "\n",
                  "[0 rows x 41 columns]\n"
                ]
              },
              {
                "name": "stdout",
                "output_type": "stream",
                "text": [
                  "V6 Done\n"
                ]
              },
              {
                "name": "stdout",
                "output_type": "stream",
                "text": [
                  "V7 Done\n"
                ]
              },
              {
                "name": "stdout",
                "output_type": "stream",
                "text": [
                  "V8 Done\n"
                ]
              },
              {
                "name": "stdout",
                "output_type": "stream",
                "text": [
                  "Data available for time: 13:30 UTC\n"
                ]
              },
              {
                "name": "stdout",
                "output_type": "stream",
                "text": [
                  "                 PS      QV10M      Q500        T10M        T500        T850  \\\n",
                  "0     101097.179688  18.808846  0.370745  303.242798  266.891785  296.590942   \n",
                  "1     100937.179688  19.190315  0.207846  304.727173  266.938660  297.020630   \n",
                  "2     100761.179688  19.426826  0.260238  304.695923  267.071472  297.286255   \n",
                  "3     100649.179688  19.487862  0.472431  303.445923  266.969910  297.262817   \n",
                  "4     100609.179688  19.442085  1.097207  303.055298  266.618347  296.903442   \n",
                  "...             ...        ...       ...         ...         ...         ...   \n",
                  "6746   52657.179688   2.003196  1.895909  267.272095  264.637878  267.272095   \n",
                  "6747   51985.179688   1.941207  1.898293  267.033813  265.282410  267.033813   \n",
                  "6748   53609.179688   2.008918  1.832490  268.973267  266.235535  268.973267   \n",
                  "6749   54505.179688   2.012733  1.745229  269.725220  267.016785  269.725220   \n",
                  "6750   53025.179688   1.903537  1.703267  269.354126  267.587097  269.354126   \n",
                  "\n",
                  "          WIND   BCSMASS  DUSMASS25   OCSMASS  SO2SMASS  SO4SMASS  SSSMASS25  \\\n",
                  "0     5.070689  0.185710   7.737981  1.114143  0.740101  0.745491  19.994331   \n",
                  "1     4.352803  0.176785   7.930794  1.370621  0.771934  0.641582  12.129022   \n",
                  "2     3.893734  0.187927   4.003596  1.708953  1.057742  0.559727   8.625648   \n",
                  "3     3.440718  0.212199   1.346052  2.035462  1.354238  0.523575   8.698407   \n",
                  "4     2.981440  0.216121   3.888999  2.514765  1.028184  0.456954   6.415576   \n",
                  "...        ...       ...        ...       ...       ...       ...        ...   \n",
                  "6746  4.973397  0.049698   1.114586  0.167985  0.068241  0.385104   0.027306   \n",
                  "6747  6.460967  0.045463   1.076387  0.153262  0.058051  0.349748   0.022411   \n",
                  "6748  5.610945  0.045193   1.070475  0.153035  0.067473  0.343608   0.021828   \n",
                  "6749  5.179060  0.043118   1.033641  0.145531  0.126249  0.338493   0.020947   \n",
                  "6750  6.368654  0.038897   0.927457  0.130752  0.194461  0.306092   0.018112   \n",
                  "\n",
                  "      TOTEXTTAU      SED         SZA        time    lat      lon     MERRA2  \n",
                  "0      0.273090  1.00142  162.735995  2023-09-30  13.75 -17.0625  30.057216  \n",
                  "1      0.205158  1.00142  163.236683  2023-09-30  13.75 -16.4375  22.489396  \n",
                  "2      0.158283  1.00142  163.729407  2023-09-30  13.75 -15.8125  15.295748  \n",
                  "3      0.163654  1.00142  164.213421  2023-09-30  13.75 -15.1875  13.012035  \n",
                  "4      0.206134  1.00142  164.687897  2023-09-30  13.75 -14.5625  13.663773  \n",
                  "...         ...      ...         ...         ...    ...      ...        ...  \n",
                  "6746   0.025432  1.00142   99.820376  2023-09-30  34.75  77.9375   1.889092  \n",
                  "6747   0.022426  1.00142   99.307157  2023-09-30  34.75  78.5625   1.778425  \n",
                  "6748   0.022014  1.00142   98.793836  2023-09-30  34.75  79.1875   1.762992  \n",
                  "6749   0.022480  1.00142   98.280434  2023-09-30  34.75  79.8125   1.708664  \n",
                  "6750   0.022716  1.00142   97.766971  2023-09-30  34.75  80.4375   1.536095  \n",
                  "\n",
                  "[6751 rows x 20 columns]\n",
                  "21.18856484889984\n"
                ]
              },
              {
                "name": "stdout",
                "output_type": "stream",
                "text": [
                  "14/14 - 0s - 260ms/epoch - 19ms/step\n"
                ]
              },
              {
                "name": "stdout",
                "output_type": "stream",
                "text": [
                  "V1 Done\n",
                  "V2 DUSMASS25\n"
                ]
              },
              {
                "name": "stdout",
                "output_type": "stream",
                "text": [
                  "V2 OCSMASS\n"
                ]
              },
              {
                "name": "stdout",
                "output_type": "stream",
                "text": [
                  "V2 SO2SMASS\n"
                ]
              },
              {
                "name": "stdout",
                "output_type": "stream",
                "text": [
                  "V2 SO4SMASS\n"
                ]
              },
              {
                "name": "stdout",
                "output_type": "stream",
                "text": [
                  "V2 SSSMASS25\n"
                ]
              },
              {
                "name": "stdout",
                "output_type": "stream",
                "text": [
                  "V2 Done\n"
                ]
              },
              {
                "name": "stdout",
                "output_type": "stream",
                "text": [
                  "V3 DUSMASS25\n"
                ]
              },
              {
                "name": "stdout",
                "output_type": "stream",
                "text": [
                  "V3 OCSMASS\n",
                  "Skipping OCSMASS because the subset is empty.\n",
                  "V3 SO2SMASS\n"
                ]
              },
              {
                "name": "stdout",
                "output_type": "stream",
                "text": [
                  "V3 SO4SMASS\n",
                  "Skipping SO4SMASS because the subset is empty.\n",
                  "V3 SSSMASS25\n"
                ]
              },
              {
                "name": "stdout",
                "output_type": "stream",
                "text": [
                  "V3 Done\n"
                ]
              },
              {
                "name": "stdout",
                "output_type": "stream",
                "text": [
                  "V4 DUSMASS25\n"
                ]
              },
              {
                "name": "stdout",
                "output_type": "stream",
                "text": [
                  "V4 OCSMASS\n",
                  "Skipping OCSMASS because the subset is empty.\n",
                  "V4 SO2SMASS\n"
                ]
              },
              {
                "name": "stdout",
                "output_type": "stream",
                "text": [
                  "V4 SSSMASS25\n"
                ]
              },
              {
                "name": "stdout",
                "output_type": "stream",
                "text": [
                  "V4 wSO4\n"
                ]
              },
              {
                "name": "stdout",
                "output_type": "stream",
                "text": [
                  "V4 Done\n"
                ]
              },
              {
                "name": "stdout",
                "output_type": "stream",
                "text": [
                  "V5 CARBON\n",
                  "Skipping CARBON because the subset is empty.\n",
                  "V5 DUSMASS25\n"
                ]
              },
              {
                "name": "stdout",
                "output_type": "stream",
                "text": [
                  "V5 SSSMASS25\n"
                ]
              },
              {
                "name": "stdout",
                "output_type": "stream",
                "text": [
                  "V5 Sulfate\n"
                ]
              },
              {
                "name": "stdout",
                "output_type": "stream",
                "text": [
                  "V5 Done\n",
                  "[15.0, 19.0, 23.0]\n",
                  "Empty DataFrame\n",
                  "Columns: [PS, QV10M, Q500, T10M, T500, T850, WIND, BCSMASS, DUSMASS25, OCSMASS, SO2SMASS, SO4SMASS, SSSMASS25, TOTEXTTAU, SED, SZA, time, lat, lon, MERRA2, V1, V2_DS, V2, lat_lon, closest_lat_lon, lat_cats, lon_cats, V3_DS, lat_lon_cats, V3, lat_cats, lon_cats, V4_DS, lat_lon_cats, V4, lat_cats, lon_cats, V5_DS, lat_lon_cats, V5, Region]\n",
                  "Index: []\n",
                  "\n",
                  "[0 rows x 41 columns]\n"
                ]
              },
              {
                "name": "stdout",
                "output_type": "stream",
                "text": [
                  "V6 Done\n"
                ]
              },
              {
                "name": "stdout",
                "output_type": "stream",
                "text": [
                  "V7 Done\n"
                ]
              },
              {
                "name": "stdout",
                "output_type": "stream",
                "text": [
                  "V8 Done\n"
                ]
              },
              {
                "name": "stdout",
                "output_type": "stream",
                "text": [
                  "Data available for time: 14:30 UTC\n"
                ]
              },
              {
                "name": "stdout",
                "output_type": "stream",
                "text": [
                  "                 PS      QV10M      Q500        T10M        T500        T850  \\\n",
                  "0     101036.679688  18.793331  0.271202  303.248230  267.016937  296.674042   \n",
                  "1     100868.679688  19.281612  0.262619  304.826355  267.056000  297.103729   \n",
                  "2     100692.679688  19.571529  0.397803  305.091980  267.048187  297.205292   \n",
                  "3     100588.679688  19.571529  0.761987  303.857605  266.735687  297.103729   \n",
                  "4     100548.679688  19.556271  1.584531  303.091980  266.454437  296.791229   \n",
                  "...             ...        ...       ...         ...         ...         ...   \n",
                  "6746   52700.679688   2.138364  2.052308  267.025574  264.036469  267.025574   \n",
                  "6747   52028.679688   2.101171  2.061845  266.841980  264.731781  266.841980   \n",
                  "6748   53660.679688   2.150762  1.980783  268.652527  265.540375  268.652527   \n",
                  "6749   54564.679688   2.121198  1.873494  269.261902  266.415375  269.261902   \n",
                  "6750   53084.679688   1.993405  1.795770  268.759949  266.938812  268.759949   \n",
                  "\n",
                  "          WIND   BCSMASS  DUSMASS25   OCSMASS  SO2SMASS  SO4SMASS  SSSMASS25  \\\n",
                  "0     5.145368  0.178153   7.756171  1.080977  0.668024  0.738994  19.965227   \n",
                  "1     4.416451  0.169684   8.792994  1.334272  0.652562  0.628491  12.045348   \n",
                  "2     3.681269  0.174800   5.507900  1.637588  0.856289  0.547091   7.828930   \n",
                  "3     3.118549  0.197025   2.107299  1.933629  1.156422  0.507300   7.592462   \n",
                  "4     2.765798  0.207712   3.333298  2.411114  0.975433  0.447046   6.100891   \n",
                  "...        ...       ...        ...       ...       ...       ...        ...   \n",
                  "6746  5.317177  0.052657   1.316494  0.181032  0.065171  0.404527   0.030866   \n",
                  "6747  6.689992  0.048721   1.259650  0.165003  0.055522  0.371899   0.026169   \n",
                  "6748  5.573979  0.048337   1.240096  0.165344  0.072959  0.359621   0.025025   \n",
                  "6749  5.015121  0.045822   1.180979  0.156362  0.149441  0.353141   0.023689   \n",
                  "6750  6.159410  0.041445   1.060016  0.140446  0.236355  0.325515   0.021103   \n",
                  "\n",
                  "      TOTEXTTAU      SED         SZA        time    lat      lon     MERRA2  \n",
                  "0      0.243991  1.00142  162.735995  2023-09-30  13.75 -17.0625  29.996646  \n",
                  "1      0.194125  1.00142  163.236683  2023-09-30  13.75 -16.4375  23.206472  \n",
                  "2      0.162081  1.00142  163.729407  2023-09-30  13.75 -15.8125  15.901468  \n",
                  "3      0.185336  1.00142  164.213421  2023-09-30  13.75 -15.1875  12.527953  \n",
                  "4      0.233859  1.00142  164.687897  2023-09-30  13.75 -14.5625  12.667703  \n",
                  "...         ...      ...         ...         ...    ...      ...        ...  \n",
                  "6746   0.026850  1.00142   99.820376  2023-09-30  34.75  77.9375   2.137275  \n",
                  "6747   0.024775  1.00142   99.307157  2023-09-30  34.75  78.5625   2.010904  \n",
                  "6748   0.024142  1.00142   98.793836  2023-09-30  34.75  79.1875   1.973281  \n",
                  "6749   0.024478  1.00142   98.280434  2023-09-30  34.75  79.8125   1.892421  \n",
                  "6750   0.024394  1.00142   97.766971  2023-09-30  34.75  80.4375   1.710594  \n",
                  "\n",
                  "[6751 rows x 20 columns]\n",
                  "21.5040469566981\n"
                ]
              },
              {
                "name": "stdout",
                "output_type": "stream",
                "text": [
                  "14/14 - 0s - 271ms/epoch - 19ms/step\n"
                ]
              },
              {
                "name": "stdout",
                "output_type": "stream",
                "text": [
                  "V1 Done\n",
                  "V2 DUSMASS25\n"
                ]
              },
              {
                "name": "stdout",
                "output_type": "stream",
                "text": [
                  "V2 OCSMASS\n"
                ]
              },
              {
                "name": "stdout",
                "output_type": "stream",
                "text": [
                  "V2 SO2SMASS\n"
                ]
              },
              {
                "name": "stdout",
                "output_type": "stream",
                "text": [
                  "V2 SO4SMASS\n"
                ]
              },
              {
                "name": "stdout",
                "output_type": "stream",
                "text": [
                  "V2 SSSMASS25\n"
                ]
              },
              {
                "name": "stdout",
                "output_type": "stream",
                "text": [
                  "V2 Done\n"
                ]
              },
              {
                "name": "stdout",
                "output_type": "stream",
                "text": [
                  "V3 DUSMASS25\n"
                ]
              },
              {
                "name": "stdout",
                "output_type": "stream",
                "text": [
                  "V3 OCSMASS\n",
                  "Skipping OCSMASS because the subset is empty.\n",
                  "V3 SO2SMASS\n"
                ]
              },
              {
                "name": "stdout",
                "output_type": "stream",
                "text": [
                  "V3 SO4SMASS\n",
                  "Skipping SO4SMASS because the subset is empty.\n",
                  "V3 SSSMASS25\n"
                ]
              },
              {
                "name": "stdout",
                "output_type": "stream",
                "text": [
                  "V3 Done\n"
                ]
              },
              {
                "name": "stdout",
                "output_type": "stream",
                "text": [
                  "V4 DUSMASS25\n"
                ]
              },
              {
                "name": "stdout",
                "output_type": "stream",
                "text": [
                  "V4 OCSMASS\n",
                  "Skipping OCSMASS because the subset is empty.\n",
                  "V4 SO2SMASS\n"
                ]
              },
              {
                "name": "stdout",
                "output_type": "stream",
                "text": [
                  "V4 SSSMASS25\n"
                ]
              },
              {
                "name": "stdout",
                "output_type": "stream",
                "text": [
                  "V4 wSO4\n"
                ]
              },
              {
                "name": "stdout",
                "output_type": "stream",
                "text": [
                  "V4 Done\n"
                ]
              },
              {
                "name": "stdout",
                "output_type": "stream",
                "text": [
                  "V5 CARBON\n",
                  "Skipping CARBON because the subset is empty.\n",
                  "V5 DUSMASS25\n"
                ]
              },
              {
                "name": "stdout",
                "output_type": "stream",
                "text": [
                  "V5 SSSMASS25\n"
                ]
              },
              {
                "name": "stdout",
                "output_type": "stream",
                "text": [
                  "V5 Sulfate\n"
                ]
              },
              {
                "name": "stdout",
                "output_type": "stream",
                "text": [
                  "V5 Done\n",
                  "[15.0, 19.0, 23.0]\n",
                  "Empty DataFrame\n",
                  "Columns: [PS, QV10M, Q500, T10M, T500, T850, WIND, BCSMASS, DUSMASS25, OCSMASS, SO2SMASS, SO4SMASS, SSSMASS25, TOTEXTTAU, SED, SZA, time, lat, lon, MERRA2, V1, V2_DS, V2, lat_lon, closest_lat_lon, lat_cats, lon_cats, V3_DS, lat_lon_cats, V3, lat_cats, lon_cats, V4_DS, lat_lon_cats, V4, lat_cats, lon_cats, V5_DS, lat_lon_cats, V5, Region]\n",
                  "Index: []\n",
                  "\n",
                  "[0 rows x 41 columns]\n"
                ]
              },
              {
                "name": "stdout",
                "output_type": "stream",
                "text": [
                  "V6 Done\n"
                ]
              },
              {
                "name": "stdout",
                "output_type": "stream",
                "text": [
                  "V7 Done\n"
                ]
              },
              {
                "name": "stdout",
                "output_type": "stream",
                "text": [
                  "V8 Done\n"
                ]
              },
              {
                "name": "stdout",
                "output_type": "stream",
                "text": [
                  "Data available for time: 15:30 UTC\n"
                ]
              },
              {
                "name": "stdout",
                "output_type": "stream",
                "text": [
                  "                 PS      QV10M      Q500        T10M        T500        T850  \\\n",
                  "0     100998.835938  18.846567  0.246768  303.119720  267.073181  296.750305   \n",
                  "1     100830.835938  19.273813  0.402693  304.666595  267.112244  297.125305   \n",
                  "2     100646.835938  19.716318  0.665431  305.072845  266.924744  297.078430   \n",
                  "3     100550.835938  19.685801  1.173501  304.041595  266.479431  296.976868   \n",
                  "4     100518.835938  19.754465  1.999859  302.994720  266.354431  296.695618   \n",
                  "...             ...        ...       ...         ...         ...         ...   \n",
                  "6746   52718.835938   2.221163  2.131467  266.600189  263.424744  266.600189   \n",
                  "6747   52046.835938   2.195414  2.141003  266.557220  264.186462  266.557220   \n",
                  "6748   53686.835938   2.268847  2.063756  268.568939  264.893494  268.568939   \n",
                  "6749   54598.835938   2.233561  1.961712  269.119720  265.737244  269.119720   \n",
                  "6750   53110.835938   2.084788  1.888756  268.463470  266.377869  268.463470   \n",
                  "\n",
                  "          WIND   BCSMASS  DUSMASS25   OCSMASS  SO2SMASS  SO4SMASS  SSSMASS25  \\\n",
                  "0     5.253663  0.173432  14.038960  0.997724  0.636192  0.835712  20.248989   \n",
                  "1     4.386829  0.160586  19.412254  1.172801  0.588898  0.762043  12.078090   \n",
                  "2     3.359591  0.157118  18.022547  1.380621  0.749651  0.708610   7.719791   \n",
                  "3     2.699834  0.182243   9.884388  1.729867  1.036369  0.618570   7.206836   \n",
                  "4     2.514618  0.204014   4.483809  2.348323  0.964064  0.475552   6.100891   \n",
                  "...        ...       ...        ...       ...       ...       ...        ...   \n",
                  "6746  5.182057  0.054956   1.480203  0.190149  0.059487  0.417685   0.033126   \n",
                  "6747  6.868788  0.051006   1.416993  0.173949  0.045247  0.393584   0.029289   \n",
                  "6748  5.804302  0.051148   1.431090  0.176507  0.069633  0.383238   0.028869   \n",
                  "6749  5.061528  0.048803   1.367425  0.168492  0.156206  0.373916   0.027256   \n",
                  "6750  6.177170  0.044184   1.230092  0.151666  0.254204  0.346745   0.024521   \n",
                  "\n",
                  "      TOTEXTTAU      SED         SZA        time    lat      lon     MERRA2  \n",
                  "0      0.287816  1.00142  162.735995  2023-09-30  13.75 -17.0625  36.608210  \n",
                  "1      0.286962  1.00142  163.236683  2023-09-30  13.75 -16.4375  33.871540  \n",
                  "2      0.271337  1.00142  163.729407  2023-09-30  13.75 -15.8125  28.254416  \n",
                  "3      0.257909  1.00142  164.213421  2023-09-30  13.75 -15.1875  19.853868  \n",
                  "4      0.260350  1.00142  164.687897  2023-09-30  13.75 -14.5625  13.790921  \n",
                  "...         ...      ...         ...         ...    ...      ...        ...  \n",
                  "6746   0.026929  1.00142   99.820376  2023-09-30  34.75  77.9375   2.332751  \n",
                  "6747   0.026097  1.00142   99.307157  2023-09-30  34.75  78.5625   2.212414  \n",
                  "6748   0.025945  1.00142   98.793836  2023-09-30  34.75  79.1875   2.214566  \n",
                  "6749   0.026364  1.00142   98.280434  2023-09-30  34.75  79.8125   2.126111  \n",
                  "6750   0.026113  1.00142   97.766971  2023-09-30  34.75  80.4375   1.927237  \n",
                  "\n",
                  "[6751 rows x 20 columns]\n",
                  "21.839042894045512\n"
                ]
              },
              {
                "name": "stdout",
                "output_type": "stream",
                "text": [
                  "14/14 - 0s - 256ms/epoch - 18ms/step\n"
                ]
              },
              {
                "name": "stdout",
                "output_type": "stream",
                "text": [
                  "V1 Done\n",
                  "V2 DUSMASS25\n"
                ]
              },
              {
                "name": "stdout",
                "output_type": "stream",
                "text": [
                  "V2 OCSMASS\n"
                ]
              },
              {
                "name": "stdout",
                "output_type": "stream",
                "text": [
                  "V2 SO2SMASS\n"
                ]
              },
              {
                "name": "stdout",
                "output_type": "stream",
                "text": [
                  "V2 SO4SMASS\n"
                ]
              },
              {
                "name": "stdout",
                "output_type": "stream",
                "text": [
                  "V2 SSSMASS25\n"
                ]
              },
              {
                "name": "stdout",
                "output_type": "stream",
                "text": [
                  "V2 Done\n"
                ]
              },
              {
                "name": "stdout",
                "output_type": "stream",
                "text": [
                  "V3 DUSMASS25\n"
                ]
              },
              {
                "name": "stdout",
                "output_type": "stream",
                "text": [
                  "V3 OCSMASS\n",
                  "Skipping OCSMASS because the subset is empty.\n",
                  "V3 SO2SMASS\n"
                ]
              },
              {
                "name": "stdout",
                "output_type": "stream",
                "text": [
                  "V3 SO4SMASS\n",
                  "Skipping SO4SMASS because the subset is empty.\n",
                  "V3 SSSMASS25\n"
                ]
              },
              {
                "name": "stdout",
                "output_type": "stream",
                "text": [
                  "V3 Done\n"
                ]
              },
              {
                "name": "stdout",
                "output_type": "stream",
                "text": [
                  "V4 DUSMASS25\n"
                ]
              },
              {
                "name": "stdout",
                "output_type": "stream",
                "text": [
                  "V4 OCSMASS\n",
                  "Skipping OCSMASS because the subset is empty.\n",
                  "V4 SO2SMASS\n"
                ]
              },
              {
                "name": "stdout",
                "output_type": "stream",
                "text": [
                  "V4 SSSMASS25\n"
                ]
              },
              {
                "name": "stdout",
                "output_type": "stream",
                "text": [
                  "V4 wSO4\n"
                ]
              },
              {
                "name": "stdout",
                "output_type": "stream",
                "text": [
                  "V4 Done\n"
                ]
              },
              {
                "name": "stdout",
                "output_type": "stream",
                "text": [
                  "V5 CARBON\n",
                  "Skipping CARBON because the subset is empty.\n",
                  "V5 DUSMASS25\n"
                ]
              },
              {
                "name": "stdout",
                "output_type": "stream",
                "text": [
                  "V5 SSSMASS25\n"
                ]
              },
              {
                "name": "stdout",
                "output_type": "stream",
                "text": [
                  "V5 Sulfate\n"
                ]
              },
              {
                "name": "stdout",
                "output_type": "stream",
                "text": [
                  "V5 Done\n",
                  "[15.0, 19.0, 23.0]\n",
                  "Empty DataFrame\n",
                  "Columns: [PS, QV10M, Q500, T10M, T500, T850, WIND, BCSMASS, DUSMASS25, OCSMASS, SO2SMASS, SO4SMASS, SSSMASS25, TOTEXTTAU, SED, SZA, time, lat, lon, MERRA2, V1, V2_DS, V2, lat_lon, closest_lat_lon, lat_cats, lon_cats, V3_DS, lat_lon_cats, V3, lat_cats, lon_cats, V4_DS, lat_lon_cats, V4, lat_cats, lon_cats, V5_DS, lat_lon_cats, V5, Region]\n",
                  "Index: []\n",
                  "\n",
                  "[0 rows x 41 columns]\n"
                ]
              },
              {
                "name": "stdout",
                "output_type": "stream",
                "text": [
                  "V6 Done\n"
                ]
              },
              {
                "name": "stdout",
                "output_type": "stream",
                "text": [
                  "V7 Done\n"
                ]
              },
              {
                "name": "stdout",
                "output_type": "stream",
                "text": [
                  "V8 Done\n"
                ]
              },
              {
                "name": "stdout",
                "output_type": "stream",
                "text": [
                  "Data available for time: 16:30 UTC\n"
                ]
              },
              {
                "name": "stdout",
                "output_type": "stream",
                "text": [
                  "                 PS      QV10M      Q500        T10M        T500        T850  \\\n",
                  "0     100983.851562  18.876968  0.311622  302.944122  267.087433  296.829529   \n",
                  "1     100815.851562  19.266068  0.614175  304.256622  267.079620  297.040466   \n",
                  "2     100639.851562  19.853531  1.080522  304.819122  266.735870  296.899841   \n",
                  "3     100527.851562  19.807755  1.761922  304.037872  266.321808  296.907654   \n",
                  "4     100503.851562  19.891678  2.408990  302.881622  266.353058  296.688904   \n",
                  "...             ...        ...       ...         ...         ...         ...   \n",
                  "6746   52719.851562   2.245841  2.102860  266.108185  262.927277  266.108185   \n",
                  "6747   52039.851562   2.198157  2.122888  266.149200  263.692902  266.149200   \n",
                  "6748   53679.851562   2.312598  2.069482  268.371857  264.349152  268.371857   \n",
                  "6749   54599.851562   2.335486  1.998910  268.901154  265.103058  268.901154   \n",
                  "6750   53111.851562   2.180037  1.960763  268.149200  265.782745  268.149200   \n",
                  "\n",
                  "          WIND   BCSMASS  DUSMASS25   OCSMASS  SO2SMASS  SO4SMASS  SSSMASS25  \\\n",
                  "0     5.223333  0.171616  12.565578  0.992733  0.629825  0.832906  20.576408   \n",
                  "1     4.319585  0.162862  18.939318  1.186001  0.563205  0.758555  12.845703   \n",
                  "2     3.159684  0.157121  19.426807  1.406099  0.694627  0.713989   7.661583   \n",
                  "3     2.329174  0.176448  11.783413  1.693044  0.963155  0.637592   6.721166   \n",
                  "4     2.178540  0.201345   5.051333  2.319231  0.965883  0.492300   6.079062   \n",
                  "...        ...       ...        ...       ...       ...       ...        ...   \n",
                  "6746  4.852713  0.056636   1.598437  0.195618  0.054669  0.423861   0.034518   \n",
                  "6747  6.727355  0.052174   1.526132  0.179418  0.035001  0.409877   0.031307   \n",
                  "6748  5.718300  0.052955   1.597527  0.184420  0.061789  0.407944   0.032216   \n",
                  "6749  4.768221  0.051406   1.554326  0.179304  0.158536  0.398963   0.031022   \n",
                  "6750  5.941694  0.046973   1.428816  0.163274  0.260570  0.372133   0.028159   \n",
                  "\n",
                  "      TOTEXTTAU      SED         SZA        time    lat      lon     MERRA2  \n",
                  "0      0.285703  1.00142  162.735995  2023-09-30  13.75 -17.0625  35.451582  \n",
                  "1      0.306943  1.00142  163.236683  2023-09-30  13.75 -16.4375  34.176896  \n",
                  "2      0.291318  1.00142  163.729407  2023-09-30  13.75 -15.8125  29.633345  \n",
                  "3      0.270810  1.00142  164.213421  2023-09-30  13.75 -15.1875  21.250760  \n",
                  "4      0.268857  1.00142  164.687897  2023-09-30  13.75 -14.5625  14.327885  \n",
                  "...         ...      ...         ...         ...    ...      ...        ...  \n",
                  "6746   0.026235  1.00142   99.820376  2023-09-30  34.75  77.9375   2.468017  \n",
                  "6747   0.025685  1.00142   99.307157  2023-09-30  34.75  78.5625   2.352611  \n",
                  "6748   0.026006  1.00142   98.793836  2023-09-30  34.75  79.1875   2.428042  \n",
                  "6749   0.027181  1.00142   98.280434  2023-09-30  34.75  79.8125   2.364633  \n",
                  "6750   0.027944  1.00142   97.766971  2023-09-30  34.75  80.4375   2.178904  \n",
                  "\n",
                  "[6751 rows x 20 columns]\n",
                  "22.149176319440205\n"
                ]
              },
              {
                "name": "stdout",
                "output_type": "stream",
                "text": [
                  "14/14 - 0s - 252ms/epoch - 18ms/step\n"
                ]
              },
              {
                "name": "stdout",
                "output_type": "stream",
                "text": [
                  "V1 Done\n",
                  "V2 DUSMASS25\n"
                ]
              },
              {
                "name": "stdout",
                "output_type": "stream",
                "text": [
                  "V2 OCSMASS\n"
                ]
              },
              {
                "name": "stdout",
                "output_type": "stream",
                "text": [
                  "V2 SO2SMASS\n"
                ]
              },
              {
                "name": "stdout",
                "output_type": "stream",
                "text": [
                  "V2 SO4SMASS\n"
                ]
              },
              {
                "name": "stdout",
                "output_type": "stream",
                "text": [
                  "V2 SSSMASS25\n"
                ]
              },
              {
                "name": "stdout",
                "output_type": "stream",
                "text": [
                  "V2 Done\n"
                ]
              },
              {
                "name": "stdout",
                "output_type": "stream",
                "text": [
                  "V3 DUSMASS25\n"
                ]
              },
              {
                "name": "stdout",
                "output_type": "stream",
                "text": [
                  "V3 OCSMASS\n",
                  "Skipping OCSMASS because the subset is empty.\n",
                  "V3 SO2SMASS\n"
                ]
              },
              {
                "name": "stdout",
                "output_type": "stream",
                "text": [
                  "V3 SO4SMASS\n",
                  "Skipping SO4SMASS because the subset is empty.\n",
                  "V3 SSSMASS25\n"
                ]
              },
              {
                "name": "stdout",
                "output_type": "stream",
                "text": [
                  "V3 Done\n"
                ]
              },
              {
                "name": "stdout",
                "output_type": "stream",
                "text": [
                  "V4 DUSMASS25\n"
                ]
              },
              {
                "name": "stdout",
                "output_type": "stream",
                "text": [
                  "V4 OCSMASS\n",
                  "Skipping OCSMASS because the subset is empty.\n",
                  "V4 SO2SMASS\n"
                ]
              },
              {
                "name": "stdout",
                "output_type": "stream",
                "text": [
                  "V4 SSSMASS25\n"
                ]
              },
              {
                "name": "stdout",
                "output_type": "stream",
                "text": [
                  "V4 wSO4\n"
                ]
              },
              {
                "name": "stdout",
                "output_type": "stream",
                "text": [
                  "V4 Done\n"
                ]
              },
              {
                "name": "stdout",
                "output_type": "stream",
                "text": [
                  "V5 CARBON\n",
                  "Skipping CARBON because the subset is empty.\n",
                  "V5 DUSMASS25\n"
                ]
              },
              {
                "name": "stdout",
                "output_type": "stream",
                "text": [
                  "V5 SSSMASS25\n"
                ]
              },
              {
                "name": "stdout",
                "output_type": "stream",
                "text": [
                  "V5 Sulfate\n"
                ]
              },
              {
                "name": "stdout",
                "output_type": "stream",
                "text": [
                  "V5 Done\n",
                  "[15.0, 19.0, 23.0]\n",
                  "Empty DataFrame\n",
                  "Columns: [PS, QV10M, Q500, T10M, T500, T850, WIND, BCSMASS, DUSMASS25, OCSMASS, SO2SMASS, SO4SMASS, SSSMASS25, TOTEXTTAU, SED, SZA, time, lat, lon, MERRA2, V1, V2_DS, V2, lat_lon, closest_lat_lon, lat_cats, lon_cats, V3_DS, lat_lon_cats, V3, lat_cats, lon_cats, V4_DS, lat_lon_cats, V4, lat_cats, lon_cats, V5_DS, lat_lon_cats, V5, Region]\n",
                  "Index: []\n",
                  "\n",
                  "[0 rows x 41 columns]\n"
                ]
              },
              {
                "name": "stdout",
                "output_type": "stream",
                "text": [
                  "V6 Done\n"
                ]
              },
              {
                "name": "stdout",
                "output_type": "stream",
                "text": [
                  "V7 Done\n"
                ]
              },
              {
                "name": "stdout",
                "output_type": "stream",
                "text": [
                  "V8 Done\n"
                ]
              },
              {
                "name": "stdout",
                "output_type": "stream",
                "text": [
                  "Data available for time: 17:30 UTC\n"
                ]
              },
              {
                "name": "stdout",
                "output_type": "stream",
                "text": [
                  "                PS      QV10M      Q500        T10M        T500        T850  \\\n",
                  "0     100998.65625  18.922647  0.441932  302.676483  267.120087  296.926849   \n",
                  "1     100846.65625  19.456705  0.925087  303.442108  266.948212  296.919037   \n",
                  "2     100662.65625  20.364603  1.623177  304.160858  266.541962  296.708099   \n",
                  "3     100542.65625  20.219645  2.323174  303.676483  266.315399  296.801849   \n",
                  "4     100510.65625  20.097574  2.687477  302.582733  266.479462  296.708099   \n",
                  "...            ...        ...       ...         ...         ...         ...   \n",
                  "6746   52694.65625   2.265771  2.105736  265.498749  262.495087  265.498749   \n",
                  "6747   52022.65625   2.152284  2.069496  265.717499  263.299774  265.717499   \n",
                  "6748   53662.65625   2.299150  2.044701  268.033905  263.881805  268.033905   \n",
                  "6749   54582.65625   2.391656  2.012276  268.592499  264.538055  268.592499   \n",
                  "6750   53094.65625   2.249558  2.012276  267.731171  265.198212  267.731171   \n",
                  "\n",
                  "          WIND   BCSMASS  DUSMASS25   OCSMASS  SO2SMASS  SO4SMASS  SSSMASS25  \\\n",
                  "0     4.845825  0.172698  11.612429  0.994565  0.651198  0.839945  20.729204   \n",
                  "1     3.893554  0.170766  17.622370  1.226031  0.570481  0.767413  14.351827   \n",
                  "2     2.740919  0.162296  19.965227  1.471140  0.658929  0.720346   8.225471   \n",
                  "3     1.871992  0.172869  13.409590  1.683962  0.910632  0.654635   6.502887   \n",
                  "4     1.692002  0.198392   5.820766  2.295597  0.965429  0.509344   6.068149   \n",
                  "...        ...       ...        ...       ...       ...       ...        ...   \n",
                  "6746  4.265614  0.058074   1.698027  0.200974  0.049084  0.438517   0.036138   \n",
                  "6747  6.368785  0.052887   1.597982  0.182386  0.029090  0.423283   0.032756   \n",
                  "6748  5.386841  0.054009   1.712579  0.188866  0.054229  0.430900   0.034532   \n",
                  "6749  4.417829  0.053256   1.711669  0.187104  0.148418  0.425897   0.034234   \n",
                  "6750  5.439856  0.049462   1.602075  0.173973  0.261480  0.400659   0.031633   \n",
                  "\n",
                  "      TOTEXTTAU      SED         SZA        time    lat      lon     MERRA2  \n",
                  "0      0.293256  1.00142  162.735995  2023-09-30  13.75 -17.0625  34.663819  \n",
                  "1      0.331220  1.00142  163.236683  2023-09-30  13.75 -16.4375  34.426185  \n",
                  "2      0.314740  1.00142  163.729407  2023-09-30  13.75 -15.8125  30.814610  \n",
                  "3      0.281293  1.00142  164.213421  2023-09-30  13.75 -15.1875  22.669431  \n",
                  "4      0.272748  1.00142  164.687897  2023-09-30  13.75 -14.5625  15.083251  \n",
                  "...         ...      ...         ...         ...    ...      ...        ...  \n",
                  "6746   0.025556  1.00142   99.820376  2023-09-30  34.75  77.9375   2.596173  \n",
                  "6747   0.024617  1.00142   99.307157  2023-09-30  34.75  78.5625   2.448024  \n",
                  "6748   0.024968  1.00142   98.793836  2023-09-30  34.75  79.1875   2.582473  \n",
                  "6749   0.026944  1.00142   98.280434  2023-09-30  34.75  79.8125   2.571872  \n",
                  "6750   0.027707  1.00142   97.766971  2023-09-30  34.75  80.4375   2.408049  \n",
                  "\n",
                  "[6751 rows x 20 columns]\n",
                  "22.491569900512694\n"
                ]
              },
              {
                "name": "stdout",
                "output_type": "stream",
                "text": [
                  "14/14 - 0s - 385ms/epoch - 27ms/step\n"
                ]
              },
              {
                "name": "stdout",
                "output_type": "stream",
                "text": [
                  "V1 Done\n",
                  "V2 DUSMASS25\n"
                ]
              },
              {
                "name": "stdout",
                "output_type": "stream",
                "text": [
                  "V2 OCSMASS\n"
                ]
              },
              {
                "name": "stdout",
                "output_type": "stream",
                "text": [
                  "V2 SO2SMASS\n"
                ]
              },
              {
                "name": "stdout",
                "output_type": "stream",
                "text": [
                  "V2 SO4SMASS\n"
                ]
              },
              {
                "name": "stdout",
                "output_type": "stream",
                "text": [
                  "V2 SSSMASS25\n"
                ]
              },
              {
                "name": "stdout",
                "output_type": "stream",
                "text": [
                  "V2 Done\n"
                ]
              },
              {
                "name": "stdout",
                "output_type": "stream",
                "text": [
                  "V3 DUSMASS25\n"
                ]
              },
              {
                "name": "stdout",
                "output_type": "stream",
                "text": [
                  "V3 OCSMASS\n",
                  "Skipping OCSMASS because the subset is empty.\n",
                  "V3 SO2SMASS\n"
                ]
              },
              {
                "name": "stdout",
                "output_type": "stream",
                "text": [
                  "V3 SO4SMASS\n",
                  "Skipping SO4SMASS because the subset is empty.\n",
                  "V3 SSSMASS25\n"
                ]
              },
              {
                "name": "stdout",
                "output_type": "stream",
                "text": [
                  "V3 Done\n"
                ]
              },
              {
                "name": "stdout",
                "output_type": "stream",
                "text": [
                  "V4 DUSMASS25\n"
                ]
              },
              {
                "name": "stdout",
                "output_type": "stream",
                "text": [
                  "V4 OCSMASS\n",
                  "Skipping OCSMASS because the subset is empty.\n",
                  "V4 SO2SMASS\n"
                ]
              },
              {
                "name": "stdout",
                "output_type": "stream",
                "text": [
                  "V4 SSSMASS25\n"
                ]
              },
              {
                "name": "stdout",
                "output_type": "stream",
                "text": [
                  "V4 wSO4\n"
                ]
              },
              {
                "name": "stdout",
                "output_type": "stream",
                "text": [
                  "V4 Done\n"
                ]
              },
              {
                "name": "stdout",
                "output_type": "stream",
                "text": [
                  "V5 CARBON\n",
                  "Skipping CARBON because the subset is empty.\n",
                  "V5 DUSMASS25\n"
                ]
              },
              {
                "name": "stdout",
                "output_type": "stream",
                "text": [
                  "V5 SSSMASS25\n"
                ]
              },
              {
                "name": "stdout",
                "output_type": "stream",
                "text": [
                  "V5 Sulfate\n"
                ]
              },
              {
                "name": "stdout",
                "output_type": "stream",
                "text": [
                  "V5 Done\n",
                  "[15.0, 19.0, 23.0]\n",
                  "Empty DataFrame\n",
                  "Columns: [PS, QV10M, Q500, T10M, T500, T850, WIND, BCSMASS, DUSMASS25, OCSMASS, SO2SMASS, SO4SMASS, SSSMASS25, TOTEXTTAU, SED, SZA, time, lat, lon, MERRA2, V1, V2_DS, V2, lat_lon, closest_lat_lon, lat_cats, lon_cats, V3_DS, lat_lon_cats, V3, lat_cats, lon_cats, V4_DS, lat_lon_cats, V4, lat_cats, lon_cats, V5_DS, lat_lon_cats, V5, Region]\n",
                  "Index: []\n",
                  "\n",
                  "[0 rows x 41 columns]\n"
                ]
              },
              {
                "name": "stdout",
                "output_type": "stream",
                "text": [
                  "V6 Done\n"
                ]
              },
              {
                "name": "stdout",
                "output_type": "stream",
                "text": [
                  "V7 Done\n"
                ]
              },
              {
                "name": "stdout",
                "output_type": "stream",
                "text": [
                  "V8 Done\n"
                ]
              },
              {
                "name": "stdout",
                "output_type": "stream",
                "text": [
                  "Data available for time: 18:30 UTC\n"
                ]
              },
              {
                "name": "stdout",
                "output_type": "stream",
                "text": [
                  "                 PS      QV10M      Q500        T10M        T500        T850  \\\n",
                  "0     101030.664062  19.136160  0.658289  302.266571  267.135590  297.037415   \n",
                  "1     100902.664062  20.028799  1.390472  302.094696  266.729340  296.896790   \n",
                  "2     100710.664062  20.883291  2.226844  302.782196  266.369965  296.576477   \n",
                  "3     100582.664062  20.578115  2.685562  302.813446  266.369965  296.646790   \n",
                  "4     100542.664062  20.257681  2.682701  301.954071  266.682465  296.709290   \n",
                  "...             ...        ...       ...         ...         ...         ...   \n",
                  "6746   52670.664062   2.354354  2.181068  264.768524  262.112152  264.768524   \n",
                  "6747   51998.664062   2.122611  2.037063  265.102509  262.916840  265.102509   \n",
                  "6748   53646.664062   2.274245  2.018943  267.702118  263.459808  267.702118   \n",
                  "6749   54566.664062   2.407759  2.033248  268.360321  264.026215  268.360321   \n",
                  "6750   53070.664062   2.292365  2.051368  267.420868  264.635590  267.420868   \n",
                  "\n",
                  "          WIND   BCSMASS  DUSMASS25   OCSMASS  SO2SMASS  SO4SMASS  SSSMASS25  \\\n",
                  "0     4.082996  0.180593  11.063093  1.030916  0.701448  0.853984  20.656445   \n",
                  "1     2.891774  0.192075  15.890692  1.363791  0.610953  0.781680  16.196281   \n",
                  "2     2.341425  0.176443  19.994331  1.640733  0.648470  0.729384   9.276846   \n",
                  "3     1.713376  0.174397  14.890247  1.793073  0.867885  0.669812   6.453774   \n",
                  "4     1.410310  0.198441   6.710252  2.372876  0.964064  0.525657   6.049959   \n",
                  "...        ...       ...        ...       ...       ...       ...        ...   \n",
                  "6746  3.462397  0.060056   1.792614  0.208449  0.042562  0.461196   0.038014   \n",
                  "6747  5.585120  0.053846   1.648914  0.185427  0.025970  0.435162   0.033708   \n",
                  "6748  5.169502  0.054827   1.768058  0.191510  0.049340  0.448691   0.035683   \n",
                  "6749  4.227658  0.054542   1.823082  0.192476  0.131308  0.451760   0.036607   \n",
                  "6750  5.112352  0.051345   1.736680  0.181732  0.241812  0.427772   0.034547   \n",
                  "\n",
                  "      TOTEXTTAU      SED         SZA        time    lat      lon     MERRA2  \n",
                  "0      0.306013  1.00142  162.735995  2023-09-30  13.75 -17.0625  34.105275  \n",
                  "1      0.345441  1.00142  163.236683  2023-09-30  13.75 -16.4375  34.717649  \n",
                  "2      0.333234  1.00142  163.729407  2023-09-30  13.75 -15.8125  32.091256  \n",
                  "3      0.292707  1.00142  164.213421  2023-09-30  13.75 -15.1875  24.232482  \n",
                  "4      0.276227  1.00142  164.687897  2023-09-30  13.75 -14.5625  16.054306  \n",
                  "...         ...      ...         ...         ...    ...      ...        ...  \n",
                  "6746   0.025510  1.00142   99.820376  2023-09-30  34.75  77.9375   2.733278  \n",
                  "6747   0.023473  1.00142   99.307157  2023-09-30  34.75  78.5625   2.520243  \n",
                  "6748   0.024618  1.00142   98.793836  2023-09-30  34.75  79.1875   2.667027  \n",
                  "6749   0.026884  1.00142   98.280434  2023-09-30  34.75  79.8125   2.727878  \n",
                  "6750   0.028104  1.00142   97.766971  2023-09-30  34.75  80.4375   2.592491  \n",
                  "\n",
                  "[6751 rows x 20 columns]\n",
                  "22.80935123761495\n"
                ]
              },
              {
                "name": "stdout",
                "output_type": "stream",
                "text": [
                  "14/14 - 0s - 254ms/epoch - 18ms/step\n"
                ]
              },
              {
                "name": "stdout",
                "output_type": "stream",
                "text": [
                  "V1 Done\n",
                  "V2 DUSMASS25\n"
                ]
              },
              {
                "name": "stdout",
                "output_type": "stream",
                "text": [
                  "V2 OCSMASS\n"
                ]
              },
              {
                "name": "stdout",
                "output_type": "stream",
                "text": [
                  "V2 SO2SMASS\n"
                ]
              },
              {
                "name": "stdout",
                "output_type": "stream",
                "text": [
                  "V2 SO4SMASS\n"
                ]
              },
              {
                "name": "stdout",
                "output_type": "stream",
                "text": [
                  "V2 SSSMASS25\n"
                ]
              },
              {
                "name": "stdout",
                "output_type": "stream",
                "text": [
                  "V2 Done\n"
                ]
              },
              {
                "name": "stdout",
                "output_type": "stream",
                "text": [
                  "V3 DUSMASS25\n"
                ]
              },
              {
                "name": "stdout",
                "output_type": "stream",
                "text": [
                  "V3 OCSMASS\n",
                  "Skipping OCSMASS because the subset is empty.\n",
                  "V3 SO2SMASS\n"
                ]
              },
              {
                "name": "stdout",
                "output_type": "stream",
                "text": [
                  "V3 SO4SMASS\n",
                  "Skipping SO4SMASS because the subset is empty.\n",
                  "V3 SSSMASS25\n"
                ]
              },
              {
                "name": "stdout",
                "output_type": "stream",
                "text": [
                  "V3 Done\n"
                ]
              },
              {
                "name": "stdout",
                "output_type": "stream",
                "text": [
                  "V4 DUSMASS25\n"
                ]
              },
              {
                "name": "stdout",
                "output_type": "stream",
                "text": [
                  "V4 OCSMASS\n",
                  "Skipping OCSMASS because the subset is empty.\n",
                  "V4 SO2SMASS\n"
                ]
              },
              {
                "name": "stdout",
                "output_type": "stream",
                "text": [
                  "V4 SSSMASS25\n"
                ]
              },
              {
                "name": "stdout",
                "output_type": "stream",
                "text": [
                  "V4 wSO4\n"
                ]
              },
              {
                "name": "stdout",
                "output_type": "stream",
                "text": [
                  "V4 Done\n"
                ]
              },
              {
                "name": "stdout",
                "output_type": "stream",
                "text": [
                  "V5 CARBON\n",
                  "Skipping CARBON because the subset is empty.\n",
                  "V5 DUSMASS25\n"
                ]
              },
              {
                "name": "stdout",
                "output_type": "stream",
                "text": [
                  "V5 SSSMASS25\n"
                ]
              },
              {
                "name": "stdout",
                "output_type": "stream",
                "text": [
                  "V5 Sulfate\n"
                ]
              },
              {
                "name": "stdout",
                "output_type": "stream",
                "text": [
                  "V5 Done\n",
                  "[15.0, 19.0, 23.0]\n",
                  "Empty DataFrame\n",
                  "Columns: [PS, QV10M, Q500, T10M, T500, T850, WIND, BCSMASS, DUSMASS25, OCSMASS, SO2SMASS, SO4SMASS, SSSMASS25, TOTEXTTAU, SED, SZA, time, lat, lon, MERRA2, V1, V2_DS, V2, lat_lon, closest_lat_lon, lat_cats, lon_cats, V3_DS, lat_lon_cats, V3, lat_cats, lon_cats, V4_DS, lat_lon_cats, V4, lat_cats, lon_cats, V5_DS, lat_lon_cats, V5, Region]\n",
                  "Index: []\n",
                  "\n",
                  "[0 rows x 41 columns]\n"
                ]
              },
              {
                "name": "stdout",
                "output_type": "stream",
                "text": [
                  "V6 Done\n"
                ]
              },
              {
                "name": "stdout",
                "output_type": "stream",
                "text": [
                  "V7 Done\n"
                ]
              },
              {
                "name": "stdout",
                "output_type": "stream",
                "text": [
                  "V8 Done\n"
                ]
              },
              {
                "name": "stdout",
                "output_type": "stream",
                "text": [
                  "Data available for time: 19:30 UTC\n"
                ]
              },
              {
                "name": "stdout",
                "output_type": "stream",
                "text": [
                  "                 PS      QV10M      Q500        T10M        T500        T850  \\\n",
                  "0     101085.171875  19.220001  0.987535  301.810577  266.992615  297.116425   \n",
                  "1     100957.171875  19.723541  1.952177  300.794952  266.476990  297.030487   \n",
                  "2     100773.171875  20.326263  2.681738  301.326202  266.250427  296.600800   \n",
                  "3     100637.171875  19.982941  2.837187  301.919952  266.406677  296.507050   \n",
                  "4     100597.171875  19.601471  2.388006  301.373077  266.797302  296.647675   \n",
                  "...             ...        ...       ...         ...         ...         ...   \n",
                  "6746   52661.171875   2.434379  2.250677  264.296906  261.762146  264.296906   \n",
                  "6747   51981.171875   2.174026  2.094275  264.437531  262.500427  264.437531   \n",
                  "6748   53629.171875   2.253181  2.018934  267.390656  263.086365  267.390656   \n",
                  "6749   54549.171875   2.405769  2.036100  268.150421  263.605896  268.150421   \n",
                  "6750   53061.171875   2.319938  2.079969  267.126984  264.144958  267.126984   \n",
                  "\n",
                  "          WIND   BCSMASS  DUSMASS25   OCSMASS  SO2SMASS  SO4SMASS  SSSMASS25  \\\n",
                  "0     3.595632  0.191168  10.841177  1.084135  0.742148  0.862945  20.176231   \n",
                  "1     2.597909  0.221068  14.093530  1.549796  0.678256  0.797916  17.767889   \n",
                  "2     2.475092  0.204356  19.448635  1.968164  0.663931  0.740163  10.899384   \n",
                  "3     1.985085  0.186450  16.181730  2.100041  0.846740  0.688095   6.712071   \n",
                  "4     1.611184  0.204924   7.647031  2.603901  0.974524  0.547123   6.120899   \n",
                  "...        ...       ...        ...       ...       ...       ...        ...   \n",
                  "6746  3.272266  0.061252   1.876288  0.213465  0.036508  0.481867   0.039876   \n",
                  "6747  4.866101  0.055639   1.718945  0.190898  0.024201  0.450717   0.034902   \n",
                  "6748  5.044434  0.055468   1.788521  0.193058  0.046583  0.462313   0.036138   \n",
                  "6749  4.116502  0.055426   1.873559  0.195957  0.121133  0.472317   0.037900   \n",
                  "6750  4.913969  0.052797   1.825811  0.187601  0.212367  0.453331   0.036735   \n",
                  "\n",
                  "      TOTEXTTAU      SED         SZA        time    lat      lon     MERRA2  \n",
                  "0      0.316388  1.00142  162.735995  2023-09-30  13.75 -17.0625  33.479260  \n",
                  "1      0.346662  1.00142  163.236683  2023-09-30  13.75 -16.4375  34.729417  \n",
                  "2      0.345685  1.00142  163.729407  2023-09-30  13.75 -15.8125  33.538263  \n",
                  "3      0.305036  1.00142  164.213421  2023-09-30  13.75 -15.1875  26.126422  \n",
                  "4      0.279767  1.00142  164.687897  2023-09-30  13.75 -14.5625  17.329050  \n",
                  "...         ...      ...         ...         ...    ...      ...        ...  \n",
                  "6746   0.026838  1.00142   99.820376  2023-09-30  34.75  77.9375   2.853447  \n",
                  "6747   0.023694  1.00142   99.307157  2023-09-30  34.75  78.5625   2.620119  \n",
                  "6748   0.023961  1.00142   98.793836  2023-09-30  34.75  79.1875   2.708866  \n",
                  "6749   0.026555  1.00142   98.280434  2023-09-30  34.75  79.8125   2.812278  \n",
                  "6750   0.027860  1.00142   97.766971  2023-09-30  34.75  80.4375   2.726274  \n",
                  "\n",
                  "[6751 rows x 20 columns]\n",
                  "23.133954099814098\n"
                ]
              },
              {
                "name": "stdout",
                "output_type": "stream",
                "text": [
                  "14/14 - 0s - 257ms/epoch - 18ms/step\n"
                ]
              },
              {
                "name": "stdout",
                "output_type": "stream",
                "text": [
                  "V1 Done\n",
                  "V2 DUSMASS25\n"
                ]
              },
              {
                "name": "stdout",
                "output_type": "stream",
                "text": [
                  "V2 OCSMASS\n"
                ]
              },
              {
                "name": "stdout",
                "output_type": "stream",
                "text": [
                  "V2 SO2SMASS\n"
                ]
              },
              {
                "name": "stdout",
                "output_type": "stream",
                "text": [
                  "V2 SO4SMASS\n"
                ]
              },
              {
                "name": "stdout",
                "output_type": "stream",
                "text": [
                  "V2 SSSMASS25\n"
                ]
              },
              {
                "name": "stdout",
                "output_type": "stream",
                "text": [
                  "V2 Done\n"
                ]
              },
              {
                "name": "stdout",
                "output_type": "stream",
                "text": [
                  "V3 DUSMASS25\n"
                ]
              },
              {
                "name": "stdout",
                "output_type": "stream",
                "text": [
                  "V3 OCSMASS\n",
                  "Skipping OCSMASS because the subset is empty.\n",
                  "V3 SO2SMASS\n"
                ]
              },
              {
                "name": "stdout",
                "output_type": "stream",
                "text": [
                  "V3 SO4SMASS\n",
                  "Skipping SO4SMASS because the subset is empty.\n",
                  "V3 SSSMASS25\n"
                ]
              },
              {
                "name": "stdout",
                "output_type": "stream",
                "text": [
                  "V3 Done\n"
                ]
              },
              {
                "name": "stdout",
                "output_type": "stream",
                "text": [
                  "V4 DUSMASS25\n"
                ]
              },
              {
                "name": "stdout",
                "output_type": "stream",
                "text": [
                  "V4 OCSMASS\n",
                  "Skipping OCSMASS because the subset is empty.\n",
                  "V4 SO2SMASS\n"
                ]
              },
              {
                "name": "stdout",
                "output_type": "stream",
                "text": [
                  "V4 SSSMASS25\n"
                ]
              },
              {
                "name": "stdout",
                "output_type": "stream",
                "text": [
                  "V4 wSO4\n"
                ]
              },
              {
                "name": "stdout",
                "output_type": "stream",
                "text": [
                  "V4 Done\n"
                ]
              },
              {
                "name": "stdout",
                "output_type": "stream",
                "text": [
                  "V5 CARBON\n",
                  "Skipping CARBON because the subset is empty.\n",
                  "V5 DUSMASS25\n"
                ]
              },
              {
                "name": "stdout",
                "output_type": "stream",
                "text": [
                  "V5 SSSMASS25\n"
                ]
              },
              {
                "name": "stdout",
                "output_type": "stream",
                "text": [
                  "V5 Sulfate\n"
                ]
              },
              {
                "name": "stdout",
                "output_type": "stream",
                "text": [
                  "V5 Done\n",
                  "[15.0, 19.0, 23.0]\n",
                  "Empty DataFrame\n",
                  "Columns: [PS, QV10M, Q500, T10M, T500, T850, WIND, BCSMASS, DUSMASS25, OCSMASS, SO2SMASS, SO4SMASS, SSSMASS25, TOTEXTTAU, SED, SZA, time, lat, lon, MERRA2, V1, V2_DS, V2, lat_lon, closest_lat_lon, lat_cats, lon_cats, V3_DS, lat_lon_cats, V3, lat_cats, lon_cats, V4_DS, lat_lon_cats, V4, lat_cats, lon_cats, V5_DS, lat_lon_cats, V5, Region]\n",
                  "Index: []\n",
                  "\n",
                  "[0 rows x 41 columns]\n"
                ]
              },
              {
                "name": "stdout",
                "output_type": "stream",
                "text": [
                  "V6 Done\n"
                ]
              },
              {
                "name": "stdout",
                "output_type": "stream",
                "text": [
                  "V7 Done\n"
                ]
              },
              {
                "name": "stdout",
                "output_type": "stream",
                "text": [
                  "V8 Done\n"
                ]
              },
              {
                "name": "stdout",
                "output_type": "stream",
                "text": [
                  "Data available for time: 20:30 UTC\n"
                ]
              },
              {
                "name": "stdout",
                "output_type": "stream",
                "text": [
                  "                 PS      QV10M      Q500        T10M        T500        T850  \\\n",
                  "0     101145.078125  19.288620  1.427653  301.665894  266.680939  297.177338   \n",
                  "1     101017.078125  19.486984  2.444270  300.306519  266.243439  297.185150   \n",
                  "2     100833.078125  20.166000  2.951625  300.619019  266.227814  296.755463   \n",
                  "3     100697.078125  20.082077  2.808573  301.322144  266.415314  296.489838   \n",
                  "4     100657.078125  19.548019  1.874926  300.900269  266.868439  296.567963   \n",
                  "...             ...        ...       ...         ...         ...         ...   \n",
                  "6746   52649.078125   2.472480  2.276423  263.966675  261.466095  263.966675   \n",
                  "6747   51969.078125   2.274116  2.191546  263.867065  262.091095  263.867065   \n",
                  "6748   53617.078125   2.294143  2.064708  266.747925  262.704376  266.747925   \n",
                  "6749   54537.078125   2.397140  2.064708  267.927612  263.247345  267.927612   \n",
                  "6750   53049.078125   2.342781  2.108577  266.599487  263.720001  266.599487   \n",
                  "\n",
                  "          WIND   BCSMASS  DUSMASS25   OCSMASS  SO2SMASS  SO4SMASS  SSSMASS25  \\\n",
                  "0     3.575338  0.198393  10.859366  1.120089  0.760565  0.861660  19.528669   \n",
                  "1     2.651144  0.244550  12.511009  1.663512  0.739874  0.814821  18.852007   \n",
                  "2     2.659324  0.231817  18.160789  2.225580  0.690989  0.752976  13.013050   \n",
                  "3     2.152734  0.201746  17.433195  2.417483  0.823547  0.704772   7.305061   \n",
                  "4     1.772024  0.211751   8.887582  2.822208  0.969067  0.571531   6.182745   \n",
                  "...        ...       ...        ...       ...       ...       ...        ...   \n",
                  "6746  3.187960  0.062310   1.954504  0.217529  0.033282  0.492633   0.041140   \n",
                  "6747  4.474732  0.057648   1.795797  0.197861  0.022659  0.468759   0.036351   \n",
                  "6748  4.516674  0.056554   1.797616  0.195815  0.045816  0.475807   0.036266   \n",
                  "6749  4.049446  0.055986   1.854914  0.197350  0.119826  0.485130   0.037900   \n",
                  "6750  4.488592  0.054039   1.856279  0.192291  0.210491  0.473079   0.037943   \n",
                  "\n",
                  "      TOTEXTTAU      SED         SZA        time    lat      lon     MERRA2  \n",
                  "0      0.320434  1.00142  162.735995  2023-09-30  13.75 -17.0625  32.891302  \n",
                  "1      0.340698  1.00142  163.236683  2023-09-30  13.75 -16.4375  34.391456  \n",
                  "2      0.350708  1.00142  163.729407  2023-09-30  13.75 -15.8125  34.666578  \n",
                  "3      0.315918  1.00142  164.213421  2023-09-30  13.75 -15.1875  28.326548  \n",
                  "4      0.285034  1.00142  164.687897  2023-09-30  13.75 -14.5625  18.890142  \n",
                  "...         ...      ...         ...         ...    ...      ...        ...  \n",
                  "6746   0.026985  1.00142   99.820376  2023-09-30  34.75  77.9375   2.952853  \n",
                  "6747   0.024246  1.00142   99.307157  2023-09-30  34.75  78.5625   2.732201  \n",
                  "6748   0.023659  1.00142   98.793836  2023-09-30  34.75  79.1875   2.740486  \n",
                  "6749   0.025551  1.00142   98.280434  2023-09-30  34.75  79.8125   2.813203  \n",
                  "6750   0.027664  1.00142   97.766971  2023-09-30  34.75  80.4375   2.791034  \n",
                  "\n",
                  "[6751 rows x 20 columns]\n",
                  "23.47223411401113\n"
                ]
              },
              {
                "name": "stdout",
                "output_type": "stream",
                "text": [
                  "14/14 - 0s - 268ms/epoch - 19ms/step\n"
                ]
              },
              {
                "name": "stdout",
                "output_type": "stream",
                "text": [
                  "V1 Done\n",
                  "V2 DUSMASS25\n"
                ]
              },
              {
                "name": "stdout",
                "output_type": "stream",
                "text": [
                  "V2 OCSMASS\n"
                ]
              },
              {
                "name": "stdout",
                "output_type": "stream",
                "text": [
                  "V2 SO2SMASS\n"
                ]
              },
              {
                "name": "stdout",
                "output_type": "stream",
                "text": [
                  "V2 SO4SMASS\n"
                ]
              },
              {
                "name": "stdout",
                "output_type": "stream",
                "text": [
                  "V2 SSSMASS25\n"
                ]
              },
              {
                "name": "stdout",
                "output_type": "stream",
                "text": [
                  "V2 Done\n"
                ]
              },
              {
                "name": "stdout",
                "output_type": "stream",
                "text": [
                  "V3 DUSMASS25\n"
                ]
              },
              {
                "name": "stdout",
                "output_type": "stream",
                "text": [
                  "V3 OCSMASS\n",
                  "Skipping OCSMASS because the subset is empty.\n",
                  "V3 SO2SMASS\n"
                ]
              },
              {
                "name": "stdout",
                "output_type": "stream",
                "text": [
                  "V3 SO4SMASS\n",
                  "Skipping SO4SMASS because the subset is empty.\n",
                  "V3 SSSMASS25\n"
                ]
              },
              {
                "name": "stdout",
                "output_type": "stream",
                "text": [
                  "V3 Done\n"
                ]
              },
              {
                "name": "stdout",
                "output_type": "stream",
                "text": [
                  "V4 DUSMASS25\n"
                ]
              },
              {
                "name": "stdout",
                "output_type": "stream",
                "text": [
                  "V4 OCSMASS\n",
                  "Skipping OCSMASS because the subset is empty.\n",
                  "V4 SO2SMASS\n"
                ]
              },
              {
                "name": "stdout",
                "output_type": "stream",
                "text": [
                  "V4 SSSMASS25\n"
                ]
              },
              {
                "name": "stdout",
                "output_type": "stream",
                "text": [
                  "V4 wSO4\n"
                ]
              },
              {
                "name": "stdout",
                "output_type": "stream",
                "text": [
                  "V4 Done\n"
                ]
              },
              {
                "name": "stdout",
                "output_type": "stream",
                "text": [
                  "V5 CARBON\n",
                  "Skipping CARBON because the subset is empty.\n",
                  "V5 DUSMASS25\n"
                ]
              },
              {
                "name": "stdout",
                "output_type": "stream",
                "text": [
                  "V5 SSSMASS25\n"
                ]
              },
              {
                "name": "stdout",
                "output_type": "stream",
                "text": [
                  "V5 Sulfate\n"
                ]
              },
              {
                "name": "stdout",
                "output_type": "stream",
                "text": [
                  "V5 Done\n",
                  "[15.0, 19.0, 23.0]\n",
                  "Empty DataFrame\n",
                  "Columns: [PS, QV10M, Q500, T10M, T500, T850, WIND, BCSMASS, DUSMASS25, OCSMASS, SO2SMASS, SO4SMASS, SSSMASS25, TOTEXTTAU, SED, SZA, time, lat, lon, MERRA2, V1, V2_DS, V2, lat_lon, closest_lat_lon, lat_cats, lon_cats, V3_DS, lat_lon_cats, V3, lat_cats, lon_cats, V4_DS, lat_lon_cats, V4, lat_cats, lon_cats, V5_DS, lat_lon_cats, V5, Region]\n",
                  "Index: []\n",
                  "\n",
                  "[0 rows x 41 columns]\n"
                ]
              },
              {
                "name": "stdout",
                "output_type": "stream",
                "text": [
                  "V6 Done\n"
                ]
              },
              {
                "name": "stdout",
                "output_type": "stream",
                "text": [
                  "V7 Done\n"
                ]
              },
              {
                "name": "stdout",
                "output_type": "stream",
                "text": [
                  "V8 Done\n"
                ]
              },
              {
                "name": "stdout",
                "output_type": "stream",
                "text": [
                  "Data available for time: 21:30 UTC\n"
                ]
              },
              {
                "name": "stdout",
                "output_type": "stream",
                "text": [
                  "                PS      QV10M      Q500        T10M        T500        T850  \\\n",
                  "0     101184.71875  19.357243  1.800060  301.550049  266.342560  297.204651   \n",
                  "1     101056.71875  19.341984  2.589226  300.003174  266.069122  297.204651   \n",
                  "2     100880.71875  19.975224  2.874374  300.081299  266.225372  296.876526   \n",
                  "3     100736.71875  20.089664  2.455711  300.784424  266.459747  296.548401   \n",
                  "4     100696.71875  19.547977  1.254082  300.471924  267.045685  296.478088   \n",
                  "...            ...        ...       ...         ...         ...         ...   \n",
                  "6746   52640.71875   2.516307  2.293587  263.499268  261.139435  263.499268   \n",
                  "6747   51960.71875   2.345599  2.208710  263.358643  261.787872  263.358643   \n",
                  "6748   53616.71875   2.361812  2.115250  266.071533  262.287872  266.071533   \n",
                  "6749   54536.71875   2.403774  2.119064  267.749268  262.858185  267.749268   \n",
                  "6750   53040.71875   2.368488  2.149582  266.341064  263.323029  266.341064   \n",
                  "\n",
                  "          WIND   BCSMASS  DUSMASS25   OCSMASS  SO2SMASS  SO4SMASS  SSSMASS25  \\\n",
                  "0     3.685673  0.202476  11.150405  1.143690  0.769205  0.856100  18.888386   \n",
                  "1     2.672149  0.261935  11.357770  1.728040  0.787622  0.828588  19.397703   \n",
                  "2     2.844630  0.256137  16.283592  2.391062  0.724413  0.767424  15.206752   \n",
                  "3     2.360021  0.220098  18.299034  2.718480  0.801947  0.719221   8.356438   \n",
                  "4     1.856692  0.218790  10.502845  3.028618  0.952696  0.599395   6.290065   \n",
                  "...        ...       ...        ...       ...       ...       ...        ...   \n",
                  "6746  2.991206  0.064603   2.047273  0.225100  0.033182  0.500488   0.042505   \n",
                  "6747  4.277858  0.059345   1.870831  0.203955  0.021416  0.482525   0.037801   \n",
                  "6748  4.319599  0.058037   1.818080  0.199805  0.045617  0.487755   0.036351   \n",
                  "6749  4.183201  0.056460   1.811259  0.197588  0.120053  0.493212   0.036991   \n",
                  "6750  4.834075  0.054769   1.830358  0.194462  0.206626  0.485708   0.037815   \n",
                  "\n",
                  "      TOTEXTTAU      SED         SZA        time    lat      lon     MERRA2  \n",
                  "0      0.318953  1.00142  162.735995  2023-09-30  13.75 -17.0625  32.562095  \n",
                  "1      0.333602  1.00142  163.236683  2023-09-30  13.75 -16.4375  33.884756  \n",
                  "2      0.349837  1.00142  163.729407  2023-09-30  13.75 -15.8125  35.192751  \n",
                  "3      0.323348  1.00142  164.213421  2023-09-30  13.75 -15.1875  30.582978  \n",
                  "4      0.290511  1.00142  164.687897  2023-09-30  13.75 -14.5625  20.864487  \n",
                  "...         ...      ...         ...         ...    ...      ...        ...  \n",
                  "6746   0.026694  1.00142   99.820376  2023-09-30  34.75  77.9375   3.067651  \n",
                  "6747   0.023909  1.00142   99.307157  2023-09-30  34.75  78.5625   2.835403  \n",
                  "6748   0.023658  1.00142   98.793836  2023-09-30  34.75  79.1875   2.782936  \n",
                  "6749   0.024749  1.00142   98.280434  2023-09-30  34.75  79.8125   2.780464  \n",
                  "6750   0.027129  1.00142   97.766971  2023-09-30  34.75  80.4375   2.785253  \n",
                  "\n",
                  "[6751 rows x 20 columns]\n",
                  "23.795448418458303\n"
                ]
              },
              {
                "name": "stdout",
                "output_type": "stream",
                "text": [
                  "14/14 - 0s - 253ms/epoch - 18ms/step\n"
                ]
              },
              {
                "name": "stdout",
                "output_type": "stream",
                "text": [
                  "V1 Done\n",
                  "V2 DUSMASS25\n"
                ]
              },
              {
                "name": "stdout",
                "output_type": "stream",
                "text": [
                  "V2 OCSMASS\n"
                ]
              },
              {
                "name": "stdout",
                "output_type": "stream",
                "text": [
                  "V2 SO2SMASS\n"
                ]
              },
              {
                "name": "stdout",
                "output_type": "stream",
                "text": [
                  "V2 SO4SMASS\n"
                ]
              },
              {
                "name": "stdout",
                "output_type": "stream",
                "text": [
                  "V2 SSSMASS25\n"
                ]
              },
              {
                "name": "stdout",
                "output_type": "stream",
                "text": [
                  "V2 Done\n"
                ]
              },
              {
                "name": "stdout",
                "output_type": "stream",
                "text": [
                  "V3 DUSMASS25\n"
                ]
              },
              {
                "name": "stdout",
                "output_type": "stream",
                "text": [
                  "V3 OCSMASS\n",
                  "Skipping OCSMASS because the subset is empty.\n",
                  "V3 SO2SMASS\n"
                ]
              },
              {
                "name": "stdout",
                "output_type": "stream",
                "text": [
                  "V3 SO4SMASS\n",
                  "Skipping SO4SMASS because the subset is empty.\n",
                  "V3 SSSMASS25\n"
                ]
              },
              {
                "name": "stdout",
                "output_type": "stream",
                "text": [
                  "V3 Done\n"
                ]
              },
              {
                "name": "stdout",
                "output_type": "stream",
                "text": [
                  "V4 DUSMASS25\n"
                ]
              },
              {
                "name": "stdout",
                "output_type": "stream",
                "text": [
                  "V4 OCSMASS\n",
                  "Skipping OCSMASS because the subset is empty.\n",
                  "V4 SO2SMASS\n"
                ]
              },
              {
                "name": "stdout",
                "output_type": "stream",
                "text": [
                  "V4 SSSMASS25\n"
                ]
              },
              {
                "name": "stdout",
                "output_type": "stream",
                "text": [
                  "V4 wSO4\n"
                ]
              },
              {
                "name": "stdout",
                "output_type": "stream",
                "text": [
                  "V4 Done\n"
                ]
              },
              {
                "name": "stdout",
                "output_type": "stream",
                "text": [
                  "V5 CARBON\n",
                  "Skipping CARBON because the subset is empty.\n",
                  "V5 DUSMASS25\n"
                ]
              },
              {
                "name": "stdout",
                "output_type": "stream",
                "text": [
                  "V5 SSSMASS25\n"
                ]
              },
              {
                "name": "stdout",
                "output_type": "stream",
                "text": [
                  "V5 Sulfate\n"
                ]
              },
              {
                "name": "stdout",
                "output_type": "stream",
                "text": [
                  "V5 Done\n",
                  "[15.0, 19.0, 23.0]\n",
                  "Empty DataFrame\n",
                  "Columns: [PS, QV10M, Q500, T10M, T500, T850, WIND, BCSMASS, DUSMASS25, OCSMASS, SO2SMASS, SO4SMASS, SSSMASS25, TOTEXTTAU, SED, SZA, time, lat, lon, MERRA2, V1, V2_DS, V2, lat_lon, closest_lat_lon, lat_cats, lon_cats, V3_DS, lat_lon_cats, V3, lat_cats, lon_cats, V4_DS, lat_lon_cats, V4, lat_cats, lon_cats, V5_DS, lat_lon_cats, V5, Region]\n",
                  "Index: []\n",
                  "\n",
                  "[0 rows x 41 columns]\n"
                ]
              },
              {
                "name": "stdout",
                "output_type": "stream",
                "text": [
                  "V6 Done\n"
                ]
              },
              {
                "name": "stdout",
                "output_type": "stream",
                "text": [
                  "V7 Done\n"
                ]
              },
              {
                "name": "stdout",
                "output_type": "stream",
                "text": [
                  "V8 Done\n"
                ]
              },
              {
                "name": "stdout",
                "output_type": "stream",
                "text": [
                  "Data available for time: 22:30 UTC\n"
                ]
              },
              {
                "name": "stdout",
                "output_type": "stream",
                "text": [
                  "                 PS      QV10M      Q500        T10M        T500        T850  \\\n",
                  "0     101186.546875  19.494522  1.989365  301.412476  266.128357  297.148193   \n",
                  "1     101058.546875  19.265640  2.447129  299.756226  266.058044  297.124756   \n",
                  "2     100890.546875  19.731033  2.509117  299.599976  266.323669  296.890381   \n",
                  "3     100746.546875  20.028580  1.830578  300.146851  266.729919  296.546631   \n",
                  "4     100698.546875  19.563187  0.733137  300.068726  267.331482  296.382568   \n",
                  "...             ...        ...       ...         ...         ...         ...   \n",
                  "6746   52650.546875   2.544868  2.322197  263.117554  260.780701  263.117554   \n",
                  "6747   51970.546875   2.320754  2.173424  262.947632  261.472107  262.947632   \n",
                  "6748   53626.546875   2.391326  2.135277  265.496460  261.890076  265.496460   \n",
                  "6749   54546.546875   2.432334  2.182961  267.553101  262.409607  267.553101   \n",
                  "6750   53050.546875   2.383697  2.193451  266.193726  262.948669  266.193726   \n",
                  "\n",
                  "          WIND   BCSMASS  DUSMASS25   OCSMASS  SO2SMASS  SO4SMASS  SSSMASS25  \\\n",
                  "0     3.894906  0.205320  11.619704  1.161884  0.774889  0.847447  18.459105   \n",
                  "1     2.655701  0.274669  10.641088  1.775338  0.825821  0.837670  19.499567   \n",
                  "2     2.957642  0.276715  14.304533  2.481106  0.759883  0.782645  16.989361   \n",
                  "3     2.622986  0.240562  18.466381  2.987695  0.784439  0.731941   9.862560   \n",
                  "4     1.903734  0.227034  12.263626  3.238715  0.930640  0.629168   6.548362   \n",
                  "...        ...       ...        ...       ...       ...       ...        ...   \n",
                  "6746  2.962571  0.067218   2.132765  0.232494  0.031704  0.513662   0.044238   \n",
                  "6747  4.336779  0.060340   1.928129  0.207597  0.020236  0.490470   0.039279   \n",
                  "6748  4.264110  0.059374   1.847184  0.203731  0.043201  0.494563   0.036749   \n",
                  "6749  4.264825  0.056916   1.777153  0.197479  0.118575  0.498428   0.035783   \n",
                  "6750  5.176012  0.054841   1.761237  0.193215  0.195598  0.489788   0.036280   \n",
                  "\n",
                  "      TOTEXTTAU      SED         SZA        time    lat      lon     MERRA2  \n",
                  "0      0.316517  1.00142  162.735995  2023-09-30  13.75 -17.0625  32.611252  \n",
                  "1      0.324696  1.00142  163.236683  2023-09-30  13.75 -16.4375  33.342457  \n",
                  "2      0.344593  1.00142  163.729407  2023-09-30  13.75 -15.8125  35.127852  \n",
                  "3      0.328846  1.00142  164.213421  2023-09-30  13.75 -15.1875  32.563617  \n",
                  "4      0.294789  1.00142  164.687897  2023-09-30  13.75 -14.5625  23.142844  \n",
                  "...         ...      ...         ...         ...    ...      ...        ...  \n",
                  "6746   0.026501  1.00142   99.820376  2023-09-30  34.75  77.9375   3.183002  \n",
                  "6747   0.023556  1.00142   99.307157  2023-09-30  34.75  78.5625   2.909741  \n",
                  "6748   0.023365  1.00142   98.793836  2023-09-30  34.75  79.1875   2.827063  \n",
                  "6749   0.024334  1.00142   98.280434  2023-09-30  34.75  79.8125   2.752669  \n",
                  "6750   0.026265  1.00142   97.766971  2023-09-30  34.75  80.4375   2.719032  \n",
                  "\n",
                  "[6751 rows x 20 columns]\n",
                  "24.151625883579253\n"
                ]
              },
              {
                "name": "stdout",
                "output_type": "stream",
                "text": [
                  "14/14 - 0s - 264ms/epoch - 19ms/step\n"
                ]
              },
              {
                "name": "stdout",
                "output_type": "stream",
                "text": [
                  "V1 Done\n",
                  "V2 DUSMASS25\n"
                ]
              },
              {
                "name": "stdout",
                "output_type": "stream",
                "text": [
                  "V2 OCSMASS\n"
                ]
              },
              {
                "name": "stdout",
                "output_type": "stream",
                "text": [
                  "V2 SO2SMASS\n"
                ]
              },
              {
                "name": "stdout",
                "output_type": "stream",
                "text": [
                  "V2 SO4SMASS\n"
                ]
              },
              {
                "name": "stdout",
                "output_type": "stream",
                "text": [
                  "V2 SSSMASS25\n"
                ]
              },
              {
                "name": "stdout",
                "output_type": "stream",
                "text": [
                  "V2 Done\n"
                ]
              },
              {
                "name": "stdout",
                "output_type": "stream",
                "text": [
                  "V3 DUSMASS25\n"
                ]
              },
              {
                "name": "stdout",
                "output_type": "stream",
                "text": [
                  "V3 OCSMASS\n",
                  "Skipping OCSMASS because the subset is empty.\n",
                  "V3 SO2SMASS\n"
                ]
              },
              {
                "name": "stdout",
                "output_type": "stream",
                "text": [
                  "V3 SO4SMASS\n",
                  "Skipping SO4SMASS because the subset is empty.\n",
                  "V3 SSSMASS25\n"
                ]
              },
              {
                "name": "stdout",
                "output_type": "stream",
                "text": [
                  "V3 Done\n"
                ]
              },
              {
                "name": "stdout",
                "output_type": "stream",
                "text": [
                  "V4 DUSMASS25\n"
                ]
              },
              {
                "name": "stdout",
                "output_type": "stream",
                "text": [
                  "V4 OCSMASS\n",
                  "Skipping OCSMASS because the subset is empty.\n",
                  "V4 SO2SMASS\n"
                ]
              },
              {
                "name": "stdout",
                "output_type": "stream",
                "text": [
                  "V4 SSSMASS25\n"
                ]
              },
              {
                "name": "stdout",
                "output_type": "stream",
                "text": [
                  "V4 wSO4\n"
                ]
              },
              {
                "name": "stdout",
                "output_type": "stream",
                "text": [
                  "V4 Done\n"
                ]
              },
              {
                "name": "stdout",
                "output_type": "stream",
                "text": [
                  "V5 CARBON\n",
                  "Skipping CARBON because the subset is empty.\n",
                  "V5 DUSMASS25\n"
                ]
              },
              {
                "name": "stdout",
                "output_type": "stream",
                "text": [
                  "V5 SSSMASS25\n"
                ]
              },
              {
                "name": "stdout",
                "output_type": "stream",
                "text": [
                  "V5 Sulfate\n"
                ]
              },
              {
                "name": "stdout",
                "output_type": "stream",
                "text": [
                  "V5 Done\n",
                  "[15.0, 19.0, 23.0]\n",
                  "Empty DataFrame\n",
                  "Columns: [PS, QV10M, Q500, T10M, T500, T850, WIND, BCSMASS, DUSMASS25, OCSMASS, SO2SMASS, SO4SMASS, SSSMASS25, TOTEXTTAU, SED, SZA, time, lat, lon, MERRA2, V1, V2_DS, V2, lat_lon, closest_lat_lon, lat_cats, lon_cats, V3_DS, lat_lon_cats, V3, lat_cats, lon_cats, V4_DS, lat_lon_cats, V4, lat_cats, lon_cats, V5_DS, lat_lon_cats, V5, Region]\n",
                  "Index: []\n",
                  "\n",
                  "[0 rows x 41 columns]\n"
                ]
              },
              {
                "name": "stdout",
                "output_type": "stream",
                "text": [
                  "V6 Done\n"
                ]
              },
              {
                "name": "stdout",
                "output_type": "stream",
                "text": [
                  "V7 Done\n"
                ]
              },
              {
                "name": "stdout",
                "output_type": "stream",
                "text": [
                  "V8 Done\n"
                ]
              },
              {
                "name": "stdout",
                "output_type": "stream",
                "text": [
                  "Data available for time: 23:30 UTC\n"
                ]
              },
              {
                "name": "stdout",
                "output_type": "stream",
                "text": [
                  "               PS      QV10M      Q500        T10M        T500        T850  \\\n",
                  "0     101165.1875  19.654718  1.982689  301.258575  266.065186  297.044250   \n",
                  "1     101037.1875  19.219843  2.187729  299.539825  266.197998  296.966125   \n",
                  "2     100869.1875  19.502131  2.015114  299.133575  266.557373  296.786438   \n",
                  "3     100733.1875  19.929377  1.158715  299.524200  267.072998  296.458313   \n",
                  "4     100677.1875  19.578424  0.398040  299.633575  267.557373  296.278625   \n",
                  "...           ...        ...       ...         ...         ...         ...   \n",
                  "6746   52669.1875   2.589670  2.313614  262.830841  260.432373  262.830841   \n",
                  "6747   51981.1875   2.253977  2.140999  262.563263  261.076904  262.563263   \n",
                  "6748   53645.1875   2.380816  2.127648  264.942169  261.522217  264.942169   \n",
                  "6749   54573.1875   2.459017  2.197266  267.305450  261.959717  267.305450   \n",
                  "6750   53069.1875   2.390352  2.205849  265.926544  262.561279  265.926544   \n",
                  "\n",
                  "          WIND   BCSMASS  DUSMASS25   OCSMASS  SO2SMASS  SO4SMASS  SSSMASS25  \\\n",
                  "0     4.084231  0.207082  12.227247  1.172346  0.783757  0.837953  18.218998   \n",
                  "1     2.596959  0.286379  10.360964  1.835822  0.861519  0.843410  19.164873   \n",
                  "2     2.837957  0.295019  12.649252  2.543864  0.800355  0.796799  18.182617   \n",
                  "3     2.700915  0.261823  17.884304  3.216890  0.774207  0.743366  11.656084   \n",
                  "4     1.948148  0.237494  14.013494  3.476096  0.907221  0.658783   7.030394   \n",
                  "...        ...       ...        ...       ...       ...       ...        ...   \n",
                  "6746  2.867966  0.069493   2.188244  0.238750  0.027960  0.528725   0.045759   \n",
                  "6747  4.484079  0.061222   1.975423  0.210385  0.018325  0.498484   0.041084   \n",
                  "6748  4.126634  0.060853   1.886292  0.208623  0.043158  0.498712   0.037957   \n",
                  "6749  4.166718  0.057414   1.760327  0.198164  0.118007  0.500076   0.034944   \n",
                  "6750  5.089419  0.054728   1.702574  0.191172  0.193268  0.490981   0.034490   \n",
                  "\n",
                  "      TOTEXTTAU      SED         SZA        time    lat      lon     MERRA2  \n",
                  "0      0.314102  1.00142  162.735995  2023-09-30  13.75 -17.0625  32.977859  \n",
                  "1      0.317642  1.00142  163.236683  2023-09-30  13.75 -16.4375  32.807726  \n",
                  "2      0.341812  1.00142  163.729407  2023-09-30  13.75 -15.8125  34.766352  \n",
                  "3      0.338760  1.00142  164.213421  2023-09-30  13.75 -15.1875  34.041229  \n",
                  "4      0.302750  1.00142  164.687897  2023-09-30  13.75 -14.5625  25.663305  \n",
                  "...         ...      ...         ...         ...    ...      ...        ...  \n",
                  "6746   0.025856  1.00142   99.820376  2023-09-30  34.75  77.9375   3.269243  \n",
                  "6747   0.022873  1.00142   99.307157  2023-09-30  34.75  78.5625   2.973529  \n",
                  "6748   0.022735  1.00142   98.793836  2023-09-30  34.75  79.1875   2.879453  \n",
                  "6749   0.024032  1.00142   98.280434  2023-09-30  34.75  79.8125   2.738453  \n",
                  "6750   0.025169  1.00142   97.766971  2023-09-30  34.75  80.4375   2.658062  \n",
                  "\n",
                  "[6751 rows x 20 columns]\n",
                  "24.4658545255661\n"
                ]
              },
              {
                "name": "stdout",
                "output_type": "stream",
                "text": [
                  "14/14 - 0s - 262ms/epoch - 19ms/step\n"
                ]
              },
              {
                "name": "stdout",
                "output_type": "stream",
                "text": [
                  "V1 Done\n",
                  "V2 DUSMASS25\n"
                ]
              },
              {
                "name": "stdout",
                "output_type": "stream",
                "text": [
                  "V2 OCSMASS\n"
                ]
              },
              {
                "name": "stdout",
                "output_type": "stream",
                "text": [
                  "V2 SO2SMASS\n"
                ]
              },
              {
                "name": "stdout",
                "output_type": "stream",
                "text": [
                  "V2 SO4SMASS\n"
                ]
              },
              {
                "name": "stdout",
                "output_type": "stream",
                "text": [
                  "V2 SSSMASS25\n"
                ]
              },
              {
                "name": "stdout",
                "output_type": "stream",
                "text": [
                  "V2 Done\n"
                ]
              },
              {
                "name": "stdout",
                "output_type": "stream",
                "text": [
                  "V3 DUSMASS25\n"
                ]
              },
              {
                "name": "stdout",
                "output_type": "stream",
                "text": [
                  "V3 OCSMASS\n",
                  "Skipping OCSMASS because the subset is empty.\n",
                  "V3 SO2SMASS\n"
                ]
              },
              {
                "name": "stdout",
                "output_type": "stream",
                "text": [
                  "V3 SO4SMASS\n",
                  "Skipping SO4SMASS because the subset is empty.\n",
                  "V3 SSSMASS25\n"
                ]
              },
              {
                "name": "stdout",
                "output_type": "stream",
                "text": [
                  "V3 Done\n"
                ]
              },
              {
                "name": "stdout",
                "output_type": "stream",
                "text": [
                  "V4 DUSMASS25\n"
                ]
              },
              {
                "name": "stdout",
                "output_type": "stream",
                "text": [
                  "V4 OCSMASS\n",
                  "Skipping OCSMASS because the subset is empty.\n",
                  "V4 SO2SMASS\n"
                ]
              },
              {
                "name": "stdout",
                "output_type": "stream",
                "text": [
                  "V4 SSSMASS25\n"
                ]
              },
              {
                "name": "stdout",
                "output_type": "stream",
                "text": [
                  "V4 wSO4\n"
                ]
              },
              {
                "name": "stdout",
                "output_type": "stream",
                "text": [
                  "V4 Done\n"
                ]
              },
              {
                "name": "stdout",
                "output_type": "stream",
                "text": [
                  "V5 CARBON\n",
                  "Skipping CARBON because the subset is empty.\n",
                  "V5 DUSMASS25\n"
                ]
              },
              {
                "name": "stdout",
                "output_type": "stream",
                "text": [
                  "V5 SSSMASS25\n"
                ]
              },
              {
                "name": "stdout",
                "output_type": "stream",
                "text": [
                  "V5 Sulfate\n"
                ]
              },
              {
                "name": "stdout",
                "output_type": "stream",
                "text": [
                  "V5 Done\n",
                  "[15.0, 19.0, 23.0]\n",
                  "Empty DataFrame\n",
                  "Columns: [PS, QV10M, Q500, T10M, T500, T850, WIND, BCSMASS, DUSMASS25, OCSMASS, SO2SMASS, SO4SMASS, SSSMASS25, TOTEXTTAU, SED, SZA, time, lat, lon, MERRA2, V1, V2_DS, V2, lat_lon, closest_lat_lon, lat_cats, lon_cats, V3_DS, lat_lon_cats, V3, lat_cats, lon_cats, V4_DS, lat_lon_cats, V4, lat_cats, lon_cats, V5_DS, lat_lon_cats, V5, Region]\n",
                  "Index: []\n",
                  "\n",
                  "[0 rows x 41 columns]\n"
                ]
              },
              {
                "name": "stdout",
                "output_type": "stream",
                "text": [
                  "V6 Done\n"
                ]
              },
              {
                "name": "stdout",
                "output_type": "stream",
                "text": [
                  "V7 Done\n"
                ]
              },
              {
                "name": "stdout",
                "output_type": "stream",
                "text": [
                  "V8 Done\n"
                ]
              },
              {
                "name": "stdout",
                "output_type": "stream",
                "text": [
                  "Model run complete!\n"
                ]
              }
            ]
          }
        },
        "26710b9c6e274113a3a8e25f00cab107": {
          "model_module": "@jupyter-widgets/controls",
          "model_module_version": "1.5.0",
          "model_name": "DatePickerModel",
          "state": {
            "_dom_classes": [],
            "_model_module": "@jupyter-widgets/controls",
            "_model_module_version": "1.5.0",
            "_model_name": "DatePickerModel",
            "_view_count": null,
            "_view_module": "@jupyter-widgets/controls",
            "_view_module_version": "1.5.0",
            "_view_name": "DatePickerView",
            "description": "Start Date",
            "description_tooltip": null,
            "disabled": false,
            "layout": "IPY_MODEL_812af4328ab54f1d8873205f65eb32c5",
            "style": "IPY_MODEL_942eb11195934380bfebc39b2634b197",
            "value": {
              "date": 28,
              "month": 8,
              "year": 2023
            }
          }
        },
        "278c355951da42cc88af7e24eea93355": {
          "model_module": "@jupyter-widgets/controls",
          "model_module_version": "1.5.0",
          "model_name": "TextareaModel",
          "state": {
            "_dom_classes": [],
            "_model_module": "@jupyter-widgets/controls",
            "_model_module_version": "1.5.0",
            "_model_name": "TextareaModel",
            "_view_count": null,
            "_view_module": "@jupyter-widgets/controls",
            "_view_module_version": "1.5.0",
            "_view_name": "TextareaView",
            "continuous_update": true,
            "description": "Text:",
            "description_tooltip": null,
            "disabled": true,
            "layout": "IPY_MODEL_dcd1f1625dd44246b9fc9ab8a81559ce",
            "placeholder": "Country Coordinates loaded from country selection.\n\nFor point, rectangle or custom shapes use tools on left",
            "rows": null,
            "style": "IPY_MODEL_e3782a7006be4f97a1eb556d6035816a",
            "value": "[[-17.039948, 13.656905], [-17.039948, 34.588203], [80.270094, 34.588203], [80.270094, 13.656905], [-17.039948, 13.656905]]"
          }
        },
        "27c94bab4af3426db5f8d174d8ace410": {
          "model_module": "@jupyter-widgets/base",
          "model_module_version": "1.2.0",
          "model_name": "LayoutModel",
          "state": {
            "_model_module": "@jupyter-widgets/base",
            "_model_module_version": "1.2.0",
            "_model_name": "LayoutModel",
            "_view_count": null,
            "_view_module": "@jupyter-widgets/base",
            "_view_module_version": "1.2.0",
            "_view_name": "LayoutView",
            "align_content": null,
            "align_items": null,
            "align_self": null,
            "border": null,
            "bottom": null,
            "display": null,
            "flex": null,
            "flex_flow": null,
            "grid_area": null,
            "grid_auto_columns": null,
            "grid_auto_flow": null,
            "grid_auto_rows": null,
            "grid_column": null,
            "grid_gap": null,
            "grid_row": null,
            "grid_template_areas": null,
            "grid_template_columns": null,
            "grid_template_rows": null,
            "height": null,
            "justify_content": null,
            "justify_items": null,
            "left": null,
            "margin": null,
            "max_height": null,
            "max_width": null,
            "min_height": null,
            "min_width": null,
            "object_fit": null,
            "object_position": null,
            "order": null,
            "overflow": null,
            "overflow_x": null,
            "overflow_y": null,
            "padding": null,
            "right": null,
            "top": null,
            "visibility": null,
            "width": null
          }
        },
        "2870b03988ff434b88c10e5fc4f21bd1": {
          "model_module": "@jupyter-widgets/base",
          "model_module_version": "1.2.0",
          "model_name": "LayoutModel",
          "state": {
            "_model_module": "@jupyter-widgets/base",
            "_model_module_version": "1.2.0",
            "_model_name": "LayoutModel",
            "_view_count": null,
            "_view_module": "@jupyter-widgets/base",
            "_view_module_version": "1.2.0",
            "_view_name": "LayoutView",
            "align_content": null,
            "align_items": null,
            "align_self": null,
            "border": null,
            "bottom": null,
            "display": null,
            "flex": null,
            "flex_flow": null,
            "grid_area": null,
            "grid_auto_columns": null,
            "grid_auto_flow": null,
            "grid_auto_rows": null,
            "grid_column": null,
            "grid_gap": null,
            "grid_row": null,
            "grid_template_areas": null,
            "grid_template_columns": null,
            "grid_template_rows": null,
            "height": null,
            "justify_content": null,
            "justify_items": null,
            "left": null,
            "margin": null,
            "max_height": null,
            "max_width": null,
            "min_height": null,
            "min_width": null,
            "object_fit": null,
            "object_position": null,
            "order": null,
            "overflow": null,
            "overflow_x": null,
            "overflow_y": null,
            "padding": null,
            "right": null,
            "top": null,
            "visibility": null,
            "width": null
          }
        },
        "28b39675ee024e58b050256462cfadaf": {
          "model_module": "@jupyter-widgets/controls",
          "model_module_version": "1.5.0",
          "model_name": "DescriptionStyleModel",
          "state": {
            "_model_module": "@jupyter-widgets/controls",
            "_model_module_version": "1.5.0",
            "_model_name": "DescriptionStyleModel",
            "_view_count": null,
            "_view_module": "@jupyter-widgets/base",
            "_view_module_version": "1.2.0",
            "_view_name": "StyleView",
            "description_width": ""
          }
        },
        "28d9827800cd45b79d3a075e1e9cd528": {
          "model_module": "jupyter-leaflet",
          "model_module_version": "^0.17",
          "model_name": "LeafletDrawControlModel",
          "state": {
            "_model_module": "jupyter-leaflet",
            "_model_module_version": "^0.17",
            "_model_name": "LeafletDrawControlModel",
            "_view_count": null,
            "_view_module": "jupyter-leaflet",
            "_view_module_version": "^0.17",
            "_view_name": "LeafletDrawControlView",
            "circle": {},
            "circlemarker": {},
            "data": [
              {
                "geometry": {
                  "coordinates": [
                    [
                      [
                        -17.039948,
                        13.656905
                      ],
                      [
                        -17.039948,
                        34.588203
                      ],
                      [
                        80.270094,
                        34.588203
                      ],
                      [
                        80.270094,
                        13.656905
                      ],
                      [
                        -17.039948,
                        13.656905
                      ]
                    ]
                  ],
                  "type": "Polygon"
                },
                "properties": {
                  "style": {
                    "clickable": true,
                    "color": "#3388ff",
                    "fill": true,
                    "fillColor": null,
                    "fillOpacity": 0.2,
                    "opacity": 0.5,
                    "stroke": true,
                    "weight": 4
                  }
                },
                "type": "Feature"
              }
            ],
            "edit": true,
            "marker": {
              "shapeOptions": {
                "color": "#3388ff"
              }
            },
            "options": [
              "position"
            ],
            "polygon": {
              "shapeOptions": {}
            },
            "polyline": {
              "shapeOptions": {}
            },
            "position": "topleft",
            "rectangle": {
              "shapeOptions": {
                "color": "#3388ff"
              }
            },
            "remove": true
          }
        },
        "2ad8ad95ed194f68bd206d5cb53a9d10": {
          "model_module": "@jupyter-widgets/controls",
          "model_module_version": "1.5.0",
          "model_name": "ButtonStyleModel",
          "state": {
            "_model_module": "@jupyter-widgets/controls",
            "_model_module_version": "1.5.0",
            "_model_name": "ButtonStyleModel",
            "_view_count": null,
            "_view_module": "@jupyter-widgets/base",
            "_view_module_version": "1.2.0",
            "_view_name": "StyleView",
            "button_color": null,
            "font_weight": ""
          }
        },
        "2cdf3647368246159823e5f020161126": {
          "model_module": "@jupyter-widgets/controls",
          "model_module_version": "1.5.0",
          "model_name": "ButtonStyleModel",
          "state": {
            "_model_module": "@jupyter-widgets/controls",
            "_model_module_version": "1.5.0",
            "_model_name": "ButtonStyleModel",
            "_view_count": null,
            "_view_module": "@jupyter-widgets/base",
            "_view_module_version": "1.2.0",
            "_view_name": "StyleView",
            "button_color": null,
            "font_weight": ""
          }
        },
        "34d53323558644de9f404a2b2810c738": {
          "model_module": "jupyter-leaflet",
          "model_module_version": "^0.17",
          "model_name": "LeafletFullScreenControlModel",
          "state": {
            "_model_module": "jupyter-leaflet",
            "_model_module_version": "^0.17",
            "_model_name": "LeafletFullScreenControlModel",
            "_view_count": null,
            "_view_module": "jupyter-leaflet",
            "_view_module_version": "^0.17",
            "_view_name": "LeafletFullScreenControlView",
            "options": [
              "position"
            ],
            "position": "topleft"
          }
        },
        "34f42de643084b95aac77afed78c0389": {
          "model_module": "@jupyter-widgets/controls",
          "model_module_version": "1.5.0",
          "model_name": "ButtonModel",
          "state": {
            "_dom_classes": [],
            "_model_module": "@jupyter-widgets/controls",
            "_model_module_version": "1.5.0",
            "_model_name": "ButtonModel",
            "_view_count": null,
            "_view_module": "@jupyter-widgets/controls",
            "_view_module_version": "1.5.0",
            "_view_name": "ButtonView",
            "button_style": "info",
            "description": "Fetch MERRA Dates",
            "disabled": false,
            "icon": "",
            "layout": "IPY_MODEL_fa3abd5e7de54577a53668720a1e6843",
            "style": "IPY_MODEL_2cdf3647368246159823e5f020161126",
            "tooltip": "Click to fetch available MERRA dates"
          }
        },
        "37fb35eb5f4947ecac2d62fdae67ed24": {
          "model_module": "jupyter-leaflet",
          "model_module_version": "^0.17",
          "model_name": "LeafletMapStyleModel",
          "state": {
            "_model_module": "jupyter-leaflet",
            "_model_module_version": "^0.17",
            "_model_name": "LeafletMapStyleModel",
            "_view_count": null,
            "_view_module": "@jupyter-widgets/base",
            "_view_module_version": "1.2.0",
            "_view_name": "StyleView",
            "cursor": "grab"
          }
        },
        "3a211200c68c458d9dc80369191affde": {
          "model_module": "jupyter-leaflet",
          "model_module_version": "^0.17",
          "model_name": "LeafletAttributionControlModel",
          "state": {
            "_model_module": "jupyter-leaflet",
            "_model_module_version": "^0.17",
            "_model_name": "LeafletAttributionControlModel",
            "_view_count": null,
            "_view_module": "jupyter-leaflet",
            "_view_module_version": "^0.17",
            "_view_name": "LeafletAttributionControlView",
            "options": [
              "position",
              "prefix"
            ],
            "position": "bottomright",
            "prefix": "ipyleaflet"
          }
        },
        "3cbe7af4d9814d08ab722151fade479a": {
          "model_module": "@jupyter-widgets/controls",
          "model_module_version": "1.5.0",
          "model_name": "DescriptionStyleModel",
          "state": {
            "_model_module": "@jupyter-widgets/controls",
            "_model_module_version": "1.5.0",
            "_model_name": "DescriptionStyleModel",
            "_view_count": null,
            "_view_module": "@jupyter-widgets/base",
            "_view_module_version": "1.2.0",
            "_view_name": "StyleView",
            "description_width": ""
          }
        },
        "3f6ffe6751e145f8a70ffdae6274a1cd": {
          "model_module": "@jupyter-widgets/controls",
          "model_module_version": "1.5.0",
          "model_name": "ButtonModel",
          "state": {
            "_dom_classes": [],
            "_model_module": "@jupyter-widgets/controls",
            "_model_module_version": "1.5.0",
            "_model_name": "ButtonModel",
            "_view_count": null,
            "_view_module": "@jupyter-widgets/controls",
            "_view_module_version": "1.5.0",
            "_view_name": "ButtonView",
            "button_style": "danger",
            "description": "Run Model",
            "disabled": false,
            "icon": "",
            "layout": "IPY_MODEL_dd55f6bc4ed843dbb54b3bb4b3f48dab",
            "style": "IPY_MODEL_72e471bba2f649faaeccca15659f1c52",
            "tooltip": ""
          }
        },
        "422bbd750fc04f43af68e88f4d3990a8": {
          "model_module": "@jupyter-widgets/base",
          "model_module_version": "1.2.0",
          "model_name": "LayoutModel",
          "state": {
            "_model_module": "@jupyter-widgets/base",
            "_model_module_version": "1.2.0",
            "_model_name": "LayoutModel",
            "_view_count": null,
            "_view_module": "@jupyter-widgets/base",
            "_view_module_version": "1.2.0",
            "_view_name": "LayoutView",
            "align_content": null,
            "align_items": null,
            "align_self": null,
            "border": null,
            "bottom": null,
            "display": null,
            "flex": null,
            "flex_flow": null,
            "grid_area": null,
            "grid_auto_columns": null,
            "grid_auto_flow": null,
            "grid_auto_rows": null,
            "grid_column": null,
            "grid_gap": null,
            "grid_row": null,
            "grid_template_areas": null,
            "grid_template_columns": null,
            "grid_template_rows": null,
            "height": null,
            "justify_content": null,
            "justify_items": null,
            "left": null,
            "margin": null,
            "max_height": null,
            "max_width": null,
            "min_height": null,
            "min_width": null,
            "object_fit": null,
            "object_position": null,
            "order": null,
            "overflow": null,
            "overflow_x": null,
            "overflow_y": null,
            "padding": null,
            "right": null,
            "top": null,
            "visibility": null,
            "width": null
          }
        },
        "43ff1c039e1341cb81243c0cf6beca0e": {
          "model_module": "jupyter-leaflet",
          "model_module_version": "^0.17",
          "model_name": "LeafletMapModel",
          "state": {
            "_dom_classes": [],
            "_model_module": "jupyter-leaflet",
            "_model_module_version": "^0.17",
            "_model_name": "LeafletMapModel",
            "_view_count": null,
            "_view_module": "jupyter-leaflet",
            "_view_module_version": "^0.17",
            "_view_name": "LeafletMapView",
            "bottom": 2194,
            "bounce_at_zoom_limits": true,
            "box_zoom": true,
            "center": [
              13.410994034321702,
              42.323406254534035
            ],
            "close_popup_on_click": true,
            "controls": [
              "IPY_MODEL_57c1a4851e65444ba1aac60d7e64c1ad",
              "IPY_MODEL_ae3be7ee378f415fbf18fca8918627f1",
              "IPY_MODEL_34d53323558644de9f404a2b2810c738",
              "IPY_MODEL_28d9827800cd45b79d3a075e1e9cd528",
              "IPY_MODEL_f8041787fcc24337851de559b8c66d28",
              "IPY_MODEL_a132a605eb344b60b2f706fad61c4869",
              "IPY_MODEL_784807144f9042a7b1f2ad33ea6eaf9c",
              "IPY_MODEL_3a211200c68c458d9dc80369191affde",
              "IPY_MODEL_4e6a0e21ccf0496da903ac6e7de16bd6",
              "IPY_MODEL_f186a22e37de4c0988d78f6db50af759"
            ],
            "crs": {
              "custom": false,
              "name": "EPSG3857"
            },
            "default_style": "IPY_MODEL_b25a67e19e254d49827c2c7086011dca",
            "double_click_zoom": true,
            "dragging": true,
            "dragging_style": "IPY_MODEL_a169ba3909134367b0584f24245f2658",
            "east": 138.78336719203404,
            "fullscreen": false,
            "inertia": true,
            "inertia_deceleration": 3000,
            "inertia_max_speed": 1500,
            "interpolation": "bilinear",
            "keyboard": true,
            "keyboard_pan_offset": 80,
            "keyboard_zoom_offset": 1,
            "layers": [
              "IPY_MODEL_a9a8fd2ef57a49fcaf53e566ee4c1618",
              "IPY_MODEL_1b7caef1737d45be9b91fee9b934272a",
              "IPY_MODEL_b4b339de33e84c47b8db7a7609571e3e"
            ],
            "layout": "IPY_MODEL_acb608bef8a844dca90fcbf85b7bbda4",
            "left": 1432.0463111626982,
            "max_zoom": 24,
            "min_zoom": null,
            "modisdate": "2023-10-30",
            "north": 37.020098201368114,
            "options": [
              "bounce_at_zoom_limits",
              "box_zoom",
              "center",
              "close_popup_on_click",
              "double_click_zoom",
              "dragging",
              "fullscreen",
              "inertia",
              "inertia_deceleration",
              "inertia_max_speed",
              "interpolation",
              "keyboard",
              "keyboard_pan_offset",
              "keyboard_zoom_offset",
              "max_zoom",
              "min_zoom",
              "prefer_canvas",
              "scroll_wheel_zoom",
              "tap",
              "tap_tolerance",
              "touch_zoom",
              "world_copy_jump",
              "zoom",
              "zoom_animation_threshold",
              "zoom_delta",
              "zoom_snap"
            ],
            "panes": {},
            "prefer_canvas": false,
            "right": 3627.046311162698,
            "scroll_wheel_zoom": true,
            "south": -12.726084296948184,
            "style": "IPY_MODEL_b25a67e19e254d49827c2c7086011dca",
            "tap": true,
            "tap_tolerance": 15,
            "top": 1594,
            "touch_zoom": true,
            "west": -54.136554682965986,
            "window_url": "https://6f74ztad37-496ff2e9c6d22116-0-colab.googleusercontent.com/outputframe.html?vrz=colab_20231027-060115_RC00_577154386",
            "world_copy_jump": false,
            "zoom": 4,
            "zoom_animation_threshold": 4,
            "zoom_delta": 1,
            "zoom_snap": 1
          }
        },
        "4840a18b4df148b2aa42453fcfcdd53a": {
          "model_module": "@jupyter-widgets/controls",
          "model_module_version": "1.5.0",
          "model_name": "ButtonModel",
          "state": {
            "_dom_classes": [],
            "_model_module": "@jupyter-widgets/controls",
            "_model_module_version": "1.5.0",
            "_model_name": "ButtonModel",
            "_view_count": null,
            "_view_module": "@jupyter-widgets/controls",
            "_view_module_version": "1.5.0",
            "_view_name": "ButtonView",
            "button_style": "success",
            "description": "Download TIFF",
            "disabled": false,
            "icon": "",
            "layout": "IPY_MODEL_27c94bab4af3426db5f8d174d8ace410",
            "style": "IPY_MODEL_4f8bc909fd884e5d9c34297a56a4954f",
            "tooltip": ""
          }
        },
        "4ccad665aefd4aec9717bd530c2d6149": {
          "model_module": "@jupyter-widgets/base",
          "model_module_version": "1.2.0",
          "model_name": "LayoutModel",
          "state": {
            "_model_module": "@jupyter-widgets/base",
            "_model_module_version": "1.2.0",
            "_model_name": "LayoutModel",
            "_view_count": null,
            "_view_module": "@jupyter-widgets/base",
            "_view_module_version": "1.2.0",
            "_view_name": "LayoutView",
            "align_content": null,
            "align_items": null,
            "align_self": null,
            "border": null,
            "bottom": null,
            "display": null,
            "flex": null,
            "flex_flow": null,
            "grid_area": null,
            "grid_auto_columns": null,
            "grid_auto_flow": null,
            "grid_auto_rows": null,
            "grid_column": null,
            "grid_gap": null,
            "grid_row": null,
            "grid_template_areas": null,
            "grid_template_columns": null,
            "grid_template_rows": null,
            "height": null,
            "justify_content": null,
            "justify_items": null,
            "left": null,
            "margin": null,
            "max_height": null,
            "max_width": null,
            "min_height": null,
            "min_width": null,
            "object_fit": null,
            "object_position": null,
            "order": null,
            "overflow": null,
            "overflow_x": null,
            "overflow_y": null,
            "padding": null,
            "right": null,
            "top": null,
            "visibility": null,
            "width": null
          }
        },
        "4e6a0e21ccf0496da903ac6e7de16bd6": {
          "model_module": "jupyter-leaflet",
          "model_module_version": "^0.17",
          "model_name": "LeafletWidgetControlModel",
          "state": {
            "_model_module": "jupyter-leaflet",
            "_model_module_version": "^0.17",
            "_model_name": "LeafletWidgetControlModel",
            "_view_count": null,
            "_view_module": "jupyter-leaflet",
            "_view_module_version": "^0.17",
            "_view_name": "LeafletWidgetControlView",
            "max_height": null,
            "max_width": null,
            "min_height": null,
            "min_width": null,
            "options": [
              "position",
              "transparent_bg"
            ],
            "position": "bottomright",
            "transparent_bg": false,
            "widget": "IPY_MODEL_278c355951da42cc88af7e24eea93355"
          }
        },
        "4f8bc909fd884e5d9c34297a56a4954f": {
          "model_module": "@jupyter-widgets/controls",
          "model_module_version": "1.5.0",
          "model_name": "ButtonStyleModel",
          "state": {
            "_model_module": "@jupyter-widgets/controls",
            "_model_module_version": "1.5.0",
            "_model_name": "ButtonStyleModel",
            "_view_count": null,
            "_view_module": "@jupyter-widgets/base",
            "_view_module_version": "1.2.0",
            "_view_name": "StyleView",
            "button_color": null,
            "font_weight": ""
          }
        },
        "5131dbfb83e040c393a40e54dbc91af7": {
          "model_module": "@jupyter-widgets/base",
          "model_module_version": "1.2.0",
          "model_name": "LayoutModel",
          "state": {
            "_model_module": "@jupyter-widgets/base",
            "_model_module_version": "1.2.0",
            "_model_name": "LayoutModel",
            "_view_count": null,
            "_view_module": "@jupyter-widgets/base",
            "_view_module_version": "1.2.0",
            "_view_name": "LayoutView",
            "align_content": null,
            "align_items": null,
            "align_self": null,
            "border": null,
            "bottom": null,
            "display": null,
            "flex": null,
            "flex_flow": null,
            "grid_area": null,
            "grid_auto_columns": null,
            "grid_auto_flow": null,
            "grid_auto_rows": null,
            "grid_column": null,
            "grid_gap": null,
            "grid_row": null,
            "grid_template_areas": null,
            "grid_template_columns": null,
            "grid_template_rows": null,
            "height": null,
            "justify_content": null,
            "justify_items": null,
            "left": null,
            "margin": null,
            "max_height": null,
            "max_width": null,
            "min_height": null,
            "min_width": null,
            "object_fit": null,
            "object_position": null,
            "order": null,
            "overflow": null,
            "overflow_x": null,
            "overflow_y": null,
            "padding": null,
            "right": null,
            "top": null,
            "visibility": null,
            "width": null
          }
        },
        "515a4f0ad15a44a3b419a8c8d83323fe": {
          "model_module": "@jupyter-widgets/controls",
          "model_module_version": "1.5.0",
          "model_name": "HBoxModel",
          "state": {
            "_dom_classes": [
              "geemap-colab"
            ],
            "_model_module": "@jupyter-widgets/controls",
            "_model_module_version": "1.5.0",
            "_model_name": "HBoxModel",
            "_view_count": null,
            "_view_module": "@jupyter-widgets/controls",
            "_view_module_version": "1.5.0",
            "_view_name": "HBoxView",
            "box_style": "",
            "children": [
              "IPY_MODEL_a04260cb2f2d4e038c10b610bccb8534"
            ],
            "layout": "IPY_MODEL_909e0ae459d3405b98250dcf7831d634"
          }
        },
        "51f82aebb278421688df03118c9dd22f": {
          "model_module": "@jupyter-widgets/controls",
          "model_module_version": "1.5.0",
          "model_name": "DatePickerModel",
          "state": {
            "_dom_classes": [],
            "_model_module": "@jupyter-widgets/controls",
            "_model_module_version": "1.5.0",
            "_model_name": "DatePickerModel",
            "_view_count": null,
            "_view_module": "@jupyter-widgets/controls",
            "_view_module_version": "1.5.0",
            "_view_name": "DatePickerView",
            "description": "End Date:",
            "description_tooltip": null,
            "disabled": true,
            "layout": "IPY_MODEL_ef9d470a2cd4400db90200475c706976",
            "style": "IPY_MODEL_cb76f2e06bb4414eb3605617a31992f6",
            "value": null
          }
        },
        "57c1a4851e65444ba1aac60d7e64c1ad": {
          "model_module": "jupyter-leaflet",
          "model_module_version": "^0.17",
          "model_name": "LeafletWidgetControlModel",
          "state": {
            "_model_module": "jupyter-leaflet",
            "_model_module_version": "^0.17",
            "_model_name": "LeafletWidgetControlModel",
            "_view_count": null,
            "_view_module": "jupyter-leaflet",
            "_view_module_version": "^0.17",
            "_view_name": "LeafletWidgetControlView",
            "max_height": null,
            "max_width": null,
            "min_height": null,
            "min_width": null,
            "options": [
              "position",
              "transparent_bg"
            ],
            "position": "topleft",
            "transparent_bg": false,
            "widget": "IPY_MODEL_515a4f0ad15a44a3b419a8c8d83323fe"
          }
        },
        "60f793d171d94fe6af3a709b32d055be": {
          "model_module": "@jupyter-widgets/controls",
          "model_module_version": "1.5.0",
          "model_name": "ButtonStyleModel",
          "state": {
            "_model_module": "@jupyter-widgets/controls",
            "_model_module_version": "1.5.0",
            "_model_name": "ButtonStyleModel",
            "_view_count": null,
            "_view_module": "@jupyter-widgets/base",
            "_view_module_version": "1.2.0",
            "_view_name": "StyleView",
            "button_color": null,
            "font_weight": ""
          }
        },
        "65a1e86dbeff479ea3bb9bb26c1c7d9a": {
          "model_module": "@jupyter-widgets/base",
          "model_module_version": "1.2.0",
          "model_name": "LayoutModel",
          "state": {
            "_model_module": "@jupyter-widgets/base",
            "_model_module_version": "1.2.0",
            "_model_name": "LayoutModel",
            "_view_count": null,
            "_view_module": "@jupyter-widgets/base",
            "_view_module_version": "1.2.0",
            "_view_name": "LayoutView",
            "align_content": null,
            "align_items": null,
            "align_self": null,
            "border": null,
            "bottom": null,
            "display": null,
            "flex": null,
            "flex_flow": null,
            "grid_area": null,
            "grid_auto_columns": null,
            "grid_auto_flow": null,
            "grid_auto_rows": null,
            "grid_column": null,
            "grid_gap": null,
            "grid_row": null,
            "grid_template_areas": null,
            "grid_template_columns": null,
            "grid_template_rows": null,
            "height": null,
            "justify_content": null,
            "justify_items": null,
            "left": null,
            "margin": null,
            "max_height": null,
            "max_width": null,
            "min_height": null,
            "min_width": null,
            "object_fit": null,
            "object_position": null,
            "order": null,
            "overflow": null,
            "overflow_x": null,
            "overflow_y": null,
            "padding": null,
            "right": null,
            "top": null,
            "visibility": null,
            "width": null
          }
        },
        "6640bfc5689c49d689557e7d55fd4b8e": {
          "model_module": "@jupyter-widgets/controls",
          "model_module_version": "1.5.0",
          "model_name": "DescriptionStyleModel",
          "state": {
            "_model_module": "@jupyter-widgets/controls",
            "_model_module_version": "1.5.0",
            "_model_name": "DescriptionStyleModel",
            "_view_count": null,
            "_view_module": "@jupyter-widgets/base",
            "_view_module_version": "1.2.0",
            "_view_name": "StyleView",
            "description_width": "initial"
          }
        },
        "697baa7a12d74fff88f4dd5fc73c7d78": {
          "model_module": "@jupyter-widgets/controls",
          "model_module_version": "1.5.0",
          "model_name": "ButtonStyleModel",
          "state": {
            "_model_module": "@jupyter-widgets/controls",
            "_model_module_version": "1.5.0",
            "_model_name": "ButtonStyleModel",
            "_view_count": null,
            "_view_module": "@jupyter-widgets/base",
            "_view_module_version": "1.2.0",
            "_view_name": "StyleView",
            "button_color": null,
            "font_weight": ""
          }
        },
        "6c5b397c45f340119351e7019b79b052": {
          "model_module": "@jupyter-widgets/controls",
          "model_module_version": "1.5.0",
          "model_name": "ButtonModel",
          "state": {
            "_dom_classes": [],
            "_model_module": "@jupyter-widgets/controls",
            "_model_module_version": "1.5.0",
            "_model_name": "ButtonModel",
            "_view_count": null,
            "_view_module": "@jupyter-widgets/controls",
            "_view_module_version": "1.5.0",
            "_view_name": "ButtonView",
            "button_style": "info",
            "description": "Download Data",
            "disabled": false,
            "icon": "",
            "layout": "IPY_MODEL_17f0ca8c5a58452fb865edb973873318",
            "style": "IPY_MODEL_757f82cc1edb4e559bcd6648d6a161e4",
            "tooltip": ""
          }
        },
        "723e4e0b277e464faed9a7a62c557bff": {
          "model_module": "@jupyter-widgets/controls",
          "model_module_version": "1.5.0",
          "model_name": "DatePickerModel",
          "state": {
            "_dom_classes": [],
            "_model_module": "@jupyter-widgets/controls",
            "_model_module_version": "1.5.0",
            "_model_name": "DatePickerModel",
            "_view_count": null,
            "_view_module": "@jupyter-widgets/controls",
            "_view_module_version": "1.5.0",
            "_view_name": "DatePickerView",
            "description": "Start Date:",
            "description_tooltip": null,
            "disabled": true,
            "layout": "IPY_MODEL_bd1e7a10f198488d8bc3fe9206e928d0",
            "style": "IPY_MODEL_28b39675ee024e58b050256462cfadaf",
            "value": null
          }
        },
        "72e471bba2f649faaeccca15659f1c52": {
          "model_module": "@jupyter-widgets/controls",
          "model_module_version": "1.5.0",
          "model_name": "ButtonStyleModel",
          "state": {
            "_model_module": "@jupyter-widgets/controls",
            "_model_module_version": "1.5.0",
            "_model_name": "ButtonStyleModel",
            "_view_count": null,
            "_view_module": "@jupyter-widgets/base",
            "_view_module_version": "1.2.0",
            "_view_name": "StyleView",
            "button_color": null,
            "font_weight": ""
          }
        },
        "757f82cc1edb4e559bcd6648d6a161e4": {
          "model_module": "@jupyter-widgets/controls",
          "model_module_version": "1.5.0",
          "model_name": "ButtonStyleModel",
          "state": {
            "_model_module": "@jupyter-widgets/controls",
            "_model_module_version": "1.5.0",
            "_model_name": "ButtonStyleModel",
            "_view_count": null,
            "_view_module": "@jupyter-widgets/base",
            "_view_module_version": "1.2.0",
            "_view_name": "StyleView",
            "button_color": null,
            "font_weight": ""
          }
        },
        "76b0f2eb8914493581235d0f6d35a499": {
          "model_module": "@jupyter-widgets/base",
          "model_module_version": "1.2.0",
          "model_name": "LayoutModel",
          "state": {
            "_model_module": "@jupyter-widgets/base",
            "_model_module_version": "1.2.0",
            "_model_name": "LayoutModel",
            "_view_count": null,
            "_view_module": "@jupyter-widgets/base",
            "_view_module_version": "1.2.0",
            "_view_name": "LayoutView",
            "align_content": null,
            "align_items": null,
            "align_self": null,
            "border": "4px solid blue",
            "bottom": null,
            "display": null,
            "flex": null,
            "flex_flow": null,
            "grid_area": null,
            "grid_auto_columns": null,
            "grid_auto_flow": null,
            "grid_auto_rows": null,
            "grid_column": null,
            "grid_gap": null,
            "grid_row": null,
            "grid_template_areas": null,
            "grid_template_columns": null,
            "grid_template_rows": null,
            "height": null,
            "justify_content": null,
            "justify_items": null,
            "left": null,
            "margin": null,
            "max_height": null,
            "max_width": null,
            "min_height": null,
            "min_width": null,
            "object_fit": null,
            "object_position": null,
            "order": null,
            "overflow": null,
            "overflow_x": null,
            "overflow_y": null,
            "padding": null,
            "right": null,
            "top": null,
            "visibility": null,
            "width": null
          }
        },
        "784807144f9042a7b1f2ad33ea6eaf9c": {
          "model_module": "jupyter-leaflet",
          "model_module_version": "^0.17",
          "model_name": "LeafletWidgetControlModel",
          "state": {
            "_model_module": "jupyter-leaflet",
            "_model_module_version": "^0.17",
            "_model_name": "LeafletWidgetControlModel",
            "_view_count": null,
            "_view_module": "jupyter-leaflet",
            "_view_module_version": "^0.17",
            "_view_name": "LeafletWidgetControlView",
            "max_height": null,
            "max_width": null,
            "min_height": null,
            "min_width": null,
            "options": [
              "position",
              "transparent_bg"
            ],
            "position": "topright",
            "transparent_bg": false,
            "widget": "IPY_MODEL_df17d76468dd41ddad90943f3b888eb6"
          }
        },
        "7d89c0c96c7b4ebca4271cddfeced1ba": {
          "model_module": "@jupyter-widgets/controls",
          "model_module_version": "1.5.0",
          "model_name": "DescriptionStyleModel",
          "state": {
            "_model_module": "@jupyter-widgets/controls",
            "_model_module_version": "1.5.0",
            "_model_name": "DescriptionStyleModel",
            "_view_count": null,
            "_view_module": "@jupyter-widgets/base",
            "_view_module_version": "1.2.0",
            "_view_name": "StyleView",
            "description_width": ""
          }
        },
        "812af4328ab54f1d8873205f65eb32c5": {
          "model_module": "@jupyter-widgets/base",
          "model_module_version": "1.2.0",
          "model_name": "LayoutModel",
          "state": {
            "_model_module": "@jupyter-widgets/base",
            "_model_module_version": "1.2.0",
            "_model_name": "LayoutModel",
            "_view_count": null,
            "_view_module": "@jupyter-widgets/base",
            "_view_module_version": "1.2.0",
            "_view_name": "LayoutView",
            "align_content": null,
            "align_items": null,
            "align_self": null,
            "border": null,
            "bottom": null,
            "display": null,
            "flex": null,
            "flex_flow": null,
            "grid_area": null,
            "grid_auto_columns": null,
            "grid_auto_flow": null,
            "grid_auto_rows": null,
            "grid_column": null,
            "grid_gap": null,
            "grid_row": null,
            "grid_template_areas": null,
            "grid_template_columns": null,
            "grid_template_rows": null,
            "height": null,
            "justify_content": null,
            "justify_items": null,
            "left": null,
            "margin": null,
            "max_height": null,
            "max_width": null,
            "min_height": null,
            "min_width": null,
            "object_fit": null,
            "object_position": null,
            "order": null,
            "overflow": null,
            "overflow_x": null,
            "overflow_y": null,
            "padding": null,
            "right": null,
            "top": null,
            "visibility": null,
            "width": null
          }
        },
        "85be33b429bb4555b6d770a72466a1b9": {
          "model_module": "@jupyter-widgets/base",
          "model_module_version": "1.2.0",
          "model_name": "LayoutModel",
          "state": {
            "_model_module": "@jupyter-widgets/base",
            "_model_module_version": "1.2.0",
            "_model_name": "LayoutModel",
            "_view_count": null,
            "_view_module": "@jupyter-widgets/base",
            "_view_module_version": "1.2.0",
            "_view_name": "LayoutView",
            "align_content": null,
            "align_items": null,
            "align_self": null,
            "border": null,
            "bottom": null,
            "display": null,
            "flex": null,
            "flex_flow": null,
            "grid_area": null,
            "grid_auto_columns": null,
            "grid_auto_flow": null,
            "grid_auto_rows": null,
            "grid_column": null,
            "grid_gap": null,
            "grid_row": null,
            "grid_template_areas": null,
            "grid_template_columns": null,
            "grid_template_rows": null,
            "height": null,
            "justify_content": null,
            "justify_items": null,
            "left": null,
            "margin": null,
            "max_height": null,
            "max_width": null,
            "min_height": null,
            "min_width": null,
            "object_fit": null,
            "object_position": null,
            "order": null,
            "overflow": null,
            "overflow_x": null,
            "overflow_y": null,
            "padding": null,
            "right": null,
            "top": null,
            "visibility": null,
            "width": null
          }
        },
        "8617a3cb11f3418bb8c7ca7eccf5175f": {
          "model_module": "@jupyter-widgets/base",
          "model_module_version": "1.2.0",
          "model_name": "LayoutModel",
          "state": {
            "_model_module": "@jupyter-widgets/base",
            "_model_module_version": "1.2.0",
            "_model_name": "LayoutModel",
            "_view_count": null,
            "_view_module": "@jupyter-widgets/base",
            "_view_module_version": "1.2.0",
            "_view_name": "LayoutView",
            "align_content": null,
            "align_items": null,
            "align_self": null,
            "border": null,
            "bottom": null,
            "display": null,
            "flex": null,
            "flex_flow": null,
            "grid_area": null,
            "grid_auto_columns": null,
            "grid_auto_flow": null,
            "grid_auto_rows": null,
            "grid_column": null,
            "grid_gap": null,
            "grid_row": null,
            "grid_template_areas": null,
            "grid_template_columns": null,
            "grid_template_rows": null,
            "height": "28px",
            "justify_content": null,
            "justify_items": null,
            "left": null,
            "margin": null,
            "max_height": null,
            "max_width": null,
            "min_height": null,
            "min_width": null,
            "object_fit": null,
            "object_position": null,
            "order": null,
            "overflow": null,
            "overflow_x": null,
            "overflow_y": null,
            "padding": "0px 0px 0px 4px",
            "right": null,
            "top": null,
            "visibility": null,
            "width": "28px"
          }
        },
        "87781b2a9642447382538de3e51602c3": {
          "model_module": "@jupyter-widgets/output",
          "model_module_version": "1.0.0",
          "model_name": "OutputModel",
          "state": {
            "_dom_classes": [],
            "_model_module": "@jupyter-widgets/output",
            "_model_module_version": "1.0.0",
            "_model_name": "OutputModel",
            "_view_count": null,
            "_view_module": "@jupyter-widgets/output",
            "_view_module_version": "1.0.0",
            "_view_name": "OutputView",
            "layout": "IPY_MODEL_85be33b429bb4555b6d770a72466a1b9",
            "msg_id": "",
            "outputs": [
              {
                "data": {
                  "image/png": "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\n",
                  "text/plain": "<Figure size 1000x600 with 2 Axes>"
                },
                "metadata": {},
                "output_type": "display_data"
              }
            ]
          }
        },
        "89b04ca9ecdf490fbfc6b18e03267b86": {
          "model_module": "@jupyter-widgets/controls",
          "model_module_version": "1.5.0",
          "model_name": "TextareaModel",
          "state": {
            "_dom_classes": [],
            "_model_module": "@jupyter-widgets/controls",
            "_model_module_version": "1.5.0",
            "_model_name": "TextareaModel",
            "_view_count": null,
            "_view_module": "@jupyter-widgets/controls",
            "_view_module_version": "1.5.0",
            "_view_name": "TextareaView",
            "continuous_update": true,
            "description": "Dates:",
            "description_tooltip": null,
            "disabled": true,
            "layout": "IPY_MODEL_23bbc0a287e24eca9774db1ae799e921",
            "placeholder": "Available MERRA dates will be displayed here.",
            "rows": null,
            "style": "IPY_MODEL_af520257143f4673bf07e0bd412d492e",
            "value": "2023-09-28\n2023-09-29\n2023-09-30"
          }
        },
        "8b7504a0c7194684ad34680881b36921": {
          "model_module": "@jupyter-widgets/controls",
          "model_module_version": "1.5.0",
          "model_name": "ToggleButtonModel",
          "state": {
            "_dom_classes": [],
            "_model_module": "@jupyter-widgets/controls",
            "_model_module_version": "1.5.0",
            "_model_name": "ToggleButtonModel",
            "_view_count": null,
            "_view_module": "@jupyter-widgets/controls",
            "_view_module_version": "1.5.0",
            "_view_name": "ToggleButtonView",
            "button_style": "",
            "description": "",
            "description_tooltip": null,
            "disabled": false,
            "icon": "wrench",
            "layout": "IPY_MODEL_8617a3cb11f3418bb8c7ca7eccf5175f",
            "style": "IPY_MODEL_bb0e887a624a4cd79099d1e8fe3e33e7",
            "tooltip": "Toolbar",
            "value": false
          }
        },
        "8c0f243044784119b138a672703a67e3": {
          "model_module": "@jupyter-widgets/controls",
          "model_module_version": "1.5.0",
          "model_name": "ButtonModel",
          "state": {
            "_dom_classes": [],
            "_model_module": "@jupyter-widgets/controls",
            "_model_module_version": "1.5.0",
            "_model_name": "ButtonModel",
            "_view_count": null,
            "_view_module": "@jupyter-widgets/controls",
            "_view_module_version": "1.5.0",
            "_view_name": "ButtonView",
            "button_style": "warning",
            "description": "Asset Export",
            "disabled": false,
            "icon": "",
            "layout": "IPY_MODEL_e6da2677b6b141a293495ecc53dbe5e1",
            "style": "IPY_MODEL_2ad8ad95ed194f68bd206d5cb53a9d10",
            "tooltip": ""
          }
        },
        "909e0ae459d3405b98250dcf7831d634": {
          "model_module": "@jupyter-widgets/base",
          "model_module_version": "1.2.0",
          "model_name": "LayoutModel",
          "state": {
            "_model_module": "@jupyter-widgets/base",
            "_model_module_version": "1.2.0",
            "_model_name": "LayoutModel",
            "_view_count": null,
            "_view_module": "@jupyter-widgets/base",
            "_view_module_version": "1.2.0",
            "_view_name": "LayoutView",
            "align_content": null,
            "align_items": null,
            "align_self": null,
            "border": null,
            "bottom": null,
            "display": null,
            "flex": null,
            "flex_flow": null,
            "grid_area": null,
            "grid_auto_columns": null,
            "grid_auto_flow": null,
            "grid_auto_rows": null,
            "grid_column": null,
            "grid_gap": null,
            "grid_row": null,
            "grid_template_areas": null,
            "grid_template_columns": null,
            "grid_template_rows": null,
            "height": null,
            "justify_content": null,
            "justify_items": null,
            "left": null,
            "margin": null,
            "max_height": null,
            "max_width": null,
            "min_height": null,
            "min_width": null,
            "object_fit": null,
            "object_position": null,
            "order": null,
            "overflow": null,
            "overflow_x": null,
            "overflow_y": null,
            "padding": null,
            "right": null,
            "top": null,
            "visibility": null,
            "width": null
          }
        },
        "91d9234f57474d139e8b6fd0c84a5653": {
          "model_module": "@jupyter-widgets/base",
          "model_module_version": "1.2.0",
          "model_name": "LayoutModel",
          "state": {
            "_model_module": "@jupyter-widgets/base",
            "_model_module_version": "1.2.0",
            "_model_name": "LayoutModel",
            "_view_count": null,
            "_view_module": "@jupyter-widgets/base",
            "_view_module_version": "1.2.0",
            "_view_name": "LayoutView",
            "align_content": null,
            "align_items": null,
            "align_self": null,
            "border": null,
            "bottom": null,
            "display": null,
            "flex": null,
            "flex_flow": null,
            "grid_area": null,
            "grid_auto_columns": null,
            "grid_auto_flow": null,
            "grid_auto_rows": null,
            "grid_column": null,
            "grid_gap": null,
            "grid_row": null,
            "grid_template_areas": null,
            "grid_template_columns": null,
            "grid_template_rows": null,
            "height": null,
            "justify_content": null,
            "justify_items": null,
            "left": null,
            "margin": null,
            "max_height": null,
            "max_width": null,
            "min_height": null,
            "min_width": null,
            "object_fit": null,
            "object_position": null,
            "order": null,
            "overflow": null,
            "overflow_x": null,
            "overflow_y": null,
            "padding": null,
            "right": null,
            "top": null,
            "visibility": null,
            "width": null
          }
        },
        "942eb11195934380bfebc39b2634b197": {
          "model_module": "@jupyter-widgets/controls",
          "model_module_version": "1.5.0",
          "model_name": "DescriptionStyleModel",
          "state": {
            "_model_module": "@jupyter-widgets/controls",
            "_model_module_version": "1.5.0",
            "_model_name": "DescriptionStyleModel",
            "_view_count": null,
            "_view_module": "@jupyter-widgets/base",
            "_view_module_version": "1.2.0",
            "_view_name": "StyleView",
            "description_width": ""
          }
        },
        "96a287af623a476b9cd40ba878b1516e": {
          "model_module": "@jupyter-widgets/controls",
          "model_module_version": "1.5.0",
          "model_name": "ButtonModel",
          "state": {
            "_dom_classes": [],
            "_model_module": "@jupyter-widgets/controls",
            "_model_module_version": "1.5.0",
            "_model_name": "ButtonModel",
            "_view_count": null,
            "_view_module": "@jupyter-widgets/controls",
            "_view_module_version": "1.5.0",
            "_view_name": "ButtonView",
            "button_style": "info",
            "description": "Show Statistics",
            "disabled": false,
            "icon": "",
            "layout": "IPY_MODEL_91d9234f57474d139e8b6fd0c84a5653",
            "style": "IPY_MODEL_60f793d171d94fe6af3a709b32d055be",
            "tooltip": ""
          }
        },
        "a04260cb2f2d4e038c10b610bccb8534": {
          "model_module": "@jupyter-widgets/controls",
          "model_module_version": "1.5.0",
          "model_name": "ToggleButtonModel",
          "state": {
            "_dom_classes": [],
            "_model_module": "@jupyter-widgets/controls",
            "_model_module_version": "1.5.0",
            "_model_name": "ToggleButtonModel",
            "_view_count": null,
            "_view_module": "@jupyter-widgets/controls",
            "_view_module_version": "1.5.0",
            "_view_name": "ToggleButtonView",
            "button_style": "",
            "description": "",
            "description_tooltip": null,
            "disabled": false,
            "icon": "globe",
            "layout": "IPY_MODEL_ef1f4f4a67dc47e68e2a3d9d0645fc77",
            "style": "IPY_MODEL_023a428ad908497e8a9ca2befd9f6b0d",
            "tooltip": "Search location/data",
            "value": false
          }
        },
        "a132a605eb344b60b2f706fad61c4869": {
          "model_module": "jupyter-leaflet",
          "model_module_version": "^0.17",
          "model_name": "LeafletMeasureControlModel",
          "state": {
            "_custom_units": {},
            "_model_module": "jupyter-leaflet",
            "_model_module_version": "^0.17",
            "_model_name": "LeafletMeasureControlModel",
            "_view_count": null,
            "_view_module": "jupyter-leaflet",
            "_view_module_version": "^0.17",
            "_view_name": "LeafletMeasureControlView",
            "active_color": "orange",
            "capture_z_index": 10000,
            "completed_color": "#C8F2BE",
            "options": [
              "active_color",
              "capture_z_index",
              "completed_color",
              "popup_options",
              "position",
              "primary_area_unit",
              "primary_length_unit",
              "secondary_area_unit",
              "secondary_length_unit"
            ],
            "popup_options": {
              "autoPanPadding": [
                10,
                10
              ],
              "className": "leaflet-measure-resultpopup"
            },
            "position": "bottomleft",
            "primary_area_unit": "acres",
            "primary_length_unit": "kilometers",
            "secondary_area_unit": null,
            "secondary_length_unit": null
          }
        },
        "a169ba3909134367b0584f24245f2658": {
          "model_module": "jupyter-leaflet",
          "model_module_version": "^0.17",
          "model_name": "LeafletMapStyleModel",
          "state": {
            "_model_module": "jupyter-leaflet",
            "_model_module_version": "^0.17",
            "_model_name": "LeafletMapStyleModel",
            "_view_count": null,
            "_view_module": "@jupyter-widgets/base",
            "_view_module_version": "1.2.0",
            "_view_name": "StyleView",
            "cursor": "move"
          }
        },
        "a20f7dd7a3dd475bad4503fde2c45d2a": {
          "model_module": "@jupyter-widgets/base",
          "model_module_version": "1.2.0",
          "model_name": "LayoutModel",
          "state": {
            "_model_module": "@jupyter-widgets/base",
            "_model_module_version": "1.2.0",
            "_model_name": "LayoutModel",
            "_view_count": null,
            "_view_module": "@jupyter-widgets/base",
            "_view_module_version": "1.2.0",
            "_view_name": "LayoutView",
            "align_content": null,
            "align_items": null,
            "align_self": null,
            "border": null,
            "bottom": null,
            "display": null,
            "flex": null,
            "flex_flow": null,
            "grid_area": null,
            "grid_auto_columns": null,
            "grid_auto_flow": null,
            "grid_auto_rows": null,
            "grid_column": null,
            "grid_gap": null,
            "grid_row": null,
            "grid_template_areas": null,
            "grid_template_columns": null,
            "grid_template_rows": null,
            "height": null,
            "justify_content": null,
            "justify_items": null,
            "left": null,
            "margin": null,
            "max_height": null,
            "max_width": null,
            "min_height": null,
            "min_width": null,
            "object_fit": null,
            "object_position": null,
            "order": null,
            "overflow": null,
            "overflow_x": null,
            "overflow_y": null,
            "padding": null,
            "right": null,
            "top": null,
            "visibility": null,
            "width": null
          }
        },
        "a3703291ee9e4a74b1c59665630e45b7": {
          "model_module": "@jupyter-widgets/base",
          "model_module_version": "1.2.0",
          "model_name": "LayoutModel",
          "state": {
            "_model_module": "@jupyter-widgets/base",
            "_model_module_version": "1.2.0",
            "_model_name": "LayoutModel",
            "_view_count": null,
            "_view_module": "@jupyter-widgets/base",
            "_view_module_version": "1.2.0",
            "_view_name": "LayoutView",
            "align_content": null,
            "align_items": null,
            "align_self": null,
            "border": null,
            "bottom": null,
            "display": null,
            "flex": null,
            "flex_flow": null,
            "grid_area": null,
            "grid_auto_columns": null,
            "grid_auto_flow": null,
            "grid_auto_rows": null,
            "grid_column": null,
            "grid_gap": null,
            "grid_row": null,
            "grid_template_areas": null,
            "grid_template_columns": null,
            "grid_template_rows": null,
            "height": null,
            "justify_content": null,
            "justify_items": null,
            "left": null,
            "margin": null,
            "max_height": null,
            "max_width": null,
            "min_height": null,
            "min_width": null,
            "object_fit": null,
            "object_position": null,
            "order": null,
            "overflow": null,
            "overflow_x": null,
            "overflow_y": null,
            "padding": null,
            "right": null,
            "top": null,
            "visibility": null,
            "width": null
          }
        },
        "a9a8fd2ef57a49fcaf53e566ee4c1618": {
          "model_module": "jupyter-leaflet",
          "model_module_version": "^0.17",
          "model_name": "LeafletTileLayerModel",
          "state": {
            "_model_module": "jupyter-leaflet",
            "_model_module_version": "^0.17",
            "_model_name": "LeafletTileLayerModel",
            "_view_count": null,
            "_view_module": "jupyter-leaflet",
            "_view_module_version": "^0.17",
            "_view_name": "LeafletTileLayerView",
            "attribution": "&copy; <a href=\"https://www.openstreetmap.org/copyright\">OpenStreetMap</a> contributors",
            "base": true,
            "bottom": true,
            "bounds": null,
            "detect_retina": false,
            "loading": false,
            "max_native_zoom": null,
            "max_zoom": 19,
            "min_native_zoom": null,
            "min_zoom": 1,
            "name": "OpenStreetMap.Mapnik",
            "no_wrap": false,
            "opacity": 1,
            "options": [
              "attribution",
              "bounds",
              "detect_retina",
              "max_native_zoom",
              "max_zoom",
              "min_native_zoom",
              "min_zoom",
              "no_wrap",
              "tile_size",
              "tms",
              "zoom_offset"
            ],
            "pane": "",
            "popup": null,
            "popup_max_height": null,
            "popup_max_width": 300,
            "popup_min_width": 50,
            "show_loading": false,
            "subitems": [],
            "tile_size": 256,
            "tms": false,
            "url": "https://tile.openstreetmap.org/{z}/{x}/{y}.png",
            "visible": true,
            "zoom_offset": 0
          }
        },
        "abcaf0da4a634927bf8a2b9da778a928": {
          "model_module": "@jupyter-widgets/controls",
          "model_module_version": "1.5.0",
          "model_name": "ButtonModel",
          "state": {
            "_dom_classes": [],
            "_model_module": "@jupyter-widgets/controls",
            "_model_module_version": "1.5.0",
            "_model_name": "ButtonModel",
            "_view_count": null,
            "_view_module": "@jupyter-widgets/controls",
            "_view_module_version": "1.5.0",
            "_view_name": "ButtonView",
            "button_style": "info",
            "description": "Generate Plot",
            "disabled": false,
            "icon": "",
            "layout": "IPY_MODEL_5131dbfb83e040c393a40e54dbc91af7",
            "style": "IPY_MODEL_defe4a89e52a4266909f5daba479541a",
            "tooltip": ""
          }
        },
        "acb608bef8a844dca90fcbf85b7bbda4": {
          "model_module": "@jupyter-widgets/base",
          "model_module_version": "1.2.0",
          "model_name": "LayoutModel",
          "state": {
            "_model_module": "@jupyter-widgets/base",
            "_model_module_version": "1.2.0",
            "_model_name": "LayoutModel",
            "_view_count": null,
            "_view_module": "@jupyter-widgets/base",
            "_view_module_version": "1.2.0",
            "_view_name": "LayoutView",
            "align_content": null,
            "align_items": null,
            "align_self": null,
            "border": null,
            "bottom": null,
            "display": null,
            "flex": null,
            "flex_flow": null,
            "grid_area": null,
            "grid_auto_columns": null,
            "grid_auto_flow": null,
            "grid_auto_rows": null,
            "grid_column": null,
            "grid_gap": null,
            "grid_row": null,
            "grid_template_areas": null,
            "grid_template_columns": null,
            "grid_template_rows": null,
            "height": "600px",
            "justify_content": null,
            "justify_items": null,
            "left": null,
            "margin": null,
            "max_height": null,
            "max_width": null,
            "min_height": null,
            "min_width": null,
            "object_fit": null,
            "object_position": null,
            "order": null,
            "overflow": null,
            "overflow_x": null,
            "overflow_y": null,
            "padding": null,
            "right": null,
            "top": null,
            "visibility": null,
            "width": null
          }
        },
        "ae3be7ee378f415fbf18fca8918627f1": {
          "model_module": "jupyter-leaflet",
          "model_module_version": "^0.17",
          "model_name": "LeafletZoomControlModel",
          "state": {
            "_model_module": "jupyter-leaflet",
            "_model_module_version": "^0.17",
            "_model_name": "LeafletZoomControlModel",
            "_view_count": null,
            "_view_module": "jupyter-leaflet",
            "_view_module_version": "^0.17",
            "_view_name": "LeafletZoomControlView",
            "options": [
              "position",
              "zoom_in_text",
              "zoom_in_title",
              "zoom_out_text",
              "zoom_out_title"
            ],
            "position": "topleft",
            "zoom_in_text": "+",
            "zoom_in_title": "Zoom in",
            "zoom_out_text": "-",
            "zoom_out_title": "Zoom out"
          }
        },
        "af520257143f4673bf07e0bd412d492e": {
          "model_module": "@jupyter-widgets/controls",
          "model_module_version": "1.5.0",
          "model_name": "DescriptionStyleModel",
          "state": {
            "_model_module": "@jupyter-widgets/controls",
            "_model_module_version": "1.5.0",
            "_model_name": "DescriptionStyleModel",
            "_view_count": null,
            "_view_module": "@jupyter-widgets/base",
            "_view_module_version": "1.2.0",
            "_view_name": "StyleView",
            "description_width": ""
          }
        },
        "b25a67e19e254d49827c2c7086011dca": {
          "model_module": "jupyter-leaflet",
          "model_module_version": "^0.17",
          "model_name": "LeafletMapStyleModel",
          "state": {
            "_model_module": "jupyter-leaflet",
            "_model_module_version": "^0.17",
            "_model_name": "LeafletMapStyleModel",
            "_view_count": null,
            "_view_module": "@jupyter-widgets/base",
            "_view_module_version": "1.2.0",
            "_view_name": "StyleView",
            "cursor": "grab"
          }
        },
        "b4b339de33e84c47b8db7a7609571e3e": {
          "model_module": "jupyter-leaflet",
          "model_module_version": "^0.17",
          "model_name": "LeafletTileLayerModel",
          "state": {
            "_model_module": "jupyter-leaflet",
            "_model_module_version": "^0.17",
            "_model_name": "LeafletTileLayerModel",
            "_view_count": null,
            "_view_module": "jupyter-leaflet",
            "_view_module_version": "^0.17",
            "_view_name": "LeafletTileLayerView",
            "attribution": "Google Earth Engine",
            "base": false,
            "bottom": true,
            "bounds": null,
            "detect_retina": false,
            "loading": false,
            "max_native_zoom": null,
            "max_zoom": 24,
            "min_native_zoom": null,
            "min_zoom": 0,
            "name": "Drawn Features",
            "no_wrap": false,
            "opacity": 0.5,
            "options": [
              "attribution",
              "bounds",
              "detect_retina",
              "max_native_zoom",
              "max_zoom",
              "min_native_zoom",
              "min_zoom",
              "no_wrap",
              "tile_size",
              "tms",
              "zoom_offset"
            ],
            "pane": "",
            "popup": null,
            "popup_max_height": null,
            "popup_max_width": 300,
            "popup_min_width": 50,
            "show_loading": false,
            "subitems": [],
            "tile_size": 256,
            "tms": false,
            "url": "https://earthengine.googleapis.com/v1/projects/earthengine-legacy/maps/748f9156e849e20cdae47c6168d1e923-7325aceef39dc9adb6587c0856a83e67/tiles/{z}/{x}/{y}",
            "visible": false,
            "zoom_offset": 0
          }
        },
        "bb0e887a624a4cd79099d1e8fe3e33e7": {
          "model_module": "@jupyter-widgets/controls",
          "model_module_version": "1.5.0",
          "model_name": "DescriptionStyleModel",
          "state": {
            "_model_module": "@jupyter-widgets/controls",
            "_model_module_version": "1.5.0",
            "_model_name": "DescriptionStyleModel",
            "_view_count": null,
            "_view_module": "@jupyter-widgets/base",
            "_view_module_version": "1.2.0",
            "_view_name": "StyleView",
            "description_width": ""
          }
        },
        "bd1e7a10f198488d8bc3fe9206e928d0": {
          "model_module": "@jupyter-widgets/base",
          "model_module_version": "1.2.0",
          "model_name": "LayoutModel",
          "state": {
            "_model_module": "@jupyter-widgets/base",
            "_model_module_version": "1.2.0",
            "_model_name": "LayoutModel",
            "_view_count": null,
            "_view_module": "@jupyter-widgets/base",
            "_view_module_version": "1.2.0",
            "_view_name": "LayoutView",
            "align_content": null,
            "align_items": null,
            "align_self": null,
            "border": null,
            "bottom": null,
            "display": "none",
            "flex": null,
            "flex_flow": null,
            "grid_area": null,
            "grid_auto_columns": null,
            "grid_auto_flow": null,
            "grid_auto_rows": null,
            "grid_column": null,
            "grid_gap": null,
            "grid_row": null,
            "grid_template_areas": null,
            "grid_template_columns": null,
            "grid_template_rows": null,
            "height": null,
            "justify_content": null,
            "justify_items": null,
            "left": null,
            "margin": null,
            "max_height": null,
            "max_width": null,
            "min_height": null,
            "min_width": null,
            "object_fit": null,
            "object_position": null,
            "order": null,
            "overflow": null,
            "overflow_x": null,
            "overflow_y": null,
            "padding": null,
            "right": null,
            "top": null,
            "visibility": null,
            "width": null
          }
        },
        "c0cb7b70f29142d180a47c339ff7380f": {
          "model_module": "@jupyter-widgets/output",
          "model_module_version": "1.0.0",
          "model_name": "OutputModel",
          "state": {
            "_dom_classes": [],
            "_model_module": "@jupyter-widgets/output",
            "_model_module_version": "1.0.0",
            "_model_name": "OutputModel",
            "_view_count": null,
            "_view_module": "@jupyter-widgets/output",
            "_view_module_version": "1.0.0",
            "_view_name": "OutputView",
            "layout": "IPY_MODEL_cc0b392ddf4341869aefad4a5221ed2a",
            "msg_id": "",
            "outputs": []
          }
        },
        "c899e19c859e4381a94ff6fe7e7987d1": {
          "model_module": "@jupyter-widgets/controls",
          "model_module_version": "1.5.0",
          "model_name": "DescriptionStyleModel",
          "state": {
            "_model_module": "@jupyter-widgets/controls",
            "_model_module_version": "1.5.0",
            "_model_name": "DescriptionStyleModel",
            "_view_count": null,
            "_view_module": "@jupyter-widgets/base",
            "_view_module_version": "1.2.0",
            "_view_name": "StyleView",
            "description_width": ""
          }
        },
        "ca49b4d13cc64f8f99c65a7cd42862ee": {
          "model_module": "@jupyter-widgets/controls",
          "model_module_version": "1.5.0",
          "model_name": "DropdownModel",
          "state": {
            "_dom_classes": [],
            "_model_module": "@jupyter-widgets/controls",
            "_model_module_version": "1.5.0",
            "_model_name": "DropdownModel",
            "_options_labels": [
              "Abyei Area",
              "Afghanistan",
              "Akrotiri",
              "Aksai Chin",
              "Albania",
              "Algeria",
              "American Samoa",
              "Andorra",
              "Angola",
              "Anguilla",
              "Antarctica",
              "Antigua & Barbuda",
              "Argentina",
              "Armenia",
              "Aruba",
              "Ashmore & Cartier Is",
              "Australia",
              "Austria",
              "Azerbaijan",
              "Bahamas, The",
              "Bahrain",
              "Bangladesh",
              "Barbados",
              "Belarus",
              "Belgium",
              "Belize",
              "Benin",
              "Bermuda",
              "Bhutan",
              "Bir Tawil",
              "Bolivia",
              "Bosnia & Herzegovina",
              "Botswana",
              "Bouvet Island",
              "Brazil",
              "British Indian Ocean Terr",
              "British Virgin Is",
              "Brunei",
              "Bulgaria",
              "Burkina Faso",
              "Burma",
              "Burundi",
              "Cabo Verde",
              "Cambodia",
              "Cameroon",
              "Canada",
              "Cayman Is",
              "Central African Rep",
              "Chad",
              "Chile",
              "China",
              "Christmas I",
              "Clipperton Island",
              "Cocos (Keeling) Is",
              "Colombia",
              "Comoros",
              "Cook Is",
              "Coral Sea Is",
              "Costa Rica",
              "Cote d'Ivoire",
              "Croatia",
              "Cuba",
              "Curacao",
              "Cyprus",
              "Czechia",
              "Dem Rep of the Congo",
              "Demchok Area",
              "Denmark",
              "Dhekelia",
              "Djibouti",
              "Dominica",
              "Dominican Republic",
              "Dragonja River Mouth",
              "Dramana-Shakatoe Area",
              "Ecuador",
              "Egypt",
              "El Salvador",
              "Equatorial Guinea",
              "Eritrea",
              "Estonia",
              "Ethiopia",
              "Falkland Islands",
              "Faroe Is",
              "Fed States of Micronesia",
              "Fiji",
              "Finland",
              "France",
              "French Guiana",
              "French Polynesia",
              "French S & Antarctic Lands",
              "Gabon",
              "Gambia, The",
              "Gaza Strip",
              "Georgia",
              "Germany",
              "Ghana",
              "Gibraltar",
              "Greece",
              "Greenland",
              "Grenada",
              "Guadeloupe",
              "Guam",
              "Guatemala",
              "Guernsey",
              "Guinea",
              "Guinea-Bissau",
              "Guyana",
              "Haiti",
              "Halaib Triangle",
              "Heard I & McDonald Is",
              "Honduras",
              "Hong Kong",
              "Hungary",
              "IN-CH Small Disputed Areas",
              "Iceland",
              "India",
              "Indonesia",
              "Invernada Area",
              "Iran",
              "Iraq",
              "Ireland",
              "Isla Brasilera",
              "Isle of Man",
              "Israel",
              "Italy",
              "Jamaica",
              "Jan Mayen",
              "Japan",
              "Jersey",
              "Jordan",
              "Kalapani Area",
              "Kazakhstan",
              "Kenya",
              "Kiribati",
              "Korea, North",
              "Korea, South",
              "Korean Is. (UN Jurisdiction)",
              "Kosovo",
              "Koualou Area",
              "Kuwait",
              "Kyrgyzstan",
              "Laos",
              "Latvia",
              "Lebanon",
              "Lesotho",
              "Liancourt Rocks",
              "Liberia",
              "Libya",
              "Liechtenstein",
              "Lithuania",
              "Luxembourg",
              "Macau",
              "Macedonia",
              "Madagascar",
              "Malawi",
              "Malaysia",
              "Maldives",
              "Mali",
              "Malta",
              "Marshall Is",
              "Martinique",
              "Mauritania",
              "Mauritius",
              "Mayotte",
              "Mexico",
              "Moldova",
              "Monaco",
              "Mongolia",
              "Montenegro",
              "Montserrat",
              "Morocco",
              "Mozambique",
              "Namibia",
              "Nauru",
              "Navassa I",
              "Nepal",
              "Netherlands",
              "Netherlands (Caribbean)",
              "New Caledonia",
              "New Zealand",
              "Nicaragua",
              "Niger",
              "Nigeria",
              "Niue",
              "No Man's Land",
              "Norfolk I",
              "Northern Mariana Is",
              "Norway",
              "Oman",
              "Pakistan",
              "Palau",
              "Panama",
              "Papua New Guinea",
              "Paracel Is",
              "Paraguay",
              "Peru",
              "Philippines",
              "Pitcairn Is",
              "Poland",
              "Portugal",
              "Portugal (Azores)",
              "Portugal (Madeira Is)",
              "Puerto Rico",
              "Qatar",
              "Rep of the Congo",
              "Reunion",
              "Romania",
              "Russia",
              "Rwanda",
              "S Georgia & S Sandwich Is",
              "Saint Lucia",
              "Samoa",
              "San Marino",
              "Sao Tome & Principe",
              "Saudi Arabia",
              "Senegal",
              "Senkakus",
              "Serbia",
              "Seychelles",
              "Siachen-Saltoro Area",
              "Sierra Leone",
              "Sinafir & Tiran Is.",
              "Singapore",
              "Sint Maarten",
              "Slovakia",
              "Slovenia",
              "Solomon Is",
              "Somalia",
              "South Africa",
              "South Sudan",
              "Spain",
              "Spain (Africa)",
              "Spain (Canary Is)",
              "Spratly Is",
              "Sri Lanka",
              "St Barthelemy",
              "St Helena",
              "St Kitts & Nevis",
              "St Martin",
              "St Pierre & Miquelon",
              "St Vincent & the Grenadines",
              "Sudan",
              "Suriname",
              "Svalbard",
              "Swaziland",
              "Sweden",
              "Switzerland",
              "Syria",
              "Taiwan",
              "Tajikistan",
              "Tanzania",
              "Thailand",
              "Timor-Leste",
              "Togo",
              "Tokelau",
              "Tonga",
              "Trinidad & Tobago",
              "Tunisia",
              "Turkey",
              "Turkmenistan",
              "Turks & Caicos Is",
              "Tuvalu",
              "US Minor Pacific Is. Refuges",
              "US Virgin Is",
              "Uganda",
              "Ukraine",
              "United Arab Emirates",
              "United Kingdom",
              "United States",
              "United States (Alaska)",
              "United States (Hawaii)",
              "Uruguay",
              "Uzbekistan",
              "Vanuatu",
              "Vatican City",
              "Venezuela",
              "Vietnam",
              "Wake I",
              "Wallis & Futuna",
              "West Bank",
              "Western Sahara",
              "Yemen",
              "Zambia",
              "Zimbabwe"
            ],
            "_view_count": null,
            "_view_module": "@jupyter-widgets/controls",
            "_view_module_version": "1.5.0",
            "_view_name": "DropdownView",
            "description": "Select Country:",
            "description_tooltip": null,
            "disabled": false,
            "index": 0,
            "layout": "IPY_MODEL_d4b42c3ae5fe416bb26e05f6fb3e60da",
            "style": "IPY_MODEL_6640bfc5689c49d689557e7d55fd4b8e"
          }
        },
        "cb4a246a47f94d938bf88159bfaeddcf": {
          "model_module": "@jupyter-widgets/controls",
          "model_module_version": "1.5.0",
          "model_name": "ButtonModel",
          "state": {
            "_dom_classes": [],
            "_model_module": "@jupyter-widgets/controls",
            "_model_module_version": "1.5.0",
            "_model_name": "ButtonModel",
            "_view_count": null,
            "_view_module": "@jupyter-widgets/controls",
            "_view_module_version": "1.5.0",
            "_view_name": "ButtonView",
            "button_style": "danger",
            "description": "Clear Shapes",
            "disabled": false,
            "icon": "",
            "layout": "IPY_MODEL_22dca23490ed4be3b5e9b582935e07fe",
            "style": "IPY_MODEL_697baa7a12d74fff88f4dd5fc73c7d78",
            "tooltip": "Click to clear the drawn shapes"
          }
        },
        "cb76f2e06bb4414eb3605617a31992f6": {
          "model_module": "@jupyter-widgets/controls",
          "model_module_version": "1.5.0",
          "model_name": "DescriptionStyleModel",
          "state": {
            "_model_module": "@jupyter-widgets/controls",
            "_model_module_version": "1.5.0",
            "_model_name": "DescriptionStyleModel",
            "_view_count": null,
            "_view_module": "@jupyter-widgets/base",
            "_view_module_version": "1.2.0",
            "_view_name": "StyleView",
            "description_width": ""
          }
        },
        "cc0b392ddf4341869aefad4a5221ed2a": {
          "model_module": "@jupyter-widgets/base",
          "model_module_version": "1.2.0",
          "model_name": "LayoutModel",
          "state": {
            "_model_module": "@jupyter-widgets/base",
            "_model_module_version": "1.2.0",
            "_model_name": "LayoutModel",
            "_view_count": null,
            "_view_module": "@jupyter-widgets/base",
            "_view_module_version": "1.2.0",
            "_view_name": "LayoutView",
            "align_content": null,
            "align_items": null,
            "align_self": null,
            "border": null,
            "bottom": null,
            "display": null,
            "flex": null,
            "flex_flow": null,
            "grid_area": null,
            "grid_auto_columns": null,
            "grid_auto_flow": null,
            "grid_auto_rows": null,
            "grid_column": null,
            "grid_gap": null,
            "grid_row": null,
            "grid_template_areas": null,
            "grid_template_columns": null,
            "grid_template_rows": null,
            "height": null,
            "justify_content": null,
            "justify_items": null,
            "left": null,
            "margin": null,
            "max_height": null,
            "max_width": null,
            "min_height": null,
            "min_width": null,
            "object_fit": null,
            "object_position": null,
            "order": null,
            "overflow": null,
            "overflow_x": null,
            "overflow_y": null,
            "padding": null,
            "right": null,
            "top": null,
            "visibility": null,
            "width": null
          }
        },
        "d3e23027af6e4c9f80f4cf8df9d22ef1": {
          "model_module": "@jupyter-widgets/controls",
          "model_module_version": "1.5.0",
          "model_name": "DropdownModel",
          "state": {
            "_dom_classes": [],
            "_model_module": "@jupyter-widgets/controls",
            "_model_module_version": "1.5.0",
            "_model_name": "DropdownModel",
            "_options_labels": [
              "All Days",
              "Date Range",
              "2023-09-28",
              "2023-09-29",
              "2023-09-30"
            ],
            "_view_count": null,
            "_view_module": "@jupyter-widgets/controls",
            "_view_module_version": "1.5.0",
            "_view_name": "DropdownView",
            "description": "Date:",
            "description_tooltip": null,
            "disabled": false,
            "index": 4,
            "layout": "IPY_MODEL_4ccad665aefd4aec9717bd530c2d6149",
            "style": "IPY_MODEL_3cbe7af4d9814d08ab722151fade479a"
          }
        },
        "d4b42c3ae5fe416bb26e05f6fb3e60da": {
          "model_module": "@jupyter-widgets/base",
          "model_module_version": "1.2.0",
          "model_name": "LayoutModel",
          "state": {
            "_model_module": "@jupyter-widgets/base",
            "_model_module_version": "1.2.0",
            "_model_name": "LayoutModel",
            "_view_count": null,
            "_view_module": "@jupyter-widgets/base",
            "_view_module_version": "1.2.0",
            "_view_name": "LayoutView",
            "align_content": null,
            "align_items": null,
            "align_self": null,
            "border": null,
            "bottom": null,
            "display": null,
            "flex": null,
            "flex_flow": null,
            "grid_area": null,
            "grid_auto_columns": null,
            "grid_auto_flow": null,
            "grid_auto_rows": null,
            "grid_column": null,
            "grid_gap": null,
            "grid_row": null,
            "grid_template_areas": null,
            "grid_template_columns": null,
            "grid_template_rows": null,
            "height": null,
            "justify_content": null,
            "justify_items": null,
            "left": null,
            "margin": null,
            "max_height": null,
            "max_width": null,
            "min_height": null,
            "min_width": null,
            "object_fit": null,
            "object_position": null,
            "order": null,
            "overflow": null,
            "overflow_x": null,
            "overflow_y": null,
            "padding": null,
            "right": null,
            "top": null,
            "visibility": null,
            "width": null
          }
        },
        "dcd1f1625dd44246b9fc9ab8a81559ce": {
          "model_module": "@jupyter-widgets/base",
          "model_module_version": "1.2.0",
          "model_name": "LayoutModel",
          "state": {
            "_model_module": "@jupyter-widgets/base",
            "_model_module_version": "1.2.0",
            "_model_name": "LayoutModel",
            "_view_count": null,
            "_view_module": "@jupyter-widgets/base",
            "_view_module_version": "1.2.0",
            "_view_name": "LayoutView",
            "align_content": null,
            "align_items": null,
            "align_self": null,
            "border": null,
            "bottom": null,
            "display": null,
            "flex": null,
            "flex_flow": null,
            "grid_area": null,
            "grid_auto_columns": null,
            "grid_auto_flow": null,
            "grid_auto_rows": null,
            "grid_column": null,
            "grid_gap": null,
            "grid_row": null,
            "grid_template_areas": null,
            "grid_template_columns": null,
            "grid_template_rows": null,
            "height": "100px",
            "justify_content": null,
            "justify_items": null,
            "left": null,
            "margin": null,
            "max_height": null,
            "max_width": null,
            "min_height": null,
            "min_width": null,
            "object_fit": null,
            "object_position": null,
            "order": null,
            "overflow": null,
            "overflow_x": null,
            "overflow_y": null,
            "padding": null,
            "right": null,
            "top": null,
            "visibility": null,
            "width": null
          }
        },
        "dd55f6bc4ed843dbb54b3bb4b3f48dab": {
          "model_module": "@jupyter-widgets/base",
          "model_module_version": "1.2.0",
          "model_name": "LayoutModel",
          "state": {
            "_model_module": "@jupyter-widgets/base",
            "_model_module_version": "1.2.0",
            "_model_name": "LayoutModel",
            "_view_count": null,
            "_view_module": "@jupyter-widgets/base",
            "_view_module_version": "1.2.0",
            "_view_name": "LayoutView",
            "align_content": null,
            "align_items": null,
            "align_self": null,
            "border": null,
            "bottom": null,
            "display": null,
            "flex": null,
            "flex_flow": null,
            "grid_area": null,
            "grid_auto_columns": null,
            "grid_auto_flow": null,
            "grid_auto_rows": null,
            "grid_column": null,
            "grid_gap": null,
            "grid_row": null,
            "grid_template_areas": null,
            "grid_template_columns": null,
            "grid_template_rows": null,
            "height": null,
            "justify_content": null,
            "justify_items": null,
            "left": null,
            "margin": null,
            "max_height": null,
            "max_width": null,
            "min_height": null,
            "min_width": null,
            "object_fit": null,
            "object_position": null,
            "order": null,
            "overflow": null,
            "overflow_x": null,
            "overflow_y": null,
            "padding": null,
            "right": null,
            "top": null,
            "visibility": null,
            "width": null
          }
        },
        "ded75c42267949e9bce18026042acd15": {
          "model_module": "@jupyter-widgets/controls",
          "model_module_version": "1.5.0",
          "model_name": "DropdownModel",
          "state": {
            "_dom_classes": [],
            "_model_module": "@jupyter-widgets/controls",
            "_model_module_version": "1.5.0",
            "_model_name": "DropdownModel",
            "_options_labels": [
              "Average",
              "00:30",
              "01:30",
              "02:30",
              "03:30",
              "04:30",
              "05:30",
              "06:30",
              "07:30",
              "08:30",
              "09:30",
              "10:30",
              "11:30",
              "12:30",
              "13:30",
              "14:30",
              "15:30",
              "16:30",
              "17:30",
              "18:30",
              "19:30",
              "20:30",
              "21:30",
              "22:30",
              "23:30"
            ],
            "_view_count": null,
            "_view_module": "@jupyter-widgets/controls",
            "_view_module_version": "1.5.0",
            "_view_name": "DropdownView",
            "description": "Hour:",
            "description_tooltip": null,
            "disabled": true,
            "index": 0,
            "layout": "IPY_MODEL_07445c9f17584b35a8e01496665cfad8",
            "style": "IPY_MODEL_029007f6605d4c2ab454a9f182f85d00"
          }
        },
        "defe4a89e52a4266909f5daba479541a": {
          "model_module": "@jupyter-widgets/controls",
          "model_module_version": "1.5.0",
          "model_name": "ButtonStyleModel",
          "state": {
            "_model_module": "@jupyter-widgets/controls",
            "_model_module_version": "1.5.0",
            "_model_name": "ButtonStyleModel",
            "_view_count": null,
            "_view_module": "@jupyter-widgets/base",
            "_view_module_version": "1.2.0",
            "_view_name": "StyleView",
            "button_color": null,
            "font_weight": ""
          }
        },
        "df17d76468dd41ddad90943f3b888eb6": {
          "model_module": "@jupyter-widgets/controls",
          "model_module_version": "1.5.0",
          "model_name": "VBoxModel",
          "state": {
            "_dom_classes": [
              "geemap-colab"
            ],
            "_model_module": "@jupyter-widgets/controls",
            "_model_module_version": "1.5.0",
            "_model_name": "VBoxModel",
            "_view_count": null,
            "_view_module": "@jupyter-widgets/controls",
            "_view_module_version": "1.5.0",
            "_view_name": "VBoxView",
            "box_style": "",
            "children": [
              "IPY_MODEL_8b7504a0c7194684ad34680881b36921"
            ],
            "layout": "IPY_MODEL_422bbd750fc04f43af68e88f4d3990a8"
          }
        },
        "e01fe68cd2ce45aba8deecbc9250b1e0": {
          "model_module": "@jupyter-widgets/controls",
          "model_module_version": "1.5.0",
          "model_name": "ButtonModel",
          "state": {
            "_dom_classes": [],
            "_model_module": "@jupyter-widgets/controls",
            "_model_module_version": "1.5.0",
            "_model_name": "ButtonModel",
            "_view_count": null,
            "_view_module": "@jupyter-widgets/controls",
            "_view_module_version": "1.5.0",
            "_view_name": "ButtonView",
            "button_style": "warning",
            "description": "Drive Export",
            "disabled": false,
            "icon": "",
            "layout": "IPY_MODEL_ff47e9c50dc349bf9d819377aa29ac51",
            "style": "IPY_MODEL_1c4934f7080f4edcb45b4ae68e3b38ce",
            "tooltip": ""
          }
        },
        "e326ad8a2da84f7492c8fea5dcbd2896": {
          "model_module": "@jupyter-widgets/output",
          "model_module_version": "1.0.0",
          "model_name": "OutputModel",
          "state": {
            "_dom_classes": [],
            "_model_module": "@jupyter-widgets/output",
            "_model_module_version": "1.0.0",
            "_model_name": "OutputModel",
            "_view_count": null,
            "_view_module": "@jupyter-widgets/output",
            "_view_module_version": "1.0.0",
            "_view_name": "OutputView",
            "layout": "IPY_MODEL_76b0f2eb8914493581235d0f6d35a499",
            "msg_id": "",
            "outputs": [
              {
                "data": {
                  "application/vnd.jupyter.widget-view+json": {
                    "model_id": "ca49b4d13cc64f8f99c65a7cd42862ee",
                    "version_major": 2,
                    "version_minor": 0
                  },
                  "text/plain": "Dropdown(description='Select Country:', options=('Abyei Area', 'Afghanistan', 'Akrotiri', 'Aksai Chin', 'Alban…"
                },
                "metadata": {
                  "application/vnd.jupyter.widget-view+json": {
                    "colab": {
                      "custom_widget_manager": {
                        "url": "https://ssl.gstatic.com/colaboratory-static/widgets/colab-cdn-widget-manager/b3e629b1971e1542/manager.min.js"
                      }
                    }
                  }
                },
                "output_type": "display_data"
              },
              {
                "data": {
                  "application/vnd.jupyter.widget-view+json": {
                    "model_id": "cb4a246a47f94d938bf88159bfaeddcf",
                    "version_major": 2,
                    "version_minor": 0
                  },
                  "text/plain": "Button(button_style='danger', description='Clear Shapes', style=ButtonStyle(), tooltip='Click to clear the dra…"
                },
                "metadata": {
                  "application/vnd.jupyter.widget-view+json": {
                    "colab": {
                      "custom_widget_manager": {
                        "url": "https://ssl.gstatic.com/colaboratory-static/widgets/colab-cdn-widget-manager/b3e629b1971e1542/manager.min.js"
                      }
                    }
                  }
                },
                "output_type": "display_data"
              }
            ]
          }
        },
        "e3782a7006be4f97a1eb556d6035816a": {
          "model_module": "@jupyter-widgets/controls",
          "model_module_version": "1.5.0",
          "model_name": "DescriptionStyleModel",
          "state": {
            "_model_module": "@jupyter-widgets/controls",
            "_model_module_version": "1.5.0",
            "_model_name": "DescriptionStyleModel",
            "_view_count": null,
            "_view_module": "@jupyter-widgets/base",
            "_view_module_version": "1.2.0",
            "_view_name": "StyleView",
            "description_width": "initial"
          }
        },
        "e6da2677b6b141a293495ecc53dbe5e1": {
          "model_module": "@jupyter-widgets/base",
          "model_module_version": "1.2.0",
          "model_name": "LayoutModel",
          "state": {
            "_model_module": "@jupyter-widgets/base",
            "_model_module_version": "1.2.0",
            "_model_name": "LayoutModel",
            "_view_count": null,
            "_view_module": "@jupyter-widgets/base",
            "_view_module_version": "1.2.0",
            "_view_name": "LayoutView",
            "align_content": null,
            "align_items": null,
            "align_self": null,
            "border": null,
            "bottom": null,
            "display": null,
            "flex": null,
            "flex_flow": null,
            "grid_area": null,
            "grid_auto_columns": null,
            "grid_auto_flow": null,
            "grid_auto_rows": null,
            "grid_column": null,
            "grid_gap": null,
            "grid_row": null,
            "grid_template_areas": null,
            "grid_template_columns": null,
            "grid_template_rows": null,
            "height": null,
            "justify_content": null,
            "justify_items": null,
            "left": null,
            "margin": null,
            "max_height": null,
            "max_width": null,
            "min_height": null,
            "min_width": null,
            "object_fit": null,
            "object_position": null,
            "order": null,
            "overflow": null,
            "overflow_x": null,
            "overflow_y": null,
            "padding": null,
            "right": null,
            "top": null,
            "visibility": null,
            "width": null
          }
        },
        "eb6cf18c87214a55804322ed0d929f20": {
          "model_module": "@jupyter-widgets/controls",
          "model_module_version": "1.5.0",
          "model_name": "DatePickerModel",
          "state": {
            "_dom_classes": [],
            "_model_module": "@jupyter-widgets/controls",
            "_model_module_version": "1.5.0",
            "_model_name": "DatePickerModel",
            "_view_count": null,
            "_view_module": "@jupyter-widgets/controls",
            "_view_module_version": "1.5.0",
            "_view_name": "DatePickerView",
            "description": "End Date",
            "description_tooltip": null,
            "disabled": false,
            "layout": "IPY_MODEL_2870b03988ff434b88c10e5fc4f21bd1",
            "style": "IPY_MODEL_c899e19c859e4381a94ff6fe7e7987d1",
            "value": {
              "date": 1,
              "month": 9,
              "year": 2023
            }
          }
        },
        "ef1f4f4a67dc47e68e2a3d9d0645fc77": {
          "model_module": "@jupyter-widgets/base",
          "model_module_version": "1.2.0",
          "model_name": "LayoutModel",
          "state": {
            "_model_module": "@jupyter-widgets/base",
            "_model_module_version": "1.2.0",
            "_model_name": "LayoutModel",
            "_view_count": null,
            "_view_module": "@jupyter-widgets/base",
            "_view_module_version": "1.2.0",
            "_view_name": "LayoutView",
            "align_content": null,
            "align_items": null,
            "align_self": null,
            "border": null,
            "bottom": null,
            "display": null,
            "flex": null,
            "flex_flow": null,
            "grid_area": null,
            "grid_auto_columns": null,
            "grid_auto_flow": null,
            "grid_auto_rows": null,
            "grid_column": null,
            "grid_gap": null,
            "grid_row": null,
            "grid_template_areas": null,
            "grid_template_columns": null,
            "grid_template_rows": null,
            "height": "28px",
            "justify_content": null,
            "justify_items": null,
            "left": null,
            "margin": null,
            "max_height": null,
            "max_width": null,
            "min_height": null,
            "min_width": null,
            "object_fit": null,
            "object_position": null,
            "order": null,
            "overflow": null,
            "overflow_x": null,
            "overflow_y": null,
            "padding": "0px 0px 0px 4px",
            "right": null,
            "top": null,
            "visibility": null,
            "width": "28px"
          }
        },
        "ef9d470a2cd4400db90200475c706976": {
          "model_module": "@jupyter-widgets/base",
          "model_module_version": "1.2.0",
          "model_name": "LayoutModel",
          "state": {
            "_model_module": "@jupyter-widgets/base",
            "_model_module_version": "1.2.0",
            "_model_name": "LayoutModel",
            "_view_count": null,
            "_view_module": "@jupyter-widgets/base",
            "_view_module_version": "1.2.0",
            "_view_name": "LayoutView",
            "align_content": null,
            "align_items": null,
            "align_self": null,
            "border": null,
            "bottom": null,
            "display": "none",
            "flex": null,
            "flex_flow": null,
            "grid_area": null,
            "grid_auto_columns": null,
            "grid_auto_flow": null,
            "grid_auto_rows": null,
            "grid_column": null,
            "grid_gap": null,
            "grid_row": null,
            "grid_template_areas": null,
            "grid_template_columns": null,
            "grid_template_rows": null,
            "height": null,
            "justify_content": null,
            "justify_items": null,
            "left": null,
            "margin": null,
            "max_height": null,
            "max_width": null,
            "min_height": null,
            "min_width": null,
            "object_fit": null,
            "object_position": null,
            "order": null,
            "overflow": null,
            "overflow_x": null,
            "overflow_y": null,
            "padding": null,
            "right": null,
            "top": null,
            "visibility": null,
            "width": null
          }
        },
        "efac0874499d421f98191169fb522b5a": {
          "model_module": "@jupyter-widgets/controls",
          "model_module_version": "1.5.0",
          "model_name": "DropdownModel",
          "state": {
            "_dom_classes": [],
            "_model_module": "@jupyter-widgets/controls",
            "_model_module_version": "1.5.0",
            "_model_name": "DropdownModel",
            "_options_labels": [
              "Contour Plot",
              "Time Series",
              "Histogram",
              "Geemap"
            ],
            "_view_count": null,
            "_view_module": "@jupyter-widgets/controls",
            "_view_module_version": "1.5.0",
            "_view_name": "DropdownView",
            "description": "Visualization:",
            "description_tooltip": null,
            "disabled": false,
            "index": 0,
            "layout": "IPY_MODEL_f23de94389274b72a7c6746872aba740",
            "style": "IPY_MODEL_7d89c0c96c7b4ebca4271cddfeced1ba"
          }
        },
        "f186a22e37de4c0988d78f6db50af759": {
          "model_module": "jupyter-leaflet",
          "model_module_version": "^0.17",
          "model_name": "LeafletWidgetControlModel",
          "state": {
            "_model_module": "jupyter-leaflet",
            "_model_module_version": "^0.17",
            "_model_name": "LeafletWidgetControlModel",
            "_view_count": null,
            "_view_module": "jupyter-leaflet",
            "_view_module_version": "^0.17",
            "_view_name": "LeafletWidgetControlView",
            "max_height": null,
            "max_width": null,
            "min_height": null,
            "min_width": null,
            "options": [
              "position",
              "transparent_bg"
            ],
            "position": "topright",
            "transparent_bg": false,
            "widget": "IPY_MODEL_e326ad8a2da84f7492c8fea5dcbd2896"
          }
        },
        "f23de94389274b72a7c6746872aba740": {
          "model_module": "@jupyter-widgets/base",
          "model_module_version": "1.2.0",
          "model_name": "LayoutModel",
          "state": {
            "_model_module": "@jupyter-widgets/base",
            "_model_module_version": "1.2.0",
            "_model_name": "LayoutModel",
            "_view_count": null,
            "_view_module": "@jupyter-widgets/base",
            "_view_module_version": "1.2.0",
            "_view_name": "LayoutView",
            "align_content": null,
            "align_items": null,
            "align_self": null,
            "border": null,
            "bottom": null,
            "display": null,
            "flex": null,
            "flex_flow": null,
            "grid_area": null,
            "grid_auto_columns": null,
            "grid_auto_flow": null,
            "grid_auto_rows": null,
            "grid_column": null,
            "grid_gap": null,
            "grid_row": null,
            "grid_template_areas": null,
            "grid_template_columns": null,
            "grid_template_rows": null,
            "height": null,
            "justify_content": null,
            "justify_items": null,
            "left": null,
            "margin": null,
            "max_height": null,
            "max_width": null,
            "min_height": null,
            "min_width": null,
            "object_fit": null,
            "object_position": null,
            "order": null,
            "overflow": null,
            "overflow_x": null,
            "overflow_y": null,
            "padding": null,
            "right": null,
            "top": null,
            "visibility": null,
            "width": null
          }
        },
        "f8041787fcc24337851de559b8c66d28": {
          "model_module": "jupyter-leaflet",
          "model_module_version": "^0.17",
          "model_name": "LeafletScaleControlModel",
          "state": {
            "_model_module": "jupyter-leaflet",
            "_model_module_version": "^0.17",
            "_model_name": "LeafletScaleControlModel",
            "_view_count": null,
            "_view_module": "jupyter-leaflet",
            "_view_module_version": "^0.17",
            "_view_name": "LeafletScaleControlView",
            "imperial": true,
            "max_width": 100,
            "metric": true,
            "options": [
              "imperial",
              "max_width",
              "metric",
              "position",
              "update_when_idle"
            ],
            "position": "bottomleft",
            "update_when_idle": false
          }
        },
        "fa3abd5e7de54577a53668720a1e6843": {
          "model_module": "@jupyter-widgets/base",
          "model_module_version": "1.2.0",
          "model_name": "LayoutModel",
          "state": {
            "_model_module": "@jupyter-widgets/base",
            "_model_module_version": "1.2.0",
            "_model_name": "LayoutModel",
            "_view_count": null,
            "_view_module": "@jupyter-widgets/base",
            "_view_module_version": "1.2.0",
            "_view_name": "LayoutView",
            "align_content": null,
            "align_items": null,
            "align_self": null,
            "border": null,
            "bottom": null,
            "display": null,
            "flex": null,
            "flex_flow": null,
            "grid_area": null,
            "grid_auto_columns": null,
            "grid_auto_flow": null,
            "grid_auto_rows": null,
            "grid_column": null,
            "grid_gap": null,
            "grid_row": null,
            "grid_template_areas": null,
            "grid_template_columns": null,
            "grid_template_rows": null,
            "height": null,
            "justify_content": null,
            "justify_items": null,
            "left": null,
            "margin": null,
            "max_height": null,
            "max_width": null,
            "min_height": null,
            "min_width": null,
            "object_fit": null,
            "object_position": null,
            "order": null,
            "overflow": null,
            "overflow_x": null,
            "overflow_y": null,
            "padding": null,
            "right": null,
            "top": null,
            "visibility": null,
            "width": null
          }
        },
        "ff47e9c50dc349bf9d819377aa29ac51": {
          "model_module": "@jupyter-widgets/base",
          "model_module_version": "1.2.0",
          "model_name": "LayoutModel",
          "state": {
            "_model_module": "@jupyter-widgets/base",
            "_model_module_version": "1.2.0",
            "_model_name": "LayoutModel",
            "_view_count": null,
            "_view_module": "@jupyter-widgets/base",
            "_view_module_version": "1.2.0",
            "_view_name": "LayoutView",
            "align_content": null,
            "align_items": null,
            "align_self": null,
            "border": null,
            "bottom": null,
            "display": null,
            "flex": null,
            "flex_flow": null,
            "grid_area": null,
            "grid_auto_columns": null,
            "grid_auto_flow": null,
            "grid_auto_rows": null,
            "grid_column": null,
            "grid_gap": null,
            "grid_row": null,
            "grid_template_areas": null,
            "grid_template_columns": null,
            "grid_template_rows": null,
            "height": null,
            "justify_content": null,
            "justify_items": null,
            "left": null,
            "margin": null,
            "max_height": null,
            "max_width": null,
            "min_height": null,
            "min_width": null,
            "object_fit": null,
            "object_position": null,
            "order": null,
            "overflow": null,
            "overflow_x": null,
            "overflow_y": null,
            "padding": null,
            "right": null,
            "top": null,
            "visibility": null,
            "width": null
          }
        }
      }
    }
  },
  "nbformat": 4,
  "nbformat_minor": 0
}
